{
 "cells": [
  {
   "metadata": {},
   "cell_type": "markdown",
   "source": "# Computer Vision With Deep Learning",
   "id": "e3f8124173d50189"
  },
  {
   "metadata": {},
   "cell_type": "markdown",
   "source": [
    "## Introduction\n",
    "* In this notebook, we will learn about computer vision and deep learning. \n",
    "* We will start by understanding the basics of computer vision and then move on to deep learning.\n",
    "* We will also learn about convolutional neural networks (CNNs) and how they are used in computer vision.\n",
    "* We will implement a simple CNN model using the Keras library and train it on the MNIST dataset.\n",
    "* Finally, we will evaluate the model and visualize the results."
   ],
   "id": "318be79cf6722f70"
  },
  {
   "metadata": {},
   "cell_type": "markdown",
   "source": "## Search and Download Images Using Bing Image Downloader",
   "id": "36dda3b572a5f34b"
  },
  {
   "metadata": {
    "ExecuteTime": {
     "end_time": "2024-07-27T10:03:43.146796Z",
     "start_time": "2024-07-27T10:03:43.144856Z"
    }
   },
   "cell_type": "code",
   "source": [
    "## install bing-image-downloader\n",
    "# !pip install bing-image-downloader"
   ],
   "id": "10d8138c4bee9118",
   "outputs": [],
   "execution_count": 1
  },
  {
   "metadata": {
    "ExecuteTime": {
     "end_time": "2024-07-27T10:03:43.207567Z",
     "start_time": "2024-07-27T10:03:43.203293Z"
    }
   },
   "cell_type": "code",
   "source": [
    "from bing_image_downloader import downloader\n",
    "#downloader.download(\"bird\", limit=100, output_dir='images', adult_filter_off=True)"
   ],
   "id": "ea2e86cdb486405a",
   "outputs": [],
   "execution_count": 2
  },
  {
   "metadata": {
    "ExecuteTime": {
     "end_time": "2024-07-27T10:03:43.216818Z",
     "start_time": "2024-07-27T10:03:43.208530Z"
    }
   },
   "cell_type": "code",
   "source": "# downloader.download(\"skincancer\", limit=100, output_dir='images', adult_filter_off=True)",
   "id": "c390c3efdd7fda95",
   "outputs": [],
   "execution_count": 3
  },
  {
   "metadata": {},
   "cell_type": "markdown",
   "source": "### Completed the download of images",
   "id": "2418df3d166797b2"
  },
  {
   "metadata": {},
   "cell_type": "markdown",
   "source": "## Continue computer vision with deep learning",
   "id": "2e2b3f89e09a536"
  },
  {
   "metadata": {
    "ExecuteTime": {
     "end_time": "2024-07-27T10:03:44.640662Z",
     "start_time": "2024-07-27T10:03:43.229131Z"
    }
   },
   "cell_type": "code",
   "source": [
    "import pandas as pd\n",
    "import numpy as np\n",
    "import tensorflow as tf\n",
    "import matplotlib.pyplot as plt\n"
   ],
   "id": "f6e2e55d414705e6",
   "outputs": [
    {
     "name": "stderr",
     "output_type": "stream",
     "text": [
      "2024-07-27 13:03:43.592390: I tensorflow/core/util/port.cc:153] oneDNN custom operations are on. You may see slightly different numerical results due to floating-point round-off errors from different computation orders. To turn them off, set the environment variable `TF_ENABLE_ONEDNN_OPTS=0`.\n",
      "2024-07-27 13:03:43.600847: E external/local_xla/xla/stream_executor/cuda/cuda_fft.cc:485] Unable to register cuFFT factory: Attempting to register factory for plugin cuFFT when one has already been registered\n",
      "2024-07-27 13:03:43.610555: E external/local_xla/xla/stream_executor/cuda/cuda_dnn.cc:8454] Unable to register cuDNN factory: Attempting to register factory for plugin cuDNN when one has already been registered\n",
      "2024-07-27 13:03:43.613383: E external/local_xla/xla/stream_executor/cuda/cuda_blas.cc:1452] Unable to register cuBLAS factory: Attempting to register factory for plugin cuBLAS when one has already been registered\n",
      "2024-07-27 13:03:43.620821: I tensorflow/core/platform/cpu_feature_guard.cc:210] This TensorFlow binary is optimized to use available CPU instructions in performance-critical operations.\n",
      "To enable the following instructions: AVX2 AVX_VNNI FMA, in other operations, rebuild TensorFlow with the appropriate compiler flags.\n",
      "2024-07-27 13:03:44.101699: W tensorflow/compiler/tf2tensorrt/utils/py_utils.cc:38] TF-TRT Warning: Could not find TensorRT\n"
     ]
    }
   ],
   "execution_count": 4
  },
  {
   "metadata": {
    "ExecuteTime": {
     "end_time": "2024-07-27T10:03:44.783825Z",
     "start_time": "2024-07-27T10:03:44.641497Z"
    }
   },
   "cell_type": "code",
   "source": [
    "mnist = tf.keras.datasets.mnist # 28x28 images of hand-written digits 0-9\n",
    "(train_images, train_labels), (test_images, test_labels) = mnist.load_data()\n",
    "# df = tf.keras.utils.image_dataset_from_directory(\"images/trafic-lights\")\n"
   ],
   "id": "bfbf58a56f0d02e4",
   "outputs": [],
   "execution_count": 5
  },
  {
   "metadata": {
    "ExecuteTime": {
     "end_time": "2024-07-27T10:03:44.788010Z",
     "start_time": "2024-07-27T10:03:44.784490Z"
    }
   },
   "cell_type": "code",
   "source": "train_images.shape\n",
   "id": "b71792fb32effc85",
   "outputs": [
    {
     "data": {
      "text/plain": [
       "(60000, 28, 28)"
      ]
     },
     "execution_count": 6,
     "metadata": {},
     "output_type": "execute_result"
    }
   ],
   "execution_count": 6
  },
  {
   "metadata": {
    "ExecuteTime": {
     "end_time": "2024-07-27T10:03:44.884935Z",
     "start_time": "2024-07-27T10:03:44.788821Z"
    }
   },
   "cell_type": "code",
   "source": [
    "plt.figure(figsize=(3,2))\n",
    "plt.imshow(train_images[0], cmap='gray')"
   ],
   "id": "105fd0a08931ea85",
   "outputs": [
    {
     "data": {
      "text/plain": [
       "<matplotlib.image.AxesImage at 0x7f954017a250>"
      ]
     },
     "execution_count": 7,
     "metadata": {},
     "output_type": "execute_result"
    },
    {
     "data": {
      "text/plain": [
       "<Figure size 300x200 with 1 Axes>"
      ],
      "image/png": "[encoded data removed]"
     },
     "metadata": {},
     "output_type": "display_data"
    }
   ],
   "execution_count": 7
  },
  {
   "metadata": {
    "ExecuteTime": {
     "end_time": "2024-07-27T10:03:44.925113Z",
     "start_time": "2024-07-27T10:03:44.885586Z"
    }
   },
   "cell_type": "code",
   "source": [
    "plt.figure(figsize=(3,2))\n",
    "plt.imshow(train_images[66], cmap='gray')"
   ],
   "id": "90ed609f5dcf9ed0",
   "outputs": [
    {
     "data": {
      "text/plain": [
       "<matplotlib.image.AxesImage at 0x7f953c2b1d10>"
      ]
     },
     "execution_count": 8,
     "metadata": {},
     "output_type": "execute_result"
    },
    {
     "data": {
      "text/plain": [
       "<Figure size 300x200 with 1 Axes>"
      ],
      "image/png": "[encoded data removed]"
     },
     "metadata": {},
     "output_type": "display_data"
    }
   ],
   "execution_count": 8
  },
  {
   "metadata": {
    "ExecuteTime": {
     "end_time": "2024-07-27T10:03:44.965152Z",
     "start_time": "2024-07-27T10:03:44.925762Z"
    }
   },
   "cell_type": "code",
   "source": [
    "plt.figure(figsize=(3,2))\n",
    "plt.imshow(train_images[34], cmap='gray')"
   ],
   "id": "9b1eed5c73278a2",
   "outputs": [
    {
     "data": {
      "text/plain": [
       "<matplotlib.image.AxesImage at 0x7f953c302d90>"
      ]
     },
     "execution_count": 9,
     "metadata": {},
     "output_type": "execute_result"
    },
    {
     "data": {
      "text/plain": [
       "<Figure size 300x200 with 1 Axes>"
      ],
      "image/png": "[encoded data removed]"
     },
     "metadata": {},
     "output_type": "display_data"
    }
   ],
   "execution_count": 9
  },
  {
   "metadata": {
    "ExecuteTime": {
     "end_time": "2024-07-27T10:03:44.968412Z",
     "start_time": "2024-07-27T10:03:44.965896Z"
    }
   },
   "cell_type": "code",
   "source": "train_labels[0]",
   "id": "9c77820d1a94c2a6",
   "outputs": [
    {
     "data": {
      "text/plain": [
       "5"
      ]
     },
     "execution_count": 10,
     "metadata": {},
     "output_type": "execute_result"
    }
   ],
   "execution_count": 10
  },
  {
   "metadata": {
    "ExecuteTime": {
     "end_time": "2024-07-27T10:03:44.979521Z",
     "start_time": "2024-07-27T10:03:44.969125Z"
    }
   },
   "cell_type": "code",
   "source": "test_images.shape",
   "id": "95351e028398c4b7",
   "outputs": [
    {
     "data": {
      "text/plain": [
       "(10000, 28, 28)"
      ]
     },
     "execution_count": 11,
     "metadata": {},
     "output_type": "execute_result"
    }
   ],
   "execution_count": 11
  },
  {
   "metadata": {
    "ExecuteTime": {
     "end_time": "2024-07-27T10:03:44.989180Z",
     "start_time": "2024-07-27T10:03:44.980468Z"
    }
   },
   "cell_type": "code",
   "source": "# train_images[61]",
   "id": "24fa15b191936175",
   "outputs": [],
   "execution_count": 12
  },
  {
   "metadata": {},
   "cell_type": "markdown",
   "source": [
    "## Normalizing the data\n",
    "When dividing by 255, we are normalizing the data. \n",
    "This is because the pixel values range from 0 to 255. \n",
    "By dividing by 255, we are scaling the pixel values to be between 0 and 1.\n",
    "\n",
    "### Normalize formula\n",
    "\n",
    "<img src=\"Normalization-Formula.jpg\" width=\"400\">"
   ],
   "id": "3799fe4808efdddf"
  },
  {
   "metadata": {},
   "cell_type": "markdown",
   "source": "",
   "id": "bf4b91509ed4a01b"
  },
  {
   "metadata": {
    "ExecuteTime": {
     "end_time": "2024-07-27T10:03:45.083043Z",
     "start_time": "2024-07-27T10:03:44.991108Z"
    }
   },
   "cell_type": "code",
   "source": [
    "train_images = train_images / 255.0\n",
    "test_images = test_images / 255.0\n",
    "# Question: Why do we divide by 255?\n",
    "# Answer: We divide by 255 to normalize the pixel values. The pixel values range from 0 to 255, and by dividing by 255, we are scaling the pixel values to be between 0 and 1. This helps the model learn better and faster. "
   ],
   "id": "1a89f81eee63bbc1",
   "outputs": [],
   "execution_count": 13
  },
  {
   "metadata": {
    "ExecuteTime": {
     "end_time": "2024-07-27T10:03:45.145566Z",
     "start_time": "2024-07-27T10:03:45.083849Z"
    }
   },
   "cell_type": "code",
   "source": "plt.imshow(train_images[0], cmap='gray')",
   "id": "ca96cd5ba767554d",
   "outputs": [
    {
     "data": {
      "text/plain": [
       "<matplotlib.image.AxesImage at 0x7f953c168cd0>"
      ]
     },
     "execution_count": 14,
     "metadata": {},
     "output_type": "execute_result"
    },
    {
     "data": {
      "text/plain": [
       "<Figure size 640x480 with 1 Axes>"
      ],
      "image/png": "[encoded data removed]"
     },
     "metadata": {},
     "output_type": "display_data"
    }
   ],
   "execution_count": 14
  },
  {
   "metadata": {},
   "cell_type": "markdown",
   "source": [
    "## Convolutional Neural Network - CNN - Image Classification\n",
    "\n",
    "### CNN\n",
    "<img src=\"cnn1.png\" width=\"500\">\n",
    "\n",
    "---\n",
    "\n",
    "### CNN\n",
    "<img src=\"cnn2.png\" width=\"500\">\n",
    "---\n",
    "\n",
    "### CNN\n",
    "<img src=\"cnn3.png\" width=\"500\">\n",
    "---\n",
    "\n",
    "### CNN\n",
    "<img src=\"cnn4.png\" width=\"500\">\n",
    "---\n",
    "\n",
    "### CNN\n",
    "<img src=\"cnn5.png\" width=\"500\">\n",
    "\n",
    "---\n",
    "\n",
    "\n",
    "\n",
    "\n",
    "\n"
   ],
   "id": "baac5903a258944d"
  },
  {
   "metadata": {
    "ExecuteTime": {
     "end_time": "2024-07-27T10:03:45.148737Z",
     "start_time": "2024-07-27T10:03:45.146243Z"
    }
   },
   "cell_type": "code",
   "source": [
    "from tensorflow.keras.models import Sequential\n",
    "from tensorflow.keras.layers import Dense, Conv2D, InputLayer, Reshape, MaxPooling2D, Flatten"
   ],
   "id": "7c6f03af3d105e72",
   "outputs": [],
   "execution_count": 15
  },
  {
   "metadata": {},
   "cell_type": "markdown",
   "source": [
    "## Building the CNN model with Bird Images\n",
    "\n",
    "### Step 1: Load the images\n",
    "### Step 2: Preprocess the images\n",
    "### Step 3: Build the CNN model\n",
    "### Step 4: Compile the model\n",
    "### Step 5: Train the model\n",
    "### Step 6: Evaluate the model\n",
    "\n",
    "<img src=\"bird-cnn.png\" width=\"500\">"
   ],
   "id": "41fcad849733d8d6"
  },
  {
   "metadata": {
    "ExecuteTime": {
     "end_time": "2024-07-27T10:03:45.265057Z",
     "start_time": "2024-07-27T10:03:45.149324Z"
    }
   },
   "cell_type": "code",
   "source": [
    "model = Sequential()\n",
    "model.add(InputLayer(shape=(28, 28))) # images are 28x28 pixels\n",
    "model.add(Reshape(target_shape=(28, 28, 1))) # reshape the images to 28x28x1\n",
    "model.add(Conv2D(filters=12, kernel_size=(3, 3), activation='relu')) \n",
    "# 12 filters, each filter is 3x3. Q:What is kernel size? A: The kernel size is the size of the filter that is applied to the input image. \n",
    "# In this case, the kernel size is 3x3, which means that the filter is a 3x3 matrix that is applied to the input image.\n",
    "model.add(MaxPooling2D(pool_size=(2, 2))) # max pooling with a pool size of 2x2\n",
    "model.add(Flatten()) # flatten the output of the convolutional layers\n",
    "model.add(Dense(units=10)) # output layer with 10 units (one for each digit) \n",
    "model.compile(optimizer='adam', loss=tf.keras.losses.SparseCategoricalCrossentropy(from_logits=True), metrics=['accuracy'])"
   ],
   "id": "5c385c5cc9733e71",
   "outputs": [
    {
     "name": "stderr",
     "output_type": "stream",
     "text": [
      "WARNING: All log messages before absl::InitializeLog() is called are written to STDERR\n",
      "I0000 00:00:1722074625.198090  423642 cuda_executor.cc:1015] successful NUMA node read from SysFS had negative value (-1), but there must be at least one NUMA node, so returning NUMA node zero. See more at https://github.com/torvalds/linux/blob/v6.0/Documentation/ABI/testing/sysfs-bus-pci#L344-L355\n",
      "2024-07-27 13:03:45.218451: W tensorflow/core/common_runtime/gpu/gpu_device.cc:2343] Cannot dlopen some GPU libraries. Please make sure the missing libraries mentioned above are installed properly if you would like to use GPU. Follow the guide at https://www.tensorflow.org/install/gpu for how to download and setup the required libraries for your platform.\n",
      "Skipping registering GPU devices...\n"
     ]
    }
   ],
   "execution_count": 16
  },
  {
   "metadata": {
    "ExecuteTime": {
     "end_time": "2024-07-27T10:04:01.852042Z",
     "start_time": "2024-07-27T10:03:45.266020Z"
    }
   },
   "cell_type": "code",
   "source": "history = model.fit(train_images, train_labels, validation_split=0.20, epochs=10)",
   "id": "f2beb57ae403a192",
   "outputs": [
    {
     "name": "stdout",
     "output_type": "stream",
     "text": [
      "Epoch 1/10\n",
      "\u001B[1m1500/1500\u001B[0m \u001B[32m━━━━━━━━━━━━━━━━━━━━\u001B[0m\u001B[37m\u001B[0m \u001B[1m2s\u001B[0m 1ms/step - accuracy: 0.8473 - loss: 0.5354 - val_accuracy: 0.9509 - val_loss: 0.1916\n",
      "Epoch 2/10\n",
      "\u001B[1m1500/1500\u001B[0m \u001B[32m━━━━━━━━━━━━━━━━━━━━\u001B[0m\u001B[37m\u001B[0m \u001B[1m2s\u001B[0m 1ms/step - accuracy: 0.9509 - loss: 0.1727 - val_accuracy: 0.9670 - val_loss: 0.1226\n",
      "Epoch 3/10\n",
      "\u001B[1m1500/1500\u001B[0m \u001B[32m━━━━━━━━━━━━━━━━━━━━\u001B[0m\u001B[37m\u001B[0m \u001B[1m2s\u001B[0m 1ms/step - accuracy: 0.9682 - loss: 0.1133 - val_accuracy: 0.9748 - val_loss: 0.0922\n",
      "Epoch 4/10\n",
      "\u001B[1m1500/1500\u001B[0m \u001B[32m━━━━━━━━━━━━━━━━━━━━\u001B[0m\u001B[37m\u001B[0m \u001B[1m2s\u001B[0m 1ms/step - accuracy: 0.9759 - loss: 0.0852 - val_accuracy: 0.9771 - val_loss: 0.0839\n",
      "Epoch 5/10\n",
      "\u001B[1m1500/1500\u001B[0m \u001B[32m━━━━━━━━━━━━━━━━━━━━\u001B[0m\u001B[37m\u001B[0m \u001B[1m2s\u001B[0m 1ms/step - accuracy: 0.9810 - loss: 0.0652 - val_accuracy: 0.9783 - val_loss: 0.0760\n",
      "Epoch 6/10\n",
      "\u001B[1m1500/1500\u001B[0m \u001B[32m━━━━━━━━━━━━━━━━━━━━\u001B[0m\u001B[37m\u001B[0m \u001B[1m2s\u001B[0m 1ms/step - accuracy: 0.9835 - loss: 0.0570 - val_accuracy: 0.9798 - val_loss: 0.0708\n",
      "Epoch 7/10\n",
      "\u001B[1m1500/1500\u001B[0m \u001B[32m━━━━━━━━━━━━━━━━━━━━\u001B[0m\u001B[37m\u001B[0m \u001B[1m2s\u001B[0m 1ms/step - accuracy: 0.9857 - loss: 0.0496 - val_accuracy: 0.9792 - val_loss: 0.0704\n",
      "Epoch 8/10\n",
      "\u001B[1m1500/1500\u001B[0m \u001B[32m━━━━━━━━━━━━━━━━━━━━\u001B[0m\u001B[37m\u001B[0m \u001B[1m2s\u001B[0m 1ms/step - accuracy: 0.9870 - loss: 0.0448 - val_accuracy: 0.9814 - val_loss: 0.0672\n",
      "Epoch 9/10\n",
      "\u001B[1m1500/1500\u001B[0m \u001B[32m━━━━━━━━━━━━━━━━━━━━\u001B[0m\u001B[37m\u001B[0m \u001B[1m2s\u001B[0m 1ms/step - accuracy: 0.9885 - loss: 0.0400 - val_accuracy: 0.9807 - val_loss: 0.0693\n",
      "Epoch 10/10\n",
      "\u001B[1m1500/1500\u001B[0m \u001B[32m━━━━━━━━━━━━━━━━━━━━\u001B[0m\u001B[37m\u001B[0m \u001B[1m2s\u001B[0m 1ms/step - accuracy: 0.9887 - loss: 0.0364 - val_accuracy: 0.9801 - val_loss: 0.0682\n"
     ]
    }
   ],
   "execution_count": 17
  },
  {
   "metadata": {
    "ExecuteTime": {
     "end_time": "2024-07-27T10:04:02.136758Z",
     "start_time": "2024-07-27T10:04:01.852779Z"
    }
   },
   "cell_type": "code",
   "source": [
    "loss, accuracy = model.evaluate(test_images, test_labels)\n",
    "loss, accuracy"
   ],
   "id": "75c7eef65c855a6c",
   "outputs": [
    {
     "name": "stdout",
     "output_type": "stream",
     "text": [
      "\u001B[1m313/313\u001B[0m \u001B[32m━━━━━━━━━━━━━━━━━━━━\u001B[0m\u001B[37m\u001B[0m \u001B[1m0s\u001B[0m 583us/step - accuracy: 0.9764 - loss: 0.0740\n"
     ]
    },
    {
     "data": {
      "text/plain": [
       "(0.06267642229795456, 0.9801999926567078)"
      ]
     },
     "execution_count": 18,
     "metadata": {},
     "output_type": "execute_result"
    }
   ],
   "execution_count": 18
  },
  {
   "metadata": {
    "ExecuteTime": {
     "end_time": "2024-07-27T10:04:02.155215Z",
     "start_time": "2024-07-27T10:04:02.137351Z"
    }
   },
   "cell_type": "code",
   "source": "model.save(\"my-handwritten-recognition-model.keras\")",
   "id": "ef990895ac5e6208",
   "outputs": [],
   "execution_count": 19
  },
  {
   "metadata": {},
   "cell_type": "markdown",
   "source": [
    "## Improve the model\n",
    "\n",
    "### Technique1: Increase the number of layers"
   ],
   "id": "62431a42c3bc7e2c"
  },
  {
   "metadata": {
    "ExecuteTime": {
     "end_time": "2024-07-27T10:04:02.158837Z",
     "start_time": "2024-07-27T10:04:02.157607Z"
    }
   },
   "cell_type": "code",
   "source": [
    "model = Sequential()\n",
    "model.add(InputLayer(shape=(28, 28))) # images are 28x28 pixels\n",
    "model.add(Reshape(target_shape=(28, 28, 1))) # reshape the images to 28x28x1\n",
    "model.add(Conv2D(filters=12, kernel_size=(3, 3), activation='relu')) \n",
    "model.add(MaxPooling2D(pool_size=(2, 2))) # max pooling with a pool size of 2x2\n",
    "model.add(Flatten()) # flatten the output of the convolutional layers\n",
    "model.add(Dense(units=128)) # add a dense layer with 128 units and relu activation\n",
    "model.add(Dense(units=10)) # output layer with 10 units (one for each digit) \n",
    "model.compile(optimizer='adam', loss=tf.keras.losses.SparseCategoricalCrossentropy(from_logits=True), metrics=['accuracy'])"
   ],
   "id": "a2f22a9b74c2822d",
   "outputs": [],
   "execution_count": 19
  },
  {
   "metadata": {},
   "cell_type": "markdown",
   "source": "### Technique2: Increase the number of neurons",
   "id": "1d3cbb7712015190"
  },
  {
   "metadata": {},
   "cell_type": "code",
   "outputs": [],
   "execution_count": null,
   "source": [
    "model = Sequential()\n",
    "model.add(InputLayer(shape=(28, 28))) # images are 28x28 pixels\n",
    "model.add(Reshape(target_shape=(28, 28, 1))) # reshape the images to 28x28x1\n",
    "model.add(Conv2D(filters=12, kernel_size=(3, 3), activation='relu')) \n",
    "model.add(MaxPooling2D(pool_size=(2, 2))) # max pooling with a pool size of 2x2\n",
    "model.add(Flatten()) # flatten the output of the convolutional layers\n",
    "model.add(Dense(units=128)) # add a dense layer with 128 units and relu activation\n",
    "model.\n",
    "model.add(Dense(units=10)) # output layer with 10 units (one for each digit) \n",
    "model.compile(optimizer='adam', loss=tf.keras.losses.SparseCategoricalCrossentropy(from_logits=True), metrics=['accuracy'])"
   ],
   "id": "ee86e472eac751ad"
  },
  {
   "metadata": {},
   "cell_type": "markdown",
   "source": "### Technique3: add dropout layer to prevent overfitting",
   "id": "38c5842ab77636f3"
  },
  {
   "metadata": {
    "ExecuteTime": {
     "end_time": "2024-07-27T10:04:02.162103Z",
     "start_time": "2024-07-27T10:04:02.160996Z"
    }
   },
   "cell_type": "code",
   "source": [
    "from tensorflow.keras.layers import Dropout\n",
    "\n",
    "model = Sequential()\n",
    "model.add(InputLayer(shape=(28, 28))) # images are 28x28 pixels\n",
    "model.add(Reshape(target_shape=(28, 28, 1))) # reshape the images to 28x28x1\n",
    "model.add(Conv2D(filters=12, kernel_size=(3, 3), activation='relu')) \n",
    "model.add(MaxPooling2D(pool_size=(2, 2))) # max pooling with a pool size of 2x2\n",
    "model.add(Flatten()) # flatten the output of the convolutional layers\n",
    "model.add(Dense(units=128)) # add a dense layer with 128 units and relu activation\n",
    "model.add(Dropout(0.5)) # add a dropout layer with a dropout rate of 0.5\n",
    "model.add(Dense(units=10)) # output layer with 10 units (one for each digit) \n",
    "model.compile(optimizer='adam', loss=tf.keras.losses.SparseCategoricalCrossentropy(from_logits=True), metrics=['accuracy'])"
   ],
   "id": "8c96712acb6cb878",
   "outputs": [],
   "execution_count": 19
  },
  {
   "metadata": {},
   "cell_type": "markdown",
   "source": "### Technique4: Batch normalization",
   "id": "16ef91a5896e9a3b"
  },
  {
   "metadata": {
    "ExecuteTime": {
     "end_time": "2024-07-27T10:04:02.165087Z",
     "start_time": "2024-07-27T10:04:02.164042Z"
    }
   },
   "cell_type": "code",
   "source": [
    "from tensorflow.keras.layers import BatchNormalization\n",
    "\n",
    "model = Sequential()\n",
    "model.add(InputLayer(shape=(28, 28))) # images are 28x28 pixels\n",
    "model.add(Reshape(target_shape=(28, 28, 1))) # reshape the images to 28x28x1\n",
    "model.add(Conv2D(filters=12, kernel_size=(3, 3), activation='relu')) \n",
    "model.add(MaxPooling2D(pool_size=(2, 2))) # max pooling with a pool size of 2x2\n",
    "model.add(Flatten()) # flatten the output of the convolutional layers\n",
    "model.add(BatchNormalization()) # add a batch normalization layer\n",
    "model.add(Dense(units=128)) # add a dense layer with 128 units and relu activation\n",
    "model.add(Dropout(0.25)) # add a dropout layer with a dropout rate of 0.5\n",
    "model.add(Dense(units=10)) # output layer with 10 units (one for each digit) \n",
    "model.compile(optimizer='adam', loss=tf.keras.losses.SparseCategoricalCrossentropy(from_logits=True), metrics=['accuracy'])"
   ],
   "id": "61ba92c221d050ce",
   "outputs": [],
   "execution_count": 19
  },
  {
   "metadata": {},
   "cell_type": "markdown",
   "source": "### Technique5: Data Augmentation",
   "id": "4ccb6dd783295828"
  },
  {
   "metadata": {
    "ExecuteTime": {
     "end_time": "2024-07-27T10:04:02.167991Z",
     "start_time": "2024-07-27T10:04:02.166988Z"
    }
   },
   "cell_type": "code",
   "source": "",
   "id": "b364f006bb310def",
   "outputs": [],
   "execution_count": 19
  },
  {
   "metadata": {
    "ExecuteTime": {
     "end_time": "2024-07-27T10:04:02.169417Z",
     "start_time": "2024-07-27T10:04:02.168364Z"
    }
   },
   "cell_type": "code",
   "source": "",
   "id": "ee8792348e0beacc",
   "outputs": [],
   "execution_count": 19
  },
  {
   "metadata": {
    "ExecuteTime": {
     "end_time": "2024-07-27T10:04:02.170834Z",
     "start_time": "2024-07-27T10:04:02.169783Z"
    }
   },
   "cell_type": "code",
   "source": "",
   "id": "72aa2fcaaee3a400",
   "outputs": [],
   "execution_count": 19
  },
  {
   "metadata": {
    "ExecuteTime": {
     "end_time": "2024-07-27T10:04:02.172435Z",
     "start_time": "2024-07-27T10:04:02.171195Z"
    }
   },
   "cell_type": "code",
   "source": "",
   "id": "b2db3c88d46b7e1d",
   "outputs": [],
   "execution_count": 19
  },
  {
   "metadata": {
    "ExecuteTime": {
     "end_time": "2024-07-27T10:04:02.176127Z",
     "start_time": "2024-07-27T10:04:02.174726Z"
    }
   },
   "cell_type": "code",
   "source": "",
   "id": "c69dc9e142269cc4",
   "outputs": [],
   "execution_count": 19
  },
  {
   "metadata": {
    "ExecuteTime": {
     "end_time": "2024-07-27T10:04:02.178038Z",
     "start_time": "2024-07-27T10:04:02.176740Z"
    }
   },
   "cell_type": "code",
   "source": "",
   "id": "847f489a71f4d4a9",
   "outputs": [],
   "execution_count": 19
  },
  {
   "metadata": {
    "ExecuteTime": {
     "end_time": "2024-07-27T10:04:02.179834Z",
     "start_time": "2024-07-27T10:04:02.178606Z"
    }
   },
   "cell_type": "code",
   "source": "",
   "id": "792e10b93dde8118",
   "outputs": [],
   "execution_count": 19
  },
  {
   "metadata": {
    "ExecuteTime": {
     "end_time": "2024-07-27T10:04:02.181483Z",
     "start_time": "2024-07-27T10:04:02.180356Z"
    }
   },
   "cell_type": "code",
   "source": "",
   "id": "7674e0eb82e03a80",
   "outputs": [],
   "execution_count": 19
  },
  {
   "metadata": {
    "ExecuteTime": {
     "end_time": "2024-07-27T10:04:02.183532Z",
     "start_time": "2024-07-27T10:04:02.181903Z"
    }
   },
   "cell_type": "code",
   "source": "",
   "id": "41c0108a62f26270",
   "outputs": [],
   "execution_count": 19
  }
 ],
 "metadata": {
  "kernelspec": {
   "display_name": "Python 3",
   "language": "python",
   "name": "python3"
  },
  "language_info": {
   "codemirror_mode": {
    "name": "ipython",
    "version": 2
   },
   "file_extension": ".py",
   "mimetype": "text/x-python",
   "name": "python",
   "nbconvert_exporter": "python",
   "pygments_lexer": "ipython2",
   "version": "2.7.6"
  }
 },
 "nbformat": 4,
 "nbformat_minor": 5
}
