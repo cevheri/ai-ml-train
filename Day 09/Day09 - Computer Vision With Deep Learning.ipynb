{
 "cells": [
  {
   "cell_type": "markdown",
   "id": "e3f8124173d50189",
   "metadata": {},
   "source": [
    "# Computer Vision With Deep Learning Part1"
   ]
  },
  {
   "cell_type": "markdown",
   "id": "318be79cf6722f70",
   "metadata": {},
   "source": [
    "## Introduction\n",
    "* In this notebook, we will learn about computer vision and deep learning. \n",
    "* We will start by understanding the basics of computer vision and then move on to deep learning.\n",
    "* We will also learn about convolutional neural networks (CNNs) and how they are used in computer vision.\n",
    "* We will implement a simple CNN model using the Keras library and train it on the MNIST dataset.\n",
    "* Finally, we will evaluate the model and visualize the results."
   ]
  },
  {
   "cell_type": "code",
   "execution_count": 4,
   "id": "43450c503f688763",
   "metadata": {},
   "outputs": [
    {
     "name": "stdout",
     "output_type": "stream",
     "text": [
      "Install tensorflow\n"
     ]
    }
   ],
   "source": [
    "print(\"Install tensorflow\")\n",
    "# !pip install tensorflow"
   ]
  },
  {
   "cell_type": "markdown",
   "id": "95dc201c9c59f62a",
   "metadata": {},
   "source": [
    "## What is Computer Vision?\n",
    "Computer vision is a field of artificial intelligence that enables computers to interpret and understand the visual world. \n"
   ]
  },
  {
   "cell_type": "markdown",
   "id": "2aeeaa296a20dd65",
   "metadata": {},
   "source": [
    "## Our Goals\n",
    "* Understand the basics of computer vision and deep learning.\n",
    "* Detect and recognize objects in images using deep learning.\n",
    "* Learn about convolutional neural networks (CNNs) and how they are used in computer vision.\n",
    "* Implement a simple CNN model using the Keras library and train it on the MNIST dataset.\n",
    "* Evaluate the model and visualize the results.\n",
    "* Learn about techniques to improve the model's performance on image classification tasks.\n",
    "* Save the model for future use."
   ]
  },
  {
   "cell_type": "markdown",
   "id": "bb9f336e5519c68a",
   "metadata": {},
   "source": [
    "## Importing Libraries"
   ]
  },
  {
   "cell_type": "code",
   "execution_count": 8,
   "id": "f6e2e55d414705e6",
   "metadata": {
    "ExecuteTime": {
     "end_time": "2024-07-27T15:41:54.024858Z",
     "start_time": "2024-07-27T15:41:53.013324Z"
    }
   },
   "outputs": [
    {
     "name": "stderr",
     "output_type": "stream",
     "text": [
      "2024-07-27 19:05:25.111352: E external/local_xla/xla/stream_executor/cuda/cuda_fft.cc:485] Unable to register cuFFT factory: Attempting to register factory for plugin cuFFT when one has already been registered\n",
      "2024-07-27 19:05:25.121080: E external/local_xla/xla/stream_executor/cuda/cuda_dnn.cc:8454] Unable to register cuDNN factory: Attempting to register factory for plugin cuDNN when one has already been registered\n",
      "2024-07-27 19:05:25.124035: E external/local_xla/xla/stream_executor/cuda/cuda_blas.cc:1452] Unable to register cuBLAS factory: Attempting to register factory for plugin cuBLAS when one has already been registered\n"
     ]
    }
   ],
   "source": [
    "import os\n",
    "os.environ['TF_ENABLE_ONEDNN_OPTS'] = '0'\n",
    "os.environ['TF_CPP_MIN_LOG_LEVEL'] = '2'\n",
    "import tensorflow as tf\n",
    "tf.get_logger().setLevel('ERROR')\n",
    "import matplotlib.pyplot as plt\n",
    "import warnings\n",
    "warnings.filterwarnings('ignore')\n"
   ]
  },
  {
   "cell_type": "markdown",
   "id": "c7b7577c6aa9a291",
   "metadata": {},
   "source": [
    "## Handwritten Digit Recognition\n",
    "\n",
    "Download 60000 images of handwritten digits from the MNIST dataset."
   ]
  },
  {
   "cell_type": "code",
   "execution_count": 10,
   "id": "bfbf58a56f0d02e4",
   "metadata": {
    "ExecuteTime": {
     "end_time": "2024-07-27T15:41:54.165297Z",
     "start_time": "2024-07-27T15:41:54.025816Z"
    }
   },
   "outputs": [],
   "source": [
    "mnist = tf.keras.datasets.mnist # 28x28 images of hand-written digits 0-9\n",
    "(train_images, train_labels), (test_images, test_labels) = mnist.load_data()\n",
    "# df = tf.keras.utils.image_dataset_from_directory(\"images/trafic-lights\")\n"
   ]
  },
  {
   "cell_type": "code",
   "execution_count": 11,
   "id": "b71792fb32effc85",
   "metadata": {
    "ExecuteTime": {
     "end_time": "2024-07-27T15:41:54.169405Z",
     "start_time": "2024-07-27T15:41:54.166035Z"
    }
   },
   "outputs": [
    {
     "data": {
      "text/plain": [
       "(60000, 28, 28)"
      ]
     },
     "execution_count": 11,
     "metadata": {},
     "output_type": "execute_result"
    }
   ],
   "source": [
    "train_images.shape\n"
   ]
  },
  {
   "cell_type": "code",
   "execution_count": 12,
   "id": "105fd0a08931ea85",
   "metadata": {
    "ExecuteTime": {
     "end_time": "2024-07-27T15:41:54.279457Z",
     "start_time": "2024-07-27T15:41:54.170235Z"
    }
   },
   "outputs": [
    {
     "data": {
      "text/plain": [
       "<matplotlib.image.AxesImage at 0x7fcd4dab7b90>"
      ]
     },
     "execution_count": 12,
     "metadata": {},
     "output_type": "execute_result"
    },
    {
     "data": {
      "image/png": "[encoded data removed]",
      "text/plain": [
       "<Figure size 300x200 with 1 Axes>"
      ]
     },
     "metadata": {},
     "output_type": "display_data"
    }
   ],
   "source": [
    "plt.figure(figsize=(3,2))\n",
    "plt.imshow(train_images[0], cmap='gray')"
   ]
  },
  {
   "cell_type": "code",
   "execution_count": 13,
   "id": "9c77820d1a94c2a6",
   "metadata": {
    "ExecuteTime": {
     "end_time": "2024-07-27T15:41:54.282768Z",
     "start_time": "2024-07-27T15:41:54.280378Z"
    }
   },
   "outputs": [
    {
     "data": {
      "text/plain": [
       "5"
      ]
     },
     "execution_count": 13,
     "metadata": {},
     "output_type": "execute_result"
    }
   ],
   "source": [
    "train_labels[0]"
   ]
  },
  {
   "cell_type": "code",
   "execution_count": 14,
   "id": "95351e028398c4b7",
   "metadata": {
    "ExecuteTime": {
     "end_time": "2024-07-27T15:41:54.293875Z",
     "start_time": "2024-07-27T15:41:54.283199Z"
    }
   },
   "outputs": [
    {
     "data": {
      "text/plain": [
       "(10000, 28, 28)"
      ]
     },
     "execution_count": 14,
     "metadata": {},
     "output_type": "execute_result"
    }
   ],
   "source": [
    "test_images.shape"
   ]
  },
  {
   "cell_type": "code",
   "execution_count": 15,
   "id": "24fa15b191936175",
   "metadata": {
    "ExecuteTime": {
     "end_time": "2024-07-27T15:41:54.303837Z",
     "start_time": "2024-07-27T15:41:54.294380Z"
    }
   },
   "outputs": [],
   "source": [
    "# train_images[61]"
   ]
  },
  {
   "cell_type": "markdown",
   "id": "3799fe4808efdddf",
   "metadata": {},
   "source": [
    "## Normalizing the data\n",
    "When dividing by 255, we are normalizing the data. \n",
    "This is because the pixel values range from 0 to 255. \n",
    "By dividing by 255, we are scaling the pixel values to be between 0 and 1.\n",
    "\n",
    "### Normalize formula\n",
    "\n",
    "<img src=\"Normalization-Formula.jpg\" width=\"400\">"
   ]
  },
  {
   "cell_type": "markdown",
   "id": "343ad83b0d18eb41",
   "metadata": {},
   "source": [
    "### Question:\n",
    "Why do we divide by 255?\n",
    "### Answer: \n",
    "We divide by 255 to normalize the pixel values. The pixel values range from 0 to 255, and by dividing by 255, we are scaling the pixel values to be between 0 and 1. This helps the model learn better and faster."
   ]
  },
  {
   "cell_type": "code",
   "execution_count": 18,
   "id": "1a89f81eee63bbc1",
   "metadata": {
    "ExecuteTime": {
     "end_time": "2024-07-27T15:41:54.448278Z",
     "start_time": "2024-07-27T15:41:54.304325Z"
    }
   },
   "outputs": [
    {
     "name": "stdout",
     "output_type": "stream",
     "text": [
      "Normalization formula for pixel values\n",
      "Normalized pixel values is same as original pixel values\n"
     ]
    },
    {
     "data": {
      "image/png": "[encoded data removed]",
      "text/plain": [
       "<Figure size 300x200 with 1 Axes>"
      ]
     },
     "metadata": {},
     "output_type": "display_data"
    }
   ],
   "source": [
    "print(\"Normalization formula for pixel values\")\n",
    "train_images = train_images / 255.0\n",
    "test_images = test_images / 255.0\n",
    "plt.figure(figsize=(3,2))\n",
    "plt.imshow(train_images[0], cmap='gray')\n",
    "print(\"Normalized pixel values is same as original pixel values\")"
   ]
  },
  {
   "cell_type": "markdown",
   "id": "baac5903a258944d",
   "metadata": {},
   "source": [
    "## Convolutional Neural Network - CNN - Image Classification\n",
    "Explanation of CNN\n",
    "\n",
    "### \n",
    "<img src=\"cnn1.png\" width=\"500\">\n",
    "\n",
    "---\n",
    "\n",
    "### \n",
    "<img src=\"cnn2.png\" width=\"500\">\n",
    "\n",
    "---\n",
    "\n",
    "###  \n",
    "<img src=\"cnn3.png\" width=\"500\">\n",
    "\n",
    "---\n",
    "\n",
    "###  \n",
    "<img src=\"cnn4.png\" width=\"500\">\n",
    "\n",
    "---\n",
    "\n",
    "###  \n",
    "<img src=\"cnn5.png\" width=\"500\">\n"
   ]
  },
  {
   "cell_type": "code",
   "execution_count": 20,
   "id": "7c6f03af3d105e72",
   "metadata": {
    "ExecuteTime": {
     "end_time": "2024-07-27T15:41:54.451419Z",
     "start_time": "2024-07-27T15:41:54.448907Z"
    }
   },
   "outputs": [],
   "source": [
    "from tensorflow.keras.models import Sequential\n",
    "from tensorflow.keras.layers import Dense, Conv2D, InputLayer, Reshape, MaxPooling2D, Flatten"
   ]
  },
  {
   "cell_type": "markdown",
   "id": "41fcad849733d8d6",
   "metadata": {},
   "source": [
    "## Building the CNN model with Bird Images\n",
    "\n",
    "### Step 1: Load the images\n",
    "### Step 2: Preprocess the images\n",
    "### Step 3: Build the CNN model\n",
    "### Step 4: Compile the model\n",
    "### Step 5: Train the model\n",
    "### Step 6: Evaluate the model\n",
    "\n",
    "<img src=\"bird-cnn.png\" width=\"500\">"
   ]
  },
  {
   "cell_type": "code",
   "execution_count": 22,
   "id": "5c385c5cc9733e71",
   "metadata": {
    "ExecuteTime": {
     "end_time": "2024-07-27T15:41:54.590469Z",
     "start_time": "2024-07-27T15:41:54.452578Z"
    }
   },
   "outputs": [
    {
     "name": "stderr",
     "output_type": "stream",
     "text": [
      "WARNING: All log messages before absl::InitializeLog() is called are written to STDERR\n",
      "I0000 00:00:1722096326.616209  507574 cuda_executor.cc:1015] successful NUMA node read from SysFS had negative value (-1), but there must be at least one NUMA node, so returning NUMA node zero. See more at https://github.com/torvalds/linux/blob/v6.0/Documentation/ABI/testing/sysfs-bus-pci#L344-L355\n"
     ]
    }
   ],
   "source": [
    "model = Sequential()\n",
    "model.add(InputLayer(shape=(28, 28))) # images are 28x28 pixels\n",
    "model.add(Reshape(target_shape=(28, 28, 1))) # reshape the images to 28x28x1\n",
    "model.add(Conv2D(filters=12, kernel_size=(3, 3), activation='relu')) \n",
    "# 12 filters, each filter is 3x3. Q:What is kernel size? A: The kernel size is the size of the filter that is applied to the input image. \n",
    "# In this case, the kernel size is 3x3, which means that the filter is a 3x3 matrix that is applied to the input image.\n",
    "model.add(MaxPooling2D(pool_size=(2, 2))) # max pooling with a pool size of 2x2\n",
    "model.add(Flatten()) # flatten the output of the convolutional layers\n",
    "model.add(Dense(units=10)) # output layer with 10 units (one for each digit) \n",
    "model.compile(optimizer='adam', loss=tf.keras.losses.SparseCategoricalCrossentropy(from_logits=True), metrics=['accuracy'])"
   ]
  },
  {
   "cell_type": "code",
   "execution_count": 23,
   "id": "f2beb57ae403a192",
   "metadata": {
    "ExecuteTime": {
     "end_time": "2024-07-27T15:42:24.876515Z",
     "start_time": "2024-07-27T15:41:54.591304Z"
    }
   },
   "outputs": [
    {
     "name": "stdout",
     "output_type": "stream",
     "text": [
      "Epoch 1/10\n",
      "\u001b[1m1500/1500\u001b[0m \u001b[32m━━━━━━━━━━━━━━━━━━━━\u001b[0m\u001b[37m\u001b[0m \u001b[1m3s\u001b[0m 2ms/step - accuracy: 0.8522 - loss: 0.5513 - val_accuracy: 0.9655 - val_loss: 0.1270\n",
      "Epoch 2/10\n",
      "\u001b[1m1500/1500\u001b[0m \u001b[32m━━━━━━━━━━━━━━━━━━━━\u001b[0m\u001b[37m\u001b[0m \u001b[1m3s\u001b[0m 2ms/step - accuracy: 0.9666 - loss: 0.1132 - val_accuracy: 0.9733 - val_loss: 0.0986\n",
      "Epoch 3/10\n",
      "\u001b[1m1500/1500\u001b[0m \u001b[32m━━━━━━━━━━━━━━━━━━━━\u001b[0m\u001b[37m\u001b[0m \u001b[1m3s\u001b[0m 2ms/step - accuracy: 0.9765 - loss: 0.0820 - val_accuracy: 0.9768 - val_loss: 0.0827\n",
      "Epoch 4/10\n",
      "\u001b[1m1500/1500\u001b[0m \u001b[32m━━━━━━━━━━━━━━━━━━━━\u001b[0m\u001b[37m\u001b[0m \u001b[1m3s\u001b[0m 2ms/step - accuracy: 0.9820 - loss: 0.0613 - val_accuracy: 0.9784 - val_loss: 0.0753\n",
      "Epoch 5/10\n",
      "\u001b[1m1500/1500\u001b[0m \u001b[32m━━━━━━━━━━━━━━━━━━━━\u001b[0m\u001b[37m\u001b[0m \u001b[1m3s\u001b[0m 2ms/step - accuracy: 0.9840 - loss: 0.0539 - val_accuracy: 0.9806 - val_loss: 0.0689\n",
      "Epoch 6/10\n",
      "\u001b[1m1500/1500\u001b[0m \u001b[32m━━━━━━━━━━━━━━━━━━━━\u001b[0m\u001b[37m\u001b[0m \u001b[1m3s\u001b[0m 2ms/step - accuracy: 0.9865 - loss: 0.0460 - val_accuracy: 0.9810 - val_loss: 0.0703\n",
      "Epoch 7/10\n",
      "\u001b[1m1500/1500\u001b[0m \u001b[32m━━━━━━━━━━━━━━━━━━━━\u001b[0m\u001b[37m\u001b[0m \u001b[1m3s\u001b[0m 2ms/step - accuracy: 0.9876 - loss: 0.0423 - val_accuracy: 0.9809 - val_loss: 0.0684\n",
      "Epoch 8/10\n",
      "\u001b[1m1500/1500\u001b[0m \u001b[32m━━━━━━━━━━━━━━━━━━━━\u001b[0m\u001b[37m\u001b[0m \u001b[1m3s\u001b[0m 2ms/step - accuracy: 0.9886 - loss: 0.0379 - val_accuracy: 0.9812 - val_loss: 0.0684\n",
      "Epoch 9/10\n",
      "\u001b[1m1500/1500\u001b[0m \u001b[32m━━━━━━━━━━━━━━━━━━━━\u001b[0m\u001b[37m\u001b[0m \u001b[1m3s\u001b[0m 2ms/step - accuracy: 0.9894 - loss: 0.0361 - val_accuracy: 0.9788 - val_loss: 0.0713\n",
      "Epoch 10/10\n",
      "\u001b[1m1500/1500\u001b[0m \u001b[32m━━━━━━━━━━━━━━━━━━━━\u001b[0m\u001b[37m\u001b[0m \u001b[1m3s\u001b[0m 2ms/step - accuracy: 0.9913 - loss: 0.0307 - val_accuracy: 0.9807 - val_loss: 0.0695\n"
     ]
    }
   ],
   "source": [
    "history = model.fit(train_images, train_labels, validation_split=0.20, epochs=10)"
   ]
  },
  {
   "cell_type": "code",
   "execution_count": 24,
   "id": "75c7eef65c855a6c",
   "metadata": {
    "ExecuteTime": {
     "end_time": "2024-07-27T15:42:25.165262Z",
     "start_time": "2024-07-27T15:42:24.877279Z"
    }
   },
   "outputs": [
    {
     "name": "stdout",
     "output_type": "stream",
     "text": [
      "\u001b[1m313/313\u001b[0m \u001b[32m━━━━━━━━━━━━━━━━━━━━\u001b[0m\u001b[37m\u001b[0m \u001b[1m0s\u001b[0m 618us/step - accuracy: 0.9782 - loss: 0.0740\n"
     ]
    },
    {
     "data": {
      "text/plain": [
       "(0.06176856532692909, 0.9819999933242798)"
      ]
     },
     "execution_count": 24,
     "metadata": {},
     "output_type": "execute_result"
    }
   ],
   "source": [
    "loss, accuracy = model.evaluate(test_images, test_labels)\n",
    "loss, accuracy"
   ]
  },
  {
   "cell_type": "markdown",
   "id": "4d52d5b089a82246",
   "metadata": {},
   "source": [
    "## Save the model for future use"
   ]
  },
  {
   "cell_type": "code",
   "execution_count": 26,
   "id": "ef990895ac5e6208",
   "metadata": {
    "ExecuteTime": {
     "end_time": "2024-07-27T15:42:25.183802Z",
     "start_time": "2024-07-27T15:42:25.165789Z"
    }
   },
   "outputs": [],
   "source": [
    "model.save(\"my-handwritten-recognition-model.keras\")"
   ]
  },
  {
   "cell_type": "markdown",
   "id": "62431a42c3bc7e2c",
   "metadata": {},
   "source": [
    "## Improve the model\n",
    "\n",
    "### Technique1: Increase the number of layers"
   ]
  },
  {
   "cell_type": "code",
   "execution_count": 28,
   "id": "a2f22a9b74c2822d",
   "metadata": {
    "ExecuteTime": {
     "end_time": "2024-07-27T15:42:25.212658Z",
     "start_time": "2024-07-27T15:42:25.184407Z"
    }
   },
   "outputs": [],
   "source": [
    "model = Sequential()\n",
    "model.add(InputLayer(shape=(28, 28))) # images are 28x28 pixels\n",
    "model.add(Reshape(target_shape=(28, 28, 1))) # reshape the images to 28x28x1\n",
    "model.add(Conv2D(filters=12, kernel_size=(3, 3), activation='relu')) \n",
    "model.add(MaxPooling2D(pool_size=(2, 2))) # max pooling with a pool size of 2x2\n",
    "model.add(Flatten()) # flatten the output of the convolutional layers\n",
    "model.add(Dense(units=128)) # add a dense layer with 128 units and relu activation\n",
    "model.add(Dense(units=10)) # output layer with 10 units (one for each digit) \n",
    "model.compile(optimizer='adam', loss=tf.keras.losses.SparseCategoricalCrossentropy(from_logits=True), metrics=['accuracy'])"
   ]
  },
  {
   "cell_type": "markdown",
   "id": "1d3cbb7712015190",
   "metadata": {},
   "source": [
    "### Technique2: Increase the number of neurons"
   ]
  },
  {
   "cell_type": "code",
   "execution_count": 30,
   "id": "ee86e472eac751ad",
   "metadata": {
    "ExecuteTime": {
     "end_time": "2024-07-27T15:42:25.234117Z",
     "start_time": "2024-07-27T15:42:25.213383Z"
    }
   },
   "outputs": [],
   "source": [
    "model = Sequential()\n",
    "model.add(InputLayer(shape=(28, 28))) # images are 28x28 pixels\n",
    "model.add(Reshape(target_shape=(28, 28, 1))) # reshape the images to 28x28x1\n",
    "model.add(Conv2D(filters=12, kernel_size=(3, 3), activation='relu')) \n",
    "model.add(MaxPooling2D(pool_size=(2, 2))) # max pooling with a pool size of 2x2\n",
    "model.add(Flatten()) # flatten the output of the convolutional layers\n",
    "model.add(Dense(units=128)) # add a dense layer with 128 units and relu activation\n",
    "model.add(Dense(units=10)) # output layer with 10 units (one for each digit) \n",
    "model.compile(optimizer='adam', loss=tf.keras.losses.SparseCategoricalCrossentropy(from_logits=True), metrics=['accuracy'])"
   ]
  },
  {
   "cell_type": "markdown",
   "id": "38c5842ab77636f3",
   "metadata": {},
   "source": [
    "### Technique3: add dropout layer to prevent overfitting"
   ]
  },
  {
   "cell_type": "code",
   "execution_count": 32,
   "id": "8c96712acb6cb878",
   "metadata": {
    "ExecuteTime": {
     "end_time": "2024-07-27T15:42:25.257053Z",
     "start_time": "2024-07-27T15:42:25.234657Z"
    }
   },
   "outputs": [],
   "source": [
    "from tensorflow.keras.layers import Dropout\n",
    "\n",
    "model = Sequential()\n",
    "model.add(InputLayer(shape=(28, 28))) # images are 28x28 pixels\n",
    "model.add(Reshape(target_shape=(28, 28, 1))) # reshape the images to 28x28x1\n",
    "model.add(Conv2D(filters=12, kernel_size=(3, 3), activation='relu')) \n",
    "model.add(MaxPooling2D(pool_size=(2, 2))) # max pooling with a pool size of 2x2\n",
    "model.add(Flatten()) # flatten the output of the convolutional layers\n",
    "model.add(Dense(units=128)) # add a dense layer with 128 units and relu activation\n",
    "model.add(Dropout(0.5)) # add a dropout layer with a dropout rate of 0.5\n",
    "model.add(Dense(units=10)) # output layer with 10 units (one for each digit) \n",
    "model.compile(optimizer='adam', loss=tf.keras.losses.SparseCategoricalCrossentropy(from_logits=True), metrics=['accuracy'])"
   ]
  },
  {
   "cell_type": "markdown",
   "id": "16ef91a5896e9a3b",
   "metadata": {},
   "source": [
    "### Technique4: Batch normalization"
   ]
  },
  {
   "cell_type": "code",
   "execution_count": 34,
   "id": "61ba92c221d050ce",
   "metadata": {
    "ExecuteTime": {
     "end_time": "2024-07-27T15:42:25.287240Z",
     "start_time": "2024-07-27T15:42:25.257609Z"
    }
   },
   "outputs": [],
   "source": [
    "from tensorflow.keras.layers import BatchNormalization\n",
    "\n",
    "model = Sequential()\n",
    "model.add(InputLayer(shape=(28, 28))) # images are 28x28 pixels\n",
    "model.add(Reshape(target_shape=(28, 28, 1))) # reshape the images to 28x28x1\n",
    "model.add(Conv2D(filters=12, kernel_size=(3, 3), activation='relu')) \n",
    "model.add(MaxPooling2D(pool_size=(2, 2))) # max pooling with a pool size of 2x2\n",
    "model.add(Flatten()) # flatten the output of the convolutional layers\n",
    "model.add(BatchNormalization()) # add a batch normalization layer\n",
    "model.add(Dense(units=128)) # add a dense layer with 128 units and relu activation\n",
    "model.add(Dropout(0.25)) # add a dropout layer with a dropout rate of 0.5\n",
    "model.add(Dense(units=10)) # output layer with 10 units (one for each digit) \n",
    "model.compile(optimizer='adam', loss=tf.keras.losses.SparseCategoricalCrossentropy(from_logits=True), metrics=['accuracy'])"
   ]
  },
  {
   "cell_type": "markdown",
   "id": "6691d681dbd93680",
   "metadata": {},
   "source": [
    "## Appendix\n",
    "### Search and Download Images Using Bing Image Downloader"
   ]
  },
  {
   "cell_type": "code",
   "execution_count": 36,
   "id": "a4bba594e0f06cfe",
   "metadata": {},
   "outputs": [
    {
     "name": "stdout",
     "output_type": "stream",
     "text": [
      "Install python-bing-image-downloader\n",
      "Image download\n",
      "[%] Downloading Images to /home/cevheri/Documents/ai/Day 09/images/bird\n",
      "\n",
      "\n",
      "[!!]Indexing page: 1\n",
      "\n",
      "[%] Indexed 61 Images on Page 1.\n",
      "\n",
      "===============================================\n",
      "\n",
      "[%] Downloading Image #1 from https://au.newhollandpublishers.com/pub/media/catalog/product/cache/32c3db8536f26a5ade98b0e2d5530502/u/r/urban_birds_working_cover.jpg\n",
      "[%] File Downloaded !\n",
      "\n",
      "\n",
      "\n",
      "[%] Done. Downloaded 1 images.\n",
      "[%] Downloading Images to /home/cevheri/Documents/ai/Day 09/images/skincancer\n",
      "\n",
      "\n",
      "[!!]Indexing page: 1\n",
      "\n",
      "[%] Indexed 1 Images on Page 1.\n",
      "\n",
      "===============================================\n",
      "\n",
      "[%] Downloading Image #1 from https://miiskin.com/wp-content/uploads/2019/08/signs-of-skin-cancer-infographic.jpg\n",
      "[%] File Downloaded !\n",
      "\n",
      "\n",
      "\n",
      "[%] Done. Downloaded 1 images.\n"
     ]
    }
   ],
   "source": [
    "print(\"Install python-bing-image-downloader\")\n",
    "## install bing-image-downloader\n",
    "# !pip install bing-image-downloader \n",
    "print(\"Image download\")\n",
    "from bing_image_downloader import downloader\n",
    "downloader.download(\"bird\", limit=1, output_dir='images', adult_filter_off=True)\n",
    "downloader.download(\"skincancer\", limit=1, output_dir='images', adult_filter_off=True)"
   ]
  },
  {
   "cell_type": "markdown",
   "id": "c9dab62afb9c96e5",
   "metadata": {},
   "source": [
    "## Conclusion\n",
    "Deep learning with TensorFlow and Keras is a powerful tool for image classification tasks.\n",
    "* In this notebook, we learned about computer vision and deep learning.\n",
    "* Also, we learned about convolutional neural networks (CNNs) and how they are used in computer vision.\n",
    "* We implemented a simple CNN model using the Keras library and trained it on the MNIST dataset.\n",
    "* Finally, we evaluated the model and visualized the results.\n",
    "* We also learned about techniques to improve the model, such as increasing the number of layers, neurons, adding dropout layers, and batch normalization.\n",
    "* We can use these techniques to improve the model's performance on image classification tasks.\n",
    "* We also learned how to save the model for future use.\n",
    "* Bonus: We also learned how to download images using the Bing Image Downloader library. :)"
   ]
  },
  {
   "cell_type": "markdown",
   "id": "b217b9a610f3c4b6",
   "metadata": {},
   "source": [
    "## References\n",
    "* https://www.tensorflow.org\n",
    "* https://keras.io\n",
    "* https://en.wikipedia.org/wiki/Convolutional_neural_network\n",
    "* https://www.youtube.com/watch?v=wIF0AOqIhPM\n",
    "* https://www.deeplearningbook.org/\n",
    "* Thanks Zafer Acar"
   ]
  },
  {
   "cell_type": "markdown",
   "id": "446018125f32ccaa",
   "metadata": {},
   "source": [
    "## Full source code\n",
    "[Computer Vision With Deep Learning Part1](https://github.com/cevheri/ai-ml-train/blob/main/Day%2009/Day09%20-%20Computer%20Vision%20With%20Deep%20Learning.ipynb)"
   ]
  }
 ],
 "metadata": {
  "kernelspec": {
   "display_name": "Python 3 (ipykernel)",
   "language": "python",
   "name": "python3"
  },
  "language_info": {
   "codemirror_mode": {
    "name": "ipython",
    "version": 3
   },
   "file_extension": ".py",
   "mimetype": "text/x-python",
   "name": "python",
   "nbconvert_exporter": "python",
   "pygments_lexer": "ipython3",
   "version": "3.11.7"
  }
 },
 "nbformat": 4,
 "nbformat_minor": 5
}
