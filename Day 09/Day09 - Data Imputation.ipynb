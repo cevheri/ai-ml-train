{
 "cells": [
  {
   "metadata": {},
   "cell_type": "markdown",
   "source": "Deep Learning for Data Imputation",
   "id": "490fba200735add4"
  },
  {
   "metadata": {},
   "cell_type": "markdown",
   "source": "![](imputation.png)",
   "id": "2f36ff817370648f"
  },
  {
   "metadata": {},
   "cell_type": "markdown",
   "source": [
    "## Introduction\n",
    "* Data imputation is a technique used to fill in missing values in a dataset. \n",
    "* It is a common practice in data preprocessing. \n",
    "* There are several ways to impute missing values, such as using the mean, median, mode, or a constant value to fill in the missing data. \n",
    "* However, these methods are not always accurate or efficient, especially when dealing with large datasets or complex data structures."
   ],
   "id": "b93b242d9272d114"
  },
  {
   "metadata": {},
   "cell_type": "markdown",
   "source": "## Import Libraries",
   "id": "7daa9c8cf598fa9c"
  },
  {
   "metadata": {
    "ExecuteTime": {
     "end_time": "2024-07-27T05:36:15.165797Z",
     "start_time": "2024-07-27T05:36:15.072020Z"
    }
   },
   "cell_type": "code",
   "source": [
    "import pandas as pd\n",
    "import numpy as np\n",
    "\n",
    "from sklearn.experimental import enable_iterative_imputer\n",
    "from sklearn.impute import IterativeImputer\n",
    "from sklearn.linear_model import LinearRegression"
   ],
   "id": "5d055b5cb4796441",
   "outputs": [],
   "execution_count": 1
  },
  {
   "metadata": {},
   "cell_type": "markdown",
   "source": "## Load Data with Missing Values",
   "id": "4d1d48c63d9c4191"
  },
  {
   "metadata": {
    "ExecuteTime": {
     "end_time": "2024-07-27T05:36:15.169722Z",
     "start_time": "2024-07-27T05:36:15.166454Z"
    }
   },
   "cell_type": "code",
   "source": "df = pd.read_csv('ExampleData.csv')",
   "id": "e07d52b9969fc2a9",
   "outputs": [],
   "execution_count": 2
  },
  {
   "metadata": {},
   "cell_type": "markdown",
   "source": "## Show Data",
   "id": "86caa38eeb92251"
  },
  {
   "metadata": {
    "ExecuteTime": {
     "end_time": "2024-07-27T05:36:15.182770Z",
     "start_time": "2024-07-27T05:36:15.170652Z"
    }
   },
   "cell_type": "code",
   "source": "df.head()",
   "id": "ed51edefa1f174be",
   "outputs": [
    {
     "data": {
      "text/plain": [
       "   Height   YOE  Salary\n",
       "0   175.0   3.0     6.0\n",
       "1   168.0   4.0     9.0\n",
       "2   160.0  10.0    18.0\n",
       "3     NaN  15.0    25.0\n",
       "4   161.0   NaN    50.0"
      ],
      "text/html": [
       "<div>\n",
       "<style scoped>\n",
       "    .dataframe tbody tr th:only-of-type {\n",
       "        vertical-align: middle;\n",
       "    }\n",
       "\n",
       "    .dataframe tbody tr th {\n",
       "        vertical-align: top;\n",
       "    }\n",
       "\n",
       "    .dataframe thead th {\n",
       "        text-align: right;\n",
       "    }\n",
       "</style>\n",
       "<table border=\"1\" class=\"dataframe\">\n",
       "  <thead>\n",
       "    <tr style=\"text-align: right;\">\n",
       "      <th></th>\n",
       "      <th>Height</th>\n",
       "      <th>YOE</th>\n",
       "      <th>Salary</th>\n",
       "    </tr>\n",
       "  </thead>\n",
       "  <tbody>\n",
       "    <tr>\n",
       "      <th>0</th>\n",
       "      <td>175.0</td>\n",
       "      <td>3.0</td>\n",
       "      <td>6.0</td>\n",
       "    </tr>\n",
       "    <tr>\n",
       "      <th>1</th>\n",
       "      <td>168.0</td>\n",
       "      <td>4.0</td>\n",
       "      <td>9.0</td>\n",
       "    </tr>\n",
       "    <tr>\n",
       "      <th>2</th>\n",
       "      <td>160.0</td>\n",
       "      <td>10.0</td>\n",
       "      <td>18.0</td>\n",
       "    </tr>\n",
       "    <tr>\n",
       "      <th>3</th>\n",
       "      <td>NaN</td>\n",
       "      <td>15.0</td>\n",
       "      <td>25.0</td>\n",
       "    </tr>\n",
       "    <tr>\n",
       "      <th>4</th>\n",
       "      <td>161.0</td>\n",
       "      <td>NaN</td>\n",
       "      <td>50.0</td>\n",
       "    </tr>\n",
       "  </tbody>\n",
       "</table>\n",
       "</div>"
      ]
     },
     "execution_count": 3,
     "metadata": {},
     "output_type": "execute_result"
    }
   ],
   "execution_count": 3
  },
  {
   "metadata": {
    "ExecuteTime": {
     "end_time": "2024-07-27T05:36:15.195244Z",
     "start_time": "2024-07-27T05:36:15.183315Z"
    }
   },
   "cell_type": "code",
   "source": "df.info()",
   "id": "69df4961003ecc27",
   "outputs": [
    {
     "name": "stdout",
     "output_type": "stream",
     "text": [
      "<class 'pandas.core.frame.DataFrame'>\n",
      "RangeIndex: 25 entries, 0 to 24\n",
      "Data columns (total 3 columns):\n",
      " #   Column  Non-Null Count  Dtype  \n",
      "---  ------  --------------  -----  \n",
      " 0   Height  20 non-null     float64\n",
      " 1   YOE     22 non-null     float64\n",
      " 2   Salary  22 non-null     float64\n",
      "dtypes: float64(3)\n",
      "memory usage: 732.0 bytes\n"
     ]
    }
   ],
   "execution_count": 4
  },
  {
   "metadata": {
    "ExecuteTime": {
     "end_time": "2024-07-27T05:36:15.212449Z",
     "start_time": "2024-07-27T05:36:15.195900Z"
    }
   },
   "cell_type": "code",
   "source": "df.describe()",
   "id": "3ede65ed54dcf415",
   "outputs": [
    {
     "data": {
      "text/plain": [
       "           Height        YOE     Salary\n",
       "count   20.000000  22.000000  22.000000\n",
       "mean   168.700000   7.045455  17.590909\n",
       "std      7.226414   3.359100  14.147721\n",
       "min    160.000000   3.000000   6.000000\n",
       "25%    161.750000   5.000000  10.000000\n",
       "50%    169.000000   6.500000  11.500000\n",
       "75%    175.000000   8.750000  18.000000\n",
       "max    180.000000  15.000000  50.000000"
      ],
      "text/html": [
       "<div>\n",
       "<style scoped>\n",
       "    .dataframe tbody tr th:only-of-type {\n",
       "        vertical-align: middle;\n",
       "    }\n",
       "\n",
       "    .dataframe tbody tr th {\n",
       "        vertical-align: top;\n",
       "    }\n",
       "\n",
       "    .dataframe thead th {\n",
       "        text-align: right;\n",
       "    }\n",
       "</style>\n",
       "<table border=\"1\" class=\"dataframe\">\n",
       "  <thead>\n",
       "    <tr style=\"text-align: right;\">\n",
       "      <th></th>\n",
       "      <th>Height</th>\n",
       "      <th>YOE</th>\n",
       "      <th>Salary</th>\n",
       "    </tr>\n",
       "  </thead>\n",
       "  <tbody>\n",
       "    <tr>\n",
       "      <th>count</th>\n",
       "      <td>20.000000</td>\n",
       "      <td>22.000000</td>\n",
       "      <td>22.000000</td>\n",
       "    </tr>\n",
       "    <tr>\n",
       "      <th>mean</th>\n",
       "      <td>168.700000</td>\n",
       "      <td>7.045455</td>\n",
       "      <td>17.590909</td>\n",
       "    </tr>\n",
       "    <tr>\n",
       "      <th>std</th>\n",
       "      <td>7.226414</td>\n",
       "      <td>3.359100</td>\n",
       "      <td>14.147721</td>\n",
       "    </tr>\n",
       "    <tr>\n",
       "      <th>min</th>\n",
       "      <td>160.000000</td>\n",
       "      <td>3.000000</td>\n",
       "      <td>6.000000</td>\n",
       "    </tr>\n",
       "    <tr>\n",
       "      <th>25%</th>\n",
       "      <td>161.750000</td>\n",
       "      <td>5.000000</td>\n",
       "      <td>10.000000</td>\n",
       "    </tr>\n",
       "    <tr>\n",
       "      <th>50%</th>\n",
       "      <td>169.000000</td>\n",
       "      <td>6.500000</td>\n",
       "      <td>11.500000</td>\n",
       "    </tr>\n",
       "    <tr>\n",
       "      <th>75%</th>\n",
       "      <td>175.000000</td>\n",
       "      <td>8.750000</td>\n",
       "      <td>18.000000</td>\n",
       "    </tr>\n",
       "    <tr>\n",
       "      <th>max</th>\n",
       "      <td>180.000000</td>\n",
       "      <td>15.000000</td>\n",
       "      <td>50.000000</td>\n",
       "    </tr>\n",
       "  </tbody>\n",
       "</table>\n",
       "</div>"
      ]
     },
     "execution_count": 5,
     "metadata": {},
     "output_type": "execute_result"
    }
   ],
   "execution_count": 5
  },
  {
   "metadata": {
    "ExecuteTime": {
     "end_time": "2024-07-27T05:36:15.218106Z",
     "start_time": "2024-07-27T05:36:15.213128Z"
    }
   },
   "cell_type": "code",
   "source": "df.isnull().sum()",
   "id": "940327ef875c0915",
   "outputs": [
    {
     "data": {
      "text/plain": [
       "Height    5\n",
       "YOE       3\n",
       "Salary    3\n",
       "dtype: int64"
      ]
     },
     "execution_count": 6,
     "metadata": {},
     "output_type": "execute_result"
    }
   ],
   "execution_count": 6
  },
  {
   "metadata": {},
   "cell_type": "markdown",
   "source": "## Fill Missing Values with Linear Regression",
   "id": "3b92eaed393974e3"
  },
  {
   "metadata": {
    "ExecuteTime": {
     "end_time": "2024-07-27T05:36:15.303243Z",
     "start_time": "2024-07-27T05:36:15.218801Z"
    }
   },
   "cell_type": "code",
   "source": [
    "lr = LinearRegression()\n",
    "imputer = IterativeImputer(estimator=lr)\n",
    "df_imputed = imputer.fit_transform(df)"
   ],
   "id": "3d4455cd3c480127",
   "outputs": [],
   "execution_count": 7
  },
  {
   "metadata": {},
   "cell_type": "markdown",
   "source": "## Data Imputation Results",
   "id": "8bffaca83e726798"
  },
  {
   "metadata": {
    "ExecuteTime": {
     "end_time": "2024-07-27T05:36:15.309953Z",
     "start_time": "2024-07-27T05:36:15.304200Z"
    }
   },
   "cell_type": "code",
   "source": [
    "df_imputed = pd.DataFrame(df_imputed, columns=df.columns)\n",
    "df_imputed.head()"
   ],
   "id": "e55497f75170a3cc",
   "outputs": [
    {
     "data": {
      "text/plain": [
       "       Height        YOE  Salary\n",
       "0  175.000000   3.000000     6.0\n",
       "1  168.000000   4.000000     9.0\n",
       "2  160.000000  10.000000    18.0\n",
       "3  165.275222  15.000000    25.0\n",
       "4  161.000000  31.706376    50.0"
      ],
      "text/html": [
       "<div>\n",
       "<style scoped>\n",
       "    .dataframe tbody tr th:only-of-type {\n",
       "        vertical-align: middle;\n",
       "    }\n",
       "\n",
       "    .dataframe tbody tr th {\n",
       "        vertical-align: top;\n",
       "    }\n",
       "\n",
       "    .dataframe thead th {\n",
       "        text-align: right;\n",
       "    }\n",
       "</style>\n",
       "<table border=\"1\" class=\"dataframe\">\n",
       "  <thead>\n",
       "    <tr style=\"text-align: right;\">\n",
       "      <th></th>\n",
       "      <th>Height</th>\n",
       "      <th>YOE</th>\n",
       "      <th>Salary</th>\n",
       "    </tr>\n",
       "  </thead>\n",
       "  <tbody>\n",
       "    <tr>\n",
       "      <th>0</th>\n",
       "      <td>175.000000</td>\n",
       "      <td>3.000000</td>\n",
       "      <td>6.0</td>\n",
       "    </tr>\n",
       "    <tr>\n",
       "      <th>1</th>\n",
       "      <td>168.000000</td>\n",
       "      <td>4.000000</td>\n",
       "      <td>9.0</td>\n",
       "    </tr>\n",
       "    <tr>\n",
       "      <th>2</th>\n",
       "      <td>160.000000</td>\n",
       "      <td>10.000000</td>\n",
       "      <td>18.0</td>\n",
       "    </tr>\n",
       "    <tr>\n",
       "      <th>3</th>\n",
       "      <td>165.275222</td>\n",
       "      <td>15.000000</td>\n",
       "      <td>25.0</td>\n",
       "    </tr>\n",
       "    <tr>\n",
       "      <th>4</th>\n",
       "      <td>161.000000</td>\n",
       "      <td>31.706376</td>\n",
       "      <td>50.0</td>\n",
       "    </tr>\n",
       "  </tbody>\n",
       "</table>\n",
       "</div>"
      ]
     },
     "execution_count": 8,
     "metadata": {},
     "output_type": "execute_result"
    }
   ],
   "execution_count": 8
  },
  {
   "metadata": {
    "ExecuteTime": {
     "end_time": "2024-07-27T05:36:27.392730Z",
     "start_time": "2024-07-27T05:36:27.388045Z"
    }
   },
   "cell_type": "code",
   "source": "df_imputed.info()",
   "id": "d94a0d9e12a1c773",
   "outputs": [
    {
     "name": "stdout",
     "output_type": "stream",
     "text": [
      "<class 'pandas.core.frame.DataFrame'>\n",
      "RangeIndex: 25 entries, 0 to 24\n",
      "Data columns (total 3 columns):\n",
      " #   Column  Non-Null Count  Dtype  \n",
      "---  ------  --------------  -----  \n",
      " 0   Height  25 non-null     float64\n",
      " 1   YOE     25 non-null     float64\n",
      " 2   Salary  25 non-null     float64\n",
      "dtypes: float64(3)\n",
      "memory usage: 732.0 bytes\n"
     ]
    }
   ],
   "execution_count": 9
  },
  {
   "metadata": {
    "ExecuteTime": {
     "end_time": "2024-07-27T05:36:32.341469Z",
     "start_time": "2024-07-27T05:36:32.334968Z"
    }
   },
   "cell_type": "code",
   "source": "df_imputed.describe()",
   "id": "ead60a7c87ea8fdd",
   "outputs": [
    {
     "data": {
      "text/plain": [
       "           Height        YOE     Salary\n",
       "count   25.000000  25.000000  25.000000\n",
       "mean   168.548500  10.004765  16.968229\n",
       "std      6.513479   8.761896  13.345414\n",
       "min    160.000000   3.000000   6.000000\n",
       "25%    162.000000   5.000000  10.000000\n",
       "50%    169.720689   7.000000  12.000000\n",
       "75%    172.000000  10.000000  18.000000\n",
       "max    180.000000  31.706376  50.000000"
      ],
      "text/html": [
       "<div>\n",
       "<style scoped>\n",
       "    .dataframe tbody tr th:only-of-type {\n",
       "        vertical-align: middle;\n",
       "    }\n",
       "\n",
       "    .dataframe tbody tr th {\n",
       "        vertical-align: top;\n",
       "    }\n",
       "\n",
       "    .dataframe thead th {\n",
       "        text-align: right;\n",
       "    }\n",
       "</style>\n",
       "<table border=\"1\" class=\"dataframe\">\n",
       "  <thead>\n",
       "    <tr style=\"text-align: right;\">\n",
       "      <th></th>\n",
       "      <th>Height</th>\n",
       "      <th>YOE</th>\n",
       "      <th>Salary</th>\n",
       "    </tr>\n",
       "  </thead>\n",
       "  <tbody>\n",
       "    <tr>\n",
       "      <th>count</th>\n",
       "      <td>25.000000</td>\n",
       "      <td>25.000000</td>\n",
       "      <td>25.000000</td>\n",
       "    </tr>\n",
       "    <tr>\n",
       "      <th>mean</th>\n",
       "      <td>168.548500</td>\n",
       "      <td>10.004765</td>\n",
       "      <td>16.968229</td>\n",
       "    </tr>\n",
       "    <tr>\n",
       "      <th>std</th>\n",
       "      <td>6.513479</td>\n",
       "      <td>8.761896</td>\n",
       "      <td>13.345414</td>\n",
       "    </tr>\n",
       "    <tr>\n",
       "      <th>min</th>\n",
       "      <td>160.000000</td>\n",
       "      <td>3.000000</td>\n",
       "      <td>6.000000</td>\n",
       "    </tr>\n",
       "    <tr>\n",
       "      <th>25%</th>\n",
       "      <td>162.000000</td>\n",
       "      <td>5.000000</td>\n",
       "      <td>10.000000</td>\n",
       "    </tr>\n",
       "    <tr>\n",
       "      <th>50%</th>\n",
       "      <td>169.720689</td>\n",
       "      <td>7.000000</td>\n",
       "      <td>12.000000</td>\n",
       "    </tr>\n",
       "    <tr>\n",
       "      <th>75%</th>\n",
       "      <td>172.000000</td>\n",
       "      <td>10.000000</td>\n",
       "      <td>18.000000</td>\n",
       "    </tr>\n",
       "    <tr>\n",
       "      <th>max</th>\n",
       "      <td>180.000000</td>\n",
       "      <td>31.706376</td>\n",
       "      <td>50.000000</td>\n",
       "    </tr>\n",
       "  </tbody>\n",
       "</table>\n",
       "</div>"
      ]
     },
     "execution_count": 11,
     "metadata": {},
     "output_type": "execute_result"
    }
   ],
   "execution_count": 11
  },
  {
   "metadata": {
    "ExecuteTime": {
     "end_time": "2024-07-27T05:36:35.171317Z",
     "start_time": "2024-07-27T05:36:35.167448Z"
    }
   },
   "cell_type": "code",
   "source": "df_imputed.isnull().sum()",
   "id": "c09a4b5576a3e741",
   "outputs": [
    {
     "data": {
      "text/plain": [
       "Height    0\n",
       "YOE       0\n",
       "Salary    0\n",
       "dtype: int64"
      ]
     },
     "execution_count": 12,
     "metadata": {},
     "output_type": "execute_result"
    }
   ],
   "execution_count": 12
  },
  {
   "metadata": {},
   "cell_type": "markdown",
   "source": [
    "## KNN Imputation\n",
    "KNN Imputation is another technique(nearest neighbors) to fill missing values in a dataset."
   ],
   "id": "f5e9b0fba508ce"
  },
  {
   "metadata": {
    "ExecuteTime": {
     "end_time": "2024-07-27T05:38:55.751146Z",
     "start_time": "2024-07-27T05:38:55.742076Z"
    }
   },
   "cell_type": "code",
   "source": [
    "from sklearn.impute import KNNImputer\n",
    "\n",
    "knn_imputer = KNNImputer(n_neighbors=2)\n",
    "df_imputed_knn = knn_imputer.fit_transform(df)\n",
    "\n",
    "df_imputed_knn = pd.DataFrame(df_imputed_knn, columns=df.columns)\n",
    "df_imputed_knn.head()"
   ],
   "id": "b8fafcf431eafc87",
   "outputs": [
    {
     "data": {
      "text/plain": [
       "   Height   YOE  Salary\n",
       "0   175.0   3.0     6.0\n",
       "1   168.0   4.0     9.0\n",
       "2   160.0  10.0    18.0\n",
       "3   160.0  15.0    25.0\n",
       "4   161.0  10.0    50.0"
      ],
      "text/html": [
       "<div>\n",
       "<style scoped>\n",
       "    .dataframe tbody tr th:only-of-type {\n",
       "        vertical-align: middle;\n",
       "    }\n",
       "\n",
       "    .dataframe tbody tr th {\n",
       "        vertical-align: top;\n",
       "    }\n",
       "\n",
       "    .dataframe thead th {\n",
       "        text-align: right;\n",
       "    }\n",
       "</style>\n",
       "<table border=\"1\" class=\"dataframe\">\n",
       "  <thead>\n",
       "    <tr style=\"text-align: right;\">\n",
       "      <th></th>\n",
       "      <th>Height</th>\n",
       "      <th>YOE</th>\n",
       "      <th>Salary</th>\n",
       "    </tr>\n",
       "  </thead>\n",
       "  <tbody>\n",
       "    <tr>\n",
       "      <th>0</th>\n",
       "      <td>175.0</td>\n",
       "      <td>3.0</td>\n",
       "      <td>6.0</td>\n",
       "    </tr>\n",
       "    <tr>\n",
       "      <th>1</th>\n",
       "      <td>168.0</td>\n",
       "      <td>4.0</td>\n",
       "      <td>9.0</td>\n",
       "    </tr>\n",
       "    <tr>\n",
       "      <th>2</th>\n",
       "      <td>160.0</td>\n",
       "      <td>10.0</td>\n",
       "      <td>18.0</td>\n",
       "    </tr>\n",
       "    <tr>\n",
       "      <th>3</th>\n",
       "      <td>160.0</td>\n",
       "      <td>15.0</td>\n",
       "      <td>25.0</td>\n",
       "    </tr>\n",
       "    <tr>\n",
       "      <th>4</th>\n",
       "      <td>161.0</td>\n",
       "      <td>10.0</td>\n",
       "      <td>50.0</td>\n",
       "    </tr>\n",
       "  </tbody>\n",
       "</table>\n",
       "</div>"
      ]
     },
     "execution_count": 13,
     "metadata": {},
     "output_type": "execute_result"
    }
   ],
   "execution_count": 13
  },
  {
   "metadata": {},
   "cell_type": "markdown",
   "source": "## Fill Missing Values with Mean",
   "id": "ab56ac24bc0cfe6f"
  },
  {
   "metadata": {
    "ExecuteTime": {
     "end_time": "2024-07-27T05:41:27.845153Z",
     "start_time": "2024-07-27T05:41:27.837074Z"
    }
   },
   "cell_type": "code",
   "source": [
    "from sklearn.impute import SimpleImputer\n",
    "\n",
    "imputer = SimpleImputer(strategy='mean') # mean, median, most_frequent, constant\n",
    "df_imputed_mean = imputer.fit_transform(df)\n",
    "\n",
    "df_imputed_mean = pd.DataFrame(df_imputed_mean, columns=df.columns)\n",
    "df_imputed_mean.head()"
   ],
   "id": "ea7250ba4a80b39b",
   "outputs": [
    {
     "data": {
      "text/plain": [
       "   Height        YOE  Salary\n",
       "0   175.0   3.000000     6.0\n",
       "1   168.0   4.000000     9.0\n",
       "2   160.0  10.000000    18.0\n",
       "3   168.7  15.000000    25.0\n",
       "4   161.0   7.045455    50.0"
      ],
      "text/html": [
       "<div>\n",
       "<style scoped>\n",
       "    .dataframe tbody tr th:only-of-type {\n",
       "        vertical-align: middle;\n",
       "    }\n",
       "\n",
       "    .dataframe tbody tr th {\n",
       "        vertical-align: top;\n",
       "    }\n",
       "\n",
       "    .dataframe thead th {\n",
       "        text-align: right;\n",
       "    }\n",
       "</style>\n",
       "<table border=\"1\" class=\"dataframe\">\n",
       "  <thead>\n",
       "    <tr style=\"text-align: right;\">\n",
       "      <th></th>\n",
       "      <th>Height</th>\n",
       "      <th>YOE</th>\n",
       "      <th>Salary</th>\n",
       "    </tr>\n",
       "  </thead>\n",
       "  <tbody>\n",
       "    <tr>\n",
       "      <th>0</th>\n",
       "      <td>175.0</td>\n",
       "      <td>3.000000</td>\n",
       "      <td>6.0</td>\n",
       "    </tr>\n",
       "    <tr>\n",
       "      <th>1</th>\n",
       "      <td>168.0</td>\n",
       "      <td>4.000000</td>\n",
       "      <td>9.0</td>\n",
       "    </tr>\n",
       "    <tr>\n",
       "      <th>2</th>\n",
       "      <td>160.0</td>\n",
       "      <td>10.000000</td>\n",
       "      <td>18.0</td>\n",
       "    </tr>\n",
       "    <tr>\n",
       "      <th>3</th>\n",
       "      <td>168.7</td>\n",
       "      <td>15.000000</td>\n",
       "      <td>25.0</td>\n",
       "    </tr>\n",
       "    <tr>\n",
       "      <th>4</th>\n",
       "      <td>161.0</td>\n",
       "      <td>7.045455</td>\n",
       "      <td>50.0</td>\n",
       "    </tr>\n",
       "  </tbody>\n",
       "</table>\n",
       "</div>"
      ]
     },
     "execution_count": 14,
     "metadata": {},
     "output_type": "execute_result"
    }
   ],
   "execution_count": 14
  },
  {
   "metadata": {},
   "cell_type": "markdown",
   "source": [
    "## Fill Missing Values with Mice\n",
    "Miceforest is a library that uses the MICE algorithm to impute missing values in a dataset."
   ],
   "id": "5b2436458faa91d1"
  },
  {
   "metadata": {
    "ExecuteTime": {
     "end_time": "2024-07-27T05:43:05.903249Z",
     "start_time": "2024-07-27T05:43:05.900649Z"
    }
   },
   "cell_type": "code",
   "source": "# !pip install miceforest",
   "id": "81552778ca30f055",
   "outputs": [],
   "execution_count": 16
  },
  {
   "metadata": {
    "ExecuteTime": {
     "end_time": "2024-07-27T05:47:13.406953Z",
     "start_time": "2024-07-27T05:47:13.399291Z"
    }
   },
   "cell_type": "code",
   "source": [
    "import miceforest as mf\n",
    "\n",
    "mc_imputer = mf.ImputationKernel(df)\n",
    "mc_imputer.complete_data()\n",
    "# df_imputed_mice = pd.DataFrame(mc_imputer.impute_new_data(df).data, columns=df.columns)\n",
    "# df_imputed_mice.head()\n"
   ],
   "id": "9a39dfc386dea899",
   "outputs": [
    {
     "data": {
      "text/plain": [
       "    Height   YOE  Salary\n",
       "0    175.0   3.0     6.0\n",
       "1    168.0   4.0     9.0\n",
       "2    160.0  10.0    18.0\n",
       "3    160.0  15.0    25.0\n",
       "4    161.0   4.0    50.0\n",
       "5    162.0   5.0    10.0\n",
       "6    180.0   6.0    11.0\n",
       "7    180.0   7.0    18.0\n",
       "8    172.0   8.0    12.0\n",
       "9    170.0   9.0    14.0\n",
       "10   175.0   3.0     6.0\n",
       "11   168.0   4.0     9.0\n",
       "12   160.0  10.0    18.0\n",
       "13   180.0  15.0    25.0\n",
       "14   161.0   3.0    50.0\n",
       "15   162.0   5.0    10.0\n",
       "16   180.0   6.0    11.0\n",
       "17   172.0   7.0    25.0\n",
       "18   172.0   8.0    12.0\n",
       "19   170.0   9.0    14.0\n",
       "20   161.0  15.0    50.0\n",
       "21   162.0   5.0    10.0\n",
       "22   180.0   6.0    11.0\n",
       "23   175.0   7.0     9.0\n",
       "24   175.0   3.0     6.0"
      ],
      "text/html": [
       "<div>\n",
       "<style scoped>\n",
       "    .dataframe tbody tr th:only-of-type {\n",
       "        vertical-align: middle;\n",
       "    }\n",
       "\n",
       "    .dataframe tbody tr th {\n",
       "        vertical-align: top;\n",
       "    }\n",
       "\n",
       "    .dataframe thead th {\n",
       "        text-align: right;\n",
       "    }\n",
       "</style>\n",
       "<table border=\"1\" class=\"dataframe\">\n",
       "  <thead>\n",
       "    <tr style=\"text-align: right;\">\n",
       "      <th></th>\n",
       "      <th>Height</th>\n",
       "      <th>YOE</th>\n",
       "      <th>Salary</th>\n",
       "    </tr>\n",
       "  </thead>\n",
       "  <tbody>\n",
       "    <tr>\n",
       "      <th>0</th>\n",
       "      <td>175.0</td>\n",
       "      <td>3.0</td>\n",
       "      <td>6.0</td>\n",
       "    </tr>\n",
       "    <tr>\n",
       "      <th>1</th>\n",
       "      <td>168.0</td>\n",
       "      <td>4.0</td>\n",
       "      <td>9.0</td>\n",
       "    </tr>\n",
       "    <tr>\n",
       "      <th>2</th>\n",
       "      <td>160.0</td>\n",
       "      <td>10.0</td>\n",
       "      <td>18.0</td>\n",
       "    </tr>\n",
       "    <tr>\n",
       "      <th>3</th>\n",
       "      <td>160.0</td>\n",
       "      <td>15.0</td>\n",
       "      <td>25.0</td>\n",
       "    </tr>\n",
       "    <tr>\n",
       "      <th>4</th>\n",
       "      <td>161.0</td>\n",
       "      <td>4.0</td>\n",
       "      <td>50.0</td>\n",
       "    </tr>\n",
       "    <tr>\n",
       "      <th>5</th>\n",
       "      <td>162.0</td>\n",
       "      <td>5.0</td>\n",
       "      <td>10.0</td>\n",
       "    </tr>\n",
       "    <tr>\n",
       "      <th>6</th>\n",
       "      <td>180.0</td>\n",
       "      <td>6.0</td>\n",
       "      <td>11.0</td>\n",
       "    </tr>\n",
       "    <tr>\n",
       "      <th>7</th>\n",
       "      <td>180.0</td>\n",
       "      <td>7.0</td>\n",
       "      <td>18.0</td>\n",
       "    </tr>\n",
       "    <tr>\n",
       "      <th>8</th>\n",
       "      <td>172.0</td>\n",
       "      <td>8.0</td>\n",
       "      <td>12.0</td>\n",
       "    </tr>\n",
       "    <tr>\n",
       "      <th>9</th>\n",
       "      <td>170.0</td>\n",
       "      <td>9.0</td>\n",
       "      <td>14.0</td>\n",
       "    </tr>\n",
       "    <tr>\n",
       "      <th>10</th>\n",
       "      <td>175.0</td>\n",
       "      <td>3.0</td>\n",
       "      <td>6.0</td>\n",
       "    </tr>\n",
       "    <tr>\n",
       "      <th>11</th>\n",
       "      <td>168.0</td>\n",
       "      <td>4.0</td>\n",
       "      <td>9.0</td>\n",
       "    </tr>\n",
       "    <tr>\n",
       "      <th>12</th>\n",
       "      <td>160.0</td>\n",
       "      <td>10.0</td>\n",
       "      <td>18.0</td>\n",
       "    </tr>\n",
       "    <tr>\n",
       "      <th>13</th>\n",
       "      <td>180.0</td>\n",
       "      <td>15.0</td>\n",
       "      <td>25.0</td>\n",
       "    </tr>\n",
       "    <tr>\n",
       "      <th>14</th>\n",
       "      <td>161.0</td>\n",
       "      <td>3.0</td>\n",
       "      <td>50.0</td>\n",
       "    </tr>\n",
       "    <tr>\n",
       "      <th>15</th>\n",
       "      <td>162.0</td>\n",
       "      <td>5.0</td>\n",
       "      <td>10.0</td>\n",
       "    </tr>\n",
       "    <tr>\n",
       "      <th>16</th>\n",
       "      <td>180.0</td>\n",
       "      <td>6.0</td>\n",
       "      <td>11.0</td>\n",
       "    </tr>\n",
       "    <tr>\n",
       "      <th>17</th>\n",
       "      <td>172.0</td>\n",
       "      <td>7.0</td>\n",
       "      <td>25.0</td>\n",
       "    </tr>\n",
       "    <tr>\n",
       "      <th>18</th>\n",
       "      <td>172.0</td>\n",
       "      <td>8.0</td>\n",
       "      <td>12.0</td>\n",
       "    </tr>\n",
       "    <tr>\n",
       "      <th>19</th>\n",
       "      <td>170.0</td>\n",
       "      <td>9.0</td>\n",
       "      <td>14.0</td>\n",
       "    </tr>\n",
       "    <tr>\n",
       "      <th>20</th>\n",
       "      <td>161.0</td>\n",
       "      <td>15.0</td>\n",
       "      <td>50.0</td>\n",
       "    </tr>\n",
       "    <tr>\n",
       "      <th>21</th>\n",
       "      <td>162.0</td>\n",
       "      <td>5.0</td>\n",
       "      <td>10.0</td>\n",
       "    </tr>\n",
       "    <tr>\n",
       "      <th>22</th>\n",
       "      <td>180.0</td>\n",
       "      <td>6.0</td>\n",
       "      <td>11.0</td>\n",
       "    </tr>\n",
       "    <tr>\n",
       "      <th>23</th>\n",
       "      <td>175.0</td>\n",
       "      <td>7.0</td>\n",
       "      <td>9.0</td>\n",
       "    </tr>\n",
       "    <tr>\n",
       "      <th>24</th>\n",
       "      <td>175.0</td>\n",
       "      <td>3.0</td>\n",
       "      <td>6.0</td>\n",
       "    </tr>\n",
       "  </tbody>\n",
       "</table>\n",
       "</div>"
      ]
     },
     "execution_count": 27,
     "metadata": {},
     "output_type": "execute_result"
    }
   ],
   "execution_count": 27
  },
  {
   "metadata": {},
   "cell_type": "markdown",
   "source": "## MissingPy",
   "id": "501394f229ccfe72"
  },
  {
   "metadata": {},
   "cell_type": "code",
   "outputs": [],
   "execution_count": null,
   "source": "# !pip install missingpy",
   "id": "a5a969e38f54e8f2"
  },
  {
   "metadata": {},
   "cell_type": "markdown",
   "source": "",
   "id": "ff1068d02f5b4ee"
  },
  {
   "metadata": {},
   "cell_type": "markdown",
   "source": [
    "## FFill and BFill\n",
    "* Forward fill (ffill) and backward fill (bfill) are two simple techniques to fill missing values in a dataset."
   ],
   "id": "f25101113565d6fa"
  },
  {
   "metadata": {},
   "cell_type": "code",
   "outputs": [],
   "execution_count": null,
   "source": [
    "df.ffill()\n",
    "df.bfill()"
   ],
   "id": "27f2c2cdcaeb7149"
  },
  {
   "metadata": {},
   "cell_type": "markdown",
   "source": "",
   "id": "5d5a4b6e3eac57bd"
  },
  {
   "metadata": {},
   "cell_type": "markdown",
   "source": "## Conclusion\n",
   "id": "ec3d73d0244e5247"
  }
 ],
 "metadata": {
  "kernelspec": {
   "display_name": "Python 3 (ipykernel)",
   "language": "python",
   "name": "python3"
  },
  "language_info": {
   "codemirror_mode": {
    "name": "ipython",
    "version": 3
   },
   "file_extension": ".py",
   "mimetype": "text/x-python",
   "name": "python",
   "nbconvert_exporter": "python",
   "pygments_lexer": "ipython3",
   "version": "3.11.7"
  }
 },
 "nbformat": 4,
 "nbformat_minor": 5
}
