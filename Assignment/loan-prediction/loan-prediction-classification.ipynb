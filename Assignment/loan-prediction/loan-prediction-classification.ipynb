{
 "cells": [
  {
   "metadata": {},
   "cell_type": "markdown",
   "source": "# Loan Prediction Classification",
   "id": "151c9fdfb4834fe5"
  },
  {
   "metadata": {},
   "cell_type": "markdown",
   "source": [
    "## Overview\n",
    "\n",
    "### Business Objective\n",
    "\n",
    "* A financial institution wants us to help them identify customers who have a lesser chance of defaulting on the loan.\n",
    "\n",
    "* The company management has asked the data science team to build a predictive model to identify who would be a good customer. Furthermore, they want the team to come up with questions to ask the client, based on the model, when they are applying for loan.\n",
    "\n",
    "### Data Understanding\n",
    "* The dataset resembles a real-world dataset and has many of the same challenges. It has:\n",
    "* Missing values\n",
    "* Spelling differences\n",
    "* Punctuation format\n",
    "* Duplicates rows\n",
    "\n",
    "### Data Preparation\n",
    "* Split your data into training and testing\n",
    "* Start with Exploratory data analysis\n",
    "* Data cleaning\n",
    "* Handling the missing values\n",
    "* Transform categorical data into numeric\n",
    "* Feature Engineering (such as credit utilization)\n",
    "* The goal is to clean the dataset and get it ready for the Algorithms\n",
    "\n",
    "### Modeling\n",
    "\n",
    "* Algorithm Selection\n",
    "\n",
    "* Depending on the question at hand you can decide which algorithm to choose\n",
    "\n",
    "### Classification Question\n",
    "* Pick a classification algorithm\n",
    "* Regression based\n",
    "* Tree based\n",
    "* Distance based\n",
    "* Probability based\n",
    "* Model Evaluation\n",
    "* Evaluation criteria\n",
    "\n",
    "### Modeling:\n",
    "* Pick an algorithm\n",
    "* Train the algorithm using training data\n",
    "* Evaluate the trained model\n",
    "* Use the trained model to predict who is a good customer on test data\n",
    "* Come up with questions to ask the customer when they apply for a loan"
   ],
   "id": "98fa342562c1a1cc"
  },
  {
   "metadata": {},
   "cell_type": "markdown",
   "source": "## Importing Libraries",
   "id": "e9d40261ccc073f0"
  },
  {
   "metadata": {
    "ExecuteTime": {
     "end_time": "2024-07-24T15:50:21.506093Z",
     "start_time": "2024-07-24T15:50:21.393726Z"
    }
   },
   "cell_type": "code",
   "source": [
    "import pandas as pd\n",
    "pd.set_option('display.max_columns', None)\n",
    "\n",
    "import numpy as np\n",
    "import matplotlib.pyplot as plt\n",
    "import seaborn as sns\n",
    "\n",
    "import warnings\n",
    "warnings.filterwarnings('ignore')\n",
    "\n",
    "import algo_test\n",
    "\n",
    "from sklearn.preprocessing import LabelEncoder, StandardScaler\n",
    "from sklearn.impute import SimpleImputer\n",
    "\n",
    "from sklearn.model_selection import train_test_split\n",
    "from sklearn.metrics import accuracy_score, confusion_matrix, classification_report\n",
    "from sklearn.naive_bayes import GaussianNB\n",
    "from sklearn.naive_bayes import BernoulliNB\n",
    "from sklearn.linear_model import LogisticRegression\n",
    "from sklearn.neighbors import KNeighborsClassifier\n",
    "from sklearn.tree import DecisionTreeClassifier\n",
    "from sklearn.ensemble import RandomForestClassifier\n",
    "from sklearn.ensemble import GradientBoostingClassifier \n"
   ],
   "id": "7f5703d9aa937661",
   "outputs": [],
   "execution_count": 1
  },
  {
   "metadata": {
    "ExecuteTime": {
     "end_time": "2024-07-24T15:50:21.555149Z",
     "start_time": "2024-07-24T15:50:21.552921Z"
    }
   },
   "cell_type": "code",
   "source": [
    "## Alias for Libraries\n",
    "g = GaussianNB()\n",
    "b = BernoulliNB()\n",
    "lr = LogisticRegression()\n",
    "knn = KNeighborsClassifier()\n",
    "dt = DecisionTreeClassifier()\n",
    "rf = RandomForestClassifier()\n",
    "gb = GradientBoostingClassifier()\n"
   ],
   "id": "801c790695e15508",
   "outputs": [],
   "execution_count": 2
  },
  {
   "metadata": {},
   "cell_type": "markdown",
   "source": "## Load the data set ",
   "id": "a4df4a3bfdeefbac"
  },
  {
   "metadata": {
    "ExecuteTime": {
     "end_time": "2024-07-24T15:50:22.012096Z",
     "start_time": "2024-07-24T15:50:21.567245Z"
    }
   },
   "cell_type": "code",
   "source": "df = pd.read_csv('LoansTrainingSet.csv')",
   "id": "b5526be653b7373b",
   "outputs": [],
   "execution_count": 3
  },
  {
   "metadata": {},
   "cell_type": "markdown",
   "source": "## EDA - Exploratory Data Analysis",
   "id": "ee2674c8aec1ab0c"
  },
  {
   "metadata": {
    "ExecuteTime": {
     "end_time": "2024-07-24T15:50:22.023106Z",
     "start_time": "2024-07-24T15:50:22.013179Z"
    }
   },
   "cell_type": "code",
   "source": "df.head()",
   "id": "36a61f8d9b6ceda6",
   "outputs": [
    {
     "data": {
      "text/plain": [
       "                                Loan ID                           Customer ID  \\\n",
       "0  000025bb-5694-4cff-b17d-192b1a98ba44  5ebc8bb1-5eb9-4404-b11b-a6eebc401a19   \n",
       "1  00002c49-3a29-4bd4-8f67-c8f8fbc1048c  927b388d-2e01-423f-a8dc-f7e42d668f46   \n",
       "2  00002d89-27f3-409b-aa76-90834f359a65  defce609-c631-447d-aad6-1270615e89c4   \n",
       "3  00005222-b4d8-45a4-ad8c-186057e24233  070bcecb-aae7-4485-a26a-e0403e7bb6c5   \n",
       "4  0000757f-a121-41ed-b17b-162e76647c1f  dde79588-12f0-4811-bab0-e2b07f633fcd   \n",
       "\n",
       "  Loan Status  Current Loan Amount        Term  Credit Score  \\\n",
       "0  Fully Paid                11520  Short Term         741.0   \n",
       "1  Fully Paid                 3441  Short Term         734.0   \n",
       "2  Fully Paid                21029  Short Term         747.0   \n",
       "3  Fully Paid                18743  Short Term         747.0   \n",
       "4  Fully Paid                11731  Short Term         746.0   \n",
       "\n",
       "  Years in current job Home Ownership  Annual Income             Purpose  \\\n",
       "0            10+ years  Home Mortgage        33694.0  Debt Consolidation   \n",
       "1              4 years  Home Mortgage        42269.0               other   \n",
       "2            10+ years  Home Mortgage        90126.0  Debt Consolidation   \n",
       "3            10+ years       Own Home        38072.0  Debt Consolidation   \n",
       "4              4 years           Rent        50025.0  Debt Consolidation   \n",
       "\n",
       "  Monthly Debt  Years of Credit History  Months since last delinquent  \\\n",
       "0      $584.03                     12.3                          41.0   \n",
       "1   $1,106.04                      26.3                           NaN   \n",
       "2   $1,321.85                      28.8                           NaN   \n",
       "3      $751.92                     26.2                           NaN   \n",
       "4      $355.18                     11.5                           NaN   \n",
       "\n",
       "   Number of Open Accounts  Number of Credit Problems  Current Credit Balance  \\\n",
       "0                       10                          0                    6760   \n",
       "1                       17                          0                    6262   \n",
       "2                        5                          0                   20967   \n",
       "3                        9                          0                   22529   \n",
       "4                       12                          0                   17391   \n",
       "\n",
       "  Maximum Open Credit  Bankruptcies  Tax Liens  \n",
       "0               16056           0.0        0.0  \n",
       "1               19149           0.0        0.0  \n",
       "2               28335           0.0        0.0  \n",
       "3               43915           0.0        0.0  \n",
       "4               37081           0.0        0.0  "
      ],
      "text/html": [
       "<div>\n",
       "<style scoped>\n",
       "    .dataframe tbody tr th:only-of-type {\n",
       "        vertical-align: middle;\n",
       "    }\n",
       "\n",
       "    .dataframe tbody tr th {\n",
       "        vertical-align: top;\n",
       "    }\n",
       "\n",
       "    .dataframe thead th {\n",
       "        text-align: right;\n",
       "    }\n",
       "</style>\n",
       "<table border=\"1\" class=\"dataframe\">\n",
       "  <thead>\n",
       "    <tr style=\"text-align: right;\">\n",
       "      <th></th>\n",
       "      <th>Loan ID</th>\n",
       "      <th>Customer ID</th>\n",
       "      <th>Loan Status</th>\n",
       "      <th>Current Loan Amount</th>\n",
       "      <th>Term</th>\n",
       "      <th>Credit Score</th>\n",
       "      <th>Years in current job</th>\n",
       "      <th>Home Ownership</th>\n",
       "      <th>Annual Income</th>\n",
       "      <th>Purpose</th>\n",
       "      <th>Monthly Debt</th>\n",
       "      <th>Years of Credit History</th>\n",
       "      <th>Months since last delinquent</th>\n",
       "      <th>Number of Open Accounts</th>\n",
       "      <th>Number of Credit Problems</th>\n",
       "      <th>Current Credit Balance</th>\n",
       "      <th>Maximum Open Credit</th>\n",
       "      <th>Bankruptcies</th>\n",
       "      <th>Tax Liens</th>\n",
       "    </tr>\n",
       "  </thead>\n",
       "  <tbody>\n",
       "    <tr>\n",
       "      <th>0</th>\n",
       "      <td>000025bb-5694-4cff-b17d-192b1a98ba44</td>\n",
       "      <td>5ebc8bb1-5eb9-4404-b11b-a6eebc401a19</td>\n",
       "      <td>Fully Paid</td>\n",
       "      <td>11520</td>\n",
       "      <td>Short Term</td>\n",
       "      <td>741.0</td>\n",
       "      <td>10+ years</td>\n",
       "      <td>Home Mortgage</td>\n",
       "      <td>33694.0</td>\n",
       "      <td>Debt Consolidation</td>\n",
       "      <td>$584.03</td>\n",
       "      <td>12.3</td>\n",
       "      <td>41.0</td>\n",
       "      <td>10</td>\n",
       "      <td>0</td>\n",
       "      <td>6760</td>\n",
       "      <td>16056</td>\n",
       "      <td>0.0</td>\n",
       "      <td>0.0</td>\n",
       "    </tr>\n",
       "    <tr>\n",
       "      <th>1</th>\n",
       "      <td>00002c49-3a29-4bd4-8f67-c8f8fbc1048c</td>\n",
       "      <td>927b388d-2e01-423f-a8dc-f7e42d668f46</td>\n",
       "      <td>Fully Paid</td>\n",
       "      <td>3441</td>\n",
       "      <td>Short Term</td>\n",
       "      <td>734.0</td>\n",
       "      <td>4 years</td>\n",
       "      <td>Home Mortgage</td>\n",
       "      <td>42269.0</td>\n",
       "      <td>other</td>\n",
       "      <td>$1,106.04</td>\n",
       "      <td>26.3</td>\n",
       "      <td>NaN</td>\n",
       "      <td>17</td>\n",
       "      <td>0</td>\n",
       "      <td>6262</td>\n",
       "      <td>19149</td>\n",
       "      <td>0.0</td>\n",
       "      <td>0.0</td>\n",
       "    </tr>\n",
       "    <tr>\n",
       "      <th>2</th>\n",
       "      <td>00002d89-27f3-409b-aa76-90834f359a65</td>\n",
       "      <td>defce609-c631-447d-aad6-1270615e89c4</td>\n",
       "      <td>Fully Paid</td>\n",
       "      <td>21029</td>\n",
       "      <td>Short Term</td>\n",
       "      <td>747.0</td>\n",
       "      <td>10+ years</td>\n",
       "      <td>Home Mortgage</td>\n",
       "      <td>90126.0</td>\n",
       "      <td>Debt Consolidation</td>\n",
       "      <td>$1,321.85</td>\n",
       "      <td>28.8</td>\n",
       "      <td>NaN</td>\n",
       "      <td>5</td>\n",
       "      <td>0</td>\n",
       "      <td>20967</td>\n",
       "      <td>28335</td>\n",
       "      <td>0.0</td>\n",
       "      <td>0.0</td>\n",
       "    </tr>\n",
       "    <tr>\n",
       "      <th>3</th>\n",
       "      <td>00005222-b4d8-45a4-ad8c-186057e24233</td>\n",
       "      <td>070bcecb-aae7-4485-a26a-e0403e7bb6c5</td>\n",
       "      <td>Fully Paid</td>\n",
       "      <td>18743</td>\n",
       "      <td>Short Term</td>\n",
       "      <td>747.0</td>\n",
       "      <td>10+ years</td>\n",
       "      <td>Own Home</td>\n",
       "      <td>38072.0</td>\n",
       "      <td>Debt Consolidation</td>\n",
       "      <td>$751.92</td>\n",
       "      <td>26.2</td>\n",
       "      <td>NaN</td>\n",
       "      <td>9</td>\n",
       "      <td>0</td>\n",
       "      <td>22529</td>\n",
       "      <td>43915</td>\n",
       "      <td>0.0</td>\n",
       "      <td>0.0</td>\n",
       "    </tr>\n",
       "    <tr>\n",
       "      <th>4</th>\n",
       "      <td>0000757f-a121-41ed-b17b-162e76647c1f</td>\n",
       "      <td>dde79588-12f0-4811-bab0-e2b07f633fcd</td>\n",
       "      <td>Fully Paid</td>\n",
       "      <td>11731</td>\n",
       "      <td>Short Term</td>\n",
       "      <td>746.0</td>\n",
       "      <td>4 years</td>\n",
       "      <td>Rent</td>\n",
       "      <td>50025.0</td>\n",
       "      <td>Debt Consolidation</td>\n",
       "      <td>$355.18</td>\n",
       "      <td>11.5</td>\n",
       "      <td>NaN</td>\n",
       "      <td>12</td>\n",
       "      <td>0</td>\n",
       "      <td>17391</td>\n",
       "      <td>37081</td>\n",
       "      <td>0.0</td>\n",
       "      <td>0.0</td>\n",
       "    </tr>\n",
       "  </tbody>\n",
       "</table>\n",
       "</div>"
      ]
     },
     "execution_count": 4,
     "metadata": {},
     "output_type": "execute_result"
    }
   ],
   "execution_count": 4
  },
  {
   "metadata": {
    "ExecuteTime": {
     "end_time": "2024-07-24T15:50:22.043418Z",
     "start_time": "2024-07-24T15:50:22.023620Z"
    }
   },
   "cell_type": "code",
   "source": "df.shape",
   "id": "52be20a4817ccd4",
   "outputs": [
    {
     "data": {
      "text/plain": [
       "(256984, 19)"
      ]
     },
     "execution_count": 5,
     "metadata": {},
     "output_type": "execute_result"
    }
   ],
   "execution_count": 5
  },
  {
   "metadata": {
    "ExecuteTime": {
     "end_time": "2024-07-24T15:50:22.096356Z",
     "start_time": "2024-07-24T15:50:22.044185Z"
    }
   },
   "cell_type": "code",
   "source": "df.info()",
   "id": "85b8cc166a0ddd13",
   "outputs": [
    {
     "name": "stdout",
     "output_type": "stream",
     "text": [
      "<class 'pandas.core.frame.DataFrame'>\n",
      "RangeIndex: 256984 entries, 0 to 256983\n",
      "Data columns (total 19 columns):\n",
      " #   Column                        Non-Null Count   Dtype  \n",
      "---  ------                        --------------   -----  \n",
      " 0   Loan ID                       256984 non-null  object \n",
      " 1   Customer ID                   256984 non-null  object \n",
      " 2   Loan Status                   256984 non-null  object \n",
      " 3   Current Loan Amount           256984 non-null  int64  \n",
      " 4   Term                          256984 non-null  object \n",
      " 5   Credit Score                  195308 non-null  float64\n",
      " 6   Years in current job          245508 non-null  object \n",
      " 7   Home Ownership                256984 non-null  object \n",
      " 8   Annual Income                 195308 non-null  float64\n",
      " 9   Purpose                       256984 non-null  object \n",
      " 10  Monthly Debt                  256984 non-null  object \n",
      " 11  Years of Credit History       256984 non-null  float64\n",
      " 12  Months since last delinquent  116601 non-null  float64\n",
      " 13  Number of Open Accounts       256984 non-null  int64  \n",
      " 14  Number of Credit Problems     256984 non-null  int64  \n",
      " 15  Current Credit Balance        256984 non-null  int64  \n",
      " 16  Maximum Open Credit           256984 non-null  object \n",
      " 17  Bankruptcies                  256455 non-null  float64\n",
      " 18  Tax Liens                     256961 non-null  float64\n",
      "dtypes: float64(6), int64(4), object(9)\n",
      "memory usage: 37.3+ MB\n"
     ]
    }
   ],
   "execution_count": 6
  },
  {
   "metadata": {
    "ExecuteTime": {
     "end_time": "2024-07-24T15:50:22.154796Z",
     "start_time": "2024-07-24T15:50:22.097118Z"
    }
   },
   "cell_type": "code",
   "source": "df.describe()",
   "id": "6734c4b10b133098",
   "outputs": [
    {
     "data": {
      "text/plain": [
       "       Current Loan Amount   Credit Score  Annual Income  \\\n",
       "count         2.569840e+05  195308.000000   1.953080e+05   \n",
       "mean          1.371331e+07    1251.116099   7.195272e+04   \n",
       "std           3.438131e+07    1762.016848   5.887757e+04   \n",
       "min           5.050000e+02     585.000000   0.000000e+00   \n",
       "25%           8.299000e+03     714.000000   4.432100e+04   \n",
       "50%           1.429800e+04     733.000000   6.124200e+04   \n",
       "75%           2.436700e+04     744.000000   8.646200e+04   \n",
       "max           1.000000e+08    7510.000000   8.713547e+06   \n",
       "\n",
       "       Years of Credit History  Months since last delinquent  \\\n",
       "count            256984.000000                 116601.000000   \n",
       "mean                 18.290195                     34.881450   \n",
       "std                   7.075747                     21.854165   \n",
       "min                   3.400000                      0.000000   \n",
       "25%                  13.500000                     16.000000   \n",
       "50%                  17.000000                     32.000000   \n",
       "75%                  21.700000                     51.000000   \n",
       "max                  70.500000                    176.000000   \n",
       "\n",
       "       Number of Open Accounts  Number of Credit Problems  \\\n",
       "count            256984.000000              256984.000000   \n",
       "mean                 11.106267                   0.156628   \n",
       "std                   4.982982                   0.460731   \n",
       "min                   0.000000                   0.000000   \n",
       "25%                   8.000000                   0.000000   \n",
       "50%                  10.000000                   0.000000   \n",
       "75%                  14.000000                   0.000000   \n",
       "max                  76.000000                  11.000000   \n",
       "\n",
       "       Current Credit Balance   Bankruptcies      Tax Liens  \n",
       "count            2.569840e+05  256455.000000  256961.000000  \n",
       "mean             1.540656e+04       0.110316       0.027203  \n",
       "std              1.966506e+04       0.336229       0.245950  \n",
       "min              0.000000e+00       0.000000       0.000000  \n",
       "25%              5.974000e+03       0.000000       0.000000  \n",
       "50%              1.107800e+04       0.000000       0.000000  \n",
       "75%              1.931900e+04       0.000000       0.000000  \n",
       "max              1.731412e+06       7.000000      11.000000  "
      ],
      "text/html": [
       "<div>\n",
       "<style scoped>\n",
       "    .dataframe tbody tr th:only-of-type {\n",
       "        vertical-align: middle;\n",
       "    }\n",
       "\n",
       "    .dataframe tbody tr th {\n",
       "        vertical-align: top;\n",
       "    }\n",
       "\n",
       "    .dataframe thead th {\n",
       "        text-align: right;\n",
       "    }\n",
       "</style>\n",
       "<table border=\"1\" class=\"dataframe\">\n",
       "  <thead>\n",
       "    <tr style=\"text-align: right;\">\n",
       "      <th></th>\n",
       "      <th>Current Loan Amount</th>\n",
       "      <th>Credit Score</th>\n",
       "      <th>Annual Income</th>\n",
       "      <th>Years of Credit History</th>\n",
       "      <th>Months since last delinquent</th>\n",
       "      <th>Number of Open Accounts</th>\n",
       "      <th>Number of Credit Problems</th>\n",
       "      <th>Current Credit Balance</th>\n",
       "      <th>Bankruptcies</th>\n",
       "      <th>Tax Liens</th>\n",
       "    </tr>\n",
       "  </thead>\n",
       "  <tbody>\n",
       "    <tr>\n",
       "      <th>count</th>\n",
       "      <td>2.569840e+05</td>\n",
       "      <td>195308.000000</td>\n",
       "      <td>1.953080e+05</td>\n",
       "      <td>256984.000000</td>\n",
       "      <td>116601.000000</td>\n",
       "      <td>256984.000000</td>\n",
       "      <td>256984.000000</td>\n",
       "      <td>2.569840e+05</td>\n",
       "      <td>256455.000000</td>\n",
       "      <td>256961.000000</td>\n",
       "    </tr>\n",
       "    <tr>\n",
       "      <th>mean</th>\n",
       "      <td>1.371331e+07</td>\n",
       "      <td>1251.116099</td>\n",
       "      <td>7.195272e+04</td>\n",
       "      <td>18.290195</td>\n",
       "      <td>34.881450</td>\n",
       "      <td>11.106267</td>\n",
       "      <td>0.156628</td>\n",
       "      <td>1.540656e+04</td>\n",
       "      <td>0.110316</td>\n",
       "      <td>0.027203</td>\n",
       "    </tr>\n",
       "    <tr>\n",
       "      <th>std</th>\n",
       "      <td>3.438131e+07</td>\n",
       "      <td>1762.016848</td>\n",
       "      <td>5.887757e+04</td>\n",
       "      <td>7.075747</td>\n",
       "      <td>21.854165</td>\n",
       "      <td>4.982982</td>\n",
       "      <td>0.460731</td>\n",
       "      <td>1.966506e+04</td>\n",
       "      <td>0.336229</td>\n",
       "      <td>0.245950</td>\n",
       "    </tr>\n",
       "    <tr>\n",
       "      <th>min</th>\n",
       "      <td>5.050000e+02</td>\n",
       "      <td>585.000000</td>\n",
       "      <td>0.000000e+00</td>\n",
       "      <td>3.400000</td>\n",
       "      <td>0.000000</td>\n",
       "      <td>0.000000</td>\n",
       "      <td>0.000000</td>\n",
       "      <td>0.000000e+00</td>\n",
       "      <td>0.000000</td>\n",
       "      <td>0.000000</td>\n",
       "    </tr>\n",
       "    <tr>\n",
       "      <th>25%</th>\n",
       "      <td>8.299000e+03</td>\n",
       "      <td>714.000000</td>\n",
       "      <td>4.432100e+04</td>\n",
       "      <td>13.500000</td>\n",
       "      <td>16.000000</td>\n",
       "      <td>8.000000</td>\n",
       "      <td>0.000000</td>\n",
       "      <td>5.974000e+03</td>\n",
       "      <td>0.000000</td>\n",
       "      <td>0.000000</td>\n",
       "    </tr>\n",
       "    <tr>\n",
       "      <th>50%</th>\n",
       "      <td>1.429800e+04</td>\n",
       "      <td>733.000000</td>\n",
       "      <td>6.124200e+04</td>\n",
       "      <td>17.000000</td>\n",
       "      <td>32.000000</td>\n",
       "      <td>10.000000</td>\n",
       "      <td>0.000000</td>\n",
       "      <td>1.107800e+04</td>\n",
       "      <td>0.000000</td>\n",
       "      <td>0.000000</td>\n",
       "    </tr>\n",
       "    <tr>\n",
       "      <th>75%</th>\n",
       "      <td>2.436700e+04</td>\n",
       "      <td>744.000000</td>\n",
       "      <td>8.646200e+04</td>\n",
       "      <td>21.700000</td>\n",
       "      <td>51.000000</td>\n",
       "      <td>14.000000</td>\n",
       "      <td>0.000000</td>\n",
       "      <td>1.931900e+04</td>\n",
       "      <td>0.000000</td>\n",
       "      <td>0.000000</td>\n",
       "    </tr>\n",
       "    <tr>\n",
       "      <th>max</th>\n",
       "      <td>1.000000e+08</td>\n",
       "      <td>7510.000000</td>\n",
       "      <td>8.713547e+06</td>\n",
       "      <td>70.500000</td>\n",
       "      <td>176.000000</td>\n",
       "      <td>76.000000</td>\n",
       "      <td>11.000000</td>\n",
       "      <td>1.731412e+06</td>\n",
       "      <td>7.000000</td>\n",
       "      <td>11.000000</td>\n",
       "    </tr>\n",
       "  </tbody>\n",
       "</table>\n",
       "</div>"
      ]
     },
     "execution_count": 7,
     "metadata": {},
     "output_type": "execute_result"
    }
   ],
   "execution_count": 7
  },
  {
   "metadata": {
    "ExecuteTime": {
     "end_time": "2024-07-24T15:50:22.198288Z",
     "start_time": "2024-07-24T15:50:22.155647Z"
    }
   },
   "cell_type": "code",
   "source": "df.isnull().sum()",
   "id": "30ad6d36861169dc",
   "outputs": [
    {
     "data": {
      "text/plain": [
       "Loan ID                              0\n",
       "Customer ID                          0\n",
       "Loan Status                          0\n",
       "Current Loan Amount                  0\n",
       "Term                                 0\n",
       "Credit Score                     61676\n",
       "Years in current job             11476\n",
       "Home Ownership                       0\n",
       "Annual Income                    61676\n",
       "Purpose                              0\n",
       "Monthly Debt                         0\n",
       "Years of Credit History              0\n",
       "Months since last delinquent    140383\n",
       "Number of Open Accounts              0\n",
       "Number of Credit Problems            0\n",
       "Current Credit Balance               0\n",
       "Maximum Open Credit                  0\n",
       "Bankruptcies                       529\n",
       "Tax Liens                           23\n",
       "dtype: int64"
      ]
     },
     "execution_count": 8,
     "metadata": {},
     "output_type": "execute_result"
    }
   ],
   "execution_count": 8
  },
  {
   "metadata": {},
   "cell_type": "markdown",
   "source": [
    "## Feature Engineering\n",
    "\n",
    "### Null values in percentage\n",
    "* Total values : 256984\n",
    "\n",
    "### Null Values\n",
    "* Credit Score has 61676 missing values : 24%\n",
    "* Years in current job has 11476 missing values : 4%\n",
    "* Annual Income has 61676 missing values : 24%\n",
    "* Months since last delinquent has 140383 missing values : 54%\n",
    "* Bankruptcies has 529 missing values : 0.2%\n",
    "* Tax Liens has 23 missing values : 0.01%\n",
    "\n",
    "### What are the options to handle missing values?\n",
    "* Drop the rows\n",
    "* Fill the missing values with mean, median, mode\n",
    "* Predict the missing values using other columns"
   ],
   "id": "b6ac956feeb04adc"
  },
  {
   "metadata": {
    "ExecuteTime": {
     "end_time": "2024-07-24T15:50:22.238368Z",
     "start_time": "2024-07-24T15:50:22.198898Z"
    }
   },
   "cell_type": "code",
   "source": [
    "missing_values = df.isnull().sum()\n",
    "missing_percentage = (missing_values / len(df)) * 100\n",
    "\n",
    "missing_data = pd.DataFrame({'Missing Values': missing_values, 'Percentage': missing_percentage})\n",
    "print(missing_data)"
   ],
   "id": "b95b3558b2491583",
   "outputs": [
    {
     "name": "stdout",
     "output_type": "stream",
     "text": [
      "                              Missing Values  Percentage\n",
      "Loan ID                                    0    0.000000\n",
      "Customer ID                                0    0.000000\n",
      "Loan Status                                0    0.000000\n",
      "Current Loan Amount                        0    0.000000\n",
      "Term                                       0    0.000000\n",
      "Credit Score                           61676   23.999938\n",
      "Years in current job                   11476    4.465648\n",
      "Home Ownership                             0    0.000000\n",
      "Annual Income                          61676   23.999938\n",
      "Purpose                                    0    0.000000\n",
      "Monthly Debt                               0    0.000000\n",
      "Years of Credit History                    0    0.000000\n",
      "Months since last delinquent          140383   54.627136\n",
      "Number of Open Accounts                    0    0.000000\n",
      "Number of Credit Problems                  0    0.000000\n",
      "Current Credit Balance                     0    0.000000\n",
      "Maximum Open Credit                        0    0.000000\n",
      "Bankruptcies                             529    0.205849\n",
      "Tax Liens                                 23    0.008950\n"
     ]
    }
   ],
   "execution_count": 9
  },
  {
   "metadata": {
    "ExecuteTime": {
     "end_time": "2024-07-24T15:50:22.244252Z",
     "start_time": "2024-07-24T15:50:22.239297Z"
    }
   },
   "cell_type": "code",
   "source": [
    "#\n",
    "df['Credit Score'].value_counts()"
   ],
   "id": "f9604b4398fba112",
   "outputs": [
    {
     "data": {
      "text/plain": [
       "Credit Score\n",
       "747.0     5669\n",
       "740.0     5537\n",
       "741.0     5499\n",
       "746.0     5486\n",
       "742.0     5219\n",
       "          ... \n",
       "6070.0       3\n",
       "5980.0       3\n",
       "5910.0       3\n",
       "5930.0       2\n",
       "5860.0       1\n",
       "Name: count, Length: 334, dtype: int64"
      ]
     },
     "execution_count": 10,
     "metadata": {},
     "output_type": "execute_result"
    }
   ],
   "execution_count": 10
  },
  {
   "metadata": {
    "ExecuteTime": {
     "end_time": "2024-07-24T15:50:22.281726Z",
     "start_time": "2024-07-24T15:50:22.245043Z"
    }
   },
   "cell_type": "code",
   "source": "df['Credit Score'] = df['Credit Score'].apply(lambda val: (val / 10) if val > 850 else val)",
   "id": "f25ae492a3557820",
   "outputs": [],
   "execution_count": 11
  },
  {
   "metadata": {
    "ExecuteTime": {
     "end_time": "2024-07-24T15:50:22.294997Z",
     "start_time": "2024-07-24T15:50:22.283386Z"
    }
   },
   "cell_type": "code",
   "source": [
    "# Credit Score\n",
    "df['Credit Score'].min(), df['Credit Score'].max(), df['Credit Score'].mean(), df['Credit Score'].median()"
   ],
   "id": "5192db718cb4d1b3",
   "outputs": [
    {
     "data": {
      "text/plain": [
       "(585.0, 751.0, 721.203197001659, 730.0)"
      ]
     },
     "execution_count": 12,
     "metadata": {},
     "output_type": "execute_result"
    }
   ],
   "execution_count": 12
  },
  {
   "metadata": {
    "ExecuteTime": {
     "end_time": "2024-07-24T15:50:22.301930Z",
     "start_time": "2024-07-24T15:50:22.295778Z"
    }
   },
   "cell_type": "code",
   "source": [
    "# Fill credit score null values with mean\n",
    "df['Credit Score'] = df['Credit Score'].fillna(df['Credit Score'].mean())"
   ],
   "id": "fb49503535fb1cbb",
   "outputs": [],
   "execution_count": 13
  },
  {
   "metadata": {
    "ExecuteTime": {
     "end_time": "2024-07-24T15:50:22.314629Z",
     "start_time": "2024-07-24T15:50:22.302473Z"
    }
   },
   "cell_type": "code",
   "source": [
    "# Annual Income\n",
    "df['Annual Income'].min(), df['Annual Income'].max(), df['Annual Income'].mean(), df['Annual Income'].median()"
   ],
   "id": "13027b8683e23d9c",
   "outputs": [
    {
     "data": {
      "text/plain": [
       "(0.0, 8713547.0, 71952.71618674094, 61242.0)"
      ]
     },
     "execution_count": 14,
     "metadata": {},
     "output_type": "execute_result"
    }
   ],
   "execution_count": 14
  },
  {
   "metadata": {
    "ExecuteTime": {
     "end_time": "2024-07-24T15:50:22.322202Z",
     "start_time": "2024-07-24T15:50:22.315270Z"
    }
   },
   "cell_type": "code",
   "source": [
    "# Fill annual income null values with mean\n",
    "df['Annual Income'] = df['Annual Income'].fillna(df['Annual Income'].mean())"
   ],
   "id": "96f9c76671b5d45",
   "outputs": [],
   "execution_count": 15
  },
  {
   "metadata": {
    "ExecuteTime": {
     "end_time": "2024-07-24T15:50:22.337098Z",
     "start_time": "2024-07-24T15:50:22.322847Z"
    }
   },
   "cell_type": "code",
   "source": [
    "# Fill years in current job with most frequent values\n",
    "df['Years in current job'].value_counts()"
   ],
   "id": "e3df5e2b079b0dad",
   "outputs": [
    {
     "data": {
      "text/plain": [
       "Years in current job\n",
       "10+ years    78896\n",
       "2 years      23462\n",
       "< 1 year     21012\n",
       "3 years      20659\n",
       "5 years      17864\n",
       "1 year       16746\n",
       "4 years      16166\n",
       "6 years      14597\n",
       "7 years      13968\n",
       "8 years      12206\n",
       "9 years       9932\n",
       "Name: count, dtype: int64"
      ]
     },
     "execution_count": 16,
     "metadata": {},
     "output_type": "execute_result"
    }
   ],
   "execution_count": 16
  },
  {
   "metadata": {
    "ExecuteTime": {
     "end_time": "2024-07-24T15:50:22.365396Z",
     "start_time": "2024-07-24T15:50:22.337679Z"
    }
   },
   "cell_type": "code",
   "source": "df['Years in current job'] = df['Years in current job'].fillna(df['Years in current job'].mode()[0])",
   "id": "621ed8b3bc24c443",
   "outputs": [],
   "execution_count": 17
  },
  {
   "metadata": {
    "ExecuteTime": {
     "end_time": "2024-07-24T15:50:22.385506Z",
     "start_time": "2024-07-24T15:50:22.366157Z"
    }
   },
   "cell_type": "code",
   "source": [
    "# Remove months since last delinquent because it has 54% missing values\n",
    "df = df.drop('Months since last delinquent', axis=1)"
   ],
   "id": "1f457bde694e846b",
   "outputs": [],
   "execution_count": 18
  },
  {
   "metadata": {
    "ExecuteTime": {
     "end_time": "2024-07-24T15:50:22.392954Z",
     "start_time": "2024-07-24T15:50:22.386222Z"
    }
   },
   "cell_type": "code",
   "source": [
    "## Bankruptcies\n",
    "df['Bankruptcies'].value_counts(), df['Bankruptcies'].mean(), df['Bankruptcies'].median(), df['Bankruptcies'].mode()"
   ],
   "id": "8f497c597370b807",
   "outputs": [
    {
     "data": {
      "text/plain": [
       "(Bankruptcies\n",
       " 0.0    229661\n",
       " 1.0     25605\n",
       " 2.0       957\n",
       " 3.0       180\n",
       " 4.0        33\n",
       " 5.0        15\n",
       " 6.0         3\n",
       " 7.0         1\n",
       " Name: count, dtype: int64,\n",
       " 0.11031564991908911,\n",
       " 0.0,\n",
       " 0    0.0\n",
       " Name: Bankruptcies, dtype: float64)"
      ]
     },
     "execution_count": 19,
     "metadata": {},
     "output_type": "execute_result"
    }
   ],
   "execution_count": 19
  },
  {
   "metadata": {
    "ExecuteTime": {
     "end_time": "2024-07-24T15:50:22.401891Z",
     "start_time": "2024-07-24T15:50:22.393640Z"
    }
   },
   "cell_type": "code",
   "source": [
    "## fill bankruptcies with mode\n",
    "df['Bankruptcies'] = df['Bankruptcies'].fillna(df['Bankruptcies'].mode()[0])"
   ],
   "id": "b72dd8c981927539",
   "outputs": [],
   "execution_count": 20
  },
  {
   "metadata": {
    "ExecuteTime": {
     "end_time": "2024-07-24T15:50:22.415175Z",
     "start_time": "2024-07-24T15:50:22.402589Z"
    }
   },
   "cell_type": "code",
   "source": [
    "## Tax Liens\n",
    "df['Tax Liens'].value_counts(), df['Tax Liens'].mean(), df['Tax Liens'].median(), df['Tax Liens'].mode()"
   ],
   "id": "ba8492f352090874",
   "outputs": [
    {
     "data": {
      "text/plain": [
       "(Tax Liens\n",
       " 0.0     252322\n",
       " 1.0       3276\n",
       " 2.0        872\n",
       " 3.0        247\n",
       " 4.0        124\n",
       " 5.0         61\n",
       " 6.0         30\n",
       " 9.0         10\n",
       " 8.0          8\n",
       " 7.0          6\n",
       " 10.0         3\n",
       " 11.0         2\n",
       " Name: count, dtype: int64,\n",
       " 0.027202571596467946,\n",
       " 0.0,\n",
       " 0    0.0\n",
       " Name: Tax Liens, dtype: float64)"
      ]
     },
     "execution_count": 21,
     "metadata": {},
     "output_type": "execute_result"
    }
   ],
   "execution_count": 21
  },
  {
   "metadata": {
    "ExecuteTime": {
     "end_time": "2024-07-24T15:50:22.423548Z",
     "start_time": "2024-07-24T15:50:22.415791Z"
    }
   },
   "cell_type": "code",
   "source": [
    "## fill tax liens with mode\n",
    "df['Tax Liens'] = df['Tax Liens'].fillna(df['Tax Liens'].mode()[0])\n"
   ],
   "id": "448338407970984c",
   "outputs": [],
   "execution_count": 22
  },
  {
   "metadata": {
    "ExecuteTime": {
     "end_time": "2024-07-24T15:50:22.472428Z",
     "start_time": "2024-07-24T15:50:22.424312Z"
    }
   },
   "cell_type": "code",
   "source": [
    "# Check for null values\n",
    "df.isnull().sum()"
   ],
   "id": "d5d6c97842ff87e0",
   "outputs": [
    {
     "data": {
      "text/plain": [
       "Loan ID                      0\n",
       "Customer ID                  0\n",
       "Loan Status                  0\n",
       "Current Loan Amount          0\n",
       "Term                         0\n",
       "Credit Score                 0\n",
       "Years in current job         0\n",
       "Home Ownership               0\n",
       "Annual Income                0\n",
       "Purpose                      0\n",
       "Monthly Debt                 0\n",
       "Years of Credit History      0\n",
       "Number of Open Accounts      0\n",
       "Number of Credit Problems    0\n",
       "Current Credit Balance       0\n",
       "Maximum Open Credit          0\n",
       "Bankruptcies                 0\n",
       "Tax Liens                    0\n",
       "dtype: int64"
      ]
     },
     "execution_count": 23,
     "metadata": {},
     "output_type": "execute_result"
    }
   ],
   "execution_count": 23
  },
  {
   "metadata": {
    "ExecuteTime": {
     "end_time": "2024-07-24T15:50:22.509098Z",
     "start_time": "2024-07-24T15:50:22.473006Z"
    }
   },
   "cell_type": "code",
   "source": [
    "# Drop the ID columns\n",
    "df.drop('Loan ID', axis=1, inplace=True)\n",
    "df.drop('Customer ID', axis=1, inplace=True)\n",
    "\n"
   ],
   "id": "681c30956a0f8681",
   "outputs": [],
   "execution_count": 24
  },
  {
   "metadata": {
    "ExecuteTime": {
     "end_time": "2024-07-24T15:50:22.544168Z",
     "start_time": "2024-07-24T15:50:22.509753Z"
    }
   },
   "cell_type": "code",
   "source": "df.info()",
   "id": "13c1152c2e4c52c2",
   "outputs": [
    {
     "name": "stdout",
     "output_type": "stream",
     "text": [
      "<class 'pandas.core.frame.DataFrame'>\n",
      "RangeIndex: 256984 entries, 0 to 256983\n",
      "Data columns (total 16 columns):\n",
      " #   Column                     Non-Null Count   Dtype  \n",
      "---  ------                     --------------   -----  \n",
      " 0   Loan Status                256984 non-null  object \n",
      " 1   Current Loan Amount        256984 non-null  int64  \n",
      " 2   Term                       256984 non-null  object \n",
      " 3   Credit Score               256984 non-null  float64\n",
      " 4   Years in current job       256984 non-null  object \n",
      " 5   Home Ownership             256984 non-null  object \n",
      " 6   Annual Income              256984 non-null  float64\n",
      " 7   Purpose                    256984 non-null  object \n",
      " 8   Monthly Debt               256984 non-null  object \n",
      " 9   Years of Credit History    256984 non-null  float64\n",
      " 10  Number of Open Accounts    256984 non-null  int64  \n",
      " 11  Number of Credit Problems  256984 non-null  int64  \n",
      " 12  Current Credit Balance     256984 non-null  int64  \n",
      " 13  Maximum Open Credit        256984 non-null  object \n",
      " 14  Bankruptcies               256984 non-null  float64\n",
      " 15  Tax Liens                  256984 non-null  float64\n",
      "dtypes: float64(5), int64(4), object(7)\n",
      "memory usage: 31.4+ MB\n"
     ]
    }
   ],
   "execution_count": 25
  },
  {
   "metadata": {},
   "cell_type": "markdown",
   "source": [
    "## Fill dummy values for categorical columns\n",
    "One-hot encoding is a process by which categorical variables are converted into a form that could be provided to ML algorithms to do a better job in prediction. The categorical value represents the numerical value of the entry in the dataset."
   ],
   "id": "2e1c6b0ff2a0f9b0"
  },
  {
   "metadata": {
    "ExecuteTime": {
     "end_time": "2024-07-24T15:50:22.549037Z",
     "start_time": "2024-07-24T15:50:22.544758Z"
    }
   },
   "cell_type": "code",
   "source": "# df = pd.get_dummies(df, drop_first=True, columns=['Loan Status', 'Term', 'Years in current job', 'Home Ownership', 'Purpose', 'Monthly Debt'])",
   "id": "9953962b8eb5fbdf",
   "outputs": [],
   "execution_count": 26
  },
  {
   "metadata": {
    "ExecuteTime": {
     "end_time": "2024-07-24T15:50:22.559840Z",
     "start_time": "2024-07-24T15:50:22.549811Z"
    }
   },
   "cell_type": "code",
   "source": "df.shape",
   "id": "ae9ba317e2e6e238",
   "outputs": [
    {
     "data": {
      "text/plain": [
       "(256984, 16)"
      ]
     },
     "execution_count": 27,
     "metadata": {},
     "output_type": "execute_result"
    }
   ],
   "execution_count": 27
  },
  {
   "metadata": {
    "ExecuteTime": {
     "end_time": "2024-07-24T15:50:22.595160Z",
     "start_time": "2024-07-24T15:50:22.560742Z"
    }
   },
   "cell_type": "code",
   "source": [
    "# df.info()\n",
    "# df.isnull().sum()\n",
    "df['Maximum Open Credit'].value_counts()"
   ],
   "id": "627fc3562d110530",
   "outputs": [
    {
     "data": {
      "text/plain": [
       "Maximum Open Credit\n",
       "0        1597\n",
       "0         234\n",
       "10180      19\n",
       "15662      19\n",
       "14770      19\n",
       "         ... \n",
       "17558       1\n",
       "42753       1\n",
       "29185       1\n",
       "36222       1\n",
       "62371       1\n",
       "Name: count, Length: 87188, dtype: int64"
      ]
     },
     "execution_count": 28,
     "metadata": {},
     "output_type": "execute_result"
    }
   ],
   "execution_count": 28
  },
  {
   "metadata": {
    "ExecuteTime": {
     "end_time": "2024-07-24T15:50:22.832384Z",
     "start_time": "2024-07-24T15:50:22.595901Z"
    }
   },
   "cell_type": "code",
   "source": [
    "# second way to fill dummy values\n",
    "label = LabelEncoder()\n",
    "df['Loan Status'] = label.fit_transform(df['Loan Status'])\n",
    "df['Term'] = label.fit_transform(df['Term'])\n",
    "df['Years in current job'] = label.fit_transform(df['Years in current job'])\n",
    "df['Home Ownership'] = label.fit_transform(df['Home Ownership'])\n",
    "df['Purpose'] = label.fit_transform(df['Purpose'])\n",
    "df['Monthly Debt'] = label.fit_transform(df['Monthly Debt'])\n",
    "# df['Maximum Open Credit'] = label.fit_transform(df['Maximum Open Credit'])\n",
    "df_orf = df\n",
    "df.drop('Maximum Open Credit', axis=1, inplace=True)\n"
   ],
   "id": "30ea81e6227ca663",
   "outputs": [],
   "execution_count": 29
  },
  {
   "metadata": {
    "ExecuteTime": {
     "end_time": "2024-07-24T15:50:22.836872Z",
     "start_time": "2024-07-24T15:50:22.834339Z"
    }
   },
   "cell_type": "code",
   "source": "df.shape",
   "id": "3794c52f9d698b3e",
   "outputs": [
    {
     "data": {
      "text/plain": [
       "(256984, 15)"
      ]
     },
     "execution_count": 30,
     "metadata": {},
     "output_type": "execute_result"
    }
   ],
   "execution_count": 30
  },
  {
   "metadata": {
    "ExecuteTime": {
     "end_time": "2024-07-24T15:50:22.861519Z",
     "start_time": "2024-07-24T15:50:22.837415Z"
    }
   },
   "cell_type": "code",
   "source": "df.info()",
   "id": "e9589d54b4430b97",
   "outputs": [
    {
     "name": "stdout",
     "output_type": "stream",
     "text": [
      "<class 'pandas.core.frame.DataFrame'>\n",
      "RangeIndex: 256984 entries, 0 to 256983\n",
      "Data columns (total 15 columns):\n",
      " #   Column                     Non-Null Count   Dtype  \n",
      "---  ------                     --------------   -----  \n",
      " 0   Loan Status                256984 non-null  int64  \n",
      " 1   Current Loan Amount        256984 non-null  int64  \n",
      " 2   Term                       256984 non-null  int64  \n",
      " 3   Credit Score               256984 non-null  float64\n",
      " 4   Years in current job       256984 non-null  int64  \n",
      " 5   Home Ownership             256984 non-null  int64  \n",
      " 6   Annual Income              256984 non-null  float64\n",
      " 7   Purpose                    256984 non-null  int64  \n",
      " 8   Monthly Debt               256984 non-null  int64  \n",
      " 9   Years of Credit History    256984 non-null  float64\n",
      " 10  Number of Open Accounts    256984 non-null  int64  \n",
      " 11  Number of Credit Problems  256984 non-null  int64  \n",
      " 12  Current Credit Balance     256984 non-null  int64  \n",
      " 13  Bankruptcies               256984 non-null  float64\n",
      " 14  Tax Liens                  256984 non-null  float64\n",
      "dtypes: float64(5), int64(10)\n",
      "memory usage: 29.4 MB\n"
     ]
    }
   ],
   "execution_count": 31
  },
  {
   "metadata": {
    "ExecuteTime": {
     "end_time": "2024-07-24T15:50:22.863560Z",
     "start_time": "2024-07-24T15:50:22.862184Z"
    }
   },
   "cell_type": "code",
   "source": "",
   "id": "3587b6d871d140d0",
   "outputs": [],
   "execution_count": 31
  },
  {
   "metadata": {},
   "cell_type": "markdown",
   "source": "## Split the data into training and testing",
   "id": "e39f37b105e90e1b"
  },
  {
   "metadata": {
    "ExecuteTime": {
     "end_time": "2024-07-24T15:50:22.870983Z",
     "start_time": "2024-07-24T15:50:22.864040Z"
    }
   },
   "cell_type": "code",
   "source": [
    "x = df.drop(['Loan Status'], axis=1)\n",
    "y = df['Loan Status']\n",
    "\n"
   ],
   "id": "a7ad5483311d772c",
   "outputs": [],
   "execution_count": 32
  },
  {
   "metadata": {
    "ExecuteTime": {
     "end_time": "2024-07-24T15:50:22.872551Z",
     "start_time": "2024-07-24T15:50:22.871495Z"
    }
   },
   "cell_type": "code",
   "source": "",
   "id": "bfaace19bb46e0ca",
   "outputs": [],
   "execution_count": 32
  },
  {
   "metadata": {},
   "cell_type": "markdown",
   "source": "## Train the all model",
   "id": "16dce1fb754463e"
  },
  {
   "metadata": {
    "ExecuteTime": {
     "end_time": "2024-07-24T15:51:13.546826Z",
     "start_time": "2024-07-24T15:50:22.872961Z"
    }
   },
   "cell_type": "code",
   "source": "algo_test.model_fit_pred(x,y)",
   "id": "7b668981cdb2983",
   "outputs": [
    {
     "name": "stdout",
     "output_type": "stream",
     "text": [
      "GaussianNB()\n",
      "Accuracy: 0.4508405105323233\n",
      "Confusion Matrix:\n",
      " [[24304    18]\n",
      " [42320 10454]]\n",
      "Classification Report:\n",
      "               precision    recall  f1-score   support\n",
      "\n",
      "           0       0.36      1.00      0.53     24322\n",
      "           1       1.00      0.20      0.33     52774\n",
      "\n",
      "    accuracy                           0.45     77096\n",
      "   macro avg       0.68      0.60      0.43     77096\n",
      "weighted avg       0.80      0.45      0.39     77096\n",
      "\n",
      "----------------------------------------\n",
      "BernoulliNB()\n",
      "Accuracy: 0.685223617308291\n",
      "Confusion Matrix:\n",
      " [[  397 23925]\n",
      " [  343 52431]]\n",
      "Classification Report:\n",
      "               precision    recall  f1-score   support\n",
      "\n",
      "           0       0.54      0.02      0.03     24322\n",
      "           1       0.69      0.99      0.81     52774\n",
      "\n",
      "    accuracy                           0.69     77096\n",
      "   macro avg       0.61      0.50      0.42     77096\n",
      "weighted avg       0.64      0.69      0.57     77096\n",
      "\n",
      "----------------------------------------\n",
      "LogisticRegression()\n",
      "Accuracy: 0.6844583376569472\n",
      "Confusion Matrix:\n",
      " [[    6 24316]\n",
      " [   11 52763]]\n",
      "Classification Report:\n",
      "               precision    recall  f1-score   support\n",
      "\n",
      "           0       0.35      0.00      0.00     24322\n",
      "           1       0.68      1.00      0.81     52774\n",
      "\n",
      "    accuracy                           0.68     77096\n",
      "   macro avg       0.52      0.50      0.41     77096\n",
      "weighted avg       0.58      0.68      0.56     77096\n",
      "\n",
      "----------------------------------------\n",
      "KNeighborsClassifier()\n",
      "Accuracy: 0.6706962747743074\n",
      "Confusion Matrix:\n",
      " [[ 9720 14602]\n",
      " [10786 41988]]\n",
      "Classification Report:\n",
      "               precision    recall  f1-score   support\n",
      "\n",
      "           0       0.47      0.40      0.43     24322\n",
      "           1       0.74      0.80      0.77     52774\n",
      "\n",
      "    accuracy                           0.67     77096\n",
      "   macro avg       0.61      0.60      0.60     77096\n",
      "weighted avg       0.66      0.67      0.66     77096\n",
      "\n",
      "----------------------------------------\n",
      "DecisionTreeClassifier()\n",
      "Accuracy: 0.7325931306423161\n",
      "Confusion Matrix:\n",
      " [[16093  8229]\n",
      " [12387 40387]]\n",
      "Classification Report:\n",
      "               precision    recall  f1-score   support\n",
      "\n",
      "           0       0.57      0.66      0.61     24322\n",
      "           1       0.83      0.77      0.80     52774\n",
      "\n",
      "    accuracy                           0.73     77096\n",
      "   macro avg       0.70      0.71      0.70     77096\n",
      "weighted avg       0.75      0.73      0.74     77096\n",
      "\n",
      "----------------------------------------\n",
      "RandomForestClassifier()\n",
      "Accuracy: 0.8145558783853897\n",
      "Confusion Matrix:\n",
      " [[14777  9545]\n",
      " [ 4752 48022]]\n",
      "Classification Report:\n",
      "               precision    recall  f1-score   support\n",
      "\n",
      "           0       0.76      0.61      0.67     24322\n",
      "           1       0.83      0.91      0.87     52774\n",
      "\n",
      "    accuracy                           0.81     77096\n",
      "   macro avg       0.80      0.76      0.77     77096\n",
      "weighted avg       0.81      0.81      0.81     77096\n",
      "\n",
      "----------------------------------------\n",
      "GradientBoostingClassifier()\n",
      "Accuracy: 0.7164444329148075\n",
      "Confusion Matrix:\n",
      " [[ 7621 16701]\n",
      " [ 5160 47614]]\n",
      "Classification Report:\n",
      "               precision    recall  f1-score   support\n",
      "\n",
      "           0       0.60      0.31      0.41     24322\n",
      "           1       0.74      0.90      0.81     52774\n",
      "\n",
      "    accuracy                           0.72     77096\n",
      "   macro avg       0.67      0.61      0.61     77096\n",
      "weighted avg       0.69      0.72      0.69     77096\n",
      "\n",
      "----------------------------------------\n",
      "Best Model: RandomForestClassifier\n"
     ]
    },
    {
     "data": {
      "text/plain": [
       "RandomForestClassifier()"
      ],
      "text/html": [
       "<style>#sk-container-id-1 {color: black;background-color: white;}#sk-container-id-1 pre{padding: 0;}#sk-container-id-1 div.sk-toggleable {background-color: white;}#sk-container-id-1 label.sk-toggleable__label {cursor: pointer;display: block;width: 100%;margin-bottom: 0;padding: 0.3em;box-sizing: border-box;text-align: center;}#sk-container-id-1 label.sk-toggleable__label-arrow:before {content: \"▸\";float: left;margin-right: 0.25em;color: #696969;}#sk-container-id-1 label.sk-toggleable__label-arrow:hover:before {color: black;}#sk-container-id-1 div.sk-estimator:hover label.sk-toggleable__label-arrow:before {color: black;}#sk-container-id-1 div.sk-toggleable__content {max-height: 0;max-width: 0;overflow: hidden;text-align: left;background-color: #f0f8ff;}#sk-container-id-1 div.sk-toggleable__content pre {margin: 0.2em;color: black;border-radius: 0.25em;background-color: #f0f8ff;}#sk-container-id-1 input.sk-toggleable__control:checked~div.sk-toggleable__content {max-height: 200px;max-width: 100%;overflow: auto;}#sk-container-id-1 input.sk-toggleable__control:checked~label.sk-toggleable__label-arrow:before {content: \"▾\";}#sk-container-id-1 div.sk-estimator input.sk-toggleable__control:checked~label.sk-toggleable__label {background-color: #d4ebff;}#sk-container-id-1 div.sk-label input.sk-toggleable__control:checked~label.sk-toggleable__label {background-color: #d4ebff;}#sk-container-id-1 input.sk-hidden--visually {border: 0;clip: rect(1px 1px 1px 1px);clip: rect(1px, 1px, 1px, 1px);height: 1px;margin: -1px;overflow: hidden;padding: 0;position: absolute;width: 1px;}#sk-container-id-1 div.sk-estimator {font-family: monospace;background-color: #f0f8ff;border: 1px dotted black;border-radius: 0.25em;box-sizing: border-box;margin-bottom: 0.5em;}#sk-container-id-1 div.sk-estimator:hover {background-color: #d4ebff;}#sk-container-id-1 div.sk-parallel-item::after {content: \"\";width: 100%;border-bottom: 1px solid gray;flex-grow: 1;}#sk-container-id-1 div.sk-label:hover label.sk-toggleable__label {background-color: #d4ebff;}#sk-container-id-1 div.sk-serial::before {content: \"\";position: absolute;border-left: 1px solid gray;box-sizing: border-box;top: 0;bottom: 0;left: 50%;z-index: 0;}#sk-container-id-1 div.sk-serial {display: flex;flex-direction: column;align-items: center;background-color: white;padding-right: 0.2em;padding-left: 0.2em;position: relative;}#sk-container-id-1 div.sk-item {position: relative;z-index: 1;}#sk-container-id-1 div.sk-parallel {display: flex;align-items: stretch;justify-content: center;background-color: white;position: relative;}#sk-container-id-1 div.sk-item::before, #sk-container-id-1 div.sk-parallel-item::before {content: \"\";position: absolute;border-left: 1px solid gray;box-sizing: border-box;top: 0;bottom: 0;left: 50%;z-index: -1;}#sk-container-id-1 div.sk-parallel-item {display: flex;flex-direction: column;z-index: 1;position: relative;background-color: white;}#sk-container-id-1 div.sk-parallel-item:first-child::after {align-self: flex-end;width: 50%;}#sk-container-id-1 div.sk-parallel-item:last-child::after {align-self: flex-start;width: 50%;}#sk-container-id-1 div.sk-parallel-item:only-child::after {width: 0;}#sk-container-id-1 div.sk-dashed-wrapped {border: 1px dashed gray;margin: 0 0.4em 0.5em 0.4em;box-sizing: border-box;padding-bottom: 0.4em;background-color: white;}#sk-container-id-1 div.sk-label label {font-family: monospace;font-weight: bold;display: inline-block;line-height: 1.2em;}#sk-container-id-1 div.sk-label-container {text-align: center;}#sk-container-id-1 div.sk-container {/* jupyter's `normalize.less` sets `[hidden] { display: none; }` but bootstrap.min.css set `[hidden] { display: none !important; }` so we also need the `!important` here to be able to override the default hidden behavior on the sphinx rendered scikit-learn.org. See: https://github.com/scikit-learn/scikit-learn/issues/21755 */display: inline-block !important;position: relative;}#sk-container-id-1 div.sk-text-repr-fallback {display: none;}</style><div id=\"sk-container-id-1\" class=\"sk-top-container\"><div class=\"sk-text-repr-fallback\"><pre>RandomForestClassifier()</pre><b>In a Jupyter environment, please rerun this cell to show the HTML representation or trust the notebook. <br />On GitHub, the HTML representation is unable to render, please try loading this page with nbviewer.org.</b></div><div class=\"sk-container\" hidden><div class=\"sk-item\"><div class=\"sk-estimator sk-toggleable\"><input class=\"sk-toggleable__control sk-hidden--visually\" id=\"sk-estimator-id-1\" type=\"checkbox\" checked><label for=\"sk-estimator-id-1\" class=\"sk-toggleable__label sk-toggleable__label-arrow\">RandomForestClassifier</label><div class=\"sk-toggleable__content\"><pre>RandomForestClassifier()</pre></div></div></div></div></div>"
      ]
     },
     "execution_count": 33,
     "metadata": {},
     "output_type": "execute_result"
    }
   ],
   "execution_count": 33
  },
  {
   "metadata": {},
   "cell_type": "markdown",
   "source": "## Importance's of the features\n",
   "id": "c1df851ce1046b54"
  },
  {
   "metadata": {
    "ExecuteTime": {
     "end_time": "2024-07-24T15:51:39.488051Z",
     "start_time": "2024-07-24T15:51:13.547370Z"
    }
   },
   "cell_type": "code",
   "source": [
    "x_train, x_test, y_train, y_test = train_test_split(x, y, test_size=0.2, random_state=42)\n",
    "# x_train.shape, x_test.shape, y_train.shape, y_test.shape\n",
    "\n",
    "model = RandomForestClassifier(n_estimators=100, random_state=42)\n",
    "model.fit(x_train, y_train)"
   ],
   "id": "adbd5ee0d9d892f",
   "outputs": [
    {
     "data": {
      "text/plain": [
       "RandomForestClassifier(random_state=42)"
      ],
      "text/html": [
       "<style>#sk-container-id-2 {color: black;background-color: white;}#sk-container-id-2 pre{padding: 0;}#sk-container-id-2 div.sk-toggleable {background-color: white;}#sk-container-id-2 label.sk-toggleable__label {cursor: pointer;display: block;width: 100%;margin-bottom: 0;padding: 0.3em;box-sizing: border-box;text-align: center;}#sk-container-id-2 label.sk-toggleable__label-arrow:before {content: \"▸\";float: left;margin-right: 0.25em;color: #696969;}#sk-container-id-2 label.sk-toggleable__label-arrow:hover:before {color: black;}#sk-container-id-2 div.sk-estimator:hover label.sk-toggleable__label-arrow:before {color: black;}#sk-container-id-2 div.sk-toggleable__content {max-height: 0;max-width: 0;overflow: hidden;text-align: left;background-color: #f0f8ff;}#sk-container-id-2 div.sk-toggleable__content pre {margin: 0.2em;color: black;border-radius: 0.25em;background-color: #f0f8ff;}#sk-container-id-2 input.sk-toggleable__control:checked~div.sk-toggleable__content {max-height: 200px;max-width: 100%;overflow: auto;}#sk-container-id-2 input.sk-toggleable__control:checked~label.sk-toggleable__label-arrow:before {content: \"▾\";}#sk-container-id-2 div.sk-estimator input.sk-toggleable__control:checked~label.sk-toggleable__label {background-color: #d4ebff;}#sk-container-id-2 div.sk-label input.sk-toggleable__control:checked~label.sk-toggleable__label {background-color: #d4ebff;}#sk-container-id-2 input.sk-hidden--visually {border: 0;clip: rect(1px 1px 1px 1px);clip: rect(1px, 1px, 1px, 1px);height: 1px;margin: -1px;overflow: hidden;padding: 0;position: absolute;width: 1px;}#sk-container-id-2 div.sk-estimator {font-family: monospace;background-color: #f0f8ff;border: 1px dotted black;border-radius: 0.25em;box-sizing: border-box;margin-bottom: 0.5em;}#sk-container-id-2 div.sk-estimator:hover {background-color: #d4ebff;}#sk-container-id-2 div.sk-parallel-item::after {content: \"\";width: 100%;border-bottom: 1px solid gray;flex-grow: 1;}#sk-container-id-2 div.sk-label:hover label.sk-toggleable__label {background-color: #d4ebff;}#sk-container-id-2 div.sk-serial::before {content: \"\";position: absolute;border-left: 1px solid gray;box-sizing: border-box;top: 0;bottom: 0;left: 50%;z-index: 0;}#sk-container-id-2 div.sk-serial {display: flex;flex-direction: column;align-items: center;background-color: white;padding-right: 0.2em;padding-left: 0.2em;position: relative;}#sk-container-id-2 div.sk-item {position: relative;z-index: 1;}#sk-container-id-2 div.sk-parallel {display: flex;align-items: stretch;justify-content: center;background-color: white;position: relative;}#sk-container-id-2 div.sk-item::before, #sk-container-id-2 div.sk-parallel-item::before {content: \"\";position: absolute;border-left: 1px solid gray;box-sizing: border-box;top: 0;bottom: 0;left: 50%;z-index: -1;}#sk-container-id-2 div.sk-parallel-item {display: flex;flex-direction: column;z-index: 1;position: relative;background-color: white;}#sk-container-id-2 div.sk-parallel-item:first-child::after {align-self: flex-end;width: 50%;}#sk-container-id-2 div.sk-parallel-item:last-child::after {align-self: flex-start;width: 50%;}#sk-container-id-2 div.sk-parallel-item:only-child::after {width: 0;}#sk-container-id-2 div.sk-dashed-wrapped {border: 1px dashed gray;margin: 0 0.4em 0.5em 0.4em;box-sizing: border-box;padding-bottom: 0.4em;background-color: white;}#sk-container-id-2 div.sk-label label {font-family: monospace;font-weight: bold;display: inline-block;line-height: 1.2em;}#sk-container-id-2 div.sk-label-container {text-align: center;}#sk-container-id-2 div.sk-container {/* jupyter's `normalize.less` sets `[hidden] { display: none; }` but bootstrap.min.css set `[hidden] { display: none !important; }` so we also need the `!important` here to be able to override the default hidden behavior on the sphinx rendered scikit-learn.org. See: https://github.com/scikit-learn/scikit-learn/issues/21755 */display: inline-block !important;position: relative;}#sk-container-id-2 div.sk-text-repr-fallback {display: none;}</style><div id=\"sk-container-id-2\" class=\"sk-top-container\"><div class=\"sk-text-repr-fallback\"><pre>RandomForestClassifier(random_state=42)</pre><b>In a Jupyter environment, please rerun this cell to show the HTML representation or trust the notebook. <br />On GitHub, the HTML representation is unable to render, please try loading this page with nbviewer.org.</b></div><div class=\"sk-container\" hidden><div class=\"sk-item\"><div class=\"sk-estimator sk-toggleable\"><input class=\"sk-toggleable__control sk-hidden--visually\" id=\"sk-estimator-id-2\" type=\"checkbox\" checked><label for=\"sk-estimator-id-2\" class=\"sk-toggleable__label sk-toggleable__label-arrow\">RandomForestClassifier</label><div class=\"sk-toggleable__content\"><pre>RandomForestClassifier(random_state=42)</pre></div></div></div></div></div>"
      ]
     },
     "execution_count": 34,
     "metadata": {},
     "output_type": "execute_result"
    }
   ],
   "execution_count": 34
  },
  {
   "metadata": {
    "ExecuteTime": {
     "end_time": "2024-07-24T15:51:39.490498Z",
     "start_time": "2024-07-24T15:51:39.488671Z"
    }
   },
   "cell_type": "code",
   "source": "## Evaluate the model",
   "id": "f4079dde44f9ddfc",
   "outputs": [],
   "execution_count": 35
  },
  {
   "metadata": {
    "ExecuteTime": {
     "end_time": "2024-07-24T15:51:40.505591Z",
     "start_time": "2024-07-24T15:51:39.490974Z"
    }
   },
   "cell_type": "code",
   "source": [
    "y_pred = model.predict(x_test)\n",
    "print(f\"Random Forest Classifier Model\")\n",
    "print(\"Y Predictions: \", y_pred)\n",
    "print(f\"Accuracy Score: {accuracy_score(y_test, y_pred)}\")\n",
    "print(f\"Confusion Matrix: {confusion_matrix(y_test, y_pred)}\")\n",
    "print(f\"Classification Report: {classification_report(y_test, y_pred)}\")"
   ],
   "id": "bdd0cb7c577fa2f",
   "outputs": [
    {
     "name": "stdout",
     "output_type": "stream",
     "text": [
      "Random Forest Classifier Model\n",
      "Y Predictions:  [1 0 1 ... 1 0 1]\n",
      "Accuracy Score: 0.8301068155728933\n",
      "Confusion Matrix: [[10407  5754]\n",
      " [ 2978 32258]]\n",
      "Classification Report:               precision    recall  f1-score   support\n",
      "\n",
      "           0       0.78      0.64      0.70     16161\n",
      "           1       0.85      0.92      0.88     35236\n",
      "\n",
      "    accuracy                           0.83     51397\n",
      "   macro avg       0.81      0.78      0.79     51397\n",
      "weighted avg       0.83      0.83      0.83     51397\n",
      "\n"
     ]
    }
   ],
   "execution_count": 36
  },
  {
   "metadata": {
    "ExecuteTime": {
     "end_time": "2024-07-24T15:51:40.508289Z",
     "start_time": "2024-07-24T15:51:40.506390Z"
    }
   },
   "cell_type": "code",
   "source": "## Ask the client questions",
   "id": "172b51e89a1d37a",
   "outputs": [],
   "execution_count": 37
  },
  {
   "metadata": {
    "ExecuteTime": {
     "end_time": "2024-07-24T15:51:40.567833Z",
     "start_time": "2024-07-24T15:51:40.508857Z"
    }
   },
   "cell_type": "code",
   "source": [
    "importance = model.feature_importances_\n",
    "features = x.columns\n",
    "importance_df = pd.DataFrame({'Features': features, 'Importance': importance})\n",
    "importance_df = importance_df.sort_values(by='Importance', ascending=False)\n",
    "importance_df"
   ],
   "id": "fad82f504733cf2d",
   "outputs": [
    {
     "data": {
      "text/plain": [
       "                     Features  Importance\n",
       "0         Current Loan Amount    0.201071\n",
       "7                Monthly Debt    0.127159\n",
       "11     Current Credit Balance    0.127056\n",
       "8     Years of Credit History    0.116940\n",
       "2                Credit Score    0.108565\n",
       "5               Annual Income    0.100297\n",
       "9     Number of Open Accounts    0.078156\n",
       "3        Years in current job    0.056009\n",
       "6                     Purpose    0.025187\n",
       "1                        Term    0.024115\n",
       "4              Home Ownership    0.014974\n",
       "10  Number of Credit Problems    0.009896\n",
       "12               Bankruptcies    0.007355\n",
       "13                  Tax Liens    0.003220"
      ],
      "text/html": [
       "<div>\n",
       "<style scoped>\n",
       "    .dataframe tbody tr th:only-of-type {\n",
       "        vertical-align: middle;\n",
       "    }\n",
       "\n",
       "    .dataframe tbody tr th {\n",
       "        vertical-align: top;\n",
       "    }\n",
       "\n",
       "    .dataframe thead th {\n",
       "        text-align: right;\n",
       "    }\n",
       "</style>\n",
       "<table border=\"1\" class=\"dataframe\">\n",
       "  <thead>\n",
       "    <tr style=\"text-align: right;\">\n",
       "      <th></th>\n",
       "      <th>Features</th>\n",
       "      <th>Importance</th>\n",
       "    </tr>\n",
       "  </thead>\n",
       "  <tbody>\n",
       "    <tr>\n",
       "      <th>0</th>\n",
       "      <td>Current Loan Amount</td>\n",
       "      <td>0.201071</td>\n",
       "    </tr>\n",
       "    <tr>\n",
       "      <th>7</th>\n",
       "      <td>Monthly Debt</td>\n",
       "      <td>0.127159</td>\n",
       "    </tr>\n",
       "    <tr>\n",
       "      <th>11</th>\n",
       "      <td>Current Credit Balance</td>\n",
       "      <td>0.127056</td>\n",
       "    </tr>\n",
       "    <tr>\n",
       "      <th>8</th>\n",
       "      <td>Years of Credit History</td>\n",
       "      <td>0.116940</td>\n",
       "    </tr>\n",
       "    <tr>\n",
       "      <th>2</th>\n",
       "      <td>Credit Score</td>\n",
       "      <td>0.108565</td>\n",
       "    </tr>\n",
       "    <tr>\n",
       "      <th>5</th>\n",
       "      <td>Annual Income</td>\n",
       "      <td>0.100297</td>\n",
       "    </tr>\n",
       "    <tr>\n",
       "      <th>9</th>\n",
       "      <td>Number of Open Accounts</td>\n",
       "      <td>0.078156</td>\n",
       "    </tr>\n",
       "    <tr>\n",
       "      <th>3</th>\n",
       "      <td>Years in current job</td>\n",
       "      <td>0.056009</td>\n",
       "    </tr>\n",
       "    <tr>\n",
       "      <th>6</th>\n",
       "      <td>Purpose</td>\n",
       "      <td>0.025187</td>\n",
       "    </tr>\n",
       "    <tr>\n",
       "      <th>1</th>\n",
       "      <td>Term</td>\n",
       "      <td>0.024115</td>\n",
       "    </tr>\n",
       "    <tr>\n",
       "      <th>4</th>\n",
       "      <td>Home Ownership</td>\n",
       "      <td>0.014974</td>\n",
       "    </tr>\n",
       "    <tr>\n",
       "      <th>10</th>\n",
       "      <td>Number of Credit Problems</td>\n",
       "      <td>0.009896</td>\n",
       "    </tr>\n",
       "    <tr>\n",
       "      <th>12</th>\n",
       "      <td>Bankruptcies</td>\n",
       "      <td>0.007355</td>\n",
       "    </tr>\n",
       "    <tr>\n",
       "      <th>13</th>\n",
       "      <td>Tax Liens</td>\n",
       "      <td>0.003220</td>\n",
       "    </tr>\n",
       "  </tbody>\n",
       "</table>\n",
       "</div>"
      ]
     },
     "execution_count": 38,
     "metadata": {},
     "output_type": "execute_result"
    }
   ],
   "execution_count": 38
  },
  {
   "metadata": {
    "ExecuteTime": {
     "end_time": "2024-07-24T15:51:40.570436Z",
     "start_time": "2024-07-24T15:51:40.568691Z"
    }
   },
   "cell_type": "code",
   "source": "## Data Visualization",
   "id": "5f33d9662b3d6db8",
   "outputs": [],
   "execution_count": 39
  },
  {
   "metadata": {
    "ExecuteTime": {
     "end_time": "2024-07-24T15:51:40.733515Z",
     "start_time": "2024-07-24T15:51:40.571038Z"
    }
   },
   "cell_type": "code",
   "source": [
    "plt.figure(figsize=(20, 10))\n",
    "sns.barplot(x='Importance', y='Features', data=importance_df)\n",
    "plt.title('Feature Importance')\n",
    "plt.show()"
   ],
   "id": "5f733e0a666654f1",
   "outputs": [
    {
     "data": {
      "text/plain": [
       "<Figure size 2000x1000 with 1 Axes>"
      ],
      "image/png": "[encoded data removed]"
     },
     "metadata": {},
     "output_type": "display_data"
    }
   ],
   "execution_count": 40
  },
  {
   "metadata": {
    "ExecuteTime": {
     "end_time": "2024-07-24T15:51:40.927217Z",
     "start_time": "2024-07-24T15:51:40.734290Z"
    }
   },
   "cell_type": "code",
   "source": [
    "## Residuals Graph\n",
    "\n",
    "residuals = y_test - y_pred\n",
    "\n",
    "plt.figure(figsize=(10, 6))\n",
    "sns.histplot(residuals, kde=True, stat=\"density\", linewidth=0)\n",
    "plt.title('Residuals Distribution')\n",
    "plt.xlabel('Residuals')\n",
    "plt.ylabel('Density')"
   ],
   "id": "3447f2637e18c36a",
   "outputs": [
    {
     "data": {
      "text/plain": [
       "Text(0, 0.5, 'Density')"
      ]
     },
     "execution_count": 41,
     "metadata": {},
     "output_type": "execute_result"
    },
    {
     "data": {
      "text/plain": [
       "<Figure size 1000x600 with 1 Axes>"
      ],
      "image/png": "[encoded data removed]"
     },
     "metadata": {},
     "output_type": "display_data"
    }
   ],
   "execution_count": 41
  },
  {
   "metadata": {
    "ExecuteTime": {
     "end_time": "2024-07-24T15:51:40.929336Z",
     "start_time": "2024-07-24T15:51:40.927775Z"
    }
   },
   "cell_type": "code",
   "source": "#!pip install scipy",
   "id": "eabfaf8788cbc3d3",
   "outputs": [],
   "execution_count": 42
  },
  {
   "metadata": {
    "ExecuteTime": {
     "end_time": "2024-07-24T15:51:41.060794Z",
     "start_time": "2024-07-24T15:51:40.930027Z"
    }
   },
   "cell_type": "code",
   "source": [
    "## Q-Q plot\n",
    "import scipy.stats as stats\n",
    "\n",
    "plt.figure(figsize=(10, 6))\n",
    "stats.probplot(residuals, dist=\"norm\", plot=plt)\n",
    "plt.title('Q-Q Plot of Residuals')\n",
    "plt.show()"
   ],
   "id": "b1a0903dee3568c3",
   "outputs": [
    {
     "data": {
      "text/plain": [
       "<Figure size 1000x600 with 1 Axes>"
      ],
      "image/png": "[encoded data removed]"
     },
     "metadata": {},
     "output_type": "display_data"
    }
   ],
   "execution_count": 43
  },
  {
   "metadata": {},
   "cell_type": "markdown",
   "source": "## Conclusion\n",
   "id": "cbf036e132ccd63d"
  },
  {
   "metadata": {},
   "cell_type": "markdown",
   "source": "Random Forest Classifier Model has the highest accuracy score of 0.81. The most important features are Credit Score, Annual Income, Current Loan Amount, and Monthly Debt. The company should ask the client about their credit score, annual income, current loan amount, and monthly debt when they apply for a loan. These features are important in determining if the client is a good customer or not. The company should focus on these features to make better decisions when giving out loans.",
   "id": "71aa950aa4cb76d0"
  },
  {
   "metadata": {
    "ExecuteTime": {
     "end_time": "2024-07-24T15:51:41.063286Z",
     "start_time": "2024-07-24T15:51:41.061506Z"
    }
   },
   "cell_type": "code",
   "source": "",
   "id": "387cae290b3cbb9",
   "outputs": [],
   "execution_count": 43
  }
 ],
 "metadata": {
  "kernelspec": {
   "display_name": "Python 3",
   "language": "python",
   "name": "python3"
  },
  "language_info": {
   "codemirror_mode": {
    "name": "ipython",
    "version": 2
   },
   "file_extension": ".py",
   "mimetype": "text/x-python",
   "name": "python",
   "nbconvert_exporter": "python",
   "pygments_lexer": "ipython2",
   "version": "2.7.6"
  }
 },
 "nbformat": 4,
 "nbformat_minor": 5
}
