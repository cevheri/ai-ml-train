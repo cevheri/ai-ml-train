{
 "cells": [
  {
   "cell_type": "markdown",
   "id": "787e5184-a766-4d68-82fb-bcdeb2ce6de5",
   "metadata": {},
   "source": [
    "# What is a neural network?"
   ]
  },
  {
   "cell_type": "markdown",
   "id": "749c1ca1-9131-4f33-ad49-f4bff687cd82",
   "metadata": {},
   "source": [
    "##  first neural network"
   ]
  },
  {
   "cell_type": "code",
   "execution_count": null,
   "id": "b26830f2-4288-46a2-9b1a-137d7c5df4b6",
   "metadata": {},
   "outputs": [],
   "source": [
    "weight = 0.1\n",
    "\n",
    "def neural_network(input, weight):\n",
    "    prediction = input * weight\n",
    "    return prediction\n",
    "\n",
    "number_of_toes = [8.5, 9.5, 10, 9]\n",
    "input = number_of_toes[0]\n",
    "pred = neural_network(input, weight)\n",
    "print(pred)"
   ]
  },
  {
   "cell_type": "markdown",
   "id": "5c980c82-5f25-4049-99a0-dde0aaba8f93",
   "metadata": {},
   "source": [
    "## Making a prediction with multiple inputs"
   ]
  },
  {
   "cell_type": "code",
   "execution_count": null,
   "id": "855c826a-6c5a-4775-b34d-98658a8858e0",
   "metadata": {},
   "outputs": [],
   "source": [
    "weights = [0.1, 0.2, 0]\n",
    "\n",
    "\n",
    "def w_sum(a, b):\n",
    "    assert(len(a)==len(b))\n",
    "\n",
    "\n",
    "\n",
    "def neural_network(input, weights):\n",
    "    prediction = w_sum(input, weights)\n",
    "    return prediction\n",
    "\n",
    "number_of_toes = [8.5, 9.5, 10, 9]\n",
    "input = number_of_toes[0]\n",
    "pred = neural_network(input, weight)\n",
    "print(pred)"
   ]
  }
 ],
 "metadata": {
  "kernelspec": {
   "display_name": "Python 3 (ipykernel)",
   "language": "python",
   "name": "python3"
  },
  "language_info": {
   "codemirror_mode": {
    "name": "ipython",
    "version": 3
   },
   "file_extension": ".py",
   "mimetype": "text/x-python",
   "name": "python",
   "nbconvert_exporter": "python",
   "pygments_lexer": "ipython3",
   "version": "3.11.7"
  }
 },
 "nbformat": 4,
 "nbformat_minor": 5
}
