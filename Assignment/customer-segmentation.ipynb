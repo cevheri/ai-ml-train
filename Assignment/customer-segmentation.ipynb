{
 "cells": [
  {
   "cell_type": "markdown",
   "metadata": {},
   "source": "# Customer Segmentation - RFM Analysis"
  },
  {
   "cell_type": "markdown",
   "metadata": {},
   "source": "This notebook is about customer segmentation using RFM analysis. RFM stands for Recency, Frequency, and Monetary Value. It is a technique used to segment customers based on their transaction history. It is a very popular technique in retail and e-commerce businesses. The goal of RFM analysis is to segment customers into different groups based on their transaction history and then use these segments to develop targeted marketing strategies."
  },
  {
   "cell_type": "markdown",
   "metadata": {},
   "source": "## Required Libraries"
  },
  {
   "cell_type": "code",
   "metadata": {
    "ExecuteTime": {
     "end_time": "2024-07-20T22:23:16.244894Z",
     "start_time": "2024-07-20T22:23:16.137063Z"
    }
   },
   "source": [
    "import pandas as pd \n",
    "from sklearn.cluster import KMeans\n",
    "from sklearn.metrics import silhouette_score \n",
    "import seaborn as sns\n",
    "from matplotlib import pyplot as plt \n",
    "from datetime import datetime"
   ],
   "outputs": [],
   "execution_count": 1
  },
  {
   "cell_type": "markdown",
   "metadata": {},
   "source": [
    "## Load Data\n",
    "import low memory false\n"
   ]
  },
  {
   "cell_type": "code",
   "metadata": {
    "ExecuteTime": {
     "end_time": "2024-07-20T22:23:16.315512Z",
     "start_time": "2024-07-20T22:23:16.245532Z"
    }
   },
   "source": [
    "\n",
    "df = pd.read_csv(\"PBL5recommendationdata.csv\", encoding = \"latin-1\")"
   ],
   "outputs": [
    {
     "name": "stderr",
     "output_type": "stream",
     "text": [
      "/tmp/ipykernel_17247/2167015843.py:1: DtypeWarning: Columns (20,33,73,106,158) have mixed types. Specify dtype option on import or set low_memory=False.\n",
      "  df = pd.read_csv(\"PBL5recommendationdata.csv\", encoding = \"latin-1\")\n"
     ]
    }
   ],
   "execution_count": 2
  },
  {
   "cell_type": "markdown",
   "metadata": {},
   "source": "## EDA - Exploratory Data Analysis"
  },
  {
   "cell_type": "code",
   "metadata": {
    "ExecuteTime": {
     "end_time": "2024-07-20T22:23:16.326796Z",
     "start_time": "2024-07-20T22:23:16.316314Z"
    }
   },
   "source": [
    "df.head()"
   ],
   "outputs": [
    {
     "data": {
      "text/plain": [
       "   Customers.id Customers.fname Customers.lname Customers.company  \\\n",
       "0           797         Christy            Dill          Company0   \n",
       "1             3            John           Smith          Company1   \n",
       "2             3            John           Smith          Company1   \n",
       "3             4           James        Anderson               NaN   \n",
       "4             5         Abraham          Pollak          Company3   \n",
       "\n",
       "   Customers.create_date  Customers.status  Customers.mailing  \\\n",
       "0             1426018724               NaN                NaN   \n",
       "1             1386089139               NaN                NaN   \n",
       "2             1386089139               NaN                NaN   \n",
       "3             1386780263               NaN                NaN   \n",
       "4             1386861599               0.0                0.0   \n",
       "\n",
       "   Customers.reminders  Customers.tax_exempt  Customers.account_id  ...  \\\n",
       "0                  NaN                   NaN                   NaN  ...   \n",
       "1                  NaN                   NaN                   NaN  ...   \n",
       "2                  NaN                   NaN                   NaN  ...   \n",
       "3                  NaN                   NaN                   NaN  ...   \n",
       "4                  NaN                   NaN                   NaN  ...   \n",
       "\n",
       "   Products.google_shopping_label  Products.product_option    Products.size  \\\n",
       "0                             NaN                      NaN              NaN   \n",
       "1                             NaN                      NaN              NaN   \n",
       "2                             NaN                      NaN  2 x Extra large   \n",
       "3                             NaN                      NaN              NaN   \n",
       "4                             NaN                      NaN              NaN   \n",
       "\n",
       "   Products.material  Products.arm_style  Products.leg_style  \\\n",
       "0                NaN                 NaN                 NaN   \n",
       "1                NaN                 NaN                 NaN   \n",
       "2            Nitrile                 NaN                 NaN   \n",
       "3                NaN                 NaN                 NaN   \n",
       "4                NaN                 NaN                 NaN   \n",
       "\n",
       "   Products.seat_size Products.family_id Products.saved_status  \\\n",
       "0                 NaN            PF61071                   0.0   \n",
       "1                 NaN            PF02132                   NaN   \n",
       "2                 NaN            PF00342                   0.0   \n",
       "3                 NaN            PF04970                   NaN   \n",
       "4                 NaN            PF03045                   NaN   \n",
       "\n",
       "  Products.freight_cost  \n",
       "0                   NaN  \n",
       "1                   NaN  \n",
       "2                   NaN  \n",
       "3                   NaN  \n",
       "4                   NaN  \n",
       "\n",
       "[5 rows x 181 columns]"
      ],
      "text/html": [
       "<div>\n",
       "<style scoped>\n",
       "    .dataframe tbody tr th:only-of-type {\n",
       "        vertical-align: middle;\n",
       "    }\n",
       "\n",
       "    .dataframe tbody tr th {\n",
       "        vertical-align: top;\n",
       "    }\n",
       "\n",
       "    .dataframe thead th {\n",
       "        text-align: right;\n",
       "    }\n",
       "</style>\n",
       "<table border=\"1\" class=\"dataframe\">\n",
       "  <thead>\n",
       "    <tr style=\"text-align: right;\">\n",
       "      <th></th>\n",
       "      <th>Customers.id</th>\n",
       "      <th>Customers.fname</th>\n",
       "      <th>Customers.lname</th>\n",
       "      <th>Customers.company</th>\n",
       "      <th>Customers.create_date</th>\n",
       "      <th>Customers.status</th>\n",
       "      <th>Customers.mailing</th>\n",
       "      <th>Customers.reminders</th>\n",
       "      <th>Customers.tax_exempt</th>\n",
       "      <th>Customers.account_id</th>\n",
       "      <th>...</th>\n",
       "      <th>Products.google_shopping_label</th>\n",
       "      <th>Products.product_option</th>\n",
       "      <th>Products.size</th>\n",
       "      <th>Products.material</th>\n",
       "      <th>Products.arm_style</th>\n",
       "      <th>Products.leg_style</th>\n",
       "      <th>Products.seat_size</th>\n",
       "      <th>Products.family_id</th>\n",
       "      <th>Products.saved_status</th>\n",
       "      <th>Products.freight_cost</th>\n",
       "    </tr>\n",
       "  </thead>\n",
       "  <tbody>\n",
       "    <tr>\n",
       "      <th>0</th>\n",
       "      <td>797</td>\n",
       "      <td>Christy</td>\n",
       "      <td>Dill</td>\n",
       "      <td>Company0</td>\n",
       "      <td>1426018724</td>\n",
       "      <td>NaN</td>\n",
       "      <td>NaN</td>\n",
       "      <td>NaN</td>\n",
       "      <td>NaN</td>\n",
       "      <td>NaN</td>\n",
       "      <td>...</td>\n",
       "      <td>NaN</td>\n",
       "      <td>NaN</td>\n",
       "      <td>NaN</td>\n",
       "      <td>NaN</td>\n",
       "      <td>NaN</td>\n",
       "      <td>NaN</td>\n",
       "      <td>NaN</td>\n",
       "      <td>PF61071</td>\n",
       "      <td>0.0</td>\n",
       "      <td>NaN</td>\n",
       "    </tr>\n",
       "    <tr>\n",
       "      <th>1</th>\n",
       "      <td>3</td>\n",
       "      <td>John</td>\n",
       "      <td>Smith</td>\n",
       "      <td>Company1</td>\n",
       "      <td>1386089139</td>\n",
       "      <td>NaN</td>\n",
       "      <td>NaN</td>\n",
       "      <td>NaN</td>\n",
       "      <td>NaN</td>\n",
       "      <td>NaN</td>\n",
       "      <td>...</td>\n",
       "      <td>NaN</td>\n",
       "      <td>NaN</td>\n",
       "      <td>NaN</td>\n",
       "      <td>NaN</td>\n",
       "      <td>NaN</td>\n",
       "      <td>NaN</td>\n",
       "      <td>NaN</td>\n",
       "      <td>PF02132</td>\n",
       "      <td>NaN</td>\n",
       "      <td>NaN</td>\n",
       "    </tr>\n",
       "    <tr>\n",
       "      <th>2</th>\n",
       "      <td>3</td>\n",
       "      <td>John</td>\n",
       "      <td>Smith</td>\n",
       "      <td>Company1</td>\n",
       "      <td>1386089139</td>\n",
       "      <td>NaN</td>\n",
       "      <td>NaN</td>\n",
       "      <td>NaN</td>\n",
       "      <td>NaN</td>\n",
       "      <td>NaN</td>\n",
       "      <td>...</td>\n",
       "      <td>NaN</td>\n",
       "      <td>NaN</td>\n",
       "      <td>2 x Extra large</td>\n",
       "      <td>Nitrile</td>\n",
       "      <td>NaN</td>\n",
       "      <td>NaN</td>\n",
       "      <td>NaN</td>\n",
       "      <td>PF00342</td>\n",
       "      <td>0.0</td>\n",
       "      <td>NaN</td>\n",
       "    </tr>\n",
       "    <tr>\n",
       "      <th>3</th>\n",
       "      <td>4</td>\n",
       "      <td>James</td>\n",
       "      <td>Anderson</td>\n",
       "      <td>NaN</td>\n",
       "      <td>1386780263</td>\n",
       "      <td>NaN</td>\n",
       "      <td>NaN</td>\n",
       "      <td>NaN</td>\n",
       "      <td>NaN</td>\n",
       "      <td>NaN</td>\n",
       "      <td>...</td>\n",
       "      <td>NaN</td>\n",
       "      <td>NaN</td>\n",
       "      <td>NaN</td>\n",
       "      <td>NaN</td>\n",
       "      <td>NaN</td>\n",
       "      <td>NaN</td>\n",
       "      <td>NaN</td>\n",
       "      <td>PF04970</td>\n",
       "      <td>NaN</td>\n",
       "      <td>NaN</td>\n",
       "    </tr>\n",
       "    <tr>\n",
       "      <th>4</th>\n",
       "      <td>5</td>\n",
       "      <td>Abraham</td>\n",
       "      <td>Pollak</td>\n",
       "      <td>Company3</td>\n",
       "      <td>1386861599</td>\n",
       "      <td>0.0</td>\n",
       "      <td>0.0</td>\n",
       "      <td>NaN</td>\n",
       "      <td>NaN</td>\n",
       "      <td>NaN</td>\n",
       "      <td>...</td>\n",
       "      <td>NaN</td>\n",
       "      <td>NaN</td>\n",
       "      <td>NaN</td>\n",
       "      <td>NaN</td>\n",
       "      <td>NaN</td>\n",
       "      <td>NaN</td>\n",
       "      <td>NaN</td>\n",
       "      <td>PF03045</td>\n",
       "      <td>NaN</td>\n",
       "      <td>NaN</td>\n",
       "    </tr>\n",
       "  </tbody>\n",
       "</table>\n",
       "<p>5 rows × 181 columns</p>\n",
       "</div>"
      ]
     },
     "execution_count": 3,
     "metadata": {},
     "output_type": "execute_result"
    }
   ],
   "execution_count": 3
  },
  {
   "cell_type": "code",
   "metadata": {
    "ExecuteTime": {
     "end_time": "2024-07-20T22:23:16.342246Z",
     "start_time": "2024-07-20T22:23:16.327687Z"
    }
   },
   "source": "df.info()",
   "outputs": [
    {
     "name": "stdout",
     "output_type": "stream",
     "text": [
      "<class 'pandas.core.frame.DataFrame'>\n",
      "RangeIndex: 4194 entries, 0 to 4193\n",
      "Columns: 181 entries, Customers.id to Products.freight_cost\n",
      "dtypes: float64(98), int64(10), object(73)\n",
      "memory usage: 5.8+ MB\n"
     ]
    }
   ],
   "execution_count": 4
  },
  {
   "cell_type": "code",
   "metadata": {
    "ExecuteTime": {
     "end_time": "2024-07-20T22:23:16.359761Z",
     "start_time": "2024-07-20T22:23:16.343029Z"
    }
   },
   "source": "df.sample(10)",
   "outputs": [
    {
     "data": {
      "text/plain": [
       "      Customers.id Customers.fname Customers.lname Customers.company  \\\n",
       "206            207          Marlys             Oie               NaN   \n",
       "3346          2880         Melinda        DalSanto               NaN   \n",
       "4161          3702           ERWIN          CORTEZ               NaN   \n",
       "895            748         cynthia         Shaffer               NaN   \n",
       "3825          3383          Thomas           Edens               NaN   \n",
       "3916          3457          Chrles          Ingram               NaN   \n",
       "1879          1571          Martha        Albarado               NaN   \n",
       "3659          3212           Irene      Mulholland               NaN   \n",
       "2205          1845           Daisy           White               NaN   \n",
       "1795          1497          VERLIE         GREENER               NaN   \n",
       "\n",
       "      Customers.create_date  Customers.status  Customers.mailing  \\\n",
       "206              1403541729               NaN                1.0   \n",
       "3346             1458345467               NaN                NaN   \n",
       "4161             1463246262               NaN                1.0   \n",
       "895              1424731556               NaN                NaN   \n",
       "3825             1461713816               NaN                1.0   \n",
       "3916             1462198892               NaN                NaN   \n",
       "1879             1441908550               NaN                NaN   \n",
       "3659             1460601121               NaN                1.0   \n",
       "2205             1448761658               NaN                1.0   \n",
       "1795             1440805435               NaN                NaN   \n",
       "\n",
       "      Customers.reminders  Customers.tax_exempt  Customers.account_id  ...  \\\n",
       "206                   NaN                   NaN                   NaN  ...   \n",
       "3346                  NaN                   NaN                   NaN  ...   \n",
       "4161                  NaN                   NaN                   NaN  ...   \n",
       "895                   NaN                   NaN                   NaN  ...   \n",
       "3825                  NaN                   NaN                   NaN  ...   \n",
       "3916                  NaN                   NaN                   NaN  ...   \n",
       "1879                  NaN                   NaN                   NaN  ...   \n",
       "3659                  NaN                   NaN                   NaN  ...   \n",
       "2205                  NaN                   NaN                   NaN  ...   \n",
       "1795                  NaN                   NaN                   NaN  ...   \n",
       "\n",
       "      Products.google_shopping_label  Products.product_option  \\\n",
       "206                              NaN                      NaN   \n",
       "3346                             NaN                      NaN   \n",
       "4161                             NaN                      NaN   \n",
       "895                              5.0                      NaN   \n",
       "3825                             NaN                      NaN   \n",
       "3916                             NaN                      NaN   \n",
       "1879                             NaN                      NaN   \n",
       "3659                             NaN        Adjustable Height   \n",
       "2205                             NaN                      NaN   \n",
       "1795                             NaN                      NaN   \n",
       "\n",
       "                     Products.size  Products.material  \\\n",
       "206                            NaN                NaN   \n",
       "3346                           NaN                NaN   \n",
       "4161                           NaN                NaN   \n",
       "895                            NaN                NaN   \n",
       "3825                           NaN                NaN   \n",
       "3916                           NaN        Plastic Rim   \n",
       "1879                           NaN                NaN   \n",
       "3659                           NaN                NaN   \n",
       "2205                           NaN                NaN   \n",
       "1795  Large / Waist Size - 40\"-56\"                NaN   \n",
       "\n",
       "                                     Products.arm_style  Products.leg_style  \\\n",
       "206                                                 NaN                 NaN   \n",
       "3346                                                NaN                 NaN   \n",
       "4161                                                NaN                 NaN   \n",
       "895                                                 NaN                 NaN   \n",
       "3825  Desk Length Removable Arms - Elevating  Foot Rest                 NaN   \n",
       "3916                                                NaN                 NaN   \n",
       "1879                                                NaN                 NaN   \n",
       "3659                                                NaN                 NaN   \n",
       "2205                                                NaN                 NaN   \n",
       "1795                                                NaN                 NaN   \n",
       "\n",
       "      Products.seat_size Products.family_id Products.saved_status  \\\n",
       "206                  NaN                RS4                   0.0   \n",
       "3346                 NaN            PF04825                   0.0   \n",
       "4161                 NaN            PF04657                   3.0   \n",
       "895                  NaN            PF21897                   3.0   \n",
       "3825           22\" x 18\"            PF05040                   3.0   \n",
       "3916                 NaN            PF06157                   3.0   \n",
       "1879                 NaN            PF04832                   0.0   \n",
       "3659                 NaN              CA010                   0.0   \n",
       "2205                 NaN            PF06567                   0.0   \n",
       "1795                 NaN            PF01515                   0.0   \n",
       "\n",
       "     Products.freight_cost  \n",
       "206                    NaN  \n",
       "3346                   NaN  \n",
       "4161                   NaN  \n",
       "895                    NaN  \n",
       "3825                   NaN  \n",
       "3916                   NaN  \n",
       "1879                   NaN  \n",
       "3659                   NaN  \n",
       "2205                   NaN  \n",
       "1795                   NaN  \n",
       "\n",
       "[10 rows x 181 columns]"
      ],
      "text/html": [
       "<div>\n",
       "<style scoped>\n",
       "    .dataframe tbody tr th:only-of-type {\n",
       "        vertical-align: middle;\n",
       "    }\n",
       "\n",
       "    .dataframe tbody tr th {\n",
       "        vertical-align: top;\n",
       "    }\n",
       "\n",
       "    .dataframe thead th {\n",
       "        text-align: right;\n",
       "    }\n",
       "</style>\n",
       "<table border=\"1\" class=\"dataframe\">\n",
       "  <thead>\n",
       "    <tr style=\"text-align: right;\">\n",
       "      <th></th>\n",
       "      <th>Customers.id</th>\n",
       "      <th>Customers.fname</th>\n",
       "      <th>Customers.lname</th>\n",
       "      <th>Customers.company</th>\n",
       "      <th>Customers.create_date</th>\n",
       "      <th>Customers.status</th>\n",
       "      <th>Customers.mailing</th>\n",
       "      <th>Customers.reminders</th>\n",
       "      <th>Customers.tax_exempt</th>\n",
       "      <th>Customers.account_id</th>\n",
       "      <th>...</th>\n",
       "      <th>Products.google_shopping_label</th>\n",
       "      <th>Products.product_option</th>\n",
       "      <th>Products.size</th>\n",
       "      <th>Products.material</th>\n",
       "      <th>Products.arm_style</th>\n",
       "      <th>Products.leg_style</th>\n",
       "      <th>Products.seat_size</th>\n",
       "      <th>Products.family_id</th>\n",
       "      <th>Products.saved_status</th>\n",
       "      <th>Products.freight_cost</th>\n",
       "    </tr>\n",
       "  </thead>\n",
       "  <tbody>\n",
       "    <tr>\n",
       "      <th>206</th>\n",
       "      <td>207</td>\n",
       "      <td>Marlys</td>\n",
       "      <td>Oie</td>\n",
       "      <td>NaN</td>\n",
       "      <td>1403541729</td>\n",
       "      <td>NaN</td>\n",
       "      <td>1.0</td>\n",
       "      <td>NaN</td>\n",
       "      <td>NaN</td>\n",
       "      <td>NaN</td>\n",
       "      <td>...</td>\n",
       "      <td>NaN</td>\n",
       "      <td>NaN</td>\n",
       "      <td>NaN</td>\n",
       "      <td>NaN</td>\n",
       "      <td>NaN</td>\n",
       "      <td>NaN</td>\n",
       "      <td>NaN</td>\n",
       "      <td>RS4</td>\n",
       "      <td>0.0</td>\n",
       "      <td>NaN</td>\n",
       "    </tr>\n",
       "    <tr>\n",
       "      <th>3346</th>\n",
       "      <td>2880</td>\n",
       "      <td>Melinda</td>\n",
       "      <td>DalSanto</td>\n",
       "      <td>NaN</td>\n",
       "      <td>1458345467</td>\n",
       "      <td>NaN</td>\n",
       "      <td>NaN</td>\n",
       "      <td>NaN</td>\n",
       "      <td>NaN</td>\n",
       "      <td>NaN</td>\n",
       "      <td>...</td>\n",
       "      <td>NaN</td>\n",
       "      <td>NaN</td>\n",
       "      <td>NaN</td>\n",
       "      <td>NaN</td>\n",
       "      <td>NaN</td>\n",
       "      <td>NaN</td>\n",
       "      <td>NaN</td>\n",
       "      <td>PF04825</td>\n",
       "      <td>0.0</td>\n",
       "      <td>NaN</td>\n",
       "    </tr>\n",
       "    <tr>\n",
       "      <th>4161</th>\n",
       "      <td>3702</td>\n",
       "      <td>ERWIN</td>\n",
       "      <td>CORTEZ</td>\n",
       "      <td>NaN</td>\n",
       "      <td>1463246262</td>\n",
       "      <td>NaN</td>\n",
       "      <td>1.0</td>\n",
       "      <td>NaN</td>\n",
       "      <td>NaN</td>\n",
       "      <td>NaN</td>\n",
       "      <td>...</td>\n",
       "      <td>NaN</td>\n",
       "      <td>NaN</td>\n",
       "      <td>NaN</td>\n",
       "      <td>NaN</td>\n",
       "      <td>NaN</td>\n",
       "      <td>NaN</td>\n",
       "      <td>NaN</td>\n",
       "      <td>PF04657</td>\n",
       "      <td>3.0</td>\n",
       "      <td>NaN</td>\n",
       "    </tr>\n",
       "    <tr>\n",
       "      <th>895</th>\n",
       "      <td>748</td>\n",
       "      <td>cynthia</td>\n",
       "      <td>Shaffer</td>\n",
       "      <td>NaN</td>\n",
       "      <td>1424731556</td>\n",
       "      <td>NaN</td>\n",
       "      <td>NaN</td>\n",
       "      <td>NaN</td>\n",
       "      <td>NaN</td>\n",
       "      <td>NaN</td>\n",
       "      <td>...</td>\n",
       "      <td>5.0</td>\n",
       "      <td>NaN</td>\n",
       "      <td>NaN</td>\n",
       "      <td>NaN</td>\n",
       "      <td>NaN</td>\n",
       "      <td>NaN</td>\n",
       "      <td>NaN</td>\n",
       "      <td>PF21897</td>\n",
       "      <td>3.0</td>\n",
       "      <td>NaN</td>\n",
       "    </tr>\n",
       "    <tr>\n",
       "      <th>3825</th>\n",
       "      <td>3383</td>\n",
       "      <td>Thomas</td>\n",
       "      <td>Edens</td>\n",
       "      <td>NaN</td>\n",
       "      <td>1461713816</td>\n",
       "      <td>NaN</td>\n",
       "      <td>1.0</td>\n",
       "      <td>NaN</td>\n",
       "      <td>NaN</td>\n",
       "      <td>NaN</td>\n",
       "      <td>...</td>\n",
       "      <td>NaN</td>\n",
       "      <td>NaN</td>\n",
       "      <td>NaN</td>\n",
       "      <td>NaN</td>\n",
       "      <td>Desk Length Removable Arms - Elevating  Foot Rest</td>\n",
       "      <td>NaN</td>\n",
       "      <td>22\" x 18\"</td>\n",
       "      <td>PF05040</td>\n",
       "      <td>3.0</td>\n",
       "      <td>NaN</td>\n",
       "    </tr>\n",
       "    <tr>\n",
       "      <th>3916</th>\n",
       "      <td>3457</td>\n",
       "      <td>Chrles</td>\n",
       "      <td>Ingram</td>\n",
       "      <td>NaN</td>\n",
       "      <td>1462198892</td>\n",
       "      <td>NaN</td>\n",
       "      <td>NaN</td>\n",
       "      <td>NaN</td>\n",
       "      <td>NaN</td>\n",
       "      <td>NaN</td>\n",
       "      <td>...</td>\n",
       "      <td>NaN</td>\n",
       "      <td>NaN</td>\n",
       "      <td>NaN</td>\n",
       "      <td>Plastic Rim</td>\n",
       "      <td>NaN</td>\n",
       "      <td>NaN</td>\n",
       "      <td>NaN</td>\n",
       "      <td>PF06157</td>\n",
       "      <td>3.0</td>\n",
       "      <td>NaN</td>\n",
       "    </tr>\n",
       "    <tr>\n",
       "      <th>1879</th>\n",
       "      <td>1571</td>\n",
       "      <td>Martha</td>\n",
       "      <td>Albarado</td>\n",
       "      <td>NaN</td>\n",
       "      <td>1441908550</td>\n",
       "      <td>NaN</td>\n",
       "      <td>NaN</td>\n",
       "      <td>NaN</td>\n",
       "      <td>NaN</td>\n",
       "      <td>NaN</td>\n",
       "      <td>...</td>\n",
       "      <td>NaN</td>\n",
       "      <td>NaN</td>\n",
       "      <td>NaN</td>\n",
       "      <td>NaN</td>\n",
       "      <td>NaN</td>\n",
       "      <td>NaN</td>\n",
       "      <td>NaN</td>\n",
       "      <td>PF04832</td>\n",
       "      <td>0.0</td>\n",
       "      <td>NaN</td>\n",
       "    </tr>\n",
       "    <tr>\n",
       "      <th>3659</th>\n",
       "      <td>3212</td>\n",
       "      <td>Irene</td>\n",
       "      <td>Mulholland</td>\n",
       "      <td>NaN</td>\n",
       "      <td>1460601121</td>\n",
       "      <td>NaN</td>\n",
       "      <td>1.0</td>\n",
       "      <td>NaN</td>\n",
       "      <td>NaN</td>\n",
       "      <td>NaN</td>\n",
       "      <td>...</td>\n",
       "      <td>NaN</td>\n",
       "      <td>Adjustable Height</td>\n",
       "      <td>NaN</td>\n",
       "      <td>NaN</td>\n",
       "      <td>NaN</td>\n",
       "      <td>NaN</td>\n",
       "      <td>NaN</td>\n",
       "      <td>CA010</td>\n",
       "      <td>0.0</td>\n",
       "      <td>NaN</td>\n",
       "    </tr>\n",
       "    <tr>\n",
       "      <th>2205</th>\n",
       "      <td>1845</td>\n",
       "      <td>Daisy</td>\n",
       "      <td>White</td>\n",
       "      <td>NaN</td>\n",
       "      <td>1448761658</td>\n",
       "      <td>NaN</td>\n",
       "      <td>1.0</td>\n",
       "      <td>NaN</td>\n",
       "      <td>NaN</td>\n",
       "      <td>NaN</td>\n",
       "      <td>...</td>\n",
       "      <td>NaN</td>\n",
       "      <td>NaN</td>\n",
       "      <td>NaN</td>\n",
       "      <td>NaN</td>\n",
       "      <td>NaN</td>\n",
       "      <td>NaN</td>\n",
       "      <td>NaN</td>\n",
       "      <td>PF06567</td>\n",
       "      <td>0.0</td>\n",
       "      <td>NaN</td>\n",
       "    </tr>\n",
       "    <tr>\n",
       "      <th>1795</th>\n",
       "      <td>1497</td>\n",
       "      <td>VERLIE</td>\n",
       "      <td>GREENER</td>\n",
       "      <td>NaN</td>\n",
       "      <td>1440805435</td>\n",
       "      <td>NaN</td>\n",
       "      <td>NaN</td>\n",
       "      <td>NaN</td>\n",
       "      <td>NaN</td>\n",
       "      <td>NaN</td>\n",
       "      <td>...</td>\n",
       "      <td>NaN</td>\n",
       "      <td>NaN</td>\n",
       "      <td>Large / Waist Size - 40\"-56\"</td>\n",
       "      <td>NaN</td>\n",
       "      <td>NaN</td>\n",
       "      <td>NaN</td>\n",
       "      <td>NaN</td>\n",
       "      <td>PF01515</td>\n",
       "      <td>0.0</td>\n",
       "      <td>NaN</td>\n",
       "    </tr>\n",
       "  </tbody>\n",
       "</table>\n",
       "<p>10 rows × 181 columns</p>\n",
       "</div>"
      ]
     },
     "execution_count": 5,
     "metadata": {},
     "output_type": "execute_result"
    }
   ],
   "execution_count": 5
  },
  {
   "cell_type": "code",
   "metadata": {
    "ExecuteTime": {
     "end_time": "2024-07-20T22:23:16.376328Z",
     "start_time": "2024-07-20T22:23:16.360502Z"
    }
   },
   "source": [
    "df.isnull().sum()"
   ],
   "outputs": [
    {
     "data": {
      "text/plain": [
       "Customers.id                0\n",
       "Customers.fname             0\n",
       "Customers.lname             0\n",
       "Customers.company        3467\n",
       "Customers.create_date       0\n",
       "                         ... \n",
       "Products.leg_style       4194\n",
       "Products.seat_size       4032\n",
       "Products.family_id        325\n",
       "Products.saved_status     264\n",
       "Products.freight_cost    4194\n",
       "Length: 181, dtype: int64"
      ]
     },
     "execution_count": 6,
     "metadata": {},
     "output_type": "execute_result"
    }
   ],
   "execution_count": 6
  },
  {
   "cell_type": "code",
   "metadata": {
    "ExecuteTime": {
     "end_time": "2024-07-20T22:23:16.380409Z",
     "start_time": "2024-07-20T22:23:16.377005Z"
    }
   },
   "source": [
    "df['Customers.customer_type'].fillna(df['Customers.customer_type'].mode()[0], inplace=True)\n",
    "df['Customers.customer_type'] = df['Customers.customer_type'].astype('int64')\n"
   ],
   "outputs": [],
   "execution_count": 7
  },
  {
   "cell_type": "code",
   "metadata": {
    "ExecuteTime": {
     "end_time": "2024-07-20T22:23:16.403357Z",
     "start_time": "2024-07-20T22:23:16.381322Z"
    }
   },
   "source": [
    "df = df.dropna(subset=['Products.id'])\n",
    "df = df.dropna(subset=['Orders.placed_date'])\n",
    "df = df.dropna(subset=['Orders.payment_status'])"
   ],
   "outputs": [],
   "execution_count": 8
  },
  {
   "cell_type": "code",
   "metadata": {
    "ExecuteTime": {
     "end_time": "2024-07-20T22:23:16.410695Z",
     "start_time": "2024-07-20T22:23:16.404896Z"
    }
   },
   "source": [
    "df_c = df[[col for col in df.columns if col.startswith('Customers.')]] \n",
    "products_df = df[[col for col in df.columns if col.startswith('Products.')]] \n",
    "df_o = df[[col for col in df.columns if col.startswith('Orders.') or col.startswith('Order_Items.')]]"
   ],
   "outputs": [],
   "execution_count": 9
  },
  {
   "cell_type": "code",
   "metadata": {
    "ExecuteTime": {
     "end_time": "2024-07-20T22:23:16.427007Z",
     "start_time": "2024-07-20T22:23:16.411533Z"
    }
   },
   "source": "df_c.head()",
   "outputs": [
    {
     "data": {
      "text/plain": [
       "   Customers.id Customers.fname Customers.lname Customers.company  \\\n",
       "0           797         Christy            Dill          Company0   \n",
       "1             3            John           Smith          Company1   \n",
       "2             3            John           Smith          Company1   \n",
       "3             4           James        Anderson               NaN   \n",
       "4             5         Abraham          Pollak          Company3   \n",
       "\n",
       "   Customers.create_date  Customers.status  Customers.mailing  \\\n",
       "0             1426018724               NaN                NaN   \n",
       "1             1386089139               NaN                NaN   \n",
       "2             1386089139               NaN                NaN   \n",
       "3             1386780263               NaN                NaN   \n",
       "4             1386861599               0.0                0.0   \n",
       "\n",
       "   Customers.reminders  Customers.tax_exempt  Customers.account_id  \\\n",
       "0                  NaN                   NaN                   NaN   \n",
       "1                  NaN                   NaN                   NaN   \n",
       "2                  NaN                   NaN                   NaN   \n",
       "3                  NaN                   NaN                   NaN   \n",
       "4                  NaN                   NaN                   NaN   \n",
       "\n",
       "   Customers.sales_rep  Customers.rewards  Customers.profile_id  \\\n",
       "0                  NaN                NaN                   NaN   \n",
       "1                  NaN                NaN                   NaN   \n",
       "2                  NaN                NaN                   NaN   \n",
       "3                  NaN                NaN                   NaN   \n",
       "4                  NaN                NaN                   NaN   \n",
       "\n",
       "   Customers.last_modified  Customers.customer_type  \n",
       "0               1437764306                        0  \n",
       "1               1437764354                        0  \n",
       "2               1437764354                        0  \n",
       "3               1437762646                        0  \n",
       "4               1437764316                        0  "
      ],
      "text/html": [
       "<div>\n",
       "<style scoped>\n",
       "    .dataframe tbody tr th:only-of-type {\n",
       "        vertical-align: middle;\n",
       "    }\n",
       "\n",
       "    .dataframe tbody tr th {\n",
       "        vertical-align: top;\n",
       "    }\n",
       "\n",
       "    .dataframe thead th {\n",
       "        text-align: right;\n",
       "    }\n",
       "</style>\n",
       "<table border=\"1\" class=\"dataframe\">\n",
       "  <thead>\n",
       "    <tr style=\"text-align: right;\">\n",
       "      <th></th>\n",
       "      <th>Customers.id</th>\n",
       "      <th>Customers.fname</th>\n",
       "      <th>Customers.lname</th>\n",
       "      <th>Customers.company</th>\n",
       "      <th>Customers.create_date</th>\n",
       "      <th>Customers.status</th>\n",
       "      <th>Customers.mailing</th>\n",
       "      <th>Customers.reminders</th>\n",
       "      <th>Customers.tax_exempt</th>\n",
       "      <th>Customers.account_id</th>\n",
       "      <th>Customers.sales_rep</th>\n",
       "      <th>Customers.rewards</th>\n",
       "      <th>Customers.profile_id</th>\n",
       "      <th>Customers.last_modified</th>\n",
       "      <th>Customers.customer_type</th>\n",
       "    </tr>\n",
       "  </thead>\n",
       "  <tbody>\n",
       "    <tr>\n",
       "      <th>0</th>\n",
       "      <td>797</td>\n",
       "      <td>Christy</td>\n",
       "      <td>Dill</td>\n",
       "      <td>Company0</td>\n",
       "      <td>1426018724</td>\n",
       "      <td>NaN</td>\n",
       "      <td>NaN</td>\n",
       "      <td>NaN</td>\n",
       "      <td>NaN</td>\n",
       "      <td>NaN</td>\n",
       "      <td>NaN</td>\n",
       "      <td>NaN</td>\n",
       "      <td>NaN</td>\n",
       "      <td>1437764306</td>\n",
       "      <td>0</td>\n",
       "    </tr>\n",
       "    <tr>\n",
       "      <th>1</th>\n",
       "      <td>3</td>\n",
       "      <td>John</td>\n",
       "      <td>Smith</td>\n",
       "      <td>Company1</td>\n",
       "      <td>1386089139</td>\n",
       "      <td>NaN</td>\n",
       "      <td>NaN</td>\n",
       "      <td>NaN</td>\n",
       "      <td>NaN</td>\n",
       "      <td>NaN</td>\n",
       "      <td>NaN</td>\n",
       "      <td>NaN</td>\n",
       "      <td>NaN</td>\n",
       "      <td>1437764354</td>\n",
       "      <td>0</td>\n",
       "    </tr>\n",
       "    <tr>\n",
       "      <th>2</th>\n",
       "      <td>3</td>\n",
       "      <td>John</td>\n",
       "      <td>Smith</td>\n",
       "      <td>Company1</td>\n",
       "      <td>1386089139</td>\n",
       "      <td>NaN</td>\n",
       "      <td>NaN</td>\n",
       "      <td>NaN</td>\n",
       "      <td>NaN</td>\n",
       "      <td>NaN</td>\n",
       "      <td>NaN</td>\n",
       "      <td>NaN</td>\n",
       "      <td>NaN</td>\n",
       "      <td>1437764354</td>\n",
       "      <td>0</td>\n",
       "    </tr>\n",
       "    <tr>\n",
       "      <th>3</th>\n",
       "      <td>4</td>\n",
       "      <td>James</td>\n",
       "      <td>Anderson</td>\n",
       "      <td>NaN</td>\n",
       "      <td>1386780263</td>\n",
       "      <td>NaN</td>\n",
       "      <td>NaN</td>\n",
       "      <td>NaN</td>\n",
       "      <td>NaN</td>\n",
       "      <td>NaN</td>\n",
       "      <td>NaN</td>\n",
       "      <td>NaN</td>\n",
       "      <td>NaN</td>\n",
       "      <td>1437762646</td>\n",
       "      <td>0</td>\n",
       "    </tr>\n",
       "    <tr>\n",
       "      <th>4</th>\n",
       "      <td>5</td>\n",
       "      <td>Abraham</td>\n",
       "      <td>Pollak</td>\n",
       "      <td>Company3</td>\n",
       "      <td>1386861599</td>\n",
       "      <td>0.0</td>\n",
       "      <td>0.0</td>\n",
       "      <td>NaN</td>\n",
       "      <td>NaN</td>\n",
       "      <td>NaN</td>\n",
       "      <td>NaN</td>\n",
       "      <td>NaN</td>\n",
       "      <td>NaN</td>\n",
       "      <td>1437764316</td>\n",
       "      <td>0</td>\n",
       "    </tr>\n",
       "  </tbody>\n",
       "</table>\n",
       "</div>"
      ]
     },
     "execution_count": 10,
     "metadata": {},
     "output_type": "execute_result"
    }
   ],
   "execution_count": 10
  },
  {
   "cell_type": "code",
   "metadata": {
    "ExecuteTime": {
     "end_time": "2024-07-20T22:23:16.437580Z",
     "start_time": "2024-07-20T22:23:16.427692Z"
    }
   },
   "source": "df_c.columns = [col.split('.')[1] for col in df_c.columns]",
   "outputs": [],
   "execution_count": 11
  },
  {
   "cell_type": "code",
   "metadata": {
    "ExecuteTime": {
     "end_time": "2024-07-20T22:23:16.454843Z",
     "start_time": "2024-07-20T22:23:16.438531Z"
    }
   },
   "source": "df_c.isnull().sum() # I need to fill customer_type before divide three dfs",
   "outputs": [
    {
     "data": {
      "text/plain": [
       "id                  0\n",
       "fname               0\n",
       "lname               0\n",
       "company          3325\n",
       "create_date         0\n",
       "status           3941\n",
       "mailing          1976\n",
       "reminders        4032\n",
       "tax_exempt       4027\n",
       "account_id       4030\n",
       "sales_rep        4032\n",
       "rewards          4032\n",
       "profile_id       4032\n",
       "last_modified       0\n",
       "customer_type       0\n",
       "dtype: int64"
      ]
     },
     "execution_count": 12,
     "metadata": {},
     "output_type": "execute_result"
    }
   ],
   "execution_count": 12
  },
  {
   "cell_type": "code",
   "metadata": {
    "ExecuteTime": {
     "end_time": "2024-07-20T22:23:16.471251Z",
     "start_time": "2024-07-20T22:23:16.455553Z"
    }
   },
   "source": [
    "df_c['create_date'] = pd.to_datetime(df_c['create_date'], unit='s')\n",
    "df_c['create_date'] = pd.to_datetime(df_c['create_date']).dt.date\n",
    "df_c['last_modified'] = pd.to_datetime(df_c['last_modified'], unit='s')\n",
    "df_c['last_modified'] = pd.to_datetime(df_c['last_modified']).dt.date"
   ],
   "outputs": [
    {
     "name": "stderr",
     "output_type": "stream",
     "text": [
      "/tmp/ipykernel_17247/1151187921.py:1: SettingWithCopyWarning: \n",
      "A value is trying to be set on a copy of a slice from a DataFrame.\n",
      "Try using .loc[row_indexer,col_indexer] = value instead\n",
      "\n",
      "See the caveats in the documentation: https://pandas.pydata.org/pandas-docs/stable/user_guide/indexing.html#returning-a-view-versus-a-copy\n",
      "  customers_df['create_date'] = pd.to_datetime(customers_df['create_date'], unit='s')\n",
      "/tmp/ipykernel_17247/1151187921.py:2: SettingWithCopyWarning: \n",
      "A value is trying to be set on a copy of a slice from a DataFrame.\n",
      "Try using .loc[row_indexer,col_indexer] = value instead\n",
      "\n",
      "See the caveats in the documentation: https://pandas.pydata.org/pandas-docs/stable/user_guide/indexing.html#returning-a-view-versus-a-copy\n",
      "  customers_df['create_date'] = pd.to_datetime(customers_df['create_date']).dt.date\n",
      "/tmp/ipykernel_17247/1151187921.py:3: SettingWithCopyWarning: \n",
      "A value is trying to be set on a copy of a slice from a DataFrame.\n",
      "Try using .loc[row_indexer,col_indexer] = value instead\n",
      "\n",
      "See the caveats in the documentation: https://pandas.pydata.org/pandas-docs/stable/user_guide/indexing.html#returning-a-view-versus-a-copy\n",
      "  customers_df['last_modified'] = pd.to_datetime(customers_df['last_modified'], unit='s')\n",
      "/tmp/ipykernel_17247/1151187921.py:4: SettingWithCopyWarning: \n",
      "A value is trying to be set on a copy of a slice from a DataFrame.\n",
      "Try using .loc[row_indexer,col_indexer] = value instead\n",
      "\n",
      "See the caveats in the documentation: https://pandas.pydata.org/pandas-docs/stable/user_guide/indexing.html#returning-a-view-versus-a-copy\n",
      "  customers_df['last_modified'] = pd.to_datetime(customers_df['last_modified']).dt.date\n"
     ]
    }
   ],
   "execution_count": 13
  },
  {
   "cell_type": "code",
   "metadata": {
    "ExecuteTime": {
     "end_time": "2024-07-20T22:23:16.482033Z",
     "start_time": "2024-07-20T22:23:16.472037Z"
    }
   },
   "source": "df_o.columns = [col.split('.')[1] if col.startswith('Orders.') else 'item_' + col.split('.')[1] for col in df_o.columns]",
   "outputs": [],
   "execution_count": 14
  },
  {
   "cell_type": "code",
   "metadata": {
    "ExecuteTime": {
     "end_time": "2024-07-20T22:23:16.493343Z",
     "start_time": "2024-07-20T22:23:16.482878Z"
    }
   },
   "source": "df_o[\"shipping\"] = df_o[\"total\"] - df_o[\"subtotal\"] # I need to drop which product_id and payment_status is null before dividing",
   "outputs": [
    {
     "name": "stderr",
     "output_type": "stream",
     "text": [
      "/tmp/ipykernel_17247/1735684852.py:1: SettingWithCopyWarning: \n",
      "A value is trying to be set on a copy of a slice from a DataFrame.\n",
      "Try using .loc[row_indexer,col_indexer] = value instead\n",
      "\n",
      "See the caveats in the documentation: https://pandas.pydata.org/pandas-docs/stable/user_guide/indexing.html#returning-a-view-versus-a-copy\n",
      "  df_o[\"shipping\"] = df_o[\"total\"] - df_o[\"subtotal\"] # I need to drop which product_id and payment_status is null before dividing\n"
     ]
    }
   ],
   "execution_count": 15
  },
  {
   "cell_type": "code",
   "metadata": {
    "ExecuteTime": {
     "end_time": "2024-07-20T22:23:16.507600Z",
     "start_time": "2024-07-20T22:23:16.494118Z"
    }
   },
   "source": "df_o.isnull().sum()",
   "outputs": [
    {
     "data": {
      "text/plain": [
       "id                           0\n",
       "customer_id                  0\n",
       "fname                        0\n",
       "lname                        0\n",
       "company                   3324\n",
       "                          ... \n",
       "item_registry_item        4032\n",
       "item_related_id           4032\n",
       "item_reorder_frequency    4013\n",
       "item_account_id           4032\n",
       "item_flags                3088\n",
       "Length: 68, dtype: int64"
      ]
     },
     "execution_count": 16,
     "metadata": {},
     "output_type": "execute_result"
    }
   ],
   "execution_count": 16
  },
  {
   "cell_type": "code",
   "metadata": {
    "ExecuteTime": {
     "end_time": "2024-07-20T22:23:16.522765Z",
     "start_time": "2024-07-20T22:23:16.508272Z"
    }
   },
   "source": "df_o['placed_date'] = pd.to_datetime(df_o['placed_date'], unit='s')",
   "outputs": [
    {
     "name": "stderr",
     "output_type": "stream",
     "text": [
      "/tmp/ipykernel_17247/4012406512.py:1: SettingWithCopyWarning: \n",
      "A value is trying to be set on a copy of a slice from a DataFrame.\n",
      "Try using .loc[row_indexer,col_indexer] = value instead\n",
      "\n",
      "See the caveats in the documentation: https://pandas.pydata.org/pandas-docs/stable/user_guide/indexing.html#returning-a-view-versus-a-copy\n",
      "  df_o['placed_date'] = pd.to_datetime(df_o['placed_date'], unit='s')\n"
     ]
    }
   ],
   "execution_count": 17
  },
  {
   "cell_type": "code",
   "metadata": {
    "ExecuteTime": {
     "end_time": "2024-07-20T22:23:16.534994Z",
     "start_time": "2024-07-20T22:23:16.523308Z"
    }
   },
   "source": "df_o['placed_date'] = pd.to_datetime(df_o['placed_date']).dt.date",
   "outputs": [
    {
     "name": "stderr",
     "output_type": "stream",
     "text": [
      "/tmp/ipykernel_17247/1042538051.py:1: SettingWithCopyWarning: \n",
      "A value is trying to be set on a copy of a slice from a DataFrame.\n",
      "Try using .loc[row_indexer,col_indexer] = value instead\n",
      "\n",
      "See the caveats in the documentation: https://pandas.pydata.org/pandas-docs/stable/user_guide/indexing.html#returning-a-view-versus-a-copy\n",
      "  df_o['placed_date'] = pd.to_datetime(df_o['placed_date']).dt.date\n"
     ]
    }
   ],
   "execution_count": 18
  },
  {
   "cell_type": "code",
   "metadata": {
    "ExecuteTime": {
     "end_time": "2024-07-20T22:23:16.545460Z",
     "start_time": "2024-07-20T22:23:16.535644Z"
    }
   },
   "source": "products_df.columns = [col.split('.')[1] for col in products_df.columns]",
   "outputs": [],
   "execution_count": 19
  },
  {
   "cell_type": "code",
   "metadata": {
    "ExecuteTime": {
     "end_time": "2024-07-20T22:23:16.562583Z",
     "start_time": "2024-07-20T22:23:16.546106Z"
    }
   },
   "source": [
    "products_df.head()"
   ],
   "outputs": [
    {
     "data": {
      "text/plain": [
       "       id  status  product_type                 template  vendor  import_id  \\\n",
       "0  2310.0     0.0           NaN  sub-product-detail.html     1.0        3.0   \n",
       "1   177.0     1.0           NaN  sub-product-detail.html     1.0        3.0   \n",
       "2     1.0     0.0           NaN  sub-product-detail.html     1.0        3.0   \n",
       "3   983.0     0.0           NaN  sub-product-detail.html     1.0        3.0   \n",
       "4   991.0     1.0           NaN  sub-product-detail.html     1.0        3.0   \n",
       "\n",
       "                                          name  \\\n",
       "0                  Basic Steel Rollators,Green   \n",
       "1                           Urinary Drain Bags   \n",
       "2  SensiCare Nitrile Exam Gloves,Blue,XX-Large   \n",
       "3                  Basket for 2-Button Walkers   \n",
       "4                        TENS 3000 Analog Unit   \n",
       "\n",
       "                                        display_name  menu_name  list_price  \\\n",
       "0  Basic Lightweight Rollators For Adults, With S...        NaN       80.70   \n",
       "1                                 Urinary Drain Bags        NaN       14.41   \n",
       "2      SensiCare Nitrile Exam Gloves, Blue, XX-Large        NaN       96.29   \n",
       "3                        Basket for 2-Button Walkers        NaN       27.38   \n",
       "4                              TENS 3000 Analog Unit        NaN       50.47   \n",
       "\n",
       "   ...  google_shopping_label  product_option             size  material  \\\n",
       "0  ...                    NaN             NaN              NaN       NaN   \n",
       "1  ...                    NaN             NaN              NaN       NaN   \n",
       "2  ...                    NaN             NaN  2 x Extra large   Nitrile   \n",
       "3  ...                    NaN             NaN              NaN       NaN   \n",
       "4  ...                    NaN             NaN              NaN       NaN   \n",
       "\n",
       "   arm_style  leg_style  seat_size  family_id  saved_status freight_cost  \n",
       "0        NaN        NaN        NaN    PF61071           0.0          NaN  \n",
       "1        NaN        NaN        NaN    PF02132           NaN          NaN  \n",
       "2        NaN        NaN        NaN    PF00342           0.0          NaN  \n",
       "3        NaN        NaN        NaN    PF04970           NaN          NaN  \n",
       "4        NaN        NaN        NaN    PF03045           NaN          NaN  \n",
       "\n",
       "[5 rows x 98 columns]"
      ],
      "text/html": [
       "<div>\n",
       "<style scoped>\n",
       "    .dataframe tbody tr th:only-of-type {\n",
       "        vertical-align: middle;\n",
       "    }\n",
       "\n",
       "    .dataframe tbody tr th {\n",
       "        vertical-align: top;\n",
       "    }\n",
       "\n",
       "    .dataframe thead th {\n",
       "        text-align: right;\n",
       "    }\n",
       "</style>\n",
       "<table border=\"1\" class=\"dataframe\">\n",
       "  <thead>\n",
       "    <tr style=\"text-align: right;\">\n",
       "      <th></th>\n",
       "      <th>id</th>\n",
       "      <th>status</th>\n",
       "      <th>product_type</th>\n",
       "      <th>template</th>\n",
       "      <th>vendor</th>\n",
       "      <th>import_id</th>\n",
       "      <th>name</th>\n",
       "      <th>display_name</th>\n",
       "      <th>menu_name</th>\n",
       "      <th>list_price</th>\n",
       "      <th>...</th>\n",
       "      <th>google_shopping_label</th>\n",
       "      <th>product_option</th>\n",
       "      <th>size</th>\n",
       "      <th>material</th>\n",
       "      <th>arm_style</th>\n",
       "      <th>leg_style</th>\n",
       "      <th>seat_size</th>\n",
       "      <th>family_id</th>\n",
       "      <th>saved_status</th>\n",
       "      <th>freight_cost</th>\n",
       "    </tr>\n",
       "  </thead>\n",
       "  <tbody>\n",
       "    <tr>\n",
       "      <th>0</th>\n",
       "      <td>2310.0</td>\n",
       "      <td>0.0</td>\n",
       "      <td>NaN</td>\n",
       "      <td>sub-product-detail.html</td>\n",
       "      <td>1.0</td>\n",
       "      <td>3.0</td>\n",
       "      <td>Basic Steel Rollators,Green</td>\n",
       "      <td>Basic Lightweight Rollators For Adults, With S...</td>\n",
       "      <td>NaN</td>\n",
       "      <td>80.70</td>\n",
       "      <td>...</td>\n",
       "      <td>NaN</td>\n",
       "      <td>NaN</td>\n",
       "      <td>NaN</td>\n",
       "      <td>NaN</td>\n",
       "      <td>NaN</td>\n",
       "      <td>NaN</td>\n",
       "      <td>NaN</td>\n",
       "      <td>PF61071</td>\n",
       "      <td>0.0</td>\n",
       "      <td>NaN</td>\n",
       "    </tr>\n",
       "    <tr>\n",
       "      <th>1</th>\n",
       "      <td>177.0</td>\n",
       "      <td>1.0</td>\n",
       "      <td>NaN</td>\n",
       "      <td>sub-product-detail.html</td>\n",
       "      <td>1.0</td>\n",
       "      <td>3.0</td>\n",
       "      <td>Urinary Drain Bags</td>\n",
       "      <td>Urinary Drain Bags</td>\n",
       "      <td>NaN</td>\n",
       "      <td>14.41</td>\n",
       "      <td>...</td>\n",
       "      <td>NaN</td>\n",
       "      <td>NaN</td>\n",
       "      <td>NaN</td>\n",
       "      <td>NaN</td>\n",
       "      <td>NaN</td>\n",
       "      <td>NaN</td>\n",
       "      <td>NaN</td>\n",
       "      <td>PF02132</td>\n",
       "      <td>NaN</td>\n",
       "      <td>NaN</td>\n",
       "    </tr>\n",
       "    <tr>\n",
       "      <th>2</th>\n",
       "      <td>1.0</td>\n",
       "      <td>0.0</td>\n",
       "      <td>NaN</td>\n",
       "      <td>sub-product-detail.html</td>\n",
       "      <td>1.0</td>\n",
       "      <td>3.0</td>\n",
       "      <td>SensiCare Nitrile Exam Gloves,Blue,XX-Large</td>\n",
       "      <td>SensiCare Nitrile Exam Gloves, Blue, XX-Large</td>\n",
       "      <td>NaN</td>\n",
       "      <td>96.29</td>\n",
       "      <td>...</td>\n",
       "      <td>NaN</td>\n",
       "      <td>NaN</td>\n",
       "      <td>2 x Extra large</td>\n",
       "      <td>Nitrile</td>\n",
       "      <td>NaN</td>\n",
       "      <td>NaN</td>\n",
       "      <td>NaN</td>\n",
       "      <td>PF00342</td>\n",
       "      <td>0.0</td>\n",
       "      <td>NaN</td>\n",
       "    </tr>\n",
       "    <tr>\n",
       "      <th>3</th>\n",
       "      <td>983.0</td>\n",
       "      <td>0.0</td>\n",
       "      <td>NaN</td>\n",
       "      <td>sub-product-detail.html</td>\n",
       "      <td>1.0</td>\n",
       "      <td>3.0</td>\n",
       "      <td>Basket for 2-Button Walkers</td>\n",
       "      <td>Basket for 2-Button Walkers</td>\n",
       "      <td>NaN</td>\n",
       "      <td>27.38</td>\n",
       "      <td>...</td>\n",
       "      <td>NaN</td>\n",
       "      <td>NaN</td>\n",
       "      <td>NaN</td>\n",
       "      <td>NaN</td>\n",
       "      <td>NaN</td>\n",
       "      <td>NaN</td>\n",
       "      <td>NaN</td>\n",
       "      <td>PF04970</td>\n",
       "      <td>NaN</td>\n",
       "      <td>NaN</td>\n",
       "    </tr>\n",
       "    <tr>\n",
       "      <th>4</th>\n",
       "      <td>991.0</td>\n",
       "      <td>1.0</td>\n",
       "      <td>NaN</td>\n",
       "      <td>sub-product-detail.html</td>\n",
       "      <td>1.0</td>\n",
       "      <td>3.0</td>\n",
       "      <td>TENS 3000 Analog Unit</td>\n",
       "      <td>TENS 3000 Analog Unit</td>\n",
       "      <td>NaN</td>\n",
       "      <td>50.47</td>\n",
       "      <td>...</td>\n",
       "      <td>NaN</td>\n",
       "      <td>NaN</td>\n",
       "      <td>NaN</td>\n",
       "      <td>NaN</td>\n",
       "      <td>NaN</td>\n",
       "      <td>NaN</td>\n",
       "      <td>NaN</td>\n",
       "      <td>PF03045</td>\n",
       "      <td>NaN</td>\n",
       "      <td>NaN</td>\n",
       "    </tr>\n",
       "  </tbody>\n",
       "</table>\n",
       "<p>5 rows × 98 columns</p>\n",
       "</div>"
      ]
     },
     "execution_count": 20,
     "metadata": {},
     "output_type": "execute_result"
    }
   ],
   "execution_count": 20
  },
  {
   "cell_type": "code",
   "metadata": {
    "ExecuteTime": {
     "end_time": "2024-07-20T22:23:16.576650Z",
     "start_time": "2024-07-20T22:23:16.563328Z"
    }
   },
   "source": [
    "products_df.isnull().sum()"
   ],
   "outputs": [
    {
     "data": {
      "text/plain": [
       "id                 0\n",
       "status             0\n",
       "product_type    4032\n",
       "template          64\n",
       "vendor             0\n",
       "                ... \n",
       "leg_style       4032\n",
       "seat_size       3870\n",
       "family_id        168\n",
       "saved_status     107\n",
       "freight_cost    4032\n",
       "Length: 98, dtype: int64"
      ]
     },
     "execution_count": 21,
     "metadata": {},
     "output_type": "execute_result"
    }
   ],
   "execution_count": 21
  },
  {
   "cell_type": "code",
   "metadata": {
    "ExecuteTime": {
     "end_time": "2024-07-20T22:23:16.587905Z",
     "start_time": "2024-07-20T22:23:16.577433Z"
    }
   },
   "source": "df_c.info()",
   "outputs": [
    {
     "name": "stdout",
     "output_type": "stream",
     "text": [
      "<class 'pandas.core.frame.DataFrame'>\n",
      "Index: 4032 entries, 0 to 4193\n",
      "Data columns (total 15 columns):\n",
      " #   Column         Non-Null Count  Dtype  \n",
      "---  ------         --------------  -----  \n",
      " 0   id             4032 non-null   int64  \n",
      " 1   fname          4032 non-null   object \n",
      " 2   lname          4032 non-null   object \n",
      " 3   company        707 non-null    object \n",
      " 4   create_date    4032 non-null   object \n",
      " 5   status         91 non-null     float64\n",
      " 6   mailing        2056 non-null   float64\n",
      " 7   reminders      0 non-null      float64\n",
      " 8   tax_exempt     5 non-null      float64\n",
      " 9   account_id     2 non-null      float64\n",
      " 10  sales_rep      0 non-null      float64\n",
      " 11  rewards        0 non-null      float64\n",
      " 12  profile_id     0 non-null      float64\n",
      " 13  last_modified  4032 non-null   object \n",
      " 14  customer_type  4032 non-null   int64  \n",
      "dtypes: float64(8), int64(2), object(5)\n",
      "memory usage: 504.0+ KB\n"
     ]
    }
   ],
   "execution_count": 22
  },
  {
   "cell_type": "code",
   "metadata": {
    "ExecuteTime": {
     "end_time": "2024-07-20T22:23:16.616672Z",
     "start_time": "2024-07-20T22:23:16.588675Z"
    }
   },
   "source": [
    "# Fill null values in df_o.item_cost with matching values from products_df.cost\n",
    "df_o['item_cost'] = df_o.apply(\n",
    "    lambda row: products_df.loc[products_df['id'] == row['item_product_id'], 'cost'].values[0] \n",
    "    if pd.isnull(row['item_cost']) else row['item_cost'], \n",
    "    axis=1\n",
    ")"
   ],
   "outputs": [
    {
     "name": "stderr",
     "output_type": "stream",
     "text": [
      "/tmp/ipykernel_17247/2408764976.py:2: SettingWithCopyWarning: \n",
      "A value is trying to be set on a copy of a slice from a DataFrame.\n",
      "Try using .loc[row_indexer,col_indexer] = value instead\n",
      "\n",
      "See the caveats in the documentation: https://pandas.pydata.org/pandas-docs/stable/user_guide/indexing.html#returning-a-view-versus-a-copy\n",
      "  df_o['item_cost'] = df_o.apply(\n"
     ]
    }
   ],
   "execution_count": 23
  },
  {
   "cell_type": "code",
   "metadata": {
    "ExecuteTime": {
     "end_time": "2024-07-20T22:23:16.622569Z",
     "start_time": "2024-07-20T22:23:16.617200Z"
    }
   },
   "source": "df_o[df_o[\"item_cost\"].isnull()]",
   "outputs": [
    {
     "data": {
      "text/plain": [
       "Empty DataFrame\n",
       "Columns: [id, customer_id, fname, lname, company, order_number, reorder_id, external_source, external_id, currency, sales_rep, subtotal, tax, shipping, coupon_id, coupon_amount, gift_id, gift_amount, fee_name, fee_amount, discount_name, discount_amount, total, balance_due, shipping_carrier, shipping_method, shipping_trans, shipping_flags, weight, tracking, payment_status, payment_date, payment_user, payment_type, payment_method, payment_amount, purchase_order, payment_id, payment_code, payment_ref, status, placed_date, updated_date, shipped_date, comments, notes, registry_id, gift_message, website, mailing, flags, partial_ship, customer_type, item_id, item_parent, item_product_id, item_product_name, item_attributes, item_attribute_names, item_attribute_prices, item_qty, item_price, item_cost, item_registry_item, item_related_id, item_reorder_frequency, item_account_id, item_flags]\n",
       "Index: []\n",
       "\n",
       "[0 rows x 68 columns]"
      ],
      "text/html": [
       "<div>\n",
       "<style scoped>\n",
       "    .dataframe tbody tr th:only-of-type {\n",
       "        vertical-align: middle;\n",
       "    }\n",
       "\n",
       "    .dataframe tbody tr th {\n",
       "        vertical-align: top;\n",
       "    }\n",
       "\n",
       "    .dataframe thead th {\n",
       "        text-align: right;\n",
       "    }\n",
       "</style>\n",
       "<table border=\"1\" class=\"dataframe\">\n",
       "  <thead>\n",
       "    <tr style=\"text-align: right;\">\n",
       "      <th></th>\n",
       "      <th>id</th>\n",
       "      <th>customer_id</th>\n",
       "      <th>fname</th>\n",
       "      <th>lname</th>\n",
       "      <th>company</th>\n",
       "      <th>order_number</th>\n",
       "      <th>reorder_id</th>\n",
       "      <th>external_source</th>\n",
       "      <th>external_id</th>\n",
       "      <th>currency</th>\n",
       "      <th>...</th>\n",
       "      <th>item_attribute_names</th>\n",
       "      <th>item_attribute_prices</th>\n",
       "      <th>item_qty</th>\n",
       "      <th>item_price</th>\n",
       "      <th>item_cost</th>\n",
       "      <th>item_registry_item</th>\n",
       "      <th>item_related_id</th>\n",
       "      <th>item_reorder_frequency</th>\n",
       "      <th>item_account_id</th>\n",
       "      <th>item_flags</th>\n",
       "    </tr>\n",
       "  </thead>\n",
       "  <tbody>\n",
       "  </tbody>\n",
       "</table>\n",
       "<p>0 rows × 68 columns</p>\n",
       "</div>"
      ]
     },
     "execution_count": 24,
     "metadata": {},
     "output_type": "execute_result"
    }
   ],
   "execution_count": 24
  },
  {
   "cell_type": "code",
   "metadata": {
    "ExecuteTime": {
     "end_time": "2024-07-20T22:23:16.638871Z",
     "start_time": "2024-07-20T22:23:16.623090Z"
    }
   },
   "source": "df_o.head()",
   "outputs": [
    {
     "data": {
      "text/plain": [
       "     id  customer_id    fname     lname   company order_number  reorder_id  \\\n",
       "0  3758          797  Christy      Dill  Company0         3758         NaN   \n",
       "1    23            3     John     Smith  Company1           23         NaN   \n",
       "2  9531            3     John     Smith  Company1         9531         NaN   \n",
       "3    29            4    James  Anderson       NaN           29         NaN   \n",
       "4    30            5  Abraham    Pollak  Company3           30         NaN   \n",
       "\n",
       "  external_source  external_id currency  ...  item_attribute_names  \\\n",
       "0             NaN          NaN      USD  ...                   NaN   \n",
       "1             NaN          NaN      USD  ...                   NaN   \n",
       "2             NaN          NaN      USD  ...                   NaN   \n",
       "3            Ebay          NaN      USD  ...                   NaN   \n",
       "4             NaN          NaN      USD  ...                   NaN   \n",
       "\n",
       "   item_attribute_prices  item_qty  item_price  item_cost  item_registry_item  \\\n",
       "0                    NaN         1       57.20      44.00                 NaN   \n",
       "1                    NaN         4        5.00       1.87                 NaN   \n",
       "2                    NaN         1       68.78      52.50                 NaN   \n",
       "3                    NaN         1       19.56      12.62                 NaN   \n",
       "4                    NaN         1       36.05      25.75                 NaN   \n",
       "\n",
       "   item_related_id  item_reorder_frequency item_account_id  item_flags  \n",
       "0              NaN                     NaN             NaN         NaN  \n",
       "1              NaN                     NaN             NaN         2.0  \n",
       "2              NaN                     NaN             NaN         NaN  \n",
       "3              NaN                     NaN             NaN         NaN  \n",
       "4              NaN                     NaN             NaN         NaN  \n",
       "\n",
       "[5 rows x 68 columns]"
      ],
      "text/html": [
       "<div>\n",
       "<style scoped>\n",
       "    .dataframe tbody tr th:only-of-type {\n",
       "        vertical-align: middle;\n",
       "    }\n",
       "\n",
       "    .dataframe tbody tr th {\n",
       "        vertical-align: top;\n",
       "    }\n",
       "\n",
       "    .dataframe thead th {\n",
       "        text-align: right;\n",
       "    }\n",
       "</style>\n",
       "<table border=\"1\" class=\"dataframe\">\n",
       "  <thead>\n",
       "    <tr style=\"text-align: right;\">\n",
       "      <th></th>\n",
       "      <th>id</th>\n",
       "      <th>customer_id</th>\n",
       "      <th>fname</th>\n",
       "      <th>lname</th>\n",
       "      <th>company</th>\n",
       "      <th>order_number</th>\n",
       "      <th>reorder_id</th>\n",
       "      <th>external_source</th>\n",
       "      <th>external_id</th>\n",
       "      <th>currency</th>\n",
       "      <th>...</th>\n",
       "      <th>item_attribute_names</th>\n",
       "      <th>item_attribute_prices</th>\n",
       "      <th>item_qty</th>\n",
       "      <th>item_price</th>\n",
       "      <th>item_cost</th>\n",
       "      <th>item_registry_item</th>\n",
       "      <th>item_related_id</th>\n",
       "      <th>item_reorder_frequency</th>\n",
       "      <th>item_account_id</th>\n",
       "      <th>item_flags</th>\n",
       "    </tr>\n",
       "  </thead>\n",
       "  <tbody>\n",
       "    <tr>\n",
       "      <th>0</th>\n",
       "      <td>3758</td>\n",
       "      <td>797</td>\n",
       "      <td>Christy</td>\n",
       "      <td>Dill</td>\n",
       "      <td>Company0</td>\n",
       "      <td>3758</td>\n",
       "      <td>NaN</td>\n",
       "      <td>NaN</td>\n",
       "      <td>NaN</td>\n",
       "      <td>USD</td>\n",
       "      <td>...</td>\n",
       "      <td>NaN</td>\n",
       "      <td>NaN</td>\n",
       "      <td>1</td>\n",
       "      <td>57.20</td>\n",
       "      <td>44.00</td>\n",
       "      <td>NaN</td>\n",
       "      <td>NaN</td>\n",
       "      <td>NaN</td>\n",
       "      <td>NaN</td>\n",
       "      <td>NaN</td>\n",
       "    </tr>\n",
       "    <tr>\n",
       "      <th>1</th>\n",
       "      <td>23</td>\n",
       "      <td>3</td>\n",
       "      <td>John</td>\n",
       "      <td>Smith</td>\n",
       "      <td>Company1</td>\n",
       "      <td>23</td>\n",
       "      <td>NaN</td>\n",
       "      <td>NaN</td>\n",
       "      <td>NaN</td>\n",
       "      <td>USD</td>\n",
       "      <td>...</td>\n",
       "      <td>NaN</td>\n",
       "      <td>NaN</td>\n",
       "      <td>4</td>\n",
       "      <td>5.00</td>\n",
       "      <td>1.87</td>\n",
       "      <td>NaN</td>\n",
       "      <td>NaN</td>\n",
       "      <td>NaN</td>\n",
       "      <td>NaN</td>\n",
       "      <td>2.0</td>\n",
       "    </tr>\n",
       "    <tr>\n",
       "      <th>2</th>\n",
       "      <td>9531</td>\n",
       "      <td>3</td>\n",
       "      <td>John</td>\n",
       "      <td>Smith</td>\n",
       "      <td>Company1</td>\n",
       "      <td>9531</td>\n",
       "      <td>NaN</td>\n",
       "      <td>NaN</td>\n",
       "      <td>NaN</td>\n",
       "      <td>USD</td>\n",
       "      <td>...</td>\n",
       "      <td>NaN</td>\n",
       "      <td>NaN</td>\n",
       "      <td>1</td>\n",
       "      <td>68.78</td>\n",
       "      <td>52.50</td>\n",
       "      <td>NaN</td>\n",
       "      <td>NaN</td>\n",
       "      <td>NaN</td>\n",
       "      <td>NaN</td>\n",
       "      <td>NaN</td>\n",
       "    </tr>\n",
       "    <tr>\n",
       "      <th>3</th>\n",
       "      <td>29</td>\n",
       "      <td>4</td>\n",
       "      <td>James</td>\n",
       "      <td>Anderson</td>\n",
       "      <td>NaN</td>\n",
       "      <td>29</td>\n",
       "      <td>NaN</td>\n",
       "      <td>Ebay</td>\n",
       "      <td>NaN</td>\n",
       "      <td>USD</td>\n",
       "      <td>...</td>\n",
       "      <td>NaN</td>\n",
       "      <td>NaN</td>\n",
       "      <td>1</td>\n",
       "      <td>19.56</td>\n",
       "      <td>12.62</td>\n",
       "      <td>NaN</td>\n",
       "      <td>NaN</td>\n",
       "      <td>NaN</td>\n",
       "      <td>NaN</td>\n",
       "      <td>NaN</td>\n",
       "    </tr>\n",
       "    <tr>\n",
       "      <th>4</th>\n",
       "      <td>30</td>\n",
       "      <td>5</td>\n",
       "      <td>Abraham</td>\n",
       "      <td>Pollak</td>\n",
       "      <td>Company3</td>\n",
       "      <td>30</td>\n",
       "      <td>NaN</td>\n",
       "      <td>NaN</td>\n",
       "      <td>NaN</td>\n",
       "      <td>USD</td>\n",
       "      <td>...</td>\n",
       "      <td>NaN</td>\n",
       "      <td>NaN</td>\n",
       "      <td>1</td>\n",
       "      <td>36.05</td>\n",
       "      <td>25.75</td>\n",
       "      <td>NaN</td>\n",
       "      <td>NaN</td>\n",
       "      <td>NaN</td>\n",
       "      <td>NaN</td>\n",
       "      <td>NaN</td>\n",
       "    </tr>\n",
       "  </tbody>\n",
       "</table>\n",
       "<p>5 rows × 68 columns</p>\n",
       "</div>"
      ]
     },
     "execution_count": 25,
     "metadata": {},
     "output_type": "execute_result"
    }
   ],
   "execution_count": 25
  },
  {
   "cell_type": "code",
   "metadata": {
    "ExecuteTime": {
     "end_time": "2024-07-20T22:23:16.649142Z",
     "start_time": "2024-07-20T22:23:16.639393Z"
    }
   },
   "source": "df_o[\"net_profit\"] = df_o[\"item_qty\"] * (df_o[\"item_price\"] - df_o[\"item_cost\"])",
   "outputs": [
    {
     "name": "stderr",
     "output_type": "stream",
     "text": [
      "/tmp/ipykernel_17247/1284350025.py:1: SettingWithCopyWarning: \n",
      "A value is trying to be set on a copy of a slice from a DataFrame.\n",
      "Try using .loc[row_indexer,col_indexer] = value instead\n",
      "\n",
      "See the caveats in the documentation: https://pandas.pydata.org/pandas-docs/stable/user_guide/indexing.html#returning-a-view-versus-a-copy\n",
      "  df_o[\"net_profit\"] = df_o[\"item_qty\"] * (df_o[\"item_price\"] - df_o[\"item_cost\"])\n"
     ]
    }
   ],
   "execution_count": 26
  },
  {
   "cell_type": "code",
   "metadata": {
    "ExecuteTime": {
     "end_time": "2024-07-20T22:23:16.914394Z",
     "start_time": "2024-07-20T22:23:16.651147Z"
    }
   },
   "source": [
    "import sqlite3\n",
    "import pandas as pd\n",
    "\n",
    "# Create a SQLite database\n",
    "conn = sqlite3.connect('my_database.db')\n",
    "\n",
    "# Write the DataFrames to the database\n",
    "df_c.to_sql('customers', conn, if_exists='replace', index=False)\n",
    "products_df.to_sql('products', conn, if_exists='replace', index=False)\n",
    "df_o.to_sql('orders', conn, if_exists='replace', index=False)\n",
    "\n",
    "# Close the connection\n",
    "conn.close()"
   ],
   "outputs": [],
   "execution_count": 27
  },
  {
   "cell_type": "code",
   "metadata": {
    "ExecuteTime": {
     "end_time": "2024-07-20T22:23:17.182185Z",
     "start_time": "2024-07-20T22:23:16.915315Z"
    }
   },
   "source": [
    "# the connection\n",
    "conn = sqlite3.connect('my_database.db')\n",
    "\n",
    "# Query\n",
    "rfm_df = pd.read_sql_query(\"\"\"\n",
    "        SELECT  customers.id as customer_id,\n",
    "                customers.customer_type as customer_type,\n",
    "                orders.id as order_id,\n",
    "                orders.placed_date as order_date,\n",
    "                orders.total as order_total,\n",
    "                orders.item_qty as item_count,\n",
    "                orders.item_price as item_price,\n",
    "                orders.payment_status as pay_status,\n",
    "                products.id as product_id,\n",
    "                orders.net_profit as net_profit          \n",
    "        FROM orders \n",
    "        JOIN customers on customers.id = orders.customer_id\n",
    "        JOIN products ON orders.item_product_id = products.id\n",
    "        \"\"\", conn)\n",
    "\n",
    "# Close the connection\n",
    "conn.close()"
   ],
   "outputs": [],
   "execution_count": 28
  },
  {
   "cell_type": "code",
   "metadata": {
    "ExecuteTime": {
     "end_time": "2024-07-20T22:23:17.188036Z",
     "start_time": "2024-07-20T22:23:17.182837Z"
    }
   },
   "source": [
    "rfm_df.head()"
   ],
   "outputs": [
    {
     "data": {
      "text/plain": [
       "   customer_id  customer_type  order_id  order_date  order_total  item_count  \\\n",
       "0          797              0      3758  2015-03-10        64.29           1   \n",
       "1          797              0      3758  2015-03-10        64.29           1   \n",
       "2            3              0        23  2013-12-03        29.99           4   \n",
       "3            3              0        23  2013-12-03        29.99           4   \n",
       "4            3              0      9531  2015-12-08        78.73           1   \n",
       "\n",
       "   item_price  pay_status  product_id  net_profit  \n",
       "0       57.20         3.0      2310.0       13.20  \n",
       "1       57.20         3.0      2310.0       13.20  \n",
       "2        5.00         3.0       177.0       12.52  \n",
       "3        5.00         3.0       177.0       12.52  \n",
       "4       68.78         3.0         1.0       16.28  "
      ],
      "text/html": [
       "<div>\n",
       "<style scoped>\n",
       "    .dataframe tbody tr th:only-of-type {\n",
       "        vertical-align: middle;\n",
       "    }\n",
       "\n",
       "    .dataframe tbody tr th {\n",
       "        vertical-align: top;\n",
       "    }\n",
       "\n",
       "    .dataframe thead th {\n",
       "        text-align: right;\n",
       "    }\n",
       "</style>\n",
       "<table border=\"1\" class=\"dataframe\">\n",
       "  <thead>\n",
       "    <tr style=\"text-align: right;\">\n",
       "      <th></th>\n",
       "      <th>customer_id</th>\n",
       "      <th>customer_type</th>\n",
       "      <th>order_id</th>\n",
       "      <th>order_date</th>\n",
       "      <th>order_total</th>\n",
       "      <th>item_count</th>\n",
       "      <th>item_price</th>\n",
       "      <th>pay_status</th>\n",
       "      <th>product_id</th>\n",
       "      <th>net_profit</th>\n",
       "    </tr>\n",
       "  </thead>\n",
       "  <tbody>\n",
       "    <tr>\n",
       "      <th>0</th>\n",
       "      <td>797</td>\n",
       "      <td>0</td>\n",
       "      <td>3758</td>\n",
       "      <td>2015-03-10</td>\n",
       "      <td>64.29</td>\n",
       "      <td>1</td>\n",
       "      <td>57.20</td>\n",
       "      <td>3.0</td>\n",
       "      <td>2310.0</td>\n",
       "      <td>13.20</td>\n",
       "    </tr>\n",
       "    <tr>\n",
       "      <th>1</th>\n",
       "      <td>797</td>\n",
       "      <td>0</td>\n",
       "      <td>3758</td>\n",
       "      <td>2015-03-10</td>\n",
       "      <td>64.29</td>\n",
       "      <td>1</td>\n",
       "      <td>57.20</td>\n",
       "      <td>3.0</td>\n",
       "      <td>2310.0</td>\n",
       "      <td>13.20</td>\n",
       "    </tr>\n",
       "    <tr>\n",
       "      <th>2</th>\n",
       "      <td>3</td>\n",
       "      <td>0</td>\n",
       "      <td>23</td>\n",
       "      <td>2013-12-03</td>\n",
       "      <td>29.99</td>\n",
       "      <td>4</td>\n",
       "      <td>5.00</td>\n",
       "      <td>3.0</td>\n",
       "      <td>177.0</td>\n",
       "      <td>12.52</td>\n",
       "    </tr>\n",
       "    <tr>\n",
       "      <th>3</th>\n",
       "      <td>3</td>\n",
       "      <td>0</td>\n",
       "      <td>23</td>\n",
       "      <td>2013-12-03</td>\n",
       "      <td>29.99</td>\n",
       "      <td>4</td>\n",
       "      <td>5.00</td>\n",
       "      <td>3.0</td>\n",
       "      <td>177.0</td>\n",
       "      <td>12.52</td>\n",
       "    </tr>\n",
       "    <tr>\n",
       "      <th>4</th>\n",
       "      <td>3</td>\n",
       "      <td>0</td>\n",
       "      <td>9531</td>\n",
       "      <td>2015-12-08</td>\n",
       "      <td>78.73</td>\n",
       "      <td>1</td>\n",
       "      <td>68.78</td>\n",
       "      <td>3.0</td>\n",
       "      <td>1.0</td>\n",
       "      <td>16.28</td>\n",
       "    </tr>\n",
       "  </tbody>\n",
       "</table>\n",
       "</div>"
      ]
     },
     "execution_count": 29,
     "metadata": {},
     "output_type": "execute_result"
    }
   ],
   "execution_count": 29
  },
  {
   "cell_type": "code",
   "metadata": {
    "ExecuteTime": {
     "end_time": "2024-07-20T22:23:17.202548Z",
     "start_time": "2024-07-20T22:23:17.188677Z"
    }
   },
   "source": [
    "rfm_df.isnull().sum()"
   ],
   "outputs": [
    {
     "data": {
      "text/plain": [
       "customer_id      0\n",
       "customer_type    0\n",
       "order_id         0\n",
       "order_date       0\n",
       "order_total      0\n",
       "item_count       0\n",
       "item_price       0\n",
       "pay_status       0\n",
       "product_id       0\n",
       "net_profit       0\n",
       "dtype: int64"
      ]
     },
     "execution_count": 30,
     "metadata": {},
     "output_type": "execute_result"
    }
   ],
   "execution_count": 30
  },
  {
   "cell_type": "code",
   "metadata": {
    "ExecuteTime": {
     "end_time": "2024-07-20T22:23:17.213991Z",
     "start_time": "2024-07-20T22:23:17.203294Z"
    }
   },
   "source": [
    "rfm_df.info()"
   ],
   "outputs": [
    {
     "name": "stdout",
     "output_type": "stream",
     "text": [
      "<class 'pandas.core.frame.DataFrame'>\n",
      "RangeIndex: 162682 entries, 0 to 162681\n",
      "Data columns (total 10 columns):\n",
      " #   Column         Non-Null Count   Dtype  \n",
      "---  ------         --------------   -----  \n",
      " 0   customer_id    162682 non-null  int64  \n",
      " 1   customer_type  162682 non-null  int64  \n",
      " 2   order_id       162682 non-null  int64  \n",
      " 3   order_date     162682 non-null  object \n",
      " 4   order_total    162682 non-null  float64\n",
      " 5   item_count     162682 non-null  int64  \n",
      " 6   item_price     162682 non-null  float64\n",
      " 7   pay_status     162682 non-null  float64\n",
      " 8   product_id     162682 non-null  float64\n",
      " 9   net_profit     162682 non-null  float64\n",
      "dtypes: float64(5), int64(4), object(1)\n",
      "memory usage: 12.4+ MB\n"
     ]
    }
   ],
   "execution_count": 31
  },
  {
   "cell_type": "code",
   "metadata": {
    "ExecuteTime": {
     "end_time": "2024-07-20T22:23:17.230936Z",
     "start_time": "2024-07-20T22:23:17.214626Z"
    }
   },
   "source": [
    "rfm_df['product_id'] = rfm_df['product_id'].astype('int64')\n",
    "rfm_df['pay_status'] = rfm_df['pay_status'].astype('int64')\n",
    "rfm_df['order_date'] = pd.to_datetime(rfm_df['order_date'])"
   ],
   "outputs": [],
   "execution_count": 32
  },
  {
   "cell_type": "code",
   "metadata": {
    "ExecuteTime": {
     "end_time": "2024-07-20T22:23:17.236824Z",
     "start_time": "2024-07-20T22:23:17.231887Z"
    }
   },
   "source": [
    "rfm_df.head()"
   ],
   "outputs": [
    {
     "data": {
      "text/plain": [
       "   customer_id  customer_type  order_id order_date  order_total  item_count  \\\n",
       "0          797              0      3758 2015-03-10        64.29           1   \n",
       "1          797              0      3758 2015-03-10        64.29           1   \n",
       "2            3              0        23 2013-12-03        29.99           4   \n",
       "3            3              0        23 2013-12-03        29.99           4   \n",
       "4            3              0      9531 2015-12-08        78.73           1   \n",
       "\n",
       "   item_price  pay_status  product_id  net_profit  \n",
       "0       57.20           3        2310       13.20  \n",
       "1       57.20           3        2310       13.20  \n",
       "2        5.00           3         177       12.52  \n",
       "3        5.00           3         177       12.52  \n",
       "4       68.78           3           1       16.28  "
      ],
      "text/html": [
       "<div>\n",
       "<style scoped>\n",
       "    .dataframe tbody tr th:only-of-type {\n",
       "        vertical-align: middle;\n",
       "    }\n",
       "\n",
       "    .dataframe tbody tr th {\n",
       "        vertical-align: top;\n",
       "    }\n",
       "\n",
       "    .dataframe thead th {\n",
       "        text-align: right;\n",
       "    }\n",
       "</style>\n",
       "<table border=\"1\" class=\"dataframe\">\n",
       "  <thead>\n",
       "    <tr style=\"text-align: right;\">\n",
       "      <th></th>\n",
       "      <th>customer_id</th>\n",
       "      <th>customer_type</th>\n",
       "      <th>order_id</th>\n",
       "      <th>order_date</th>\n",
       "      <th>order_total</th>\n",
       "      <th>item_count</th>\n",
       "      <th>item_price</th>\n",
       "      <th>pay_status</th>\n",
       "      <th>product_id</th>\n",
       "      <th>net_profit</th>\n",
       "    </tr>\n",
       "  </thead>\n",
       "  <tbody>\n",
       "    <tr>\n",
       "      <th>0</th>\n",
       "      <td>797</td>\n",
       "      <td>0</td>\n",
       "      <td>3758</td>\n",
       "      <td>2015-03-10</td>\n",
       "      <td>64.29</td>\n",
       "      <td>1</td>\n",
       "      <td>57.20</td>\n",
       "      <td>3</td>\n",
       "      <td>2310</td>\n",
       "      <td>13.20</td>\n",
       "    </tr>\n",
       "    <tr>\n",
       "      <th>1</th>\n",
       "      <td>797</td>\n",
       "      <td>0</td>\n",
       "      <td>3758</td>\n",
       "      <td>2015-03-10</td>\n",
       "      <td>64.29</td>\n",
       "      <td>1</td>\n",
       "      <td>57.20</td>\n",
       "      <td>3</td>\n",
       "      <td>2310</td>\n",
       "      <td>13.20</td>\n",
       "    </tr>\n",
       "    <tr>\n",
       "      <th>2</th>\n",
       "      <td>3</td>\n",
       "      <td>0</td>\n",
       "      <td>23</td>\n",
       "      <td>2013-12-03</td>\n",
       "      <td>29.99</td>\n",
       "      <td>4</td>\n",
       "      <td>5.00</td>\n",
       "      <td>3</td>\n",
       "      <td>177</td>\n",
       "      <td>12.52</td>\n",
       "    </tr>\n",
       "    <tr>\n",
       "      <th>3</th>\n",
       "      <td>3</td>\n",
       "      <td>0</td>\n",
       "      <td>23</td>\n",
       "      <td>2013-12-03</td>\n",
       "      <td>29.99</td>\n",
       "      <td>4</td>\n",
       "      <td>5.00</td>\n",
       "      <td>3</td>\n",
       "      <td>177</td>\n",
       "      <td>12.52</td>\n",
       "    </tr>\n",
       "    <tr>\n",
       "      <th>4</th>\n",
       "      <td>3</td>\n",
       "      <td>0</td>\n",
       "      <td>9531</td>\n",
       "      <td>2015-12-08</td>\n",
       "      <td>78.73</td>\n",
       "      <td>1</td>\n",
       "      <td>68.78</td>\n",
       "      <td>3</td>\n",
       "      <td>1</td>\n",
       "      <td>16.28</td>\n",
       "    </tr>\n",
       "  </tbody>\n",
       "</table>\n",
       "</div>"
      ]
     },
     "execution_count": 33,
     "metadata": {},
     "output_type": "execute_result"
    }
   ],
   "execution_count": 33
  },
  {
   "cell_type": "markdown",
   "metadata": {},
   "source": [
    "### RFM"
   ]
  },
  {
   "cell_type": "code",
   "metadata": {
    "ExecuteTime": {
     "end_time": "2024-07-20T22:23:17.289775Z",
     "start_time": "2024-07-20T22:23:17.237420Z"
    }
   },
   "source": [
    "\n",
    "# Calculate Recency\n",
    "rfm_df['Recency'] = (datetime.now().date() - rfm_df['order_date'].dt.date)\n",
    "\n",
    "# Calculate Frequency\n",
    "frequency_data = rfm_df.groupby('customer_id')['order_id'].count().reset_index()\n",
    "frequency_data.rename(columns={'order_id': 'Frequency'}, inplace=True)\n",
    "rfm_df = rfm_df.merge(frequency_data, on='customer_id', how='left')\n",
    "\n",
    "# Calculate Monetary Value\n",
    "monetary_data = rfm_df.groupby('customer_id')['order_total'].sum().reset_index()\n",
    "monetary_data.rename(columns={'order_total': 'MonetaryValue'}, inplace=True)\n",
    "rfm_df = rfm_df.merge(monetary_data, on='customer_id', how='left')"
   ],
   "outputs": [],
   "execution_count": 34
  },
  {
   "cell_type": "code",
   "metadata": {
    "ExecuteTime": {
     "end_time": "2024-07-20T22:23:17.297648Z",
     "start_time": "2024-07-20T22:23:17.290491Z"
    }
   },
   "source": [
    "rfm_df.sample(2)"
   ],
   "outputs": [
    {
     "data": {
      "text/plain": [
       "        customer_id  customer_type  order_id order_date  order_total  \\\n",
       "141432         2169              0     11435 2016-01-12       117.31   \n",
       "5281            213              0       941 2014-06-29       154.58   \n",
       "\n",
       "        item_count  item_price  pay_status  product_id  net_profit  \\\n",
       "141432           1       37.99           3        1862       18.01   \n",
       "5281             1       88.40           3        1867       20.40   \n",
       "\n",
       "                   Recency  Frequency  MonetaryValue  \n",
       "141432  3113 days, 0:00:00        196       22992.76  \n",
       "5281    3675 days, 0:00:00        972      133008.39  "
      ],
      "text/html": [
       "<div>\n",
       "<style scoped>\n",
       "    .dataframe tbody tr th:only-of-type {\n",
       "        vertical-align: middle;\n",
       "    }\n",
       "\n",
       "    .dataframe tbody tr th {\n",
       "        vertical-align: top;\n",
       "    }\n",
       "\n",
       "    .dataframe thead th {\n",
       "        text-align: right;\n",
       "    }\n",
       "</style>\n",
       "<table border=\"1\" class=\"dataframe\">\n",
       "  <thead>\n",
       "    <tr style=\"text-align: right;\">\n",
       "      <th></th>\n",
       "      <th>customer_id</th>\n",
       "      <th>customer_type</th>\n",
       "      <th>order_id</th>\n",
       "      <th>order_date</th>\n",
       "      <th>order_total</th>\n",
       "      <th>item_count</th>\n",
       "      <th>item_price</th>\n",
       "      <th>pay_status</th>\n",
       "      <th>product_id</th>\n",
       "      <th>net_profit</th>\n",
       "      <th>Recency</th>\n",
       "      <th>Frequency</th>\n",
       "      <th>MonetaryValue</th>\n",
       "    </tr>\n",
       "  </thead>\n",
       "  <tbody>\n",
       "    <tr>\n",
       "      <th>141432</th>\n",
       "      <td>2169</td>\n",
       "      <td>0</td>\n",
       "      <td>11435</td>\n",
       "      <td>2016-01-12</td>\n",
       "      <td>117.31</td>\n",
       "      <td>1</td>\n",
       "      <td>37.99</td>\n",
       "      <td>3</td>\n",
       "      <td>1862</td>\n",
       "      <td>18.01</td>\n",
       "      <td>3113 days, 0:00:00</td>\n",
       "      <td>196</td>\n",
       "      <td>22992.76</td>\n",
       "    </tr>\n",
       "    <tr>\n",
       "      <th>5281</th>\n",
       "      <td>213</td>\n",
       "      <td>0</td>\n",
       "      <td>941</td>\n",
       "      <td>2014-06-29</td>\n",
       "      <td>154.58</td>\n",
       "      <td>1</td>\n",
       "      <td>88.40</td>\n",
       "      <td>3</td>\n",
       "      <td>1867</td>\n",
       "      <td>20.40</td>\n",
       "      <td>3675 days, 0:00:00</td>\n",
       "      <td>972</td>\n",
       "      <td>133008.39</td>\n",
       "    </tr>\n",
       "  </tbody>\n",
       "</table>\n",
       "</div>"
      ]
     },
     "execution_count": 35,
     "metadata": {},
     "output_type": "execute_result"
    }
   ],
   "execution_count": 35
  },
  {
   "cell_type": "code",
   "metadata": {
    "ExecuteTime": {
     "end_time": "2024-07-20T22:23:17.537282Z",
     "start_time": "2024-07-20T22:23:17.298178Z"
    }
   },
   "source": [
    "rfm_df['Recency'] = rfm_df['Recency'].astype(str)\n",
    "rfm_df['Recency'] = rfm_df['Recency'].str.extract('(\\d+)').astype(int)"
   ],
   "outputs": [],
   "execution_count": 36
  },
  {
   "cell_type": "code",
   "metadata": {
    "ExecuteTime": {
     "end_time": "2024-07-20T22:23:17.549880Z",
     "start_time": "2024-07-20T22:23:17.538078Z"
    }
   },
   "source": [
    "# Define scoring criteria for each RFM value\n",
    "recency_scores   = [5, 4, 3, 2, 1]  # Higher score for lower recency (more recent)\n",
    "frequency_scores = [1, 2, 3, 4, 5]  # Higher score for higher frequency\n",
    "monetary_scores  = [1, 2, 3, 4, 5]  # Higher score for higher monetary value\n",
    "\n",
    "# Calculate RFM scores\n",
    "rfm_df['RecencyScore'] = pd.cut(rfm_df['Recency'], bins=5, labels=recency_scores)\n",
    "rfm_df['FrequencyScore'] = pd.cut(rfm_df['Frequency'], bins=5, labels=frequency_scores)\n",
    "rfm_df['MonetaryScore'] = pd.cut(rfm_df['MonetaryValue'], bins=5, labels=monetary_scores)"
   ],
   "outputs": [],
   "execution_count": 37
  },
  {
   "cell_type": "code",
   "metadata": {
    "ExecuteTime": {
     "end_time": "2024-07-20T22:23:17.567562Z",
     "start_time": "2024-07-20T22:23:17.550577Z"
    }
   },
   "source": [
    "# Convert RFM scores to numeric type\n",
    "rfm_df['RecencyScore'] = rfm_df['RecencyScore'].astype(int)\n",
    "rfm_df['FrequencyScore'] = rfm_df['FrequencyScore'].astype(int)\n",
    "rfm_df['MonetaryScore'] = rfm_df['MonetaryScore'].astype(int)"
   ],
   "outputs": [],
   "execution_count": 38
  },
  {
   "cell_type": "code",
   "metadata": {
    "ExecuteTime": {
     "end_time": "2024-07-20T22:23:17.577163Z",
     "start_time": "2024-07-20T22:23:17.568347Z"
    }
   },
   "source": [
    "# Calculate RFM score by combining the individual scores\n",
    "rfm_df['RFM_Score'] = rfm_df['RecencyScore'] + rfm_df['FrequencyScore'] + rfm_df['MonetaryScore']\n"
   ],
   "outputs": [],
   "execution_count": 39
  },
  {
   "cell_type": "code",
   "metadata": {
    "ExecuteTime": {
     "end_time": "2024-07-20T22:23:17.592268Z",
     "start_time": "2024-07-20T22:23:17.577808Z"
    }
   },
   "source": [
    "rfm_df.sample(5)"
   ],
   "outputs": [
    {
     "data": {
      "text/plain": [
       "        customer_id  customer_type  order_id order_date  order_total  \\\n",
       "34627           412              0     15035 2016-04-01       162.25   \n",
       "150713         2799              0     13996 2016-03-11        16.23   \n",
       "123015         1371              0     16325 2016-04-30       164.41   \n",
       "150973         2810              0     14038 2016-03-13       150.86   \n",
       "90094          1043              0     12992 2016-02-20       433.97   \n",
       "\n",
       "        item_count  item_price  pay_status  product_id  net_profit  Recency  \\\n",
       "34627            3       54.10           3        2107       27.48     3033   \n",
       "150713           1       16.23           3        1842        4.12     3054   \n",
       "123015           2       48.99           3        1469       20.00     3004   \n",
       "150973           2       37.99           3        1862       31.98     3052   \n",
       "90094            2       62.99           3        2109       21.54     3074   \n",
       "\n",
       "        Frequency  MonetaryValue  RecencyScore  FrequencyScore  MonetaryScore  \\\n",
       "34627        5670     1309020.30             5               2              1   \n",
       "150713         88        1428.24             5               1              1   \n",
       "123015      18690     2706151.35             5               4              2   \n",
       "150973        196       29568.56             5               1              1   \n",
       "90094       26609     9542478.17             5               5              5   \n",
       "\n",
       "        RFM_Score  \n",
       "34627           8  \n",
       "150713          7  \n",
       "123015         11  \n",
       "150973          7  \n",
       "90094          15  "
      ],
      "text/html": [
       "<div>\n",
       "<style scoped>\n",
       "    .dataframe tbody tr th:only-of-type {\n",
       "        vertical-align: middle;\n",
       "    }\n",
       "\n",
       "    .dataframe tbody tr th {\n",
       "        vertical-align: top;\n",
       "    }\n",
       "\n",
       "    .dataframe thead th {\n",
       "        text-align: right;\n",
       "    }\n",
       "</style>\n",
       "<table border=\"1\" class=\"dataframe\">\n",
       "  <thead>\n",
       "    <tr style=\"text-align: right;\">\n",
       "      <th></th>\n",
       "      <th>customer_id</th>\n",
       "      <th>customer_type</th>\n",
       "      <th>order_id</th>\n",
       "      <th>order_date</th>\n",
       "      <th>order_total</th>\n",
       "      <th>item_count</th>\n",
       "      <th>item_price</th>\n",
       "      <th>pay_status</th>\n",
       "      <th>product_id</th>\n",
       "      <th>net_profit</th>\n",
       "      <th>Recency</th>\n",
       "      <th>Frequency</th>\n",
       "      <th>MonetaryValue</th>\n",
       "      <th>RecencyScore</th>\n",
       "      <th>FrequencyScore</th>\n",
       "      <th>MonetaryScore</th>\n",
       "      <th>RFM_Score</th>\n",
       "    </tr>\n",
       "  </thead>\n",
       "  <tbody>\n",
       "    <tr>\n",
       "      <th>34627</th>\n",
       "      <td>412</td>\n",
       "      <td>0</td>\n",
       "      <td>15035</td>\n",
       "      <td>2016-04-01</td>\n",
       "      <td>162.25</td>\n",
       "      <td>3</td>\n",
       "      <td>54.10</td>\n",
       "      <td>3</td>\n",
       "      <td>2107</td>\n",
       "      <td>27.48</td>\n",
       "      <td>3033</td>\n",
       "      <td>5670</td>\n",
       "      <td>1309020.30</td>\n",
       "      <td>5</td>\n",
       "      <td>2</td>\n",
       "      <td>1</td>\n",
       "      <td>8</td>\n",
       "    </tr>\n",
       "    <tr>\n",
       "      <th>150713</th>\n",
       "      <td>2799</td>\n",
       "      <td>0</td>\n",
       "      <td>13996</td>\n",
       "      <td>2016-03-11</td>\n",
       "      <td>16.23</td>\n",
       "      <td>1</td>\n",
       "      <td>16.23</td>\n",
       "      <td>3</td>\n",
       "      <td>1842</td>\n",
       "      <td>4.12</td>\n",
       "      <td>3054</td>\n",
       "      <td>88</td>\n",
       "      <td>1428.24</td>\n",
       "      <td>5</td>\n",
       "      <td>1</td>\n",
       "      <td>1</td>\n",
       "      <td>7</td>\n",
       "    </tr>\n",
       "    <tr>\n",
       "      <th>123015</th>\n",
       "      <td>1371</td>\n",
       "      <td>0</td>\n",
       "      <td>16325</td>\n",
       "      <td>2016-04-30</td>\n",
       "      <td>164.41</td>\n",
       "      <td>2</td>\n",
       "      <td>48.99</td>\n",
       "      <td>3</td>\n",
       "      <td>1469</td>\n",
       "      <td>20.00</td>\n",
       "      <td>3004</td>\n",
       "      <td>18690</td>\n",
       "      <td>2706151.35</td>\n",
       "      <td>5</td>\n",
       "      <td>4</td>\n",
       "      <td>2</td>\n",
       "      <td>11</td>\n",
       "    </tr>\n",
       "    <tr>\n",
       "      <th>150973</th>\n",
       "      <td>2810</td>\n",
       "      <td>0</td>\n",
       "      <td>14038</td>\n",
       "      <td>2016-03-13</td>\n",
       "      <td>150.86</td>\n",
       "      <td>2</td>\n",
       "      <td>37.99</td>\n",
       "      <td>3</td>\n",
       "      <td>1862</td>\n",
       "      <td>31.98</td>\n",
       "      <td>3052</td>\n",
       "      <td>196</td>\n",
       "      <td>29568.56</td>\n",
       "      <td>5</td>\n",
       "      <td>1</td>\n",
       "      <td>1</td>\n",
       "      <td>7</td>\n",
       "    </tr>\n",
       "    <tr>\n",
       "      <th>90094</th>\n",
       "      <td>1043</td>\n",
       "      <td>0</td>\n",
       "      <td>12992</td>\n",
       "      <td>2016-02-20</td>\n",
       "      <td>433.97</td>\n",
       "      <td>2</td>\n",
       "      <td>62.99</td>\n",
       "      <td>3</td>\n",
       "      <td>2109</td>\n",
       "      <td>21.54</td>\n",
       "      <td>3074</td>\n",
       "      <td>26609</td>\n",
       "      <td>9542478.17</td>\n",
       "      <td>5</td>\n",
       "      <td>5</td>\n",
       "      <td>5</td>\n",
       "      <td>15</td>\n",
       "    </tr>\n",
       "  </tbody>\n",
       "</table>\n",
       "</div>"
      ]
     },
     "execution_count": 40,
     "metadata": {},
     "output_type": "execute_result"
    }
   ],
   "execution_count": 40
  },
  {
   "cell_type": "code",
   "metadata": {
    "ExecuteTime": {
     "end_time": "2024-07-20T22:23:17.602717Z",
     "start_time": "2024-07-20T22:23:17.592751Z"
    }
   },
   "source": [
    "rfm_df.columns"
   ],
   "outputs": [
    {
     "data": {
      "text/plain": [
       "Index(['customer_id', 'customer_type', 'order_id', 'order_date', 'order_total',\n",
       "       'item_count', 'item_price', 'pay_status', 'product_id', 'net_profit',\n",
       "       'Recency', 'Frequency', 'MonetaryValue', 'RecencyScore',\n",
       "       'FrequencyScore', 'MonetaryScore', 'RFM_Score'],\n",
       "      dtype='object')"
      ]
     },
     "execution_count": 41,
     "metadata": {},
     "output_type": "execute_result"
    }
   ],
   "execution_count": 41
  },
  {
   "cell_type": "code",
   "metadata": {
    "ExecuteTime": {
     "end_time": "2024-07-20T22:23:17.614591Z",
     "start_time": "2024-07-20T22:23:17.603334Z"
    }
   },
   "source": [
    "x = rfm_df[['Recency', 'Frequency', 'MonetaryValue', 'RecencyScore',\n",
    "       'FrequencyScore', 'MonetaryScore', 'RFM_Score']]"
   ],
   "outputs": [],
   "execution_count": 42
  },
  {
   "cell_type": "code",
   "metadata": {
    "ExecuteTime": {
     "end_time": "2024-07-20T22:23:17.642962Z",
     "start_time": "2024-07-20T22:23:17.615238Z"
    }
   },
   "source": [
    "from yellowbrick.cluster import KElbowVisualizer;"
   ],
   "outputs": [],
   "execution_count": 43
  },
  {
   "cell_type": "code",
   "metadata": {
    "ExecuteTime": {
     "end_time": "2024-07-20T22:23:17.645410Z",
     "start_time": "2024-07-20T22:23:17.643734Z"
    }
   },
   "source": [
    "km = KMeans()"
   ],
   "outputs": [],
   "execution_count": 44
  },
  {
   "cell_type": "code",
   "metadata": {
    "ExecuteTime": {
     "end_time": "2024-07-20T22:23:17.655841Z",
     "start_time": "2024-07-20T22:23:17.645942Z"
    }
   },
   "source": [
    "vis = KElbowVisualizer(km,k=(2,10))"
   ],
   "outputs": [],
   "execution_count": 45
  },
  {
   "cell_type": "code",
   "metadata": {
    "ExecuteTime": {
     "end_time": "2024-07-20T22:23:19.188702Z",
     "start_time": "2024-07-20T22:23:17.656597Z"
    }
   },
   "source": [
    "vis.fit(x)\n",
    "vis.show()"
   ],
   "outputs": [
    {
     "name": "stderr",
     "output_type": "stream",
     "text": [
      "/home/cevheri/anaconda3/lib/python3.11/site-packages/sklearn/cluster/_kmeans.py:870: FutureWarning: The default value of `n_init` will change from 10 to 'auto' in 1.4. Set the value of `n_init` explicitly to suppress the warning\n",
      "  warnings.warn(\n",
      "/home/cevheri/anaconda3/lib/python3.11/site-packages/sklearn/cluster/_kmeans.py:870: FutureWarning: The default value of `n_init` will change from 10 to 'auto' in 1.4. Set the value of `n_init` explicitly to suppress the warning\n",
      "  warnings.warn(\n",
      "/home/cevheri/anaconda3/lib/python3.11/site-packages/sklearn/cluster/_kmeans.py:870: FutureWarning: The default value of `n_init` will change from 10 to 'auto' in 1.4. Set the value of `n_init` explicitly to suppress the warning\n",
      "  warnings.warn(\n",
      "/home/cevheri/anaconda3/lib/python3.11/site-packages/sklearn/cluster/_kmeans.py:870: FutureWarning: The default value of `n_init` will change from 10 to 'auto' in 1.4. Set the value of `n_init` explicitly to suppress the warning\n",
      "  warnings.warn(\n",
      "/home/cevheri/anaconda3/lib/python3.11/site-packages/sklearn/cluster/_kmeans.py:870: FutureWarning: The default value of `n_init` will change from 10 to 'auto' in 1.4. Set the value of `n_init` explicitly to suppress the warning\n",
      "  warnings.warn(\n",
      "/home/cevheri/anaconda3/lib/python3.11/site-packages/sklearn/cluster/_kmeans.py:870: FutureWarning: The default value of `n_init` will change from 10 to 'auto' in 1.4. Set the value of `n_init` explicitly to suppress the warning\n",
      "  warnings.warn(\n",
      "/home/cevheri/anaconda3/lib/python3.11/site-packages/sklearn/cluster/_kmeans.py:870: FutureWarning: The default value of `n_init` will change from 10 to 'auto' in 1.4. Set the value of `n_init` explicitly to suppress the warning\n",
      "  warnings.warn(\n",
      "/home/cevheri/anaconda3/lib/python3.11/site-packages/sklearn/cluster/_kmeans.py:870: FutureWarning: The default value of `n_init` will change from 10 to 'auto' in 1.4. Set the value of `n_init` explicitly to suppress the warning\n",
      "  warnings.warn(\n"
     ]
    },
    {
     "data": {
      "text/plain": [
       "<Figure size 800x550 with 2 Axes>"
      ],
      "image/png": "[encoded data removed]"
     },
     "metadata": {},
     "output_type": "display_data"
    },
    {
     "data": {
      "text/plain": [
       "<Axes: title={'center': 'Distortion Score Elbow for KMeans Clustering'}, xlabel='k', ylabel='distortion score'>"
      ]
     },
     "execution_count": 46,
     "metadata": {},
     "output_type": "execute_result"
    }
   ],
   "execution_count": 46
  },
  {
   "cell_type": "code",
   "metadata": {
    "ExecuteTime": {
     "end_time": "2024-07-20T22:23:19.191256Z",
     "start_time": "2024-07-20T22:23:19.189472Z"
    }
   },
   "source": [
    "model = KMeans(3) "
   ],
   "outputs": [],
   "execution_count": 47
  },
  {
   "cell_type": "code",
   "metadata": {
    "ExecuteTime": {
     "end_time": "2024-07-20T22:23:19.312427Z",
     "start_time": "2024-07-20T22:23:19.191803Z"
    }
   },
   "source": [
    "model = model.fit(x)"
   ],
   "outputs": [
    {
     "name": "stderr",
     "output_type": "stream",
     "text": [
      "/home/cevheri/anaconda3/lib/python3.11/site-packages/sklearn/cluster/_kmeans.py:870: FutureWarning: The default value of `n_init` will change from 10 to 'auto' in 1.4. Set the value of `n_init` explicitly to suppress the warning\n",
      "  warnings.warn(\n"
     ]
    }
   ],
   "execution_count": 48
  },
  {
   "cell_type": "code",
   "metadata": {
    "ExecuteTime": {
     "end_time": "2024-07-20T22:23:19.318964Z",
     "start_time": "2024-07-20T22:23:19.313007Z"
    }
   },
   "source": [
    "pred = model.predict(x)"
   ],
   "outputs": [],
   "execution_count": 49
  },
  {
   "cell_type": "code",
   "metadata": {
    "ExecuteTime": {
     "end_time": "2024-07-20T22:23:19.326007Z",
     "start_time": "2024-07-20T22:23:19.319672Z"
    }
   },
   "source": [
    "pred"
   ],
   "outputs": [
    {
     "data": {
      "text/plain": [
       "array([0, 0, 0, ..., 0, 0, 0], dtype=int32)"
      ]
     },
     "execution_count": 50,
     "metadata": {},
     "output_type": "execute_result"
    }
   ],
   "execution_count": 50
  },
  {
   "cell_type": "code",
   "metadata": {
    "ExecuteTime": {
     "end_time": "2024-07-20T22:23:19.336285Z",
     "start_time": "2024-07-20T22:23:19.326498Z"
    }
   },
   "source": [
    "x[\"cluster\"] = pred"
   ],
   "outputs": [
    {
     "name": "stderr",
     "output_type": "stream",
     "text": [
      "/tmp/ipykernel_17247/86849302.py:1: SettingWithCopyWarning: \n",
      "A value is trying to be set on a copy of a slice from a DataFrame.\n",
      "Try using .loc[row_indexer,col_indexer] = value instead\n",
      "\n",
      "See the caveats in the documentation: https://pandas.pydata.org/pandas-docs/stable/user_guide/indexing.html#returning-a-view-versus-a-copy\n",
      "  x[\"cluster\"] = pred\n"
     ]
    }
   ],
   "execution_count": 51
  },
  {
   "cell_type": "code",
   "metadata": {
    "ExecuteTime": {
     "end_time": "2024-07-20T22:23:19.348994Z",
     "start_time": "2024-07-20T22:23:19.336816Z"
    }
   },
   "source": [
    "x.head()"
   ],
   "outputs": [
    {
     "data": {
      "text/plain": [
       "   Recency  Frequency  MonetaryValue  RecencyScore  FrequencyScore  \\\n",
       "0     3421          2         128.58             3               1   \n",
       "1     3421          2         128.58             3               1   \n",
       "2     3883          4         217.44             1               1   \n",
       "3     3883          4         217.44             1               1   \n",
       "4     3148          4         217.44             5               1   \n",
       "\n",
       "   MonetaryScore  RFM_Score  cluster  \n",
       "0              1          5        0  \n",
       "1              1          5        0  \n",
       "2              1          3        0  \n",
       "3              1          3        0  \n",
       "4              1          7        0  "
      ],
      "text/html": [
       "<div>\n",
       "<style scoped>\n",
       "    .dataframe tbody tr th:only-of-type {\n",
       "        vertical-align: middle;\n",
       "    }\n",
       "\n",
       "    .dataframe tbody tr th {\n",
       "        vertical-align: top;\n",
       "    }\n",
       "\n",
       "    .dataframe thead th {\n",
       "        text-align: right;\n",
       "    }\n",
       "</style>\n",
       "<table border=\"1\" class=\"dataframe\">\n",
       "  <thead>\n",
       "    <tr style=\"text-align: right;\">\n",
       "      <th></th>\n",
       "      <th>Recency</th>\n",
       "      <th>Frequency</th>\n",
       "      <th>MonetaryValue</th>\n",
       "      <th>RecencyScore</th>\n",
       "      <th>FrequencyScore</th>\n",
       "      <th>MonetaryScore</th>\n",
       "      <th>RFM_Score</th>\n",
       "      <th>cluster</th>\n",
       "    </tr>\n",
       "  </thead>\n",
       "  <tbody>\n",
       "    <tr>\n",
       "      <th>0</th>\n",
       "      <td>3421</td>\n",
       "      <td>2</td>\n",
       "      <td>128.58</td>\n",
       "      <td>3</td>\n",
       "      <td>1</td>\n",
       "      <td>1</td>\n",
       "      <td>5</td>\n",
       "      <td>0</td>\n",
       "    </tr>\n",
       "    <tr>\n",
       "      <th>1</th>\n",
       "      <td>3421</td>\n",
       "      <td>2</td>\n",
       "      <td>128.58</td>\n",
       "      <td>3</td>\n",
       "      <td>1</td>\n",
       "      <td>1</td>\n",
       "      <td>5</td>\n",
       "      <td>0</td>\n",
       "    </tr>\n",
       "    <tr>\n",
       "      <th>2</th>\n",
       "      <td>3883</td>\n",
       "      <td>4</td>\n",
       "      <td>217.44</td>\n",
       "      <td>1</td>\n",
       "      <td>1</td>\n",
       "      <td>1</td>\n",
       "      <td>3</td>\n",
       "      <td>0</td>\n",
       "    </tr>\n",
       "    <tr>\n",
       "      <th>3</th>\n",
       "      <td>3883</td>\n",
       "      <td>4</td>\n",
       "      <td>217.44</td>\n",
       "      <td>1</td>\n",
       "      <td>1</td>\n",
       "      <td>1</td>\n",
       "      <td>3</td>\n",
       "      <td>0</td>\n",
       "    </tr>\n",
       "    <tr>\n",
       "      <th>4</th>\n",
       "      <td>3148</td>\n",
       "      <td>4</td>\n",
       "      <td>217.44</td>\n",
       "      <td>5</td>\n",
       "      <td>1</td>\n",
       "      <td>1</td>\n",
       "      <td>7</td>\n",
       "      <td>0</td>\n",
       "    </tr>\n",
       "  </tbody>\n",
       "</table>\n",
       "</div>"
      ]
     },
     "execution_count": 52,
     "metadata": {},
     "output_type": "execute_result"
    }
   ],
   "execution_count": 52
  },
  {
   "cell_type": "code",
   "metadata": {
    "ExecuteTime": {
     "end_time": "2024-07-20T22:23:19.438607Z",
     "start_time": "2024-07-20T22:23:19.349541Z"
    }
   },
   "source": [
    "plt.figure(figsize=(10, 6))\n",
    "sns.boxplot(x='cluster', y='RecencyScore', data=x, palette='viridis')\n",
    "plt.title('Recency by Cluster')\n",
    "plt.xlabel('Cluster')\n",
    "plt.ylabel('Recency')\n",
    "plt.show()"
   ],
   "outputs": [
    {
     "data": {
      "text/plain": [
       "<Figure size 1000x600 with 1 Axes>"
      ],
      "image/png": "[encoded data removed]"
     },
     "metadata": {},
     "output_type": "display_data"
    }
   ],
   "execution_count": 53
  },
  {
   "cell_type": "code",
   "metadata": {
    "ExecuteTime": {
     "end_time": "2024-07-20T22:23:19.683459Z",
     "start_time": "2024-07-20T22:23:19.610583Z"
    }
   },
   "source": [
    "plt.figure(figsize=(10, 6))\n",
    "sns.boxplot(x='cluster', y='RFM_Score', data=x, palette='viridis')\n",
    "plt.title('RFM_Score by Cluster')\n",
    "plt.xlabel('Cluster')\n",
    "plt.ylabel('RFM_Score')\n",
    "plt.show()"
   ],
   "outputs": [
    {
     "data": {
      "text/plain": [
       "<Figure size 1000x600 with 1 Axes>"
      ],
      "image/png": "[encoded data removed]"
     },
     "metadata": {},
     "output_type": "display_data"
    }
   ],
   "execution_count": 56
  },
  {
   "cell_type": "code",
   "metadata": {
    "ExecuteTime": {
     "end_time": "2024-07-20T22:25:48.719734Z",
     "start_time": "2024-07-20T22:23:19.684230Z"
    }
   },
   "source": [
    "silhouette_score(x, pred)"
   ],
   "outputs": [
    {
     "data": {
      "text/plain": [
       "0.8247817328954138"
      ]
     },
     "execution_count": 57,
     "metadata": {},
     "output_type": "execute_result"
    }
   ],
   "execution_count": 57
  },
  {
   "cell_type": "markdown",
   "metadata": {},
   "source": []
  }
 ],
 "metadata": {
  "kernelspec": {
   "display_name": "base",
   "language": "python",
   "name": "python3"
  },
  "language_info": {
   "codemirror_mode": {
    "name": "ipython",
    "version": 3
   },
   "file_extension": ".py",
   "mimetype": "text/x-python",
   "name": "python",
   "nbconvert_exporter": "python",
   "pygments_lexer": "ipython3",
   "version": "3.11.7"
  }
 },
 "nbformat": 4,
 "nbformat_minor": 2
}
