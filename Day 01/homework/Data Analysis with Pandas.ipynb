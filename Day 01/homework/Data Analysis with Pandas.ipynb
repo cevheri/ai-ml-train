{
 "cells": [
  {
   "cell_type": "markdown",
   "metadata": {},
   "source": [
    "# Data Analysis with Pandas - Problem Set\n",
    "\n",
    "\n",
    "#### Reading in Data\n",
    "\n",
    "1. Read in the comma-separated file \"client_list.csv\". Assign as variable `df1`.\n",
    "2. Read in the delimted file \"client_list.table\". Assign as variable as `df2`.\n",
    "3. Read in the fixed-width file \"client_list.txt\". Assign as variable `df3`\n",
    "4. Read in the comma-separated file \"client_list.csv\", skip the first 3 rows, and ignore the header. Do not assign to variable (just return a view).\n",
    "5. Read in the comma-separated file \"client_list.csv\". Set the column headers in all caps. Assign as variable `df`.\n",
    "6. Read in the comma-separated file \"client_list_practice.csv\" and only extract the columns [\"FIRST_NAME\",\"AGE\",\"EYE_COLOR\"]. Do not assign to a variable.\n",
    "\n",
    "\n",
    "\n",
    "\n",
    "\n"
   ]
  },
  {
   "cell_type": "code",
   "execution_count": 2,
   "metadata": {},
   "outputs": [],
   "source": [
    "import pandas as pd"
   ]
  },
  {
   "cell_type": "code",
   "execution_count": 8,
   "metadata": {},
   "outputs": [
    {
     "data": {
      "text/html": [
       "<div>\n",
       "<style scoped>\n",
       "    .dataframe tbody tr th:only-of-type {\n",
       "        vertical-align: middle;\n",
       "    }\n",
       "\n",
       "    .dataframe tbody tr th {\n",
       "        vertical-align: top;\n",
       "    }\n",
       "\n",
       "    .dataframe thead th {\n",
       "        text-align: right;\n",
       "    }\n",
       "</style>\n",
       "<table border=\"1\" class=\"dataframe\">\n",
       "  <thead>\n",
       "    <tr style=\"text-align: right;\">\n",
       "      <th></th>\n",
       "      <th>first_name</th>\n",
       "      <th>LAST_NAME</th>\n",
       "      <th>gender</th>\n",
       "      <th>Age</th>\n",
       "      <th>Hair_COLOR</th>\n",
       "      <th>eye_Color</th>\n",
       "    </tr>\n",
       "  </thead>\n",
       "  <tbody>\n",
       "    <tr>\n",
       "      <th>4</th>\n",
       "      <td>Robert</td>\n",
       "      <td>Phillips</td>\n",
       "      <td>M</td>\n",
       "      <td>37</td>\n",
       "      <td>blonde</td>\n",
       "      <td>brown</td>\n",
       "    </tr>\n",
       "    <tr>\n",
       "      <th>13</th>\n",
       "      <td>Jaime</td>\n",
       "      <td>Anderson</td>\n",
       "      <td>F</td>\n",
       "      <td>46</td>\n",
       "      <td>brown</td>\n",
       "      <td>green</td>\n",
       "    </tr>\n",
       "    <tr>\n",
       "      <th>3</th>\n",
       "      <td>Mary</td>\n",
       "      <td>Adams</td>\n",
       "      <td>F</td>\n",
       "      <td>42</td>\n",
       "      <td>blonde</td>\n",
       "      <td>blue</td>\n",
       "    </tr>\n",
       "    <tr>\n",
       "      <th>6</th>\n",
       "      <td>Natalie</td>\n",
       "      <td>Potter</td>\n",
       "      <td>F</td>\n",
       "      <td>21</td>\n",
       "      <td>brown</td>\n",
       "      <td>green</td>\n",
       "    </tr>\n",
       "    <tr>\n",
       "      <th>8</th>\n",
       "      <td>Michael</td>\n",
       "      <td>Smith</td>\n",
       "      <td>M</td>\n",
       "      <td>58</td>\n",
       "      <td>brown</td>\n",
       "      <td>brown</td>\n",
       "    </tr>\n",
       "    <tr>\n",
       "      <th>1</th>\n",
       "      <td>Jaime</td>\n",
       "      <td>Roberts</td>\n",
       "      <td>M</td>\n",
       "      <td>32</td>\n",
       "      <td>brown</td>\n",
       "      <td>hazel</td>\n",
       "    </tr>\n",
       "    <tr>\n",
       "      <th>0</th>\n",
       "      <td>Jennifer</td>\n",
       "      <td>Jones</td>\n",
       "      <td>F</td>\n",
       "      <td>27</td>\n",
       "      <td>black</td>\n",
       "      <td>brown</td>\n",
       "    </tr>\n",
       "    <tr>\n",
       "      <th>10</th>\n",
       "      <td>Michael</td>\n",
       "      <td>Smith</td>\n",
       "      <td>M</td>\n",
       "      <td>37</td>\n",
       "      <td>black</td>\n",
       "      <td>hazel</td>\n",
       "    </tr>\n",
       "    <tr>\n",
       "      <th>5</th>\n",
       "      <td>Thomas</td>\n",
       "      <td>Moore</td>\n",
       "      <td>M</td>\n",
       "      <td>60</td>\n",
       "      <td>brown</td>\n",
       "      <td>blue</td>\n",
       "    </tr>\n",
       "    <tr>\n",
       "      <th>7</th>\n",
       "      <td>Brenda</td>\n",
       "      <td>Jones</td>\n",
       "      <td>F</td>\n",
       "      <td>18</td>\n",
       "      <td>blonde</td>\n",
       "      <td>brown</td>\n",
       "    </tr>\n",
       "  </tbody>\n",
       "</table>\n",
       "</div>"
      ],
      "text/plain": [
       "   first_name LAST_NAME gender  Age Hair_COLOR eye_Color\n",
       "4      Robert  Phillips      M   37     blonde     brown\n",
       "13      Jaime  Anderson      F   46      brown     green\n",
       "3        Mary     Adams      F   42     blonde      blue\n",
       "6     Natalie    Potter      F   21      brown     green\n",
       "8     Michael     Smith      M   58      brown     brown\n",
       "1       Jaime   Roberts      M   32      brown     hazel\n",
       "0    Jennifer     Jones      F   27      black     brown\n",
       "10    Michael     Smith      M   37      black     hazel\n",
       "5      Thomas     Moore      M   60      brown      blue\n",
       "7      Brenda     Jones      F   18     blonde     brown"
      ]
     },
     "execution_count": 8,
     "metadata": {},
     "output_type": "execute_result"
    }
   ],
   "source": [
    "# Read in the comma-separated file \"client_list.csv\". Assign as variable df1.\n",
    "df1= pd.read_csv('client_list.csv')\n",
    "df1.sample(10)"
   ]
  },
  {
   "cell_type": "code",
   "execution_count": null,
   "metadata": {},
   "outputs": [],
   "source": []
  },
  {
   "cell_type": "markdown",
   "metadata": {},
   "source": [
    "#### Slicing a Data Set\n",
    "\n",
    "7. Slice rows 5 through 11 of `df`. Can you provide two ways of doing this?\n",
    "8. Return only the columns ['LAST_NAME','AGE','HAIR_COLOR'] for `df`. Can you provide two ways of doing this?\n",
    "9. Combine problems 1 and 2: return rows 5 though 11 and columns  ['LAST_NAME','AGE','HAIR_COLOR'] for `df`. Can you provide two ways of doing this?\n",
    "\n",
    "\n"
   ]
  },
  {
   "cell_type": "markdown",
   "metadata": {},
   "source": [
    "#### Simple Queries\n",
    "\n",
    "10. Find the subset of `df` where the client's last name is \"Smith\".\n",
    "11. Find the subset of `df` where the client's hair color is not black.\n",
    "12. Find the subset of `df` where the client's hair color is red and reset the values to \"ginger\".\n",
    "\n",
    "\n"
   ]
  },
  {
   "cell_type": "markdown",
   "metadata": {},
   "source": [
    "#### Complex Queries\n",
    "\n",
    "13. Find the subset of `df` where the clients are females older than 30 years.\n",
    "14. Repeat problem 1, but return only the hair color and eye color.\n",
    "15. Find the unique combination of hair and eye color for women older than 25 years.\n",
    "\n"
   ]
  },
  {
   "cell_type": "markdown",
   "metadata": {},
   "source": [
    "\n",
    "#### Additional Dataframe Operations\n",
    "\n",
    "16. Perform a `merge` using \"client_list.csv\" and \"customer_id_list.csv\". Assign the resulting dataframe as `clients`.\n",
    "17. Perform a `merge` using `clients` and \"purchase_log.csv\" and limit the subset to only clients who made purchases. Assign the resulting dataframe as `detailed_sales`.\n",
    "18. Use `groupby` to find the client who spent the most money on purchases. Determine how much he/she spent. HINT: save the intermediate dataframe from using `groupby` as `spenders` before applying slicing to determine the client who spent the most money on purchases.\n",
    "19. (BONUS) Modify the answer to problem 3 slightly to determine exactly what items where purchased by the top spending client."
   ]
  },
  {
   "cell_type": "markdown",
   "metadata": {
    "collapsed": true,
    "jupyter": {
     "outputs_hidden": true
    }
   },
   "source": [
    "#### Writing Files\n",
    "\n",
    "20. Save `detailed_sales` as a csv file named \"df_out.csv\" with no indices.\n",
    "21. Save `detailed_sales` to a pickle file named \"df_out.p\""
   ]
  },
  {
   "cell_type": "code",
   "execution_count": null,
   "metadata": {
    "collapsed": true,
    "jupyter": {
     "outputs_hidden": true
    }
   },
   "outputs": [],
   "source": []
  }
 ],
 "metadata": {
  "anaconda-cloud": {},
  "kernelspec": {
   "display_name": "Python 3 (ipykernel)",
   "language": "python",
   "name": "python3"
  },
  "language_info": {
   "codemirror_mode": {
    "name": "ipython",
    "version": 3
   },
   "file_extension": ".py",
   "mimetype": "text/x-python",
   "name": "python",
   "nbconvert_exporter": "python",
   "pygments_lexer": "ipython3",
   "version": "3.11.7"
  }
 },
 "nbformat": 4,
 "nbformat_minor": 4
}
