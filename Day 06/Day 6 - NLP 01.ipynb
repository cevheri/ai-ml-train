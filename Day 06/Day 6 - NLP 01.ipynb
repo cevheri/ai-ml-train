{
 "cells": [
  {
   "metadata": {},
   "cell_type": "markdown",
   "source": "# NLP - Natural Language Processing",
   "id": "ee7152212b11873c"
  },
  {
   "metadata": {},
   "cell_type": "markdown",
   "source": [
    "## Description\n",
    "NLP is a field of AI that deals with the interaction between computers and humans using the natural language."
   ],
   "id": "4fbb6e0c1ebede2d"
  },
  {
   "metadata": {
    "ExecuteTime": {
     "end_time": "2024-07-14T10:06:49.321621Z",
     "start_time": "2024-07-14T10:06:49.319587Z"
    }
   },
   "cell_type": "code",
   "source": "#!pip install nltk",
   "id": "dce5e7afce649881",
   "outputs": [],
   "execution_count": 1056
  },
  {
   "metadata": {},
   "cell_type": "markdown",
   "source": "## Importing the libraries",
   "id": "2593e18e2a52e102"
  },
  {
   "metadata": {
    "ExecuteTime": {
     "end_time": "2024-07-14T10:06:49.803662Z",
     "start_time": "2024-07-14T10:06:49.801579Z"
    }
   },
   "cell_type": "code",
   "source": [
    "import pandas as pd\n",
    "import numpy as np\n",
    "import matplotlib.pyplot as plt\n",
    "\n",
    "import nltk\n",
    "\n",
    "import warnings\n",
    "\n",
    "warnings.filterwarnings('ignore')\n",
    "\n"
   ],
   "id": "b91cdb77642589f4",
   "outputs": [],
   "execution_count": 1057
  },
  {
   "metadata": {
    "ExecuteTime": {
     "end_time": "2024-07-14T10:06:49.824835Z",
     "start_time": "2024-07-14T10:06:49.822036Z"
    }
   },
   "cell_type": "code",
   "source": "nltk.download('punkt')  # Download the punkt package for tokenization of words and sentences ",
   "id": "63fe6c051ecb1130",
   "outputs": [
    {
     "name": "stderr",
     "output_type": "stream",
     "text": [
      "[nltk_data] Downloading package punkt to /home/cevheri/nltk_data...\n",
      "[nltk_data]   Package punkt is already up-to-date!\n"
     ]
    },
    {
     "data": {
      "text/plain": [
       "True"
      ]
     },
     "execution_count": 1058,
     "metadata": {},
     "output_type": "execute_result"
    }
   ],
   "execution_count": 1058
  },
  {
   "metadata": {
    "ExecuteTime": {
     "end_time": "2024-07-14T10:06:49.850104Z",
     "start_time": "2024-07-14T10:06:49.847699Z"
    }
   },
   "cell_type": "code",
   "source": [
    "text = \"Yaylaya gitmişti yayla zamanı, Gülizar döngü de Döndü dönmedi.\"\n",
    "text.split()"
   ],
   "id": "c834965b9cf78073",
   "outputs": [
    {
     "data": {
      "text/plain": [
       "['Yaylaya',\n",
       " 'gitmişti',\n",
       " 'yayla',\n",
       " 'zamanı,',\n",
       " 'Gülizar',\n",
       " 'döngü',\n",
       " 'de',\n",
       " 'Döndü',\n",
       " 'dönmedi.']"
      ]
     },
     "execution_count": 1059,
     "metadata": {},
     "output_type": "execute_result"
    }
   ],
   "execution_count": 1059
  },
  {
   "metadata": {},
   "cell_type": "markdown",
   "source": "## Tokenization : Tokenization is the process of breaking the text into smaller parts called tokens.",
   "id": "9596aa68d95f1dbe"
  },
  {
   "metadata": {
    "ExecuteTime": {
     "end_time": "2024-07-14T10:06:49.880491Z",
     "start_time": "2024-07-14T10:06:49.878579Z"
    }
   },
   "cell_type": "code",
   "source": "from nltk.tokenize import sent_tokenize  # Sentence Tokenization",
   "id": "fffa4e76441c1300",
   "outputs": [],
   "execution_count": 1060
  },
  {
   "metadata": {
    "ExecuteTime": {
     "end_time": "2024-07-14T10:06:49.911177Z",
     "start_time": "2024-07-14T10:06:49.909488Z"
    }
   },
   "cell_type": "code",
   "source": "sentences = \"Welcome readers. I hope you find it interesting. Please do reply.\"",
   "id": "c44713025b1d7d0f",
   "outputs": [],
   "execution_count": 1061
  },
  {
   "metadata": {
    "ExecuteTime": {
     "end_time": "2024-07-14T10:06:49.958131Z",
     "start_time": "2024-07-14T10:06:49.955440Z"
    }
   },
   "cell_type": "code",
   "source": "sent_tokenize(sentences)",
   "id": "faba38cc2a4e36a5",
   "outputs": [
    {
     "data": {
      "text/plain": [
       "['Welcome readers.', 'I hope you find it interesting.', 'Please do reply.']"
      ]
     },
     "execution_count": 1062,
     "metadata": {},
     "output_type": "execute_result"
    }
   ],
   "execution_count": 1062
  },
  {
   "metadata": {
    "ExecuteTime": {
     "end_time": "2024-07-14T10:06:49.995293Z",
     "start_time": "2024-07-14T10:06:49.993090Z"
    }
   },
   "cell_type": "code",
   "source": "from nltk.tokenize import word_tokenize  # Word Tokenization",
   "id": "f53ed6ab9caaba5e",
   "outputs": [],
   "execution_count": 1063
  },
  {
   "metadata": {
    "ExecuteTime": {
     "end_time": "2024-07-14T10:06:50.021338Z",
     "start_time": "2024-07-14T10:06:50.018671Z"
    }
   },
   "cell_type": "code",
   "source": "word_tokenize(sentences)",
   "id": "33d47a114d16704",
   "outputs": [
    {
     "data": {
      "text/plain": [
       "['Welcome',\n",
       " 'readers',\n",
       " '.',\n",
       " 'I',\n",
       " 'hope',\n",
       " 'you',\n",
       " 'find',\n",
       " 'it',\n",
       " 'interesting',\n",
       " '.',\n",
       " 'Please',\n",
       " 'do',\n",
       " 'reply',\n",
       " '.']"
      ]
     },
     "execution_count": 1064,
     "metadata": {},
     "output_type": "execute_result"
    }
   ],
   "execution_count": 1064
  },
  {
   "metadata": {
    "ExecuteTime": {
     "end_time": "2024-07-14T10:06:50.056050Z",
     "start_time": "2024-07-14T10:06:50.054233Z"
    }
   },
   "cell_type": "code",
   "source": "from nltk.tokenize import TreebankWordTokenizer",
   "id": "3cc3512675552f5c",
   "outputs": [],
   "execution_count": 1065
  },
  {
   "metadata": {
    "ExecuteTime": {
     "end_time": "2024-07-14T10:06:50.071364Z",
     "start_time": "2024-07-14T10:06:50.069275Z"
    }
   },
   "cell_type": "code",
   "source": "TreebankWordTokenizer().tokenize(sentences)",
   "id": "db8fff318be2979e",
   "outputs": [
    {
     "data": {
      "text/plain": [
       "['Welcome',\n",
       " 'readers.',\n",
       " 'I',\n",
       " 'hope',\n",
       " 'you',\n",
       " 'find',\n",
       " 'it',\n",
       " 'interesting.',\n",
       " 'Please',\n",
       " 'do',\n",
       " 'reply',\n",
       " '.']"
      ]
     },
     "execution_count": 1066,
     "metadata": {},
     "output_type": "execute_result"
    }
   ],
   "execution_count": 1066
  },
  {
   "metadata": {
    "ExecuteTime": {
     "end_time": "2024-07-14T10:06:50.105488Z",
     "start_time": "2024-07-14T10:06:50.103692Z"
    }
   },
   "cell_type": "code",
   "source": "from nltk.tokenize import WordPunctTokenizer",
   "id": "ac2a7b421504764f",
   "outputs": [],
   "execution_count": 1067
  },
  {
   "metadata": {
    "ExecuteTime": {
     "end_time": "2024-07-14T10:06:50.139592Z",
     "start_time": "2024-07-14T10:06:50.137807Z"
    }
   },
   "cell_type": "code",
   "source": "tk = WordPunctTokenizer()",
   "id": "6d49022f8be84f7c",
   "outputs": [],
   "execution_count": 1068
  },
  {
   "metadata": {
    "ExecuteTime": {
     "end_time": "2024-07-14T10:06:50.168162Z",
     "start_time": "2024-07-14T10:06:50.165543Z"
    }
   },
   "cell_type": "code",
   "source": "tk.tokenize(\"Don't hesitate to ask questions\")",
   "id": "8734814f840bb7e0",
   "outputs": [
    {
     "data": {
      "text/plain": [
       "['Don', \"'\", 't', 'hesitate', 'to', 'ask', 'questions']"
      ]
     },
     "execution_count": 1069,
     "metadata": {},
     "output_type": "execute_result"
    }
   ],
   "execution_count": 1069
  },
  {
   "metadata": {
    "ExecuteTime": {
     "end_time": "2024-07-14T10:06:50.204236Z",
     "start_time": "2024-07-14T10:06:50.202376Z"
    }
   },
   "cell_type": "code",
   "source": "from nltk.tokenize import BlanklineTokenizer",
   "id": "fc3aeecb3fa7427e",
   "outputs": [],
   "execution_count": 1070
  },
  {
   "metadata": {
    "ExecuteTime": {
     "end_time": "2024-07-14T10:06:50.219849Z",
     "start_time": "2024-07-14T10:06:50.217508Z"
    }
   },
   "cell_type": "code",
   "source": [
    "sentences = '''\n",
    "Welcome readers. \n",
    "\n",
    "I hope you find it interesting.\n",
    "\n",
    "\n",
    "\n",
    "Please do reply.\n",
    "Cevheri.\n",
    "'''\n",
    "BlanklineTokenizer().tokenize(sentences)"
   ],
   "id": "aa9c5fea3938196d",
   "outputs": [
    {
     "data": {
      "text/plain": [
       "['\\nWelcome readers.',\n",
       " 'I hope you find it interesting.',\n",
       " 'Please do reply.\\nCevheri.\\n']"
      ]
     },
     "execution_count": 1071,
     "metadata": {},
     "output_type": "execute_result"
    }
   ],
   "execution_count": 1071
  },
  {
   "metadata": {
    "ExecuteTime": {
     "end_time": "2024-07-14T10:06:50.247782Z",
     "start_time": "2024-07-14T10:06:50.245699Z"
    }
   },
   "cell_type": "code",
   "source": "from nltk.tokenize import RegexpTokenizer",
   "id": "b0b5f030b53349a5",
   "outputs": [],
   "execution_count": 1072
  },
  {
   "metadata": {
    "ExecuteTime": {
     "end_time": "2024-07-14T10:06:50.279402Z",
     "start_time": "2024-07-14T10:06:50.276877Z"
    }
   },
   "cell_type": "code",
   "source": [
    "sentences = \"She secured 90.56% in class X. She is a meritorious student.\"\n",
    "cap = RegexpTokenizer('[A-Z]\\w+')\n",
    "cap.tokenize(sentences)"
   ],
   "id": "ea896dcd625e315d",
   "outputs": [
    {
     "data": {
      "text/plain": [
       "['She', 'She']"
      ]
     },
     "execution_count": 1073,
     "metadata": {},
     "output_type": "execute_result"
    }
   ],
   "execution_count": 1073
  },
  {
   "metadata": {},
   "cell_type": "markdown",
   "source": "## Stemma and Lemma : Stemma is the root form of the word and Lemma is the dictionary form of the word.",
   "id": "1ac1519d8cf6fa19"
  },
  {
   "metadata": {
    "ExecuteTime": {
     "end_time": "2024-07-14T10:06:50.313919Z",
     "start_time": "2024-07-14T10:06:50.312033Z"
    }
   },
   "cell_type": "code",
   "source": [
    "from nltk.stem import PorterStemmer\n",
    "from nltk.stem import LancasterStemmer"
   ],
   "id": "cf00299c69fb005f",
   "outputs": [],
   "execution_count": 1074
  },
  {
   "metadata": {
    "ExecuteTime": {
     "end_time": "2024-07-14T10:06:50.345911Z",
     "start_time": "2024-07-14T10:06:50.343916Z"
    }
   },
   "cell_type": "code",
   "source": [
    "pr = PorterStemmer()\n",
    "ls = LancasterStemmer()"
   ],
   "id": "dac3a2173af30387",
   "outputs": [],
   "execution_count": 1075
  },
  {
   "metadata": {
    "ExecuteTime": {
     "end_time": "2024-07-14T10:06:50.390829Z",
     "start_time": "2024-07-14T10:06:50.388237Z"
    }
   },
   "cell_type": "code",
   "source": "pr.stem(\"happiness\")",
   "id": "e3b1670c428a22cd",
   "outputs": [
    {
     "data": {
      "text/plain": [
       "'happi'"
      ]
     },
     "execution_count": 1076,
     "metadata": {},
     "output_type": "execute_result"
    }
   ],
   "execution_count": 1076
  },
  {
   "metadata": {
    "ExecuteTime": {
     "end_time": "2024-07-14T10:06:50.434378Z",
     "start_time": "2024-07-14T10:06:50.432229Z"
    }
   },
   "cell_type": "code",
   "source": [
    "words = [\"houses\", \"trains\", \"pens\", \"books\", \"cats\", \"eaten\", \"identification\", \"having\", \"universal\", \"run\", \"quickly\", \"slowly\", \"runner\", \"geese\", \"rocks\", \"cacti\",\n",
    "         \"children\", \"mice\", \"wolves\", \"knives\", \"sheep\", \"potatoes\", \"feet\", \"teeth\"]\n"
   ],
   "id": "e5c01a69c5a0a138",
   "outputs": [],
   "execution_count": 1077
  },
  {
   "metadata": {},
   "cell_type": "markdown",
   "source": "## List Comprehension",
   "id": "f7f4ccf0af89a968"
  },
  {
   "metadata": {
    "ExecuteTime": {
     "end_time": "2024-07-14T10:06:50.460729Z",
     "start_time": "2024-07-14T10:06:50.457663Z"
    }
   },
   "cell_type": "code",
   "source": [
    "roots = [pr.stem(word) for word in words]\n",
    "roots"
   ],
   "id": "c7148bdb81a94785",
   "outputs": [
    {
     "data": {
      "text/plain": [
       "['hous',\n",
       " 'train',\n",
       " 'pen',\n",
       " 'book',\n",
       " 'cat',\n",
       " 'eaten',\n",
       " 'identif',\n",
       " 'have',\n",
       " 'univers',\n",
       " 'run',\n",
       " 'quickli',\n",
       " 'slowli',\n",
       " 'runner',\n",
       " 'gees',\n",
       " 'rock',\n",
       " 'cacti',\n",
       " 'children',\n",
       " 'mice',\n",
       " 'wolv',\n",
       " 'knive',\n",
       " 'sheep',\n",
       " 'potato',\n",
       " 'feet',\n",
       " 'teeth']"
      ]
     },
     "execution_count": 1078,
     "metadata": {},
     "output_type": "execute_result"
    }
   ],
   "execution_count": 1078
  },
  {
   "metadata": {
    "ExecuteTime": {
     "end_time": "2024-07-14T10:06:50.506793Z",
     "start_time": "2024-07-14T10:06:50.503824Z"
    }
   },
   "cell_type": "code",
   "source": [
    "\n",
    "from nltk.stem import WordNetLemmatizer\n",
    "\n",
    "lm = WordNetLemmatizer()\n",
    "\n",
    "nltk.download('wordnet')\n",
    "nltk.download('averaged_perceptron_tagger')\n",
    "nltk.download(\"omw\")"
   ],
   "id": "a5ac50428303e64d",
   "outputs": [
    {
     "name": "stderr",
     "output_type": "stream",
     "text": [
      "[nltk_data] Downloading package wordnet to /home/cevheri/nltk_data...\n",
      "[nltk_data]   Package wordnet is already up-to-date!\n",
      "[nltk_data] Downloading package averaged_perceptron_tagger to\n",
      "[nltk_data]     /home/cevheri/nltk_data...\n",
      "[nltk_data]   Package averaged_perceptron_tagger is already up-to-\n",
      "[nltk_data]       date!\n",
      "[nltk_data] Downloading package omw to /home/cevheri/nltk_data...\n",
      "[nltk_data]   Package omw is already up-to-date!\n"
     ]
    },
    {
     "data": {
      "text/plain": [
       "True"
      ]
     },
     "execution_count": 1079,
     "metadata": {},
     "output_type": "execute_result"
    }
   ],
   "execution_count": 1079
  },
  {
   "metadata": {
    "ExecuteTime": {
     "end_time": "2024-07-14T10:06:50.522639Z",
     "start_time": "2024-07-14T10:06:50.520494Z"
    }
   },
   "cell_type": "code",
   "source": "lm.lemmatize(\"running\", pos='v')  # post : part of speech",
   "id": "e531544f70021b01",
   "outputs": [
    {
     "data": {
      "text/plain": [
       "'run'"
      ]
     },
     "execution_count": 1080,
     "metadata": {},
     "output_type": "execute_result"
    }
   ],
   "execution_count": 1080
  },
  {
   "metadata": {
    "ExecuteTime": {
     "end_time": "2024-07-14T10:06:50.543975Z",
     "start_time": "2024-07-14T10:06:50.541725Z"
    }
   },
   "cell_type": "code",
   "source": "lm.lemmatize(\"running\", pos='n')",
   "id": "aa61d78ff894904",
   "outputs": [
    {
     "data": {
      "text/plain": [
       "'running'"
      ]
     },
     "execution_count": 1081,
     "metadata": {},
     "output_type": "execute_result"
    }
   ],
   "execution_count": 1081
  },
  {
   "metadata": {
    "ExecuteTime": {
     "end_time": "2024-07-14T10:06:50.601646Z",
     "start_time": "2024-07-14T10:06:50.598894Z"
    }
   },
   "cell_type": "code",
   "source": "lm.lemmatize(\"ran\", pos='v')",
   "id": "abe84f8d34bb6bd3",
   "outputs": [
    {
     "data": {
      "text/plain": [
       "'run'"
      ]
     },
     "execution_count": 1082,
     "metadata": {},
     "output_type": "execute_result"
    }
   ],
   "execution_count": 1082
  },
  {
   "metadata": {
    "ExecuteTime": {
     "end_time": "2024-07-14T10:06:50.622057Z",
     "start_time": "2024-07-14T10:06:50.619170Z"
    }
   },
   "cell_type": "code",
   "source": "lm.lemmatize(\"ran\", pos='n')",
   "id": "c934e72a0108e5dd",
   "outputs": [
    {
     "data": {
      "text/plain": [
       "'ran'"
      ]
     },
     "execution_count": 1083,
     "metadata": {},
     "output_type": "execute_result"
    }
   ],
   "execution_count": 1083
  },
  {
   "metadata": {
    "ExecuteTime": {
     "end_time": "2024-07-14T10:06:50.672419Z",
     "start_time": "2024-07-14T10:06:50.669338Z"
    }
   },
   "cell_type": "code",
   "source": [
    "roots = [lm.lemmatize(word, pos='v') for word in words]\n",
    "roots"
   ],
   "id": "41ab46ebc250896d",
   "outputs": [
    {
     "data": {
      "text/plain": [
       "['house',\n",
       " 'train',\n",
       " 'pen',\n",
       " 'book',\n",
       " 'cat',\n",
       " 'eat',\n",
       " 'identification',\n",
       " 'have',\n",
       " 'universal',\n",
       " 'run',\n",
       " 'quickly',\n",
       " 'slowly',\n",
       " 'runner',\n",
       " 'geese',\n",
       " 'rock',\n",
       " 'cacti',\n",
       " 'children',\n",
       " 'mice',\n",
       " 'wolves',\n",
       " 'knives',\n",
       " 'sheep',\n",
       " 'potatoes',\n",
       " 'feet',\n",
       " 'teeth']"
      ]
     },
     "execution_count": 1084,
     "metadata": {},
     "output_type": "execute_result"
    }
   ],
   "execution_count": 1084
  },
  {
   "metadata": {},
   "cell_type": "markdown",
   "source": [
    "## POS Tagging : Part of Speech Tagging\n",
    "* Tagging the words in a sentence with their respective parts of speech.\n",
    "* Adjective, Noun, Pronoun, Verb, Adverb, Preposition, Conjunction, and Interjection"
   ],
   "id": "6336ea65909f1c0a"
  },
  {
   "metadata": {
    "ExecuteTime": {
     "end_time": "2024-07-14T10:06:50.691663Z",
     "start_time": "2024-07-14T10:06:50.686977Z"
    }
   },
   "cell_type": "code",
   "source": "nltk.pos_tag(word_tokenize(\"She secured 90.56% in class X. She is a meritorious student.\"))\n",
   "id": "4d5e062e02aa8d87",
   "outputs": [
    {
     "data": {
      "text/plain": [
       "[('She', 'PRP'),\n",
       " ('secured', 'VBD'),\n",
       " ('90.56', 'CD'),\n",
       " ('%', 'NN'),\n",
       " ('in', 'IN'),\n",
       " ('class', 'NN'),\n",
       " ('X', 'NN'),\n",
       " ('.', '.'),\n",
       " ('She', 'PRP'),\n",
       " ('is', 'VBZ'),\n",
       " ('a', 'DT'),\n",
       " ('meritorious', 'JJ'),\n",
       " ('student', 'NN'),\n",
       " ('.', '.')]"
      ]
     },
     "execution_count": 1085,
     "metadata": {},
     "output_type": "execute_result"
    }
   ],
   "execution_count": 1085
  },
  {
   "metadata": {
    "ExecuteTime": {
     "end_time": "2024-07-14T10:06:50.719519Z",
     "start_time": "2024-07-14T10:06:50.715283Z"
    }
   },
   "cell_type": "code",
   "source": [
    "nltk.download('tagsets')\n",
    "nltk.help.upenn_tagset()"
   ],
   "id": "bb83bef7b2497ea6",
   "outputs": [
    {
     "name": "stdout",
     "output_type": "stream",
     "text": [
      "$: dollar\n",
      "    $ -$ --$ A$ C$ HK$ M$ NZ$ S$ U.S.$ US$\n",
      "'': closing quotation mark\n",
      "    ' ''\n",
      "(: opening parenthesis\n",
      "    ( [ {\n",
      "): closing parenthesis\n",
      "    ) ] }\n",
      ",: comma\n",
      "    ,\n",
      "--: dash\n",
      "    --\n",
      ".: sentence terminator\n",
      "    . ! ?\n",
      ":: colon or ellipsis\n",
      "    : ; ...\n",
      "CC: conjunction, coordinating\n",
      "    & 'n and both but either et for less minus neither nor or plus so\n",
      "    therefore times v. versus vs. whether yet\n",
      "CD: numeral, cardinal\n",
      "    mid-1890 nine-thirty forty-two one-tenth ten million 0.5 one forty-\n",
      "    seven 1987 twenty '79 zero two 78-degrees eighty-four IX '60s .025\n",
      "    fifteen 271,124 dozen quintillion DM2,000 ...\n",
      "DT: determiner\n",
      "    all an another any both del each either every half la many much nary\n",
      "    neither no some such that the them these this those\n",
      "EX: existential there\n",
      "    there\n",
      "FW: foreign word\n",
      "    gemeinschaft hund ich jeux habeas Haementeria Herr K'ang-si vous\n",
      "    lutihaw alai je jour objets salutaris fille quibusdam pas trop Monte\n",
      "    terram fiche oui corporis ...\n",
      "IN: preposition or conjunction, subordinating\n",
      "    astride among uppon whether out inside pro despite on by throughout\n",
      "    below within for towards near behind atop around if like until below\n",
      "    next into if beside ...\n",
      "JJ: adjective or numeral, ordinal\n",
      "    third ill-mannered pre-war regrettable oiled calamitous first separable\n",
      "    ectoplasmic battery-powered participatory fourth still-to-be-named\n",
      "    multilingual multi-disciplinary ...\n",
      "JJR: adjective, comparative\n",
      "    bleaker braver breezier briefer brighter brisker broader bumper busier\n",
      "    calmer cheaper choosier cleaner clearer closer colder commoner costlier\n",
      "    cozier creamier crunchier cuter ...\n",
      "JJS: adjective, superlative\n",
      "    calmest cheapest choicest classiest cleanest clearest closest commonest\n",
      "    corniest costliest crassest creepiest crudest cutest darkest deadliest\n",
      "    dearest deepest densest dinkiest ...\n",
      "LS: list item marker\n",
      "    A A. B B. C C. D E F First G H I J K One SP-44001 SP-44002 SP-44005\n",
      "    SP-44007 Second Third Three Two * a b c d first five four one six three\n",
      "    two\n",
      "MD: modal auxiliary\n",
      "    can cannot could couldn't dare may might must need ought shall should\n",
      "    shouldn't will would\n",
      "NN: noun, common, singular or mass\n",
      "    common-carrier cabbage knuckle-duster Casino afghan shed thermostat\n",
      "    investment slide humour falloff slick wind hyena override subhumanity\n",
      "    machinist ...\n",
      "NNP: noun, proper, singular\n",
      "    Motown Venneboerger Czestochwa Ranzer Conchita Trumplane Christos\n",
      "    Oceanside Escobar Kreisler Sawyer Cougar Yvette Ervin ODI Darryl CTCA\n",
      "    Shannon A.K.C. Meltex Liverpool ...\n",
      "NNPS: noun, proper, plural\n",
      "    Americans Americas Amharas Amityvilles Amusements Anarcho-Syndicalists\n",
      "    Andalusians Andes Andruses Angels Animals Anthony Antilles Antiques\n",
      "    Apache Apaches Apocrypha ...\n",
      "NNS: noun, common, plural\n",
      "    undergraduates scotches bric-a-brac products bodyguards facets coasts\n",
      "    divestitures storehouses designs clubs fragrances averages\n",
      "    subjectivists apprehensions muses factory-jobs ...\n",
      "PDT: pre-determiner\n",
      "    all both half many quite such sure this\n",
      "POS: genitive marker\n",
      "    ' 's\n",
      "PRP: pronoun, personal\n",
      "    hers herself him himself hisself it itself me myself one oneself ours\n",
      "    ourselves ownself self she thee theirs them themselves they thou thy us\n",
      "PRP$: pronoun, possessive\n",
      "    her his mine my our ours their thy your\n",
      "RB: adverb\n",
      "    occasionally unabatingly maddeningly adventurously professedly\n",
      "    stirringly prominently technologically magisterially predominately\n",
      "    swiftly fiscally pitilessly ...\n",
      "RBR: adverb, comparative\n",
      "    further gloomier grander graver greater grimmer harder harsher\n",
      "    healthier heavier higher however larger later leaner lengthier less-\n",
      "    perfectly lesser lonelier longer louder lower more ...\n",
      "RBS: adverb, superlative\n",
      "    best biggest bluntest earliest farthest first furthest hardest\n",
      "    heartiest highest largest least less most nearest second tightest worst\n",
      "RP: particle\n",
      "    aboard about across along apart around aside at away back before behind\n",
      "    by crop down ever fast for forth from go high i.e. in into just later\n",
      "    low more off on open out over per pie raising start teeth that through\n",
      "    under unto up up-pp upon whole with you\n",
      "SYM: symbol\n",
      "    % & ' '' ''. ) ). * + ,. < = > @ A[fj] U.S U.S.S.R * ** ***\n",
      "TO: \"to\" as preposition or infinitive marker\n",
      "    to\n",
      "UH: interjection\n",
      "    Goodbye Goody Gosh Wow Jeepers Jee-sus Hubba Hey Kee-reist Oops amen\n",
      "    huh howdy uh dammit whammo shucks heck anyways whodunnit honey golly\n",
      "    man baby diddle hush sonuvabitch ...\n",
      "VB: verb, base form\n",
      "    ask assemble assess assign assume atone attention avoid bake balkanize\n",
      "    bank begin behold believe bend benefit bevel beware bless boil bomb\n",
      "    boost brace break bring broil brush build ...\n",
      "VBD: verb, past tense\n",
      "    dipped pleaded swiped regummed soaked tidied convened halted registered\n",
      "    cushioned exacted snubbed strode aimed adopted belied figgered\n",
      "    speculated wore appreciated contemplated ...\n",
      "VBG: verb, present participle or gerund\n",
      "    telegraphing stirring focusing angering judging stalling lactating\n",
      "    hankerin' alleging veering capping approaching traveling besieging\n",
      "    encrypting interrupting erasing wincing ...\n",
      "VBN: verb, past participle\n",
      "    multihulled dilapidated aerosolized chaired languished panelized used\n",
      "    experimented flourished imitated reunifed factored condensed sheared\n",
      "    unsettled primed dubbed desired ...\n",
      "VBP: verb, present tense, not 3rd person singular\n",
      "    predominate wrap resort sue twist spill cure lengthen brush terminate\n",
      "    appear tend stray glisten obtain comprise detest tease attract\n",
      "    emphasize mold postpone sever return wag ...\n",
      "VBZ: verb, present tense, 3rd person singular\n",
      "    bases reconstructs marks mixes displeases seals carps weaves snatches\n",
      "    slumps stretches authorizes smolders pictures emerges stockpiles\n",
      "    seduces fizzes uses bolsters slaps speaks pleads ...\n",
      "WDT: WH-determiner\n",
      "    that what whatever which whichever\n",
      "WP: WH-pronoun\n",
      "    that what whatever whatsoever which who whom whosoever\n",
      "WP$: WH-pronoun, possessive\n",
      "    whose\n",
      "WRB: Wh-adverb\n",
      "    how however whence whenever where whereby whereever wherein whereof why\n",
      "``: opening quotation mark\n",
      "    ` ``\n"
     ]
    },
    {
     "name": "stderr",
     "output_type": "stream",
     "text": [
      "[nltk_data] Downloading package tagsets to /home/cevheri/nltk_data...\n",
      "[nltk_data]   Package tagsets is already up-to-date!\n"
     ]
    }
   ],
   "execution_count": 1086
  },
  {
   "metadata": {},
   "cell_type": "markdown",
   "source": "## Autocorrect : Correcting the spelling of the words",
   "id": "41632536959fcd90"
  },
  {
   "metadata": {
    "ExecuteTime": {
     "end_time": "2024-07-14T10:06:50.771424Z",
     "start_time": "2024-07-14T10:06:50.769551Z"
    }
   },
   "cell_type": "code",
   "source": [
    "## autocorrect\n",
    "# !pip install autocorrect"
   ],
   "id": "872e0e9a3c65c20b",
   "outputs": [],
   "execution_count": 1087
  },
  {
   "metadata": {
    "ExecuteTime": {
     "end_time": "2024-07-14T10:06:50.788428Z",
     "start_time": "2024-07-14T10:06:50.786137Z"
    }
   },
   "cell_type": "code",
   "source": "from autocorrect import Speller",
   "id": "fdf9483b4e0ab17",
   "outputs": [],
   "execution_count": 1088
  },
  {
   "metadata": {
    "ExecuteTime": {
     "end_time": "2024-07-14T10:06:50.843747Z",
     "start_time": "2024-07-14T10:06:50.809122Z"
    }
   },
   "cell_type": "code",
   "source": [
    "spell = Speller(lang='en')\n",
    "spell(\"my splling is awesom\")"
   ],
   "id": "2d66cc89befdf522",
   "outputs": [
    {
     "data": {
      "text/plain": [
       "'my spelling is awesome'"
      ]
     },
     "execution_count": 1089,
     "metadata": {},
     "output_type": "execute_result"
    }
   ],
   "execution_count": 1089
  },
  {
   "metadata": {
    "ExecuteTime": {
     "end_time": "2024-07-14T10:06:50.857542Z",
     "start_time": "2024-07-14T10:06:50.855862Z"
    }
   },
   "cell_type": "code",
   "source": "#!pip install textblob",
   "id": "e229e0b02939bad5",
   "outputs": [],
   "execution_count": 1090
  },
  {
   "metadata": {
    "ExecuteTime": {
     "end_time": "2024-07-14T10:06:50.873899Z",
     "start_time": "2024-07-14T10:06:50.870648Z"
    }
   },
   "cell_type": "code",
   "source": [
    "from textblob import TextBlob\n",
    "\n",
    "b = TextBlob(\"I havv goood speling!\")\n",
    "b.correct()"
   ],
   "id": "aabdc173b7a24a70",
   "outputs": [
    {
     "data": {
      "text/plain": [
       "TextBlob(\"I have good spelling!\")"
      ]
     },
     "execution_count": 1091,
     "metadata": {},
     "output_type": "execute_result"
    }
   ],
   "execution_count": 1091
  },
  {
   "metadata": {
    "ExecuteTime": {
     "end_time": "2024-07-14T10:06:50.901157Z",
     "start_time": "2024-07-14T10:06:50.899025Z"
    }
   },
   "cell_type": "code",
   "source": "#b.detect_language()",
   "id": "d57acb08ac124fa2",
   "outputs": [],
   "execution_count": 1092
  },
  {
   "metadata": {
    "ExecuteTime": {
     "end_time": "2024-07-14T10:06:50.941765Z",
     "start_time": "2024-07-14T10:06:50.940007Z"
    }
   },
   "cell_type": "code",
   "source": "#!pip install langdetect",
   "id": "fd67159ec9a760a5",
   "outputs": [],
   "execution_count": 1093
  },
  {
   "metadata": {
    "ExecuteTime": {
     "end_time": "2024-07-14T10:06:50.968740Z",
     "start_time": "2024-07-14T10:06:50.963980Z"
    }
   },
   "cell_type": "code",
   "source": [
    "from langdetect import detect\n",
    "\n",
    "detect(\"I am learning NLP\")\n"
   ],
   "id": "2839b1a31c921ca3",
   "outputs": [
    {
     "data": {
      "text/plain": [
       "'en'"
      ]
     },
     "execution_count": 1094,
     "metadata": {},
     "output_type": "execute_result"
    }
   ],
   "execution_count": 1094
  },
  {
   "metadata": {
    "ExecuteTime": {
     "end_time": "2024-07-14T10:06:51.007034Z",
     "start_time": "2024-07-14T10:06:51.003737Z"
    }
   },
   "cell_type": "code",
   "source": "detect(\"Selamün aleyküm\")",
   "id": "ce3ed9500db38f71",
   "outputs": [
    {
     "data": {
      "text/plain": [
       "'tr'"
      ]
     },
     "execution_count": 1095,
     "metadata": {},
     "output_type": "execute_result"
    }
   ],
   "execution_count": 1095
  },
  {
   "metadata": {
    "ExecuteTime": {
     "end_time": "2024-07-14T10:06:51.031486Z",
     "start_time": "2024-07-14T10:06:51.025200Z"
    }
   },
   "cell_type": "code",
   "source": "detect(\"Bonjour\")",
   "id": "eec3ceab3d6d76d4",
   "outputs": [
    {
     "data": {
      "text/plain": [
       "'hr'"
      ]
     },
     "execution_count": 1096,
     "metadata": {},
     "output_type": "execute_result"
    }
   ],
   "execution_count": 1096
  },
  {
   "metadata": {
    "ExecuteTime": {
     "end_time": "2024-07-14T10:06:51.055403Z",
     "start_time": "2024-07-14T10:06:51.053465Z"
    }
   },
   "cell_type": "code",
   "source": [
    "## Translate\n",
    "\n",
    "# !pip install -U textblob\n",
    "# !pip install googletrans==4.0.0-rc1"
   ],
   "id": "85c2f2fb1cf9a476",
   "outputs": [],
   "execution_count": 1097
  },
  {
   "metadata": {
    "ExecuteTime": {
     "end_time": "2024-07-14T10:06:51.081130Z",
     "start_time": "2024-07-14T10:06:51.079119Z"
    }
   },
   "cell_type": "code",
   "source": "trr = TextBlob(\"I am learning NLP\")",
   "id": "99753f34297e4a8f",
   "outputs": [],
   "execution_count": 1098
  },
  {
   "metadata": {
    "ExecuteTime": {
     "end_time": "2024-07-14T10:06:51.125685Z",
     "start_time": "2024-07-14T10:06:51.123489Z"
    }
   },
   "cell_type": "code",
   "source": "from googletrans import Translator",
   "id": "4f97cf8b648b6039",
   "outputs": [],
   "execution_count": 1099
  },
  {
   "metadata": {
    "ExecuteTime": {
     "end_time": "2024-07-14T10:06:51.163795Z",
     "start_time": "2024-07-14T10:06:51.145269Z"
    }
   },
   "cell_type": "code",
   "source": [
    "gtr = Translator()\n",
    "# gtr.translate(\"I am learning NLP\", dest='tr').text"
   ],
   "id": "51e601332412cd66",
   "outputs": [],
   "execution_count": 1100
  },
  {
   "metadata": {},
   "cell_type": "markdown",
   "source": [
    "## Important Concepts of NLP projects\n",
    "* Change everything to lowercase\n",
    "* remove punctuations\n",
    "* remove numbers\n",
    "* remove stopwords\n",
    "* remove whitespaces\n",
    "* remove newlines\n",
    "* tokenize the words\n",
    "* lema and stem the words (compare the results)\n",
    "* vectorize the words\n",
    "* \n"
   ],
   "id": "1e19faf2a47b7a3"
  },
  {
   "metadata": {},
   "cell_type": "markdown",
   "source": "## TF-IDF : Term Frequency - Inverse Document Frequency",
   "id": "5df7eceb21b7c8f3"
  },
  {
   "metadata": {
    "ExecuteTime": {
     "end_time": "2024-07-14T10:06:51.196296Z",
     "start_time": "2024-07-14T10:06:51.194185Z"
    }
   },
   "cell_type": "code",
   "source": "from sklearn.feature_extraction.text import TfidfVectorizer, CountVectorizer",
   "id": "6abd5d2b4e13dc17",
   "outputs": [],
   "execution_count": 1101
  },
  {
   "metadata": {
    "ExecuteTime": {
     "end_time": "2024-07-14T10:06:51.207576Z",
     "start_time": "2024-07-14T10:06:51.205303Z"
    }
   },
   "cell_type": "code",
   "source": [
    "sent1 = \"I am learning NLP\"\n",
    "sent2 = \"NLP is a great field\"\n",
    "sent3 = \"NLP is used in AI... NLP and NLP... NLP\"\n",
    "\n",
    "corpus = [sent1, sent2, sent3]\n"
   ],
   "id": "a976e5aaac43d532",
   "outputs": [],
   "execution_count": 1102
  },
  {
   "metadata": {
    "ExecuteTime": {
     "end_time": "2024-07-14T10:06:51.233709Z",
     "start_time": "2024-07-14T10:06:51.225075Z"
    }
   },
   "cell_type": "code",
   "source": [
    "vect = CountVectorizer()\n",
    "vect.fit_transform(corpus).toarray()"
   ],
   "id": "93522ce1909f0699",
   "outputs": [
    {
     "data": {
      "text/plain": [
       "array([[0, 1, 0, 0, 0, 0, 0, 1, 1, 0],\n",
       "       [0, 0, 0, 1, 1, 0, 1, 0, 1, 0],\n",
       "       [1, 0, 1, 0, 0, 1, 1, 0, 4, 1]])"
      ]
     },
     "execution_count": 1103,
     "metadata": {},
     "output_type": "execute_result"
    }
   ],
   "execution_count": 1103
  },
  {
   "metadata": {
    "ExecuteTime": {
     "end_time": "2024-07-14T10:06:51.268817Z",
     "start_time": "2024-07-14T10:06:51.265760Z"
    }
   },
   "cell_type": "code",
   "source": "vect.get_feature_names_out()",
   "id": "d5d622b68208a66f",
   "outputs": [
    {
     "data": {
      "text/plain": [
       "array(['ai', 'am', 'and', 'field', 'great', 'in', 'is', 'learning', 'nlp',\n",
       "       'used'], dtype=object)"
      ]
     },
     "execution_count": 1104,
     "metadata": {},
     "output_type": "execute_result"
    }
   ],
   "execution_count": 1104
  },
  {
   "metadata": {
    "ExecuteTime": {
     "end_time": "2024-07-14T10:06:51.281115Z",
     "start_time": "2024-07-14T10:06:51.276015Z"
    }
   },
   "cell_type": "code",
   "source": [
    "\n",
    "tf = pd.DataFrame(vect.fit_transform(corpus).toarray(), columns=vect.get_feature_names_out())\n",
    "tf"
   ],
   "id": "1990e8df94f8e1f3",
   "outputs": [
    {
     "data": {
      "text/plain": [
       "   ai  am  and  field  great  in  is  learning  nlp  used\n",
       "0   0   1    0      0      0   0   0         1    1     0\n",
       "1   0   0    0      1      1   0   1         0    1     0\n",
       "2   1   0    1      0      0   1   1         0    4     1"
      ],
      "text/html": [
       "<div>\n",
       "<style scoped>\n",
       "    .dataframe tbody tr th:only-of-type {\n",
       "        vertical-align: middle;\n",
       "    }\n",
       "\n",
       "    .dataframe tbody tr th {\n",
       "        vertical-align: top;\n",
       "    }\n",
       "\n",
       "    .dataframe thead th {\n",
       "        text-align: right;\n",
       "    }\n",
       "</style>\n",
       "<table border=\"1\" class=\"dataframe\">\n",
       "  <thead>\n",
       "    <tr style=\"text-align: right;\">\n",
       "      <th></th>\n",
       "      <th>ai</th>\n",
       "      <th>am</th>\n",
       "      <th>and</th>\n",
       "      <th>field</th>\n",
       "      <th>great</th>\n",
       "      <th>in</th>\n",
       "      <th>is</th>\n",
       "      <th>learning</th>\n",
       "      <th>nlp</th>\n",
       "      <th>used</th>\n",
       "    </tr>\n",
       "  </thead>\n",
       "  <tbody>\n",
       "    <tr>\n",
       "      <th>0</th>\n",
       "      <td>0</td>\n",
       "      <td>1</td>\n",
       "      <td>0</td>\n",
       "      <td>0</td>\n",
       "      <td>0</td>\n",
       "      <td>0</td>\n",
       "      <td>0</td>\n",
       "      <td>1</td>\n",
       "      <td>1</td>\n",
       "      <td>0</td>\n",
       "    </tr>\n",
       "    <tr>\n",
       "      <th>1</th>\n",
       "      <td>0</td>\n",
       "      <td>0</td>\n",
       "      <td>0</td>\n",
       "      <td>1</td>\n",
       "      <td>1</td>\n",
       "      <td>0</td>\n",
       "      <td>1</td>\n",
       "      <td>0</td>\n",
       "      <td>1</td>\n",
       "      <td>0</td>\n",
       "    </tr>\n",
       "    <tr>\n",
       "      <th>2</th>\n",
       "      <td>1</td>\n",
       "      <td>0</td>\n",
       "      <td>1</td>\n",
       "      <td>0</td>\n",
       "      <td>0</td>\n",
       "      <td>1</td>\n",
       "      <td>1</td>\n",
       "      <td>0</td>\n",
       "      <td>4</td>\n",
       "      <td>1</td>\n",
       "    </tr>\n",
       "  </tbody>\n",
       "</table>\n",
       "</div>"
      ]
     },
     "execution_count": 1105,
     "metadata": {},
     "output_type": "execute_result"
    }
   ],
   "execution_count": 1105
  },
  {
   "metadata": {
    "ExecuteTime": {
     "end_time": "2024-07-14T10:06:51.300156Z",
     "start_time": "2024-07-14T10:06:51.295204Z"
    }
   },
   "cell_type": "code",
   "source": [
    "df = vect.fit_transform(corpus).toarray().sum(axis=0)\n",
    "df"
   ],
   "id": "9bfb03c0afdc81f0",
   "outputs": [
    {
     "data": {
      "text/plain": [
       "array([1, 1, 1, 1, 1, 1, 2, 1, 6, 1])"
      ]
     },
     "execution_count": 1106,
     "metadata": {},
     "output_type": "execute_result"
    }
   ],
   "execution_count": 1106
  },
  {
   "metadata": {
    "ExecuteTime": {
     "end_time": "2024-07-14T10:06:51.325729Z",
     "start_time": "2024-07-14T10:06:51.319164Z"
    }
   },
   "cell_type": "code",
   "source": [
    "# tf / idf : find the idf values\n",
    "tf / df"
   ],
   "id": "fabf609f56a491d5",
   "outputs": [
    {
     "data": {
      "text/plain": [
       "    ai   am  and  field  great   in   is  learning       nlp  used\n",
       "0  0.0  1.0  0.0    0.0    0.0  0.0  0.0       1.0  0.166667   0.0\n",
       "1  0.0  0.0  0.0    1.0    1.0  0.0  0.5       0.0  0.166667   0.0\n",
       "2  1.0  0.0  1.0    0.0    0.0  1.0  0.5       0.0  0.666667   1.0"
      ],
      "text/html": [
       "<div>\n",
       "<style scoped>\n",
       "    .dataframe tbody tr th:only-of-type {\n",
       "        vertical-align: middle;\n",
       "    }\n",
       "\n",
       "    .dataframe tbody tr th {\n",
       "        vertical-align: top;\n",
       "    }\n",
       "\n",
       "    .dataframe thead th {\n",
       "        text-align: right;\n",
       "    }\n",
       "</style>\n",
       "<table border=\"1\" class=\"dataframe\">\n",
       "  <thead>\n",
       "    <tr style=\"text-align: right;\">\n",
       "      <th></th>\n",
       "      <th>ai</th>\n",
       "      <th>am</th>\n",
       "      <th>and</th>\n",
       "      <th>field</th>\n",
       "      <th>great</th>\n",
       "      <th>in</th>\n",
       "      <th>is</th>\n",
       "      <th>learning</th>\n",
       "      <th>nlp</th>\n",
       "      <th>used</th>\n",
       "    </tr>\n",
       "  </thead>\n",
       "  <tbody>\n",
       "    <tr>\n",
       "      <th>0</th>\n",
       "      <td>0.0</td>\n",
       "      <td>1.0</td>\n",
       "      <td>0.0</td>\n",
       "      <td>0.0</td>\n",
       "      <td>0.0</td>\n",
       "      <td>0.0</td>\n",
       "      <td>0.0</td>\n",
       "      <td>1.0</td>\n",
       "      <td>0.166667</td>\n",
       "      <td>0.0</td>\n",
       "    </tr>\n",
       "    <tr>\n",
       "      <th>1</th>\n",
       "      <td>0.0</td>\n",
       "      <td>0.0</td>\n",
       "      <td>0.0</td>\n",
       "      <td>1.0</td>\n",
       "      <td>1.0</td>\n",
       "      <td>0.0</td>\n",
       "      <td>0.5</td>\n",
       "      <td>0.0</td>\n",
       "      <td>0.166667</td>\n",
       "      <td>0.0</td>\n",
       "    </tr>\n",
       "    <tr>\n",
       "      <th>2</th>\n",
       "      <td>1.0</td>\n",
       "      <td>0.0</td>\n",
       "      <td>1.0</td>\n",
       "      <td>0.0</td>\n",
       "      <td>0.0</td>\n",
       "      <td>1.0</td>\n",
       "      <td>0.5</td>\n",
       "      <td>0.0</td>\n",
       "      <td>0.666667</td>\n",
       "      <td>1.0</td>\n",
       "    </tr>\n",
       "  </tbody>\n",
       "</table>\n",
       "</div>"
      ]
     },
     "execution_count": 1107,
     "metadata": {},
     "output_type": "execute_result"
    }
   ],
   "execution_count": 1107
  },
  {
   "metadata": {},
   "cell_type": "markdown",
   "source": "## Project - NLP Restaurant Reviews",
   "id": "41d74877c4df99fc"
  },
  {
   "metadata": {
    "ExecuteTime": {
     "end_time": "2024-07-14T10:06:51.396960Z",
     "start_time": "2024-07-14T10:06:51.352284Z"
    }
   },
   "cell_type": "code",
   "source": [
    "df = pd.read_csv(\"yelp.csv\")\n",
    "df.head()"
   ],
   "id": "78f0cb9af074f0e3",
   "outputs": [
    {
     "data": {
      "text/plain": [
       "              business_id        date               review_id  stars  \\\n",
       "0  9yKzy9PApeiPPOUJEtnvkg  2011-01-26  fWKvX83p0-ka4JS3dc6E5A      5   \n",
       "1  ZRJwVLyzEJq1VAihDhYiow  2011-07-27  IjZ33sJrzXqU-0X6U8NwyA      5   \n",
       "2  6oRAC4uyJCsJl1X0WZpVSA  2012-06-14  IESLBzqUCLdSzSqm0eCSxQ      4   \n",
       "3  _1QQZuf4zZOyFCvXc0o6Vg  2010-05-27  G-WvGaISbqqaMHlNnByodA      5   \n",
       "4  6ozycU1RpktNG2-1BroVtw  2012-01-05  1uJFq2r5QfJG_6ExMRCaGw      5   \n",
       "\n",
       "                                                                                                                                                                                                                                                                                                                                                                                                                                                                                                                                                                                                                                                                                                                                                                                                                                                                                                                                                                                                                                                                                                                                                                                                                                                                                                                                                                                                    text  \\\n",
       "0                                                                                                                                                                                                                                                                                                                                                                                                                                                                        My wife took me here on my birthday for breakfast and it was excellent.  The weather was perfect which made sitting outside overlooking their grounds an absolute pleasure.  Our waitress was excellent and our food arrived quickly on the semi-busy Saturday morning.  It looked like the place fills up pretty quickly so the earlier you get here the better.\\n\\nDo yourself a favor and get their Bloody Mary.  It was phenomenal and simply the best I've ever had.  I'm pretty sure they only use ingredients from their garden and blend them fresh when you order it.  It was amazing.\\n\\nWhile EVERYTHING on the menu looks excellent, I had the white truffle scrambled eggs vegetable skillet and it was tasty and delicious.  It came with 2 pieces of their griddled bread with was amazing and it absolutely made the meal complete.  It was the best \"toast\" I've ever had.\\n\\nAnyway, I can't wait to go back!   \n",
       "1  I have no idea why some people give bad reviews about this place. It goes to show you, you can please everyone. They are probably griping about something that their own fault...there are many people like that.\\n\\nIn any case, my friend and I arrived at about 5:50 PM this past Sunday. It was pretty crowded, more than I thought for a Sunday evening and thought we would have to wait forever to get a seat but they said we'll be seated when the girl comes back from seating someone else. We were seated at 5:52 and the waiter came and got our drink orders. Everyone was very pleasant from the host that seated us to the waiter to the server. The prices were very good as well. We placed our orders once we decided what we wanted at 6:02. We shared the baked spaghetti calzone and the small \"Here's The Beef\" pizza so we can both try them. The calzone was huge and we got the smallest one (personal) and got the small 11\" pizza. Both were awesome! My friend liked the pizza better and I liked the calzone better. The calzone does have a sweetish sauce but that's how I like my sauce!\\n\\nWe had to box part of the pizza to take it home and we were out the door by 6:42. So, everything was great and not like these bad reviewers. That goes to show you that  you have to try these things yourself because all these bad reviewers have some serious issues.   \n",
       "2                                                                                                                                                                                                                                                                                                                                                                                                                                                                                                                                                                                                                                                                                                                                                                                                                                                                                                                                                                                                                                                                                                                                                                                                                                                                                                                           love the gyro plate. Rice is so good and I also dig their candy selection :)   \n",
       "3                                                                                                                                                                                                                                                                                                                                                                                                                                                                                                                                                                                                                                                                                                                                                                                                                                                                                                                                                                Rosie, Dakota, and I LOVE Chaparral Dog Park!!! It's very convenient and surrounded by a lot of paths, a desert xeriscape, baseball fields, ballparks, and a lake with ducks.\\n\\nThe Scottsdale Park and Rec Dept. does a wonderful job of keeping the park clean and shaded.  You can find trash cans and poopy-pick up mitts located all over the park and paths.\\n\\nThe fenced in area is huge to let the dogs run, play, and sniff!   \n",
       "4                                                                                                                                                                                                                                                                                                                                                                                                                                                                                                                                                                                                                                                                                                                                                                                                                                                                                                                General Manager Scott Petello is a good egg!!! Not to go into detail, but let me assure you if you have any issues (albeit rare) speak with Scott and treat the guy with some respect as you state your case and I'd be surprised if you don't walk out totally satisfied as I just did. Like I always say..... \"Mistakes are inevitable, it's how we recover from them that is important\"!!!\\n\\nThanks to Scott and his awesome staff. You've got a customer for life!! .......... :^)   \n",
       "\n",
       "     type                 user_id  cool  useful  funny  \n",
       "0  review  rLtl8ZkDX5vH5nAx9C3q5Q     2       5      0  \n",
       "1  review  0a2KyEL0d3Yb1V6aivbIuQ     0       0      0  \n",
       "2  review  0hT2KtfLiobPvh6cDC8JQg     0       1      0  \n",
       "3  review  uZetl9T0NcROGOyFfughhg     1       2      0  \n",
       "4  review  vYmM4KTsC8ZfQBg-j5MWkw     0       0      0  "
      ],
      "text/html": [
       "<div>\n",
       "<style scoped>\n",
       "    .dataframe tbody tr th:only-of-type {\n",
       "        vertical-align: middle;\n",
       "    }\n",
       "\n",
       "    .dataframe tbody tr th {\n",
       "        vertical-align: top;\n",
       "    }\n",
       "\n",
       "    .dataframe thead th {\n",
       "        text-align: right;\n",
       "    }\n",
       "</style>\n",
       "<table border=\"1\" class=\"dataframe\">\n",
       "  <thead>\n",
       "    <tr style=\"text-align: right;\">\n",
       "      <th></th>\n",
       "      <th>business_id</th>\n",
       "      <th>date</th>\n",
       "      <th>review_id</th>\n",
       "      <th>stars</th>\n",
       "      <th>text</th>\n",
       "      <th>type</th>\n",
       "      <th>user_id</th>\n",
       "      <th>cool</th>\n",
       "      <th>useful</th>\n",
       "      <th>funny</th>\n",
       "    </tr>\n",
       "  </thead>\n",
       "  <tbody>\n",
       "    <tr>\n",
       "      <th>0</th>\n",
       "      <td>9yKzy9PApeiPPOUJEtnvkg</td>\n",
       "      <td>2011-01-26</td>\n",
       "      <td>fWKvX83p0-ka4JS3dc6E5A</td>\n",
       "      <td>5</td>\n",
       "      <td>My wife took me here on my birthday for breakfast and it was excellent.  The weather was perfect which made sitting outside overlooking their grounds an absolute pleasure.  Our waitress was excellent and our food arrived quickly on the semi-busy Saturday morning.  It looked like the place fills up pretty quickly so the earlier you get here the better.\\n\\nDo yourself a favor and get their Bloody Mary.  It was phenomenal and simply the best I've ever had.  I'm pretty sure they only use ingredients from their garden and blend them fresh when you order it.  It was amazing.\\n\\nWhile EVERYTHING on the menu looks excellent, I had the white truffle scrambled eggs vegetable skillet and it was tasty and delicious.  It came with 2 pieces of their griddled bread with was amazing and it absolutely made the meal complete.  It was the best \"toast\" I've ever had.\\n\\nAnyway, I can't wait to go back!</td>\n",
       "      <td>review</td>\n",
       "      <td>rLtl8ZkDX5vH5nAx9C3q5Q</td>\n",
       "      <td>2</td>\n",
       "      <td>5</td>\n",
       "      <td>0</td>\n",
       "    </tr>\n",
       "    <tr>\n",
       "      <th>1</th>\n",
       "      <td>ZRJwVLyzEJq1VAihDhYiow</td>\n",
       "      <td>2011-07-27</td>\n",
       "      <td>IjZ33sJrzXqU-0X6U8NwyA</td>\n",
       "      <td>5</td>\n",
       "      <td>I have no idea why some people give bad reviews about this place. It goes to show you, you can please everyone. They are probably griping about something that their own fault...there are many people like that.\\n\\nIn any case, my friend and I arrived at about 5:50 PM this past Sunday. It was pretty crowded, more than I thought for a Sunday evening and thought we would have to wait forever to get a seat but they said we'll be seated when the girl comes back from seating someone else. We were seated at 5:52 and the waiter came and got our drink orders. Everyone was very pleasant from the host that seated us to the waiter to the server. The prices were very good as well. We placed our orders once we decided what we wanted at 6:02. We shared the baked spaghetti calzone and the small \"Here's The Beef\" pizza so we can both try them. The calzone was huge and we got the smallest one (personal) and got the small 11\" pizza. Both were awesome! My friend liked the pizza better and I liked the calzone better. The calzone does have a sweetish sauce but that's how I like my sauce!\\n\\nWe had to box part of the pizza to take it home and we were out the door by 6:42. So, everything was great and not like these bad reviewers. That goes to show you that  you have to try these things yourself because all these bad reviewers have some serious issues.</td>\n",
       "      <td>review</td>\n",
       "      <td>0a2KyEL0d3Yb1V6aivbIuQ</td>\n",
       "      <td>0</td>\n",
       "      <td>0</td>\n",
       "      <td>0</td>\n",
       "    </tr>\n",
       "    <tr>\n",
       "      <th>2</th>\n",
       "      <td>6oRAC4uyJCsJl1X0WZpVSA</td>\n",
       "      <td>2012-06-14</td>\n",
       "      <td>IESLBzqUCLdSzSqm0eCSxQ</td>\n",
       "      <td>4</td>\n",
       "      <td>love the gyro plate. Rice is so good and I also dig their candy selection :)</td>\n",
       "      <td>review</td>\n",
       "      <td>0hT2KtfLiobPvh6cDC8JQg</td>\n",
       "      <td>0</td>\n",
       "      <td>1</td>\n",
       "      <td>0</td>\n",
       "    </tr>\n",
       "    <tr>\n",
       "      <th>3</th>\n",
       "      <td>_1QQZuf4zZOyFCvXc0o6Vg</td>\n",
       "      <td>2010-05-27</td>\n",
       "      <td>G-WvGaISbqqaMHlNnByodA</td>\n",
       "      <td>5</td>\n",
       "      <td>Rosie, Dakota, and I LOVE Chaparral Dog Park!!! It's very convenient and surrounded by a lot of paths, a desert xeriscape, baseball fields, ballparks, and a lake with ducks.\\n\\nThe Scottsdale Park and Rec Dept. does a wonderful job of keeping the park clean and shaded.  You can find trash cans and poopy-pick up mitts located all over the park and paths.\\n\\nThe fenced in area is huge to let the dogs run, play, and sniff!</td>\n",
       "      <td>review</td>\n",
       "      <td>uZetl9T0NcROGOyFfughhg</td>\n",
       "      <td>1</td>\n",
       "      <td>2</td>\n",
       "      <td>0</td>\n",
       "    </tr>\n",
       "    <tr>\n",
       "      <th>4</th>\n",
       "      <td>6ozycU1RpktNG2-1BroVtw</td>\n",
       "      <td>2012-01-05</td>\n",
       "      <td>1uJFq2r5QfJG_6ExMRCaGw</td>\n",
       "      <td>5</td>\n",
       "      <td>General Manager Scott Petello is a good egg!!! Not to go into detail, but let me assure you if you have any issues (albeit rare) speak with Scott and treat the guy with some respect as you state your case and I'd be surprised if you don't walk out totally satisfied as I just did. Like I always say..... \"Mistakes are inevitable, it's how we recover from them that is important\"!!!\\n\\nThanks to Scott and his awesome staff. You've got a customer for life!! .......... :^)</td>\n",
       "      <td>review</td>\n",
       "      <td>vYmM4KTsC8ZfQBg-j5MWkw</td>\n",
       "      <td>0</td>\n",
       "      <td>0</td>\n",
       "      <td>0</td>\n",
       "    </tr>\n",
       "  </tbody>\n",
       "</table>\n",
       "</div>"
      ]
     },
     "execution_count": 1108,
     "metadata": {},
     "output_type": "execute_result"
    }
   ],
   "execution_count": 1108
  },
  {
   "metadata": {
    "ExecuteTime": {
     "end_time": "2024-07-14T10:06:51.413826Z",
     "start_time": "2024-07-14T10:06:51.408263Z"
    }
   },
   "cell_type": "code",
   "source": "df.info()",
   "id": "e3ad633a2658ceae",
   "outputs": [
    {
     "name": "stdout",
     "output_type": "stream",
     "text": [
      "<class 'pandas.core.frame.DataFrame'>\n",
      "RangeIndex: 10000 entries, 0 to 9999\n",
      "Data columns (total 10 columns):\n",
      " #   Column       Non-Null Count  Dtype \n",
      "---  ------       --------------  ----- \n",
      " 0   business_id  10000 non-null  object\n",
      " 1   date         10000 non-null  object\n",
      " 2   review_id    10000 non-null  object\n",
      " 3   stars        10000 non-null  int64 \n",
      " 4   text         10000 non-null  object\n",
      " 5   type         10000 non-null  object\n",
      " 6   user_id      10000 non-null  object\n",
      " 7   cool         10000 non-null  int64 \n",
      " 8   useful       10000 non-null  int64 \n",
      " 9   funny        10000 non-null  int64 \n",
      "dtypes: int64(4), object(6)\n",
      "memory usage: 781.4+ KB\n"
     ]
    }
   ],
   "execution_count": 1109
  },
  {
   "metadata": {
    "ExecuteTime": {
     "end_time": "2024-07-14T10:06:51.437652Z",
     "start_time": "2024-07-14T10:06:51.434668Z"
    }
   },
   "cell_type": "code",
   "source": "df.shape",
   "id": "2ebc9a9af1a5537",
   "outputs": [
    {
     "data": {
      "text/plain": [
       "(10000, 10)"
      ]
     },
     "execution_count": 1110,
     "metadata": {},
     "output_type": "execute_result"
    }
   ],
   "execution_count": 1110
  },
  {
   "metadata": {
    "ExecuteTime": {
     "end_time": "2024-07-14T10:06:51.539227Z",
     "start_time": "2024-07-14T10:06:51.536661Z"
    }
   },
   "cell_type": "code",
   "source": "df.text[0]",
   "id": "6d369017163e4bb2",
   "outputs": [
    {
     "data": {
      "text/plain": [
       "'My wife took me here on my birthday for breakfast and it was excellent.  The weather was perfect which made sitting outside overlooking their grounds an absolute pleasure.  Our waitress was excellent and our food arrived quickly on the semi-busy Saturday morning.  It looked like the place fills up pretty quickly so the earlier you get here the better.\\n\\nDo yourself a favor and get their Bloody Mary.  It was phenomenal and simply the best I\\'ve ever had.  I\\'m pretty sure they only use ingredients from their garden and blend them fresh when you order it.  It was amazing.\\n\\nWhile EVERYTHING on the menu looks excellent, I had the white truffle scrambled eggs vegetable skillet and it was tasty and delicious.  It came with 2 pieces of their griddled bread with was amazing and it absolutely made the meal complete.  It was the best \"toast\" I\\'ve ever had.\\n\\nAnyway, I can\\'t wait to go back!'"
      ]
     },
     "execution_count": 1111,
     "metadata": {},
     "output_type": "execute_result"
    }
   ],
   "execution_count": 1111
  },
  {
   "metadata": {
    "ExecuteTime": {
     "end_time": "2024-07-14T10:06:51.665099Z",
     "start_time": "2024-07-14T10:06:51.578934Z"
    }
   },
   "cell_type": "code",
   "source": [
    "df = pd.read_csv(\"yelp.csv\")\n",
    "# change to lowercase\n",
    "df.text = df.text.str.lower()\n",
    "\n",
    "# remove whitespaces\n",
    "df.text = df.text.str.strip()\n",
    "\n",
    "# remove punctuations\n",
    "df.text = df.text.str.replace('[^\\w\\s]', '')\n",
    "\n",
    "# remove newlines\n",
    "df.text = df.text.str.replace('\\n', ' ')\n",
    "\n",
    "# remove numbers\n",
    "df.text = df.text.str.replace('\\d+', '')\n",
    "\n",
    "# remove tırnak işaretleri, nokta virgul etc..\n",
    "df.text = df.text.str.replace('.', '')\n",
    "df.text = df.text.str.replace(',', '')\n",
    "df.text = df.text.str.replace('\\'', '')\n",
    "df.text = df.text.str.replace('\\'', '')\n",
    "df.text = df.text.str.replace(\"'\", '')\n",
    "df.text = df.text.str.replace(\"!\", '')\n",
    "df.text = df.text.str.replace(\"\\r\", ' ')"
   ],
   "id": "e56936799a7fc495",
   "outputs": [],
   "execution_count": 1112
  },
  {
   "metadata": {
    "ExecuteTime": {
     "end_time": "2024-07-14T10:06:51.684945Z",
     "start_time": "2024-07-14T10:06:51.682277Z"
    }
   },
   "cell_type": "code",
   "source": "df.text[0]",
   "id": "d661146759038f0d",
   "outputs": [
    {
     "data": {
      "text/plain": [
       "'my wife took me here on my birthday for breakfast and it was excellent  the weather was perfect which made sitting outside overlooking their grounds an absolute pleasure  our waitress was excellent and our food arrived quickly on the semi-busy saturday morning  it looked like the place fills up pretty quickly so the earlier you get here the better  do yourself a favor and get their bloody mary  it was phenomenal and simply the best ive ever had  im pretty sure they only use ingredients from their garden and blend them fresh when you order it  it was amazing  while everything on the menu looks excellent i had the white truffle scrambled eggs vegetable skillet and it was tasty and delicious  it came with 2 pieces of their griddled bread with was amazing and it absolutely made the meal complete  it was the best \"toast\" ive ever had  anyway i cant wait to go back'"
      ]
     },
     "execution_count": 1113,
     "metadata": {},
     "output_type": "execute_result"
    }
   ],
   "execution_count": 1113
  },
  {
   "metadata": {
    "ExecuteTime": {
     "end_time": "2024-07-14T10:06:51.780330Z",
     "start_time": "2024-07-14T10:06:51.707713Z"
    }
   },
   "cell_type": "code",
   "source": [
    "import seaborn as sns\n",
    "\n",
    "sns.countplot(x=df.stars);"
   ],
   "id": "2f65b31182658f84",
   "outputs": [
    {
     "data": {
      "text/plain": [
       "<Figure size 640x480 with 1 Axes>"
      ],
      "image/png": "[encoded data removed]"
     },
     "metadata": {},
     "output_type": "display_data"
    }
   ],
   "execution_count": 1114
  },
  {
   "metadata": {},
   "cell_type": "markdown",
   "source": "## Sentiment Analysis",
   "id": "8929820d4a126d29"
  },
  {
   "metadata": {
    "ExecuteTime": {
     "end_time": "2024-07-14T10:06:51.787705Z",
     "start_time": "2024-07-14T10:06:51.781434Z"
    }
   },
   "cell_type": "code",
   "source": [
    "# yelp best and worst reviews\n",
    "yelp_bw = df[(df.stars == 1) | (df.stars == 5)]\n",
    "yelp_bw.tail()"
   ],
   "id": "97d4f293c012d946",
   "outputs": [
    {
     "data": {
      "text/plain": [
       "                 business_id        date               review_id  stars  \\\n",
       "9990  R8VwdLyvsp9iybNqRvm94g  2011-10-03  pcEeHdAJPoFNF23es0kKWg      5   \n",
       "9991  WJ5mq4EiWYAA4Vif0xDfdg  2011-12-05  EuHX-39FR7tyyG1ElvN1Jw      5   \n",
       "9992  f96lWMIAUhYIYy9gOktivQ  2009-03-10  YF17z7HWlMj6aezZc-pVEw      5   \n",
       "9994  L3BSpFvxcNf3T_teitgt6A  2012-03-19  0nxb1gIGFgk3WbC5zwhKZg      5   \n",
       "9999  pF7uRzygyZsltbmVpjIyvw  2010-10-16  vWSmOhg2ID1MNZHaWapGbA      5   \n",
       "\n",
       "                                                                                                                                                                                                                                                                                                                                                                                                                                                                                                                                                                                                                                                                                                                                                                                                                                                                                                                                                                                                                                                                                                                                                                                                                                                                                                                                                                                                                                                                                                                                                                                                                                                                                                                                                                                                                                                                                                                                                                                            text  \\\n",
       "9990                                                                                                                                                                                                                                                                                                                                                                                                                                                                                                                                                                                                                                                                                                                                                                                                                                                                                                                                                                                                                                                                                                                                                                                                                                                                                                                                                                                                                                                                                                                                                                                                                                                                                                                            yes i do rock the hipster joints  i dig this place  a little bit of a scene but the food is solid and the service is great hard not like it  all in all a great spot  i tend to switch up my favorites but i typically hit this up for breakfast when in the 602   \n",
       "9991                                                                                                                                                                                                                                                                                                                                                                                                                                                                                                                                                                                                                                                                                                                                                                                                                                                                                                                                                                                                                                                                        only 4 stars?   (a few notes: the folks that rated this place low must have been isolated incidences and i feel weigh far to heavy on service rather than product dining at a restaurant rate the service a lil harder but a coffee shop hold your tongue)  anyway this place rocks we arent super close but we pass up several coffee shops en route to lola because the quality is top drawer  the beans fair trade and the roast is perfect the price of a bag of beans is amazing doing right by the farmers and then respecting the product with such a solid roast this is what is all about  i have yet to find a better americano a splash of cream and a splenda only augments the flavor of the espresso and the richness really shines ive been to most of the independent coffee shops throughout the area and if i do find myself elsewhere i can only compare them to lola and lola wins out each time   \n",
       "9992                                                                                                                                                                                                                                                                                                                                                                                                                                                                                                                                                                                                                                        im not normally one to jump at reviewing a chain restaurant especially when there are 3 subways all within a couple blocks of each other  i felt it was necessary in this case  my husband and i came here over the weekend after a lovely trip to the dog park  the two guys working here on the lonely afternoon were awesome  they were really nice and friendly and quite chatty  one of them started helping my husband and the other one was sweeping while i was deciding  the sweeping boy apparently noticed i was ready and he quickly ran to the back washed his hands threw on gloves and asked me what i wanted  wow  this type of service has never happened at the other locations all of which i have been too  he chatted with me as i told him what i wanted  he also joked about my weird sandwich and made me laugh  its refreshing to see a couple guys working on a boring day and actually enjoying themselves  they also have outdoor seating which are perfect to sit at and people watch on beautiful days  we even met this incredible 90 year old guy who is blind and deaf in both ears but somehow managed to communicate with us perfectly  he was much more lively than most twenty-somethings you meet  amazing  only in downtown do you meet people like that  this is a great subway  go here and skip the others   \n",
       "9994  lets seewhat is there not to like about surprise stadium? well $950 tall cans of pbr is about all i could come up with and thats not a surprise (pun intended) considering youre attending a sporting eventeven spring training   but as someone who does not living in arizona and as someone who doesnt go to mlb baseball games in southern california due to the fact it costs so damn much people bitching about the slow service or any other little inconvenience when it comes to seeing a game here look youre lucky enough to have almost an entire month of low cost mlb baseball right in your back yard if i could id live down here during march just to take in the awesome baseball action that crisscrosses the phoenix metro area each year   i attended my first spring training game on march 12th 2012 at surprise stadium as the royals took on the san francisco giants (my favorite team) our seats (sec 112 row j seats 13-14-15) were 25 bucks each (around 30 bucks including service fees) i mean we were maybe 5 or 6 rows back from the giants dugout (check out some of my pictures) the stadium (funny calling it that since it only holds just over 10000 people) is big enough so you feel youre at an mlb game but small enough to feel pretty close and intimate with the players the stadium is well maintained and kept super clean   arriving to the park i was surprised (pun unintended) to see that parking was free an oddity when going to an event like this the stadium staff as mentioned by other reviews are mainly made up of senior citizens who were super friendly and helpful i didnt have to wait long at the concession stands even if lines were a bit long the outfield is lined with a lawn area perfect for people to sit back and have a picnic while taking in a game (tickets are around 9 bucks each after service fees)   i love this place and hope to return next year when visiting family oh giants won 2-1 go giants   \n",
       "9999                                                                                                                                                                                                                                                                                                                                                                                                                                                                                                                                                                                                                                                                                                                                                                                                                                                                                                                                                                                                                                                                                                                                                                                                                                                                                                                                                                                                                                                                                                                                       4-5 locations all 45 star average i think arizona really has some fantastic pizza options and spinatos is at the top of my pizza fix list the semi sweet sauce is addictive great service fresh ingredients the spicy italian is my favorite the chocolate chips cookies are laced with mind altering drugs that make your body parts\"romantic\" when you think of their cookies btw 5:30pm on a tuesday when we left a 30 minute wait its on the list   \n",
       "\n",
       "        type                 user_id  cool  useful  funny  \n",
       "9990  review  b92Y3tyWTQQZ5FLifex62Q     1       1      1  \n",
       "9991  review  hTau-iNZFwoNsPCaiIUTEA     1       1      0  \n",
       "9992  review  W_QXYA7A0IhMrvbckz7eVg     2       3      2  \n",
       "9994  review  OzOZv-Knlw3oz9K5Kh5S6A     1       2      1  \n",
       "9999  review  KSBFytcdjPKZgXKQnYQdkA     0       0      0  "
      ],
      "text/html": [
       "<div>\n",
       "<style scoped>\n",
       "    .dataframe tbody tr th:only-of-type {\n",
       "        vertical-align: middle;\n",
       "    }\n",
       "\n",
       "    .dataframe tbody tr th {\n",
       "        vertical-align: top;\n",
       "    }\n",
       "\n",
       "    .dataframe thead th {\n",
       "        text-align: right;\n",
       "    }\n",
       "</style>\n",
       "<table border=\"1\" class=\"dataframe\">\n",
       "  <thead>\n",
       "    <tr style=\"text-align: right;\">\n",
       "      <th></th>\n",
       "      <th>business_id</th>\n",
       "      <th>date</th>\n",
       "      <th>review_id</th>\n",
       "      <th>stars</th>\n",
       "      <th>text</th>\n",
       "      <th>type</th>\n",
       "      <th>user_id</th>\n",
       "      <th>cool</th>\n",
       "      <th>useful</th>\n",
       "      <th>funny</th>\n",
       "    </tr>\n",
       "  </thead>\n",
       "  <tbody>\n",
       "    <tr>\n",
       "      <th>9990</th>\n",
       "      <td>R8VwdLyvsp9iybNqRvm94g</td>\n",
       "      <td>2011-10-03</td>\n",
       "      <td>pcEeHdAJPoFNF23es0kKWg</td>\n",
       "      <td>5</td>\n",
       "      <td>yes i do rock the hipster joints  i dig this place  a little bit of a scene but the food is solid and the service is great hard not like it  all in all a great spot  i tend to switch up my favorites but i typically hit this up for breakfast when in the 602</td>\n",
       "      <td>review</td>\n",
       "      <td>b92Y3tyWTQQZ5FLifex62Q</td>\n",
       "      <td>1</td>\n",
       "      <td>1</td>\n",
       "      <td>1</td>\n",
       "    </tr>\n",
       "    <tr>\n",
       "      <th>9991</th>\n",
       "      <td>WJ5mq4EiWYAA4Vif0xDfdg</td>\n",
       "      <td>2011-12-05</td>\n",
       "      <td>EuHX-39FR7tyyG1ElvN1Jw</td>\n",
       "      <td>5</td>\n",
       "      <td>only 4 stars?   (a few notes: the folks that rated this place low must have been isolated incidences and i feel weigh far to heavy on service rather than product dining at a restaurant rate the service a lil harder but a coffee shop hold your tongue)  anyway this place rocks we arent super close but we pass up several coffee shops en route to lola because the quality is top drawer  the beans fair trade and the roast is perfect the price of a bag of beans is amazing doing right by the farmers and then respecting the product with such a solid roast this is what is all about  i have yet to find a better americano a splash of cream and a splenda only augments the flavor of the espresso and the richness really shines ive been to most of the independent coffee shops throughout the area and if i do find myself elsewhere i can only compare them to lola and lola wins out each time</td>\n",
       "      <td>review</td>\n",
       "      <td>hTau-iNZFwoNsPCaiIUTEA</td>\n",
       "      <td>1</td>\n",
       "      <td>1</td>\n",
       "      <td>0</td>\n",
       "    </tr>\n",
       "    <tr>\n",
       "      <th>9992</th>\n",
       "      <td>f96lWMIAUhYIYy9gOktivQ</td>\n",
       "      <td>2009-03-10</td>\n",
       "      <td>YF17z7HWlMj6aezZc-pVEw</td>\n",
       "      <td>5</td>\n",
       "      <td>im not normally one to jump at reviewing a chain restaurant especially when there are 3 subways all within a couple blocks of each other  i felt it was necessary in this case  my husband and i came here over the weekend after a lovely trip to the dog park  the two guys working here on the lonely afternoon were awesome  they were really nice and friendly and quite chatty  one of them started helping my husband and the other one was sweeping while i was deciding  the sweeping boy apparently noticed i was ready and he quickly ran to the back washed his hands threw on gloves and asked me what i wanted  wow  this type of service has never happened at the other locations all of which i have been too  he chatted with me as i told him what i wanted  he also joked about my weird sandwich and made me laugh  its refreshing to see a couple guys working on a boring day and actually enjoying themselves  they also have outdoor seating which are perfect to sit at and people watch on beautiful days  we even met this incredible 90 year old guy who is blind and deaf in both ears but somehow managed to communicate with us perfectly  he was much more lively than most twenty-somethings you meet  amazing  only in downtown do you meet people like that  this is a great subway  go here and skip the others</td>\n",
       "      <td>review</td>\n",
       "      <td>W_QXYA7A0IhMrvbckz7eVg</td>\n",
       "      <td>2</td>\n",
       "      <td>3</td>\n",
       "      <td>2</td>\n",
       "    </tr>\n",
       "    <tr>\n",
       "      <th>9994</th>\n",
       "      <td>L3BSpFvxcNf3T_teitgt6A</td>\n",
       "      <td>2012-03-19</td>\n",
       "      <td>0nxb1gIGFgk3WbC5zwhKZg</td>\n",
       "      <td>5</td>\n",
       "      <td>lets seewhat is there not to like about surprise stadium? well $950 tall cans of pbr is about all i could come up with and thats not a surprise (pun intended) considering youre attending a sporting eventeven spring training   but as someone who does not living in arizona and as someone who doesnt go to mlb baseball games in southern california due to the fact it costs so damn much people bitching about the slow service or any other little inconvenience when it comes to seeing a game here look youre lucky enough to have almost an entire month of low cost mlb baseball right in your back yard if i could id live down here during march just to take in the awesome baseball action that crisscrosses the phoenix metro area each year   i attended my first spring training game on march 12th 2012 at surprise stadium as the royals took on the san francisco giants (my favorite team) our seats (sec 112 row j seats 13-14-15) were 25 bucks each (around 30 bucks including service fees) i mean we were maybe 5 or 6 rows back from the giants dugout (check out some of my pictures) the stadium (funny calling it that since it only holds just over 10000 people) is big enough so you feel youre at an mlb game but small enough to feel pretty close and intimate with the players the stadium is well maintained and kept super clean   arriving to the park i was surprised (pun unintended) to see that parking was free an oddity when going to an event like this the stadium staff as mentioned by other reviews are mainly made up of senior citizens who were super friendly and helpful i didnt have to wait long at the concession stands even if lines were a bit long the outfield is lined with a lawn area perfect for people to sit back and have a picnic while taking in a game (tickets are around 9 bucks each after service fees)   i love this place and hope to return next year when visiting family oh giants won 2-1 go giants</td>\n",
       "      <td>review</td>\n",
       "      <td>OzOZv-Knlw3oz9K5Kh5S6A</td>\n",
       "      <td>1</td>\n",
       "      <td>2</td>\n",
       "      <td>1</td>\n",
       "    </tr>\n",
       "    <tr>\n",
       "      <th>9999</th>\n",
       "      <td>pF7uRzygyZsltbmVpjIyvw</td>\n",
       "      <td>2010-10-16</td>\n",
       "      <td>vWSmOhg2ID1MNZHaWapGbA</td>\n",
       "      <td>5</td>\n",
       "      <td>4-5 locations all 45 star average i think arizona really has some fantastic pizza options and spinatos is at the top of my pizza fix list the semi sweet sauce is addictive great service fresh ingredients the spicy italian is my favorite the chocolate chips cookies are laced with mind altering drugs that make your body parts\"romantic\" when you think of their cookies btw 5:30pm on a tuesday when we left a 30 minute wait its on the list</td>\n",
       "      <td>review</td>\n",
       "      <td>KSBFytcdjPKZgXKQnYQdkA</td>\n",
       "      <td>0</td>\n",
       "      <td>0</td>\n",
       "      <td>0</td>\n",
       "    </tr>\n",
       "  </tbody>\n",
       "</table>\n",
       "</div>"
      ]
     },
     "execution_count": 1115,
     "metadata": {},
     "output_type": "execute_result"
    }
   ],
   "execution_count": 1115
  },
  {
   "metadata": {
    "ExecuteTime": {
     "end_time": "2024-07-14T10:06:51.802095Z",
     "start_time": "2024-07-14T10:06:51.788275Z"
    }
   },
   "cell_type": "code",
   "source": [
    "yelp_bw.reset_index(drop=True, inplace=True)\n",
    "yelp_bw.tail()"
   ],
   "id": "c6f626305803768d",
   "outputs": [
    {
     "data": {
      "text/plain": [
       "                 business_id        date               review_id  stars  \\\n",
       "4081  R8VwdLyvsp9iybNqRvm94g  2011-10-03  pcEeHdAJPoFNF23es0kKWg      5   \n",
       "4082  WJ5mq4EiWYAA4Vif0xDfdg  2011-12-05  EuHX-39FR7tyyG1ElvN1Jw      5   \n",
       "4083  f96lWMIAUhYIYy9gOktivQ  2009-03-10  YF17z7HWlMj6aezZc-pVEw      5   \n",
       "4084  L3BSpFvxcNf3T_teitgt6A  2012-03-19  0nxb1gIGFgk3WbC5zwhKZg      5   \n",
       "4085  pF7uRzygyZsltbmVpjIyvw  2010-10-16  vWSmOhg2ID1MNZHaWapGbA      5   \n",
       "\n",
       "                                                                                                                                                                                                                                                                                                                                                                                                                                                                                                                                                                                                                                                                                                                                                                                                                                                                                                                                                                                                                                                                                                                                                                                                                                                                                                                                                                                                                                                                                                                                                                                                                                                                                                                                                                                                                                                                                                                                                                                            text  \\\n",
       "4081                                                                                                                                                                                                                                                                                                                                                                                                                                                                                                                                                                                                                                                                                                                                                                                                                                                                                                                                                                                                                                                                                                                                                                                                                                                                                                                                                                                                                                                                                                                                                                                                                                                                                                                            yes i do rock the hipster joints  i dig this place  a little bit of a scene but the food is solid and the service is great hard not like it  all in all a great spot  i tend to switch up my favorites but i typically hit this up for breakfast when in the 602   \n",
       "4082                                                                                                                                                                                                                                                                                                                                                                                                                                                                                                                                                                                                                                                                                                                                                                                                                                                                                                                                                                                                                                                                        only 4 stars?   (a few notes: the folks that rated this place low must have been isolated incidences and i feel weigh far to heavy on service rather than product dining at a restaurant rate the service a lil harder but a coffee shop hold your tongue)  anyway this place rocks we arent super close but we pass up several coffee shops en route to lola because the quality is top drawer  the beans fair trade and the roast is perfect the price of a bag of beans is amazing doing right by the farmers and then respecting the product with such a solid roast this is what is all about  i have yet to find a better americano a splash of cream and a splenda only augments the flavor of the espresso and the richness really shines ive been to most of the independent coffee shops throughout the area and if i do find myself elsewhere i can only compare them to lola and lola wins out each time   \n",
       "4083                                                                                                                                                                                                                                                                                                                                                                                                                                                                                                                                                                                                                                        im not normally one to jump at reviewing a chain restaurant especially when there are 3 subways all within a couple blocks of each other  i felt it was necessary in this case  my husband and i came here over the weekend after a lovely trip to the dog park  the two guys working here on the lonely afternoon were awesome  they were really nice and friendly and quite chatty  one of them started helping my husband and the other one was sweeping while i was deciding  the sweeping boy apparently noticed i was ready and he quickly ran to the back washed his hands threw on gloves and asked me what i wanted  wow  this type of service has never happened at the other locations all of which i have been too  he chatted with me as i told him what i wanted  he also joked about my weird sandwich and made me laugh  its refreshing to see a couple guys working on a boring day and actually enjoying themselves  they also have outdoor seating which are perfect to sit at and people watch on beautiful days  we even met this incredible 90 year old guy who is blind and deaf in both ears but somehow managed to communicate with us perfectly  he was much more lively than most twenty-somethings you meet  amazing  only in downtown do you meet people like that  this is a great subway  go here and skip the others   \n",
       "4084  lets seewhat is there not to like about surprise stadium? well $950 tall cans of pbr is about all i could come up with and thats not a surprise (pun intended) considering youre attending a sporting eventeven spring training   but as someone who does not living in arizona and as someone who doesnt go to mlb baseball games in southern california due to the fact it costs so damn much people bitching about the slow service or any other little inconvenience when it comes to seeing a game here look youre lucky enough to have almost an entire month of low cost mlb baseball right in your back yard if i could id live down here during march just to take in the awesome baseball action that crisscrosses the phoenix metro area each year   i attended my first spring training game on march 12th 2012 at surprise stadium as the royals took on the san francisco giants (my favorite team) our seats (sec 112 row j seats 13-14-15) were 25 bucks each (around 30 bucks including service fees) i mean we were maybe 5 or 6 rows back from the giants dugout (check out some of my pictures) the stadium (funny calling it that since it only holds just over 10000 people) is big enough so you feel youre at an mlb game but small enough to feel pretty close and intimate with the players the stadium is well maintained and kept super clean   arriving to the park i was surprised (pun unintended) to see that parking was free an oddity when going to an event like this the stadium staff as mentioned by other reviews are mainly made up of senior citizens who were super friendly and helpful i didnt have to wait long at the concession stands even if lines were a bit long the outfield is lined with a lawn area perfect for people to sit back and have a picnic while taking in a game (tickets are around 9 bucks each after service fees)   i love this place and hope to return next year when visiting family oh giants won 2-1 go giants   \n",
       "4085                                                                                                                                                                                                                                                                                                                                                                                                                                                                                                                                                                                                                                                                                                                                                                                                                                                                                                                                                                                                                                                                                                                                                                                                                                                                                                                                                                                                                                                                                                                                       4-5 locations all 45 star average i think arizona really has some fantastic pizza options and spinatos is at the top of my pizza fix list the semi sweet sauce is addictive great service fresh ingredients the spicy italian is my favorite the chocolate chips cookies are laced with mind altering drugs that make your body parts\"romantic\" when you think of their cookies btw 5:30pm on a tuesday when we left a 30 minute wait its on the list   \n",
       "\n",
       "        type                 user_id  cool  useful  funny  \n",
       "4081  review  b92Y3tyWTQQZ5FLifex62Q     1       1      1  \n",
       "4082  review  hTau-iNZFwoNsPCaiIUTEA     1       1      0  \n",
       "4083  review  W_QXYA7A0IhMrvbckz7eVg     2       3      2  \n",
       "4084  review  OzOZv-Knlw3oz9K5Kh5S6A     1       2      1  \n",
       "4085  review  KSBFytcdjPKZgXKQnYQdkA     0       0      0  "
      ],
      "text/html": [
       "<div>\n",
       "<style scoped>\n",
       "    .dataframe tbody tr th:only-of-type {\n",
       "        vertical-align: middle;\n",
       "    }\n",
       "\n",
       "    .dataframe tbody tr th {\n",
       "        vertical-align: top;\n",
       "    }\n",
       "\n",
       "    .dataframe thead th {\n",
       "        text-align: right;\n",
       "    }\n",
       "</style>\n",
       "<table border=\"1\" class=\"dataframe\">\n",
       "  <thead>\n",
       "    <tr style=\"text-align: right;\">\n",
       "      <th></th>\n",
       "      <th>business_id</th>\n",
       "      <th>date</th>\n",
       "      <th>review_id</th>\n",
       "      <th>stars</th>\n",
       "      <th>text</th>\n",
       "      <th>type</th>\n",
       "      <th>user_id</th>\n",
       "      <th>cool</th>\n",
       "      <th>useful</th>\n",
       "      <th>funny</th>\n",
       "    </tr>\n",
       "  </thead>\n",
       "  <tbody>\n",
       "    <tr>\n",
       "      <th>4081</th>\n",
       "      <td>R8VwdLyvsp9iybNqRvm94g</td>\n",
       "      <td>2011-10-03</td>\n",
       "      <td>pcEeHdAJPoFNF23es0kKWg</td>\n",
       "      <td>5</td>\n",
       "      <td>yes i do rock the hipster joints  i dig this place  a little bit of a scene but the food is solid and the service is great hard not like it  all in all a great spot  i tend to switch up my favorites but i typically hit this up for breakfast when in the 602</td>\n",
       "      <td>review</td>\n",
       "      <td>b92Y3tyWTQQZ5FLifex62Q</td>\n",
       "      <td>1</td>\n",
       "      <td>1</td>\n",
       "      <td>1</td>\n",
       "    </tr>\n",
       "    <tr>\n",
       "      <th>4082</th>\n",
       "      <td>WJ5mq4EiWYAA4Vif0xDfdg</td>\n",
       "      <td>2011-12-05</td>\n",
       "      <td>EuHX-39FR7tyyG1ElvN1Jw</td>\n",
       "      <td>5</td>\n",
       "      <td>only 4 stars?   (a few notes: the folks that rated this place low must have been isolated incidences and i feel weigh far to heavy on service rather than product dining at a restaurant rate the service a lil harder but a coffee shop hold your tongue)  anyway this place rocks we arent super close but we pass up several coffee shops en route to lola because the quality is top drawer  the beans fair trade and the roast is perfect the price of a bag of beans is amazing doing right by the farmers and then respecting the product with such a solid roast this is what is all about  i have yet to find a better americano a splash of cream and a splenda only augments the flavor of the espresso and the richness really shines ive been to most of the independent coffee shops throughout the area and if i do find myself elsewhere i can only compare them to lola and lola wins out each time</td>\n",
       "      <td>review</td>\n",
       "      <td>hTau-iNZFwoNsPCaiIUTEA</td>\n",
       "      <td>1</td>\n",
       "      <td>1</td>\n",
       "      <td>0</td>\n",
       "    </tr>\n",
       "    <tr>\n",
       "      <th>4083</th>\n",
       "      <td>f96lWMIAUhYIYy9gOktivQ</td>\n",
       "      <td>2009-03-10</td>\n",
       "      <td>YF17z7HWlMj6aezZc-pVEw</td>\n",
       "      <td>5</td>\n",
       "      <td>im not normally one to jump at reviewing a chain restaurant especially when there are 3 subways all within a couple blocks of each other  i felt it was necessary in this case  my husband and i came here over the weekend after a lovely trip to the dog park  the two guys working here on the lonely afternoon were awesome  they were really nice and friendly and quite chatty  one of them started helping my husband and the other one was sweeping while i was deciding  the sweeping boy apparently noticed i was ready and he quickly ran to the back washed his hands threw on gloves and asked me what i wanted  wow  this type of service has never happened at the other locations all of which i have been too  he chatted with me as i told him what i wanted  he also joked about my weird sandwich and made me laugh  its refreshing to see a couple guys working on a boring day and actually enjoying themselves  they also have outdoor seating which are perfect to sit at and people watch on beautiful days  we even met this incredible 90 year old guy who is blind and deaf in both ears but somehow managed to communicate with us perfectly  he was much more lively than most twenty-somethings you meet  amazing  only in downtown do you meet people like that  this is a great subway  go here and skip the others</td>\n",
       "      <td>review</td>\n",
       "      <td>W_QXYA7A0IhMrvbckz7eVg</td>\n",
       "      <td>2</td>\n",
       "      <td>3</td>\n",
       "      <td>2</td>\n",
       "    </tr>\n",
       "    <tr>\n",
       "      <th>4084</th>\n",
       "      <td>L3BSpFvxcNf3T_teitgt6A</td>\n",
       "      <td>2012-03-19</td>\n",
       "      <td>0nxb1gIGFgk3WbC5zwhKZg</td>\n",
       "      <td>5</td>\n",
       "      <td>lets seewhat is there not to like about surprise stadium? well $950 tall cans of pbr is about all i could come up with and thats not a surprise (pun intended) considering youre attending a sporting eventeven spring training   but as someone who does not living in arizona and as someone who doesnt go to mlb baseball games in southern california due to the fact it costs so damn much people bitching about the slow service or any other little inconvenience when it comes to seeing a game here look youre lucky enough to have almost an entire month of low cost mlb baseball right in your back yard if i could id live down here during march just to take in the awesome baseball action that crisscrosses the phoenix metro area each year   i attended my first spring training game on march 12th 2012 at surprise stadium as the royals took on the san francisco giants (my favorite team) our seats (sec 112 row j seats 13-14-15) were 25 bucks each (around 30 bucks including service fees) i mean we were maybe 5 or 6 rows back from the giants dugout (check out some of my pictures) the stadium (funny calling it that since it only holds just over 10000 people) is big enough so you feel youre at an mlb game but small enough to feel pretty close and intimate with the players the stadium is well maintained and kept super clean   arriving to the park i was surprised (pun unintended) to see that parking was free an oddity when going to an event like this the stadium staff as mentioned by other reviews are mainly made up of senior citizens who were super friendly and helpful i didnt have to wait long at the concession stands even if lines were a bit long the outfield is lined with a lawn area perfect for people to sit back and have a picnic while taking in a game (tickets are around 9 bucks each after service fees)   i love this place and hope to return next year when visiting family oh giants won 2-1 go giants</td>\n",
       "      <td>review</td>\n",
       "      <td>OzOZv-Knlw3oz9K5Kh5S6A</td>\n",
       "      <td>1</td>\n",
       "      <td>2</td>\n",
       "      <td>1</td>\n",
       "    </tr>\n",
       "    <tr>\n",
       "      <th>4085</th>\n",
       "      <td>pF7uRzygyZsltbmVpjIyvw</td>\n",
       "      <td>2010-10-16</td>\n",
       "      <td>vWSmOhg2ID1MNZHaWapGbA</td>\n",
       "      <td>5</td>\n",
       "      <td>4-5 locations all 45 star average i think arizona really has some fantastic pizza options and spinatos is at the top of my pizza fix list the semi sweet sauce is addictive great service fresh ingredients the spicy italian is my favorite the chocolate chips cookies are laced with mind altering drugs that make your body parts\"romantic\" when you think of their cookies btw 5:30pm on a tuesday when we left a 30 minute wait its on the list</td>\n",
       "      <td>review</td>\n",
       "      <td>KSBFytcdjPKZgXKQnYQdkA</td>\n",
       "      <td>0</td>\n",
       "      <td>0</td>\n",
       "      <td>0</td>\n",
       "    </tr>\n",
       "  </tbody>\n",
       "</table>\n",
       "</div>"
      ]
     },
     "execution_count": 1116,
     "metadata": {},
     "output_type": "execute_result"
    }
   ],
   "execution_count": 1116
  },
  {
   "metadata": {
    "ExecuteTime": {
     "end_time": "2024-07-14T10:06:51.812341Z",
     "start_time": "2024-07-14T10:06:51.803027Z"
    }
   },
   "cell_type": "code",
   "source": [
    "from sklearn.linear_model import LogisticRegression\n",
    "from sklearn.model_selection import train_test_split\n",
    "\n",
    "from nltk.stem import PorterStemmer\n",
    "\n",
    "pr = PorterStemmer()\n"
   ],
   "id": "26c63f4dd841e005",
   "outputs": [],
   "execution_count": 1117
  },
  {
   "metadata": {
    "ExecuteTime": {
     "end_time": "2024-07-14T10:06:51.823102Z",
     "start_time": "2024-07-14T10:06:51.813323Z"
    }
   },
   "cell_type": "code",
   "source": [
    "# lemma\n",
    "def lemma_fn(t):\n",
    "    word_list = TextBlob(t).words\n",
    "    return [pr.stem(word) for word in word_list]"
   ],
   "id": "8efad57260875e83",
   "outputs": [],
   "execution_count": 1118
  },
  {
   "metadata": {
    "ExecuteTime": {
     "end_time": "2024-07-14T10:06:51.833328Z",
     "start_time": "2024-07-14T10:06:51.826905Z"
    }
   },
   "cell_type": "code",
   "source": [
    "\n",
    "vect = CountVectorizer(ngram_range=(1, 2), max_features=10000, analyzer=lemma_fn)  # , stop_words='english'"
   ],
   "id": "e235ec46ed61660b",
   "outputs": [],
   "execution_count": 1119
  },
  {
   "metadata": {
    "ExecuteTime": {
     "end_time": "2024-07-14T10:06:51.864262Z",
     "start_time": "2024-07-14T10:06:51.862567Z"
    }
   },
   "cell_type": "code",
   "source": "",
   "id": "621ed03e7514fee5",
   "outputs": [],
   "execution_count": 1119
  },
  {
   "metadata": {
    "ExecuteTime": {
     "end_time": "2024-07-14T10:06:51.918769Z",
     "start_time": "2024-07-14T10:06:51.917289Z"
    }
   },
   "cell_type": "code",
   "source": "",
   "id": "edb37ac35cc866ee",
   "outputs": [],
   "execution_count": 1119
  },
  {
   "metadata": {
    "ExecuteTime": {
     "end_time": "2024-07-14T10:06:51.973637Z",
     "start_time": "2024-07-14T10:06:51.971689Z"
    }
   },
   "cell_type": "code",
   "source": [
    "x = yelp_bw.text\n",
    "y = yelp_bw.stars"
   ],
   "id": "53edb92e605213ef",
   "outputs": [],
   "execution_count": 1120
  },
  {
   "metadata": {
    "ExecuteTime": {
     "end_time": "2024-07-14T10:06:56.049485Z",
     "start_time": "2024-07-14T10:06:52.064130Z"
    }
   },
   "cell_type": "code",
   "source": [
    "x = vect.fit_transform(x)\n",
    "x, x.toarray()"
   ],
   "id": "50da86817bfcac8",
   "outputs": [
    {
     "data": {
      "text/plain": [
       "(<4086x10000 sparse matrix of type '<class 'numpy.int64'>'\n",
       " \twith 311429 stored elements in Compressed Sparse Row format>,\n",
       " array([[0, 0, 0, ..., 0, 0, 0],\n",
       "        [0, 0, 0, ..., 0, 0, 0],\n",
       "        [0, 0, 0, ..., 0, 0, 0],\n",
       "        ...,\n",
       "        [0, 0, 0, ..., 0, 0, 0],\n",
       "        [0, 0, 0, ..., 0, 0, 0],\n",
       "        [0, 0, 0, ..., 0, 0, 0]]))"
      ]
     },
     "execution_count": 1121,
     "metadata": {},
     "output_type": "execute_result"
    }
   ],
   "execution_count": 1121
  },
  {
   "metadata": {
    "ExecuteTime": {
     "end_time": "2024-07-14T10:06:56.053409Z",
     "start_time": "2024-07-14T10:06:56.050141Z"
    }
   },
   "cell_type": "code",
   "source": "x_train, x_test, y_train, y_test = train_test_split(x, y, test_size=0.2, random_state=42)",
   "id": "5328a6ce53b9cee0",
   "outputs": [],
   "execution_count": 1122
  },
  {
   "metadata": {
    "ExecuteTime": {
     "end_time": "2024-07-14T10:06:56.072957Z",
     "start_time": "2024-07-14T10:06:56.053999Z"
    }
   },
   "cell_type": "code",
   "source": "# x = vect.fit_transform(x)",
   "id": "b374bb1245cc360a",
   "outputs": [],
   "execution_count": 1123
  },
  {
   "metadata": {
    "ExecuteTime": {
     "end_time": "2024-07-14T10:06:56.082706Z",
     "start_time": "2024-07-14T10:06:56.073891Z"
    }
   },
   "cell_type": "code",
   "source": "# tf = pd.DataFrame(vect.fit_transform(x_train).toarray(), columns=vect.get_feature_names_out())",
   "id": "3c0d4f38d5c8a620",
   "outputs": [],
   "execution_count": 1124
  },
  {
   "metadata": {
    "ExecuteTime": {
     "end_time": "2024-07-14T10:06:56.219747Z",
     "start_time": "2024-07-14T10:06:56.083256Z"
    }
   },
   "cell_type": "code",
   "source": [
    "lr = LogisticRegression()\n",
    "lr.fit(x_train, y_train)\n"
   ],
   "id": "8f25c1b8b24dd0ff",
   "outputs": [
    {
     "data": {
      "text/plain": [
       "LogisticRegression()"
      ],
      "text/html": [
       "<style>#sk-container-id-10 {color: black;background-color: white;}#sk-container-id-10 pre{padding: 0;}#sk-container-id-10 div.sk-toggleable {background-color: white;}#sk-container-id-10 label.sk-toggleable__label {cursor: pointer;display: block;width: 100%;margin-bottom: 0;padding: 0.3em;box-sizing: border-box;text-align: center;}#sk-container-id-10 label.sk-toggleable__label-arrow:before {content: \"▸\";float: left;margin-right: 0.25em;color: #696969;}#sk-container-id-10 label.sk-toggleable__label-arrow:hover:before {color: black;}#sk-container-id-10 div.sk-estimator:hover label.sk-toggleable__label-arrow:before {color: black;}#sk-container-id-10 div.sk-toggleable__content {max-height: 0;max-width: 0;overflow: hidden;text-align: left;background-color: #f0f8ff;}#sk-container-id-10 div.sk-toggleable__content pre {margin: 0.2em;color: black;border-radius: 0.25em;background-color: #f0f8ff;}#sk-container-id-10 input.sk-toggleable__control:checked~div.sk-toggleable__content {max-height: 200px;max-width: 100%;overflow: auto;}#sk-container-id-10 input.sk-toggleable__control:checked~label.sk-toggleable__label-arrow:before {content: \"▾\";}#sk-container-id-10 div.sk-estimator input.sk-toggleable__control:checked~label.sk-toggleable__label {background-color: #d4ebff;}#sk-container-id-10 div.sk-label input.sk-toggleable__control:checked~label.sk-toggleable__label {background-color: #d4ebff;}#sk-container-id-10 input.sk-hidden--visually {border: 0;clip: rect(1px 1px 1px 1px);clip: rect(1px, 1px, 1px, 1px);height: 1px;margin: -1px;overflow: hidden;padding: 0;position: absolute;width: 1px;}#sk-container-id-10 div.sk-estimator {font-family: monospace;background-color: #f0f8ff;border: 1px dotted black;border-radius: 0.25em;box-sizing: border-box;margin-bottom: 0.5em;}#sk-container-id-10 div.sk-estimator:hover {background-color: #d4ebff;}#sk-container-id-10 div.sk-parallel-item::after {content: \"\";width: 100%;border-bottom: 1px solid gray;flex-grow: 1;}#sk-container-id-10 div.sk-label:hover label.sk-toggleable__label {background-color: #d4ebff;}#sk-container-id-10 div.sk-serial::before {content: \"\";position: absolute;border-left: 1px solid gray;box-sizing: border-box;top: 0;bottom: 0;left: 50%;z-index: 0;}#sk-container-id-10 div.sk-serial {display: flex;flex-direction: column;align-items: center;background-color: white;padding-right: 0.2em;padding-left: 0.2em;position: relative;}#sk-container-id-10 div.sk-item {position: relative;z-index: 1;}#sk-container-id-10 div.sk-parallel {display: flex;align-items: stretch;justify-content: center;background-color: white;position: relative;}#sk-container-id-10 div.sk-item::before, #sk-container-id-10 div.sk-parallel-item::before {content: \"\";position: absolute;border-left: 1px solid gray;box-sizing: border-box;top: 0;bottom: 0;left: 50%;z-index: -1;}#sk-container-id-10 div.sk-parallel-item {display: flex;flex-direction: column;z-index: 1;position: relative;background-color: white;}#sk-container-id-10 div.sk-parallel-item:first-child::after {align-self: flex-end;width: 50%;}#sk-container-id-10 div.sk-parallel-item:last-child::after {align-self: flex-start;width: 50%;}#sk-container-id-10 div.sk-parallel-item:only-child::after {width: 0;}#sk-container-id-10 div.sk-dashed-wrapped {border: 1px dashed gray;margin: 0 0.4em 0.5em 0.4em;box-sizing: border-box;padding-bottom: 0.4em;background-color: white;}#sk-container-id-10 div.sk-label label {font-family: monospace;font-weight: bold;display: inline-block;line-height: 1.2em;}#sk-container-id-10 div.sk-label-container {text-align: center;}#sk-container-id-10 div.sk-container {/* jupyter's `normalize.less` sets `[hidden] { display: none; }` but bootstrap.min.css set `[hidden] { display: none !important; }` so we also need the `!important` here to be able to override the default hidden behavior on the sphinx rendered scikit-learn.org. See: https://github.com/scikit-learn/scikit-learn/issues/21755 */display: inline-block !important;position: relative;}#sk-container-id-10 div.sk-text-repr-fallback {display: none;}</style><div id=\"sk-container-id-10\" class=\"sk-top-container\"><div class=\"sk-text-repr-fallback\"><pre>LogisticRegression()</pre><b>In a Jupyter environment, please rerun this cell to show the HTML representation or trust the notebook. <br />On GitHub, the HTML representation is unable to render, please try loading this page with nbviewer.org.</b></div><div class=\"sk-container\" hidden><div class=\"sk-item\"><div class=\"sk-estimator sk-toggleable\"><input class=\"sk-toggleable__control sk-hidden--visually\" id=\"sk-estimator-id-10\" type=\"checkbox\" checked><label for=\"sk-estimator-id-10\" class=\"sk-toggleable__label sk-toggleable__label-arrow\">LogisticRegression</label><div class=\"sk-toggleable__content\"><pre>LogisticRegression()</pre></div></div></div></div></div>"
      ]
     },
     "execution_count": 1125,
     "metadata": {},
     "output_type": "execute_result"
    }
   ],
   "execution_count": 1125
  },
  {
   "metadata": {
    "ExecuteTime": {
     "end_time": "2024-07-14T10:06:56.222236Z",
     "start_time": "2024-07-14T10:06:56.220383Z"
    }
   },
   "cell_type": "code",
   "source": "pred = lr.predict(x_test)",
   "id": "d00cab908cfc0cc4",
   "outputs": [],
   "execution_count": 1126
  },
  {
   "metadata": {
    "ExecuteTime": {
     "end_time": "2024-07-14T10:06:56.249760Z",
     "start_time": "2024-07-14T10:06:56.222749Z"
    }
   },
   "cell_type": "code",
   "source": [
    "from sklearn.metrics import accuracy_score, confusion_matrix\n",
    "\n",
    "accuracy_score(pred, y_test)"
   ],
   "id": "aea5b660f6c646ce",
   "outputs": [
    {
     "data": {
      "text/plain": [
       "0.921760391198044"
      ]
     },
     "execution_count": 1127,
     "metadata": {},
     "output_type": "execute_result"
    }
   ],
   "execution_count": 1127
  },
  {
   "metadata": {
    "ExecuteTime": {
     "end_time": "2024-07-14T10:06:56.554181Z",
     "start_time": "2024-07-14T10:06:56.250382Z"
    }
   },
   "cell_type": "code",
   "source": [
    "from sklearn.tree import DecisionTreeClassifier\n",
    "\n",
    "dt = DecisionTreeClassifier()\n",
    "dt.fit(x_train, y_train)\n",
    "pred = dt.predict(x_test)\n",
    "accuracy_score(pred, y_test)\n"
   ],
   "id": "395106404a9cc327",
   "outputs": [
    {
     "data": {
      "text/plain": [
       "0.8312958435207825"
      ]
     },
     "execution_count": 1128,
     "metadata": {},
     "output_type": "execute_result"
    }
   ],
   "execution_count": 1128
  },
  {
   "metadata": {
    "ExecuteTime": {
     "end_time": "2024-07-14T10:06:57.877887Z",
     "start_time": "2024-07-14T10:06:56.554833Z"
    }
   },
   "cell_type": "code",
   "source": [
    "from sklearn.ensemble import RandomForestClassifier\n",
    "\n",
    "rf = RandomForestClassifier()\n",
    "rf.fit(x_train, y_train)\n",
    "pred = rf.predict(x_test)\n",
    "accuracy_score(pred, y_test)"
   ],
   "id": "55c8b60ba7cbe1bb",
   "outputs": [
    {
     "data": {
      "text/plain": [
       "0.8349633251833741"
      ]
     },
     "execution_count": 1129,
     "metadata": {},
     "output_type": "execute_result"
    }
   ],
   "execution_count": 1129
  },
  {
   "metadata": {
    "ExecuteTime": {
     "end_time": "2024-07-14T10:06:57.881301Z",
     "start_time": "2024-07-14T10:06:57.878919Z"
    }
   },
   "cell_type": "code",
   "source": [
    "tb = TextBlob\n",
    "tb(\"I am learning NLP\").sentiment"
   ],
   "id": "d82963de790e26d0",
   "outputs": [
    {
     "data": {
      "text/plain": [
       "Sentiment(polarity=0.0, subjectivity=0.0)"
      ]
     },
     "execution_count": 1130,
     "metadata": {},
     "output_type": "execute_result"
    }
   ],
   "execution_count": 1130
  },
  {
   "metadata": {
    "ExecuteTime": {
     "end_time": "2024-07-14T10:06:57.902260Z",
     "start_time": "2024-07-14T10:06:57.881735Z"
    }
   },
   "cell_type": "code",
   "source": "tb(\"you are a good person\").sentiment",
   "id": "f43daee697a74d34",
   "outputs": [
    {
     "data": {
      "text/plain": [
       "Sentiment(polarity=0.7, subjectivity=0.6000000000000001)"
      ]
     },
     "execution_count": 1131,
     "metadata": {},
     "output_type": "execute_result"
    }
   ],
   "execution_count": 1131
  },
  {
   "metadata": {
    "ExecuteTime": {
     "end_time": "2024-07-14T10:06:57.913146Z",
     "start_time": "2024-07-14T10:06:57.902928Z"
    }
   },
   "cell_type": "code",
   "source": "tb(\"World is a beautiful place\").sentiment",
   "id": "4891e99578e6a773",
   "outputs": [
    {
     "data": {
      "text/plain": [
       "Sentiment(polarity=0.85, subjectivity=1.0)"
      ]
     },
     "execution_count": 1132,
     "metadata": {},
     "output_type": "execute_result"
    }
   ],
   "execution_count": 1132
  },
  {
   "metadata": {
    "ExecuteTime": {
     "end_time": "2024-07-14T10:06:57.924549Z",
     "start_time": "2024-07-14T10:06:57.913673Z"
    }
   },
   "cell_type": "code",
   "source": "tb(\"the World is round\").sentiment",
   "id": "93d451fc1ed9f207",
   "outputs": [
    {
     "data": {
      "text/plain": [
       "Sentiment(polarity=-0.2, subjectivity=0.4)"
      ]
     },
     "execution_count": 1133,
     "metadata": {},
     "output_type": "execute_result"
    }
   ],
   "execution_count": 1133
  },
  {
   "metadata": {
    "ExecuteTime": {
     "end_time": "2024-07-14T10:06:57.935391Z",
     "start_time": "2024-07-14T10:06:57.925327Z"
    }
   },
   "cell_type": "code",
   "source": "tb(\"the World is flat\").sentiment",
   "id": "fbe508e02abd215",
   "outputs": [
    {
     "data": {
      "text/plain": [
       "Sentiment(polarity=-0.025, subjectivity=0.125)"
      ]
     },
     "execution_count": 1134,
     "metadata": {},
     "output_type": "execute_result"
    }
   ],
   "execution_count": 1134
  },
  {
   "metadata": {
    "ExecuteTime": {
     "end_time": "2024-07-14T10:06:57.946085Z",
     "start_time": "2024-07-14T10:06:57.935895Z"
    }
   },
   "cell_type": "code",
   "source": "tb(\"Trump is a good president\").sentiment",
   "id": "e658a5854f9753e9",
   "outputs": [
    {
     "data": {
      "text/plain": [
       "Sentiment(polarity=0.7, subjectivity=0.6000000000000001)"
      ]
     },
     "execution_count": 1135,
     "metadata": {},
     "output_type": "execute_result"
    }
   ],
   "execution_count": 1135
  },
  {
   "metadata": {
    "ExecuteTime": {
     "end_time": "2024-07-14T10:06:57.957286Z",
     "start_time": "2024-07-14T10:06:57.946937Z"
    }
   },
   "cell_type": "code",
   "source": "tb(\"Trump is a liar\").sentiment",
   "id": "edd31d0827ebd432",
   "outputs": [
    {
     "data": {
      "text/plain": [
       "Sentiment(polarity=0.0, subjectivity=0.0)"
      ]
     },
     "execution_count": 1136,
     "metadata": {},
     "output_type": "execute_result"
    }
   ],
   "execution_count": 1136
  },
  {
   "metadata": {
    "ExecuteTime": {
     "end_time": "2024-07-14T10:06:57.968600Z",
     "start_time": "2024-07-14T10:06:57.957889Z"
    }
   },
   "cell_type": "code",
   "source": "tb(\"Trump is a bad president\").sentiment",
   "id": "60ae85964811fee2",
   "outputs": [
    {
     "data": {
      "text/plain": [
       "Sentiment(polarity=-0.6999999999999998, subjectivity=0.6666666666666666)"
      ]
     },
     "execution_count": 1137,
     "metadata": {},
     "output_type": "execute_result"
    }
   ],
   "execution_count": 1137
  },
  {
   "metadata": {
    "ExecuteTime": {
     "end_time": "2024-07-14T10:06:57.979571Z",
     "start_time": "2024-07-14T10:06:57.969301Z"
    }
   },
   "cell_type": "code",
   "source": "tb(\"Biden is a good president\").sentiment",
   "id": "48f44746a723c964",
   "outputs": [
    {
     "data": {
      "text/plain": [
       "Sentiment(polarity=0.7, subjectivity=0.6000000000000001)"
      ]
     },
     "execution_count": 1138,
     "metadata": {},
     "output_type": "execute_result"
    }
   ],
   "execution_count": 1138
  },
  {
   "metadata": {
    "ExecuteTime": {
     "end_time": "2024-07-14T10:06:57.990586Z",
     "start_time": "2024-07-14T10:06:57.980191Z"
    }
   },
   "cell_type": "code",
   "source": "tb(\"Biden is a bad president\").sentiment",
   "id": "d03a597dd4ef59c1",
   "outputs": [
    {
     "data": {
      "text/plain": [
       "Sentiment(polarity=-0.6999999999999998, subjectivity=0.6666666666666666)"
      ]
     },
     "execution_count": 1139,
     "metadata": {},
     "output_type": "execute_result"
    }
   ],
   "execution_count": 1139
  },
  {
   "metadata": {
    "ExecuteTime": {
     "end_time": "2024-07-14T10:06:58.002164Z",
     "start_time": "2024-07-14T10:06:57.991037Z"
    }
   },
   "cell_type": "code",
   "source": "tb(\"Biden is a liar\").sentiment",
   "id": "9a2bc154a677c366",
   "outputs": [
    {
     "data": {
      "text/plain": [
       "Sentiment(polarity=0.0, subjectivity=0.0)"
      ]
     },
     "execution_count": 1140,
     "metadata": {},
     "output_type": "execute_result"
    }
   ],
   "execution_count": 1140
  },
  {
   "metadata": {
    "ExecuteTime": {
     "end_time": "2024-07-14T10:06:58.013132Z",
     "start_time": "2024-07-14T10:06:58.002955Z"
    }
   },
   "cell_type": "code",
   "source": "tb(df.text[0]).sentiment",
   "id": "81a9ba27ace47587",
   "outputs": [
    {
     "data": {
      "text/plain": [
       "Sentiment(polarity=0.40246913580246907, subjectivity=0.6591122868900646)"
      ]
     },
     "execution_count": 1141,
     "metadata": {},
     "output_type": "execute_result"
    }
   ],
   "execution_count": 1141
  },
  {
   "metadata": {
    "ExecuteTime": {
     "end_time": "2024-07-14T10:06:58.015058Z",
     "start_time": "2024-07-14T10:06:58.013831Z"
    }
   },
   "cell_type": "code",
   "source": "",
   "id": "a1e8f0a61f7be18c",
   "outputs": [],
   "execution_count": 1141
  }
 ],
 "metadata": {
  "kernelspec": {
   "display_name": "Python 3",
   "language": "python",
   "name": "python3"
  },
  "language_info": {
   "codemirror_mode": {
    "name": "ipython",
    "version": 2
   },
   "file_extension": ".py",
   "mimetype": "text/x-python",
   "name": "python",
   "nbconvert_exporter": "python",
   "pygments_lexer": "ipython2",
   "version": "2.7.6"
  }
 },
 "nbformat": 4,
 "nbformat_minor": 5
}
