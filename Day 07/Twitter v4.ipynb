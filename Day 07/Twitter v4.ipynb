{
 "cells": [
  {
   "cell_type": "code",
   "id": "initial_id",
   "metadata": {
    "collapsed": true,
    "ExecuteTime": {
     "end_time": "2024-07-20T09:57:43.432740Z",
     "start_time": "2024-07-20T09:57:43.118273Z"
    }
   },
   "source": [
    "import tweepy\n",
    "\n",
    "bearer_token = \"tt%x%xx\"\n",
    "client = tweepy.Client(bearer_token=bearer_token)\n",
    "\n",
    "tweet_ids = [1460323737035677698, 1293593516040269825, 1293595870563381249]\n",
    "\n",
    "response = client.get_tweets(ids=tweet_ids, tweet_fields=[\"created_at\", \"author_id\", \"public_metrics\", \"text\"])\n",
    "\n",
    "for element in response.data:\n",
    "    print(element.text)"
   ],
   "outputs": [
    {
     "ename": "Forbidden",
     "evalue": "403 Forbidden\nWhen authenticating requests to the Twitter API v2 endpoints, you must use keys and tokens from a Twitter developer App that is attached to a Project. You can create a project via the developer portal.",
     "output_type": "error",
     "traceback": [
      "\u001B[0;31m---------------------------------------------------------------------------\u001B[0m",
      "\u001B[0;31mForbidden\u001B[0m                                 Traceback (most recent call last)",
      "Cell \u001B[0;32mIn[2], line 8\u001B[0m\n\u001B[1;32m      4\u001B[0m client \u001B[38;5;241m=\u001B[39m tweepy\u001B[38;5;241m.\u001B[39mClient(bearer_token\u001B[38;5;241m=\u001B[39mbearer_token)\n\u001B[1;32m      6\u001B[0m tweet_ids \u001B[38;5;241m=\u001B[39m [\u001B[38;5;241m1460323737035677698\u001B[39m, \u001B[38;5;241m1293593516040269825\u001B[39m, \u001B[38;5;241m1293595870563381249\u001B[39m]\n\u001B[0;32m----> 8\u001B[0m response \u001B[38;5;241m=\u001B[39m client\u001B[38;5;241m.\u001B[39mget_tweets(ids\u001B[38;5;241m=\u001B[39mtweet_ids, tweet_fields\u001B[38;5;241m=\u001B[39m[\u001B[38;5;124m\"\u001B[39m\u001B[38;5;124mcreated_at\u001B[39m\u001B[38;5;124m\"\u001B[39m, \u001B[38;5;124m\"\u001B[39m\u001B[38;5;124mauthor_id\u001B[39m\u001B[38;5;124m\"\u001B[39m, \u001B[38;5;124m\"\u001B[39m\u001B[38;5;124mpublic_metrics\u001B[39m\u001B[38;5;124m\"\u001B[39m, \u001B[38;5;124m\"\u001B[39m\u001B[38;5;124mtext\u001B[39m\u001B[38;5;124m\"\u001B[39m])\n\u001B[1;32m     10\u001B[0m \u001B[38;5;28;01mfor\u001B[39;00m element \u001B[38;5;129;01min\u001B[39;00m response\u001B[38;5;241m.\u001B[39mdata:\n\u001B[1;32m     11\u001B[0m     \u001B[38;5;28mprint\u001B[39m(element\u001B[38;5;241m.\u001B[39mtext)\n",
      "File \u001B[0;32m~/anaconda3/lib/python3.11/site-packages/tweepy/client.py:1821\u001B[0m, in \u001B[0;36mClient.get_tweets\u001B[0;34m(self, ids, user_auth, **params)\u001B[0m\n\u001B[1;32m   1782\u001B[0m \u001B[38;5;250m\u001B[39m\u001B[38;5;124;03m\"\"\"get_tweets( \\\u001B[39;00m\n\u001B[1;32m   1783\u001B[0m \u001B[38;5;124;03m    ids, *, expansions=None, media_fields=None, place_fields=None, \\\u001B[39;00m\n\u001B[1;32m   1784\u001B[0m \u001B[38;5;124;03m    poll_fields=None, tweet_fields=None, user_fields=None, \\\u001B[39;00m\n\u001B[0;32m   (...)\u001B[0m\n\u001B[1;32m   1818\u001B[0m \u001B[38;5;124;03mhttps://developer.twitter.com/en/docs/twitter-api/tweets/lookup/api-reference/get-tweets\u001B[39;00m\n\u001B[1;32m   1819\u001B[0m \u001B[38;5;124;03m\"\"\"\u001B[39;00m\n\u001B[1;32m   1820\u001B[0m params[\u001B[38;5;124m\"\u001B[39m\u001B[38;5;124mids\u001B[39m\u001B[38;5;124m\"\u001B[39m] \u001B[38;5;241m=\u001B[39m ids\n\u001B[0;32m-> 1821\u001B[0m \u001B[38;5;28;01mreturn\u001B[39;00m \u001B[38;5;28mself\u001B[39m\u001B[38;5;241m.\u001B[39m_make_request(\n\u001B[1;32m   1822\u001B[0m     \u001B[38;5;124m\"\u001B[39m\u001B[38;5;124mGET\u001B[39m\u001B[38;5;124m\"\u001B[39m, \u001B[38;5;124m\"\u001B[39m\u001B[38;5;124m/2/tweets\u001B[39m\u001B[38;5;124m\"\u001B[39m, params\u001B[38;5;241m=\u001B[39mparams,\n\u001B[1;32m   1823\u001B[0m     endpoint_parameters\u001B[38;5;241m=\u001B[39m(\n\u001B[1;32m   1824\u001B[0m         \u001B[38;5;124m\"\u001B[39m\u001B[38;5;124mids\u001B[39m\u001B[38;5;124m\"\u001B[39m, \u001B[38;5;124m\"\u001B[39m\u001B[38;5;124mexpansions\u001B[39m\u001B[38;5;124m\"\u001B[39m, \u001B[38;5;124m\"\u001B[39m\u001B[38;5;124mmedia.fields\u001B[39m\u001B[38;5;124m\"\u001B[39m, \u001B[38;5;124m\"\u001B[39m\u001B[38;5;124mplace.fields\u001B[39m\u001B[38;5;124m\"\u001B[39m,\n\u001B[1;32m   1825\u001B[0m         \u001B[38;5;124m\"\u001B[39m\u001B[38;5;124mpoll.fields\u001B[39m\u001B[38;5;124m\"\u001B[39m, \u001B[38;5;124m\"\u001B[39m\u001B[38;5;124mtweet.fields\u001B[39m\u001B[38;5;124m\"\u001B[39m, \u001B[38;5;124m\"\u001B[39m\u001B[38;5;124muser.fields\u001B[39m\u001B[38;5;124m\"\u001B[39m\n\u001B[1;32m   1826\u001B[0m     ), data_type\u001B[38;5;241m=\u001B[39mTweet, user_auth\u001B[38;5;241m=\u001B[39muser_auth\n\u001B[1;32m   1827\u001B[0m )\n",
      "File \u001B[0;32m~/anaconda3/lib/python3.11/site-packages/tweepy/client.py:129\u001B[0m, in \u001B[0;36mBaseClient._make_request\u001B[0;34m(self, method, route, params, endpoint_parameters, json, data_type, user_auth)\u001B[0m\n\u001B[1;32m    123\u001B[0m \u001B[38;5;28;01mdef\u001B[39;00m \u001B[38;5;21m_make_request\u001B[39m(\n\u001B[1;32m    124\u001B[0m     \u001B[38;5;28mself\u001B[39m, method, route, params\u001B[38;5;241m=\u001B[39m{}, endpoint_parameters\u001B[38;5;241m=\u001B[39m(), json\u001B[38;5;241m=\u001B[39m\u001B[38;5;28;01mNone\u001B[39;00m,\n\u001B[1;32m    125\u001B[0m     data_type\u001B[38;5;241m=\u001B[39m\u001B[38;5;28;01mNone\u001B[39;00m, user_auth\u001B[38;5;241m=\u001B[39m\u001B[38;5;28;01mFalse\u001B[39;00m\n\u001B[1;32m    126\u001B[0m ):\n\u001B[1;32m    127\u001B[0m     request_params \u001B[38;5;241m=\u001B[39m \u001B[38;5;28mself\u001B[39m\u001B[38;5;241m.\u001B[39m_process_params(params, endpoint_parameters)\n\u001B[0;32m--> 129\u001B[0m     response \u001B[38;5;241m=\u001B[39m \u001B[38;5;28mself\u001B[39m\u001B[38;5;241m.\u001B[39mrequest(method, route, params\u001B[38;5;241m=\u001B[39mrequest_params,\n\u001B[1;32m    130\u001B[0m                             json\u001B[38;5;241m=\u001B[39mjson, user_auth\u001B[38;5;241m=\u001B[39muser_auth)\n\u001B[1;32m    132\u001B[0m     \u001B[38;5;28;01mif\u001B[39;00m \u001B[38;5;28mself\u001B[39m\u001B[38;5;241m.\u001B[39mreturn_type \u001B[38;5;129;01mis\u001B[39;00m requests\u001B[38;5;241m.\u001B[39mResponse:\n\u001B[1;32m    133\u001B[0m         \u001B[38;5;28;01mreturn\u001B[39;00m response\n",
      "File \u001B[0;32m~/anaconda3/lib/python3.11/site-packages/tweepy/client.py:100\u001B[0m, in \u001B[0;36mBaseClient.request\u001B[0;34m(self, method, route, params, json, user_auth)\u001B[0m\n\u001B[1;32m     98\u001B[0m     \u001B[38;5;28;01mraise\u001B[39;00m Unauthorized(response)\n\u001B[1;32m     99\u001B[0m \u001B[38;5;28;01mif\u001B[39;00m response\u001B[38;5;241m.\u001B[39mstatus_code \u001B[38;5;241m==\u001B[39m \u001B[38;5;241m403\u001B[39m:\n\u001B[0;32m--> 100\u001B[0m     \u001B[38;5;28;01mraise\u001B[39;00m Forbidden(response)\n\u001B[1;32m    101\u001B[0m \u001B[38;5;28;01mif\u001B[39;00m response\u001B[38;5;241m.\u001B[39mstatus_code \u001B[38;5;241m==\u001B[39m \u001B[38;5;241m404\u001B[39m:\n\u001B[1;32m    102\u001B[0m     \u001B[38;5;28;01mraise\u001B[39;00m NotFound(response)\n",
      "\u001B[0;31mForbidden\u001B[0m: 403 Forbidden\nWhen authenticating requests to the Twitter API v2 endpoints, you must use keys and tokens from a Twitter developer App that is attached to a Project. You can create a project via the developer portal."
     ]
    }
   ],
   "execution_count": 2
  },
  {
   "metadata": {
    "ExecuteTime": {
     "end_time": "2024-07-20T09:58:51.404314Z",
     "start_time": "2024-07-20T09:58:51.095785Z"
    }
   },
   "cell_type": "code",
   "source": [
    "bearer_token = \"rr%rr%yy\"\n",
    "\n",
    "client = tweepy.Client(bearer_token)\n",
    "\n",
    "# Get Recent Tweets Count\n",
    "\n",
    "# This endpoint/method returns count of Tweets from the last seven days that\n",
    "# match a search query\n",
    "\n",
    "query = \"Tweepy -is:retweet\"\n",
    "\n",
    "# Granularity is what you want the timeseries count data to be grouped by\n",
    "# You can request minute, hour, or day granularity\n",
    "# The default granularity, if not specified is hour\n",
    "response = client.get_recent_tweets_count(query, granularity=\"day\")\n",
    "\n",
    "for count in response.data:\n",
    "    print(count)"
   ],
   "id": "43c9048a1e404cb1",
   "outputs": [
    {
     "ename": "Forbidden",
     "evalue": "403 Forbidden\nWhen authenticating requests to the Twitter API v2 endpoints, you must use keys and tokens from a Twitter developer App that is attached to a Project. You can create a project via the developer portal.",
     "output_type": "error",
     "traceback": [
      "\u001B[0;31m---------------------------------------------------------------------------\u001B[0m",
      "\u001B[0;31mForbidden\u001B[0m                                 Traceback (most recent call last)",
      "Cell \u001B[0;32mIn[3], line 15\u001B[0m\n\u001B[1;32m     10\u001B[0m query \u001B[38;5;241m=\u001B[39m \u001B[38;5;124m\"\u001B[39m\u001B[38;5;124mTweepy -is:retweet\u001B[39m\u001B[38;5;124m\"\u001B[39m\n\u001B[1;32m     12\u001B[0m \u001B[38;5;66;03m# Granularity is what you want the timeseries count data to be grouped by\u001B[39;00m\n\u001B[1;32m     13\u001B[0m \u001B[38;5;66;03m# You can request minute, hour, or day granularity\u001B[39;00m\n\u001B[1;32m     14\u001B[0m \u001B[38;5;66;03m# The default granularity, if not specified is hour\u001B[39;00m\n\u001B[0;32m---> 15\u001B[0m response \u001B[38;5;241m=\u001B[39m client\u001B[38;5;241m.\u001B[39mget_recent_tweets_count(query, granularity\u001B[38;5;241m=\u001B[39m\u001B[38;5;124m\"\u001B[39m\u001B[38;5;124mday\u001B[39m\u001B[38;5;124m\"\u001B[39m)\n\u001B[1;32m     17\u001B[0m \u001B[38;5;28;01mfor\u001B[39;00m count \u001B[38;5;129;01min\u001B[39;00m response\u001B[38;5;241m.\u001B[39mdata:\n\u001B[1;32m     18\u001B[0m     \u001B[38;5;28mprint\u001B[39m(count)\n",
      "File \u001B[0;32m~/anaconda3/lib/python3.11/site-packages/tweepy/client.py:1726\u001B[0m, in \u001B[0;36mClient.get_recent_tweets_count\u001B[0;34m(self, query, **params)\u001B[0m\n\u001B[1;32m   1666\u001B[0m \u001B[38;5;250m\u001B[39m\u001B[38;5;124;03m\"\"\"get_recent_tweets_count( \\\u001B[39;00m\n\u001B[1;32m   1667\u001B[0m \u001B[38;5;124;03m    query, *, end_time=None, granularity=None, since_id=None, \\\u001B[39;00m\n\u001B[1;32m   1668\u001B[0m \u001B[38;5;124;03m    start_time=None, until_id=None \\\u001B[39;00m\n\u001B[0;32m   (...)\u001B[0m\n\u001B[1;32m   1723\u001B[0m \u001B[38;5;124;03m.. _Academic Research Project: https://developer.twitter.com/en/docs/projects\u001B[39;00m\n\u001B[1;32m   1724\u001B[0m \u001B[38;5;124;03m\"\"\"\u001B[39;00m\n\u001B[1;32m   1725\u001B[0m params[\u001B[38;5;124m\"\u001B[39m\u001B[38;5;124mquery\u001B[39m\u001B[38;5;124m\"\u001B[39m] \u001B[38;5;241m=\u001B[39m query\n\u001B[0;32m-> 1726\u001B[0m \u001B[38;5;28;01mreturn\u001B[39;00m \u001B[38;5;28mself\u001B[39m\u001B[38;5;241m.\u001B[39m_make_request(\n\u001B[1;32m   1727\u001B[0m     \u001B[38;5;124m\"\u001B[39m\u001B[38;5;124mGET\u001B[39m\u001B[38;5;124m\"\u001B[39m, \u001B[38;5;124m\"\u001B[39m\u001B[38;5;124m/2/tweets/counts/recent\u001B[39m\u001B[38;5;124m\"\u001B[39m, params\u001B[38;5;241m=\u001B[39mparams,\n\u001B[1;32m   1728\u001B[0m     endpoint_parameters\u001B[38;5;241m=\u001B[39m(\n\u001B[1;32m   1729\u001B[0m         \u001B[38;5;124m\"\u001B[39m\u001B[38;5;124mend_time\u001B[39m\u001B[38;5;124m\"\u001B[39m, \u001B[38;5;124m\"\u001B[39m\u001B[38;5;124mgranularity\u001B[39m\u001B[38;5;124m\"\u001B[39m, \u001B[38;5;124m\"\u001B[39m\u001B[38;5;124mquery\u001B[39m\u001B[38;5;124m\"\u001B[39m, \u001B[38;5;124m\"\u001B[39m\u001B[38;5;124msince_id\u001B[39m\u001B[38;5;124m\"\u001B[39m, \u001B[38;5;124m\"\u001B[39m\u001B[38;5;124mstart_time\u001B[39m\u001B[38;5;124m\"\u001B[39m,\n\u001B[1;32m   1730\u001B[0m         \u001B[38;5;124m\"\u001B[39m\u001B[38;5;124muntil_id\u001B[39m\u001B[38;5;124m\"\u001B[39m\n\u001B[1;32m   1731\u001B[0m     )\n\u001B[1;32m   1732\u001B[0m )\n",
      "File \u001B[0;32m~/anaconda3/lib/python3.11/site-packages/tweepy/client.py:129\u001B[0m, in \u001B[0;36mBaseClient._make_request\u001B[0;34m(self, method, route, params, endpoint_parameters, json, data_type, user_auth)\u001B[0m\n\u001B[1;32m    123\u001B[0m \u001B[38;5;28;01mdef\u001B[39;00m \u001B[38;5;21m_make_request\u001B[39m(\n\u001B[1;32m    124\u001B[0m     \u001B[38;5;28mself\u001B[39m, method, route, params\u001B[38;5;241m=\u001B[39m{}, endpoint_parameters\u001B[38;5;241m=\u001B[39m(), json\u001B[38;5;241m=\u001B[39m\u001B[38;5;28;01mNone\u001B[39;00m,\n\u001B[1;32m    125\u001B[0m     data_type\u001B[38;5;241m=\u001B[39m\u001B[38;5;28;01mNone\u001B[39;00m, user_auth\u001B[38;5;241m=\u001B[39m\u001B[38;5;28;01mFalse\u001B[39;00m\n\u001B[1;32m    126\u001B[0m ):\n\u001B[1;32m    127\u001B[0m     request_params \u001B[38;5;241m=\u001B[39m \u001B[38;5;28mself\u001B[39m\u001B[38;5;241m.\u001B[39m_process_params(params, endpoint_parameters)\n\u001B[0;32m--> 129\u001B[0m     response \u001B[38;5;241m=\u001B[39m \u001B[38;5;28mself\u001B[39m\u001B[38;5;241m.\u001B[39mrequest(method, route, params\u001B[38;5;241m=\u001B[39mrequest_params,\n\u001B[1;32m    130\u001B[0m                             json\u001B[38;5;241m=\u001B[39mjson, user_auth\u001B[38;5;241m=\u001B[39muser_auth)\n\u001B[1;32m    132\u001B[0m     \u001B[38;5;28;01mif\u001B[39;00m \u001B[38;5;28mself\u001B[39m\u001B[38;5;241m.\u001B[39mreturn_type \u001B[38;5;129;01mis\u001B[39;00m requests\u001B[38;5;241m.\u001B[39mResponse:\n\u001B[1;32m    133\u001B[0m         \u001B[38;5;28;01mreturn\u001B[39;00m response\n",
      "File \u001B[0;32m~/anaconda3/lib/python3.11/site-packages/tweepy/client.py:100\u001B[0m, in \u001B[0;36mBaseClient.request\u001B[0;34m(self, method, route, params, json, user_auth)\u001B[0m\n\u001B[1;32m     98\u001B[0m     \u001B[38;5;28;01mraise\u001B[39;00m Unauthorized(response)\n\u001B[1;32m     99\u001B[0m \u001B[38;5;28;01mif\u001B[39;00m response\u001B[38;5;241m.\u001B[39mstatus_code \u001B[38;5;241m==\u001B[39m \u001B[38;5;241m403\u001B[39m:\n\u001B[0;32m--> 100\u001B[0m     \u001B[38;5;28;01mraise\u001B[39;00m Forbidden(response)\n\u001B[1;32m    101\u001B[0m \u001B[38;5;28;01mif\u001B[39;00m response\u001B[38;5;241m.\u001B[39mstatus_code \u001B[38;5;241m==\u001B[39m \u001B[38;5;241m404\u001B[39m:\n\u001B[1;32m    102\u001B[0m     \u001B[38;5;28;01mraise\u001B[39;00m NotFound(response)\n",
      "\u001B[0;31mForbidden\u001B[0m: 403 Forbidden\nWhen authenticating requests to the Twitter API v2 endpoints, you must use keys and tokens from a Twitter developer App that is attached to a Project. You can create a project via the developer portal."
     ]
    }
   ],
   "execution_count": 3
  }
 ],
 "metadata": {
  "kernelspec": {
   "display_name": "Python 3",
   "language": "python",
   "name": "python3"
  },
  "language_info": {
   "codemirror_mode": {
    "name": "ipython",
    "version": 2
   },
   "file_extension": ".py",
   "mimetype": "text/x-python",
   "name": "python",
   "nbconvert_exporter": "python",
   "pygments_lexer": "ipython2",
   "version": "2.7.6"
  }
 },
 "nbformat": 4,
 "nbformat_minor": 5
}
