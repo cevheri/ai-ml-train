{
 "cells": [
  {
   "metadata": {},
   "cell_type": "markdown",
   "source": [
    "# Using Twitter API to get tweets\n",
    "\n"
   ],
   "id": "96c4c54076e23b2e"
  },
  {
   "metadata": {},
   "cell_type": "markdown",
   "source": "## Install required packages\n",
   "id": "c5bb4f94fa40921c"
  },
  {
   "metadata": {
    "ExecuteTime": {
     "end_time": "2024-07-20T08:21:37.275535Z",
     "start_time": "2024-07-20T08:21:34.059Z"
    }
   },
   "cell_type": "code",
   "source": "# !pip install twython",
   "id": "6571ac8066889c36",
   "outputs": [
    {
     "name": "stdout",
     "output_type": "stream",
     "text": [
      "Collecting twython\r\n",
      "  Downloading twython-3.9.1-py3-none-any.whl.metadata (20 kB)\r\n",
      "Requirement already satisfied: requests>=2.1.0 in /home/cevheri/anaconda3/lib/python3.11/site-packages (from twython) (2.31.0)\r\n",
      "Collecting requests-oauthlib>=0.4.0 (from twython)\r\n",
      "  Downloading requests_oauthlib-2.0.0-py2.py3-none-any.whl.metadata (11 kB)\r\n",
      "Requirement already satisfied: charset-normalizer<4,>=2 in /home/cevheri/anaconda3/lib/python3.11/site-packages (from requests>=2.1.0->twython) (2.0.4)\r\n",
      "Requirement already satisfied: idna<4,>=2.5 in /home/cevheri/anaconda3/lib/python3.11/site-packages (from requests>=2.1.0->twython) (2.10)\r\n",
      "Requirement already satisfied: urllib3<3,>=1.21.1 in /home/cevheri/anaconda3/lib/python3.11/site-packages (from requests>=2.1.0->twython) (2.0.7)\r\n",
      "Requirement already satisfied: certifi>=2017.4.17 in /home/cevheri/anaconda3/lib/python3.11/site-packages (from requests>=2.1.0->twython) (2024.7.4)\r\n",
      "Collecting oauthlib>=3.0.0 (from requests-oauthlib>=0.4.0->twython)\r\n",
      "  Downloading oauthlib-3.2.2-py3-none-any.whl.metadata (7.5 kB)\r\n",
      "Downloading twython-3.9.1-py3-none-any.whl (33 kB)\r\n",
      "Downloading requests_oauthlib-2.0.0-py2.py3-none-any.whl (24 kB)\r\n",
      "Downloading oauthlib-3.2.2-py3-none-any.whl (151 kB)\r\n",
      "\u001B[2K   \u001B[90m━━━━━━━━━━━━━━━━━━━━━━━━━━━━━━━━━━━━━━━━\u001B[0m \u001B[32m151.7/151.7 kB\u001B[0m \u001B[31m1.6 MB/s\u001B[0m eta \u001B[36m0:00:00\u001B[0ma \u001B[36m0:00:01\u001B[0m\r\n",
      "\u001B[?25hInstalling collected packages: oauthlib, requests-oauthlib, twython\r\n",
      "Successfully installed oauthlib-3.2.2 requests-oauthlib-2.0.0 twython-3.9.1\r\n"
     ]
    }
   ],
   "execution_count": 2
  },
  {
   "metadata": {},
   "cell_type": "markdown",
   "source": "## Import required libraries",
   "id": "2a090a5a46cd9943"
  },
  {
   "metadata": {
    "ExecuteTime": {
     "end_time": "2024-07-20T08:23:09.341157Z",
     "start_time": "2024-07-20T08:23:09.304919Z"
    }
   },
   "cell_type": "code",
   "source": "from twython import Twython",
   "id": "2cfe30535ff53265",
   "outputs": [],
   "execution_count": 4
  },
  {
   "metadata": {},
   "cell_type": "code",
   "outputs": [],
   "execution_count": null,
   "source": "# Load credentials from json file\n",
   "id": "183125b3e087835e"
  }
 ],
 "metadata": {
  "kernelspec": {
   "display_name": "Python 3",
   "language": "python",
   "name": "python3"
  },
  "language_info": {
   "codemirror_mode": {
    "name": "ipython",
    "version": 2
   },
   "file_extension": ".py",
   "mimetype": "text/x-python",
   "name": "python",
   "nbconvert_exporter": "python",
   "pygments_lexer": "ipython2",
   "version": "2.7.6"
  }
 },
 "nbformat": 4,
 "nbformat_minor": 5
}
