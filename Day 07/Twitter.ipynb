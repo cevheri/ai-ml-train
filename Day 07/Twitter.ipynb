{
 "cells": [
  {
   "metadata": {},
   "cell_type": "markdown",
   "source": [
    "# Using Twitter API to get tweets\n",
    "\n"
   ],
   "id": "96c4c54076e23b2e"
  },
  {
   "metadata": {},
   "cell_type": "markdown",
   "source": [
    "## Overview\n",
    "In this notebook, we will use the Twitter API to get tweets. We will use the `twython` library to interact with the Twitter API.\n",
    "\n",
    "* The first step is to create a Twitter Developer account and create an app to get the API key and API key secret.\n",
    "* We will then load the credentials from a json file.(You need to create a json file named `.credentials` with the API key and API key secret and add it into the .gitignore file before pushing to a public repository, you can not share your credentials publicly)\n",
    "* We will then use the `Twython` class to interact with the Twitter API.\n",
    "* We will use the `search` method to search for tweets based on a query.\n",
    "* "
   ],
   "id": "bf5d3a44df36efd1"
  },
  {
   "metadata": {},
   "cell_type": "markdown",
   "source": [
    "## Install required packages\n",
    "When using the `twython` library, you need to install the `twython` package. You can install it using the following command:\n",
    "```bash\n",
    "pip install twython\n",
    "```\n",
    "\n",
    "After installing the package, you can import the required libraries in the notebook."
   ],
   "id": "c5bb4f94fa40921c"
  },
  {
   "metadata": {
    "ExecuteTime": {
     "end_time": "2024-07-20T08:50:45.467287Z",
     "start_time": "2024-07-20T08:50:45.465598Z"
    }
   },
   "cell_type": "code",
   "source": "# !pip install twython",
   "id": "6571ac8066889c36",
   "outputs": [],
   "execution_count": 12
  },
  {
   "metadata": {},
   "cell_type": "markdown",
   "source": "## Import required libraries",
   "id": "2a090a5a46cd9943"
  },
  {
   "metadata": {
    "ExecuteTime": {
     "end_time": "2024-07-20T08:50:45.487648Z",
     "start_time": "2024-07-20T08:50:45.468247Z"
    }
   },
   "cell_type": "code",
   "source": [
    "from twython import Twython\n",
    "import json\n",
    "import pandas as pd\n",
    "import numpy as np\n",
    "import matplotlib.pyplot as plt\n",
    "import seaborn as sns\n",
    "\n",
    "import warnings\n",
    "warnings.filterwarnings('ignore')\n"
   ],
   "id": "2cfe30535ff53265",
   "outputs": [],
   "execution_count": 13
  },
  {
   "metadata": {},
   "cell_type": "markdown",
   "source": [
    "## Load credentials from json file\n",
    "You need to create a Twitter Developer account and create an app to get the API key and API key secret. Save these credentials in a json file named `.credentials` in the following format:\n",
    "```json\n",
    "{\n",
    "    \"API_KEY\": \"your_api_key\n",
    "    \"API_KEY_SECRET\": \"your_api_key\n",
    "}\n",
    "```"
   ],
   "id": "4c7b60f8903c1cd"
  },
  {
   "metadata": {
    "ExecuteTime": {
     "end_time": "2024-07-20T08:50:45.498157Z",
     "start_time": "2024-07-20T08:50:45.488505Z"
    }
   },
   "cell_type": "code",
   "source": [
    "\n",
    "with open(\".credentials\", \"r\") as file:\n",
    "    creds = json.load(file)\n",
    "\n",
    "API_KEY = creds['API_KEY']\n",
    "API_KEY_SECRET = creds['API_KEY_SECRET'] \n",
    "twitter = Twython(API_KEY, API_KEY_SECRET)"
   ],
   "id": "183125b3e087835e",
   "outputs": [],
   "execution_count": 14
  },
  {
   "metadata": {
    "ExecuteTime": {
     "end_time": "2024-07-20T08:50:45.509397Z",
     "start_time": "2024-07-20T08:50:45.498991Z"
    }
   },
   "cell_type": "code",
   "source": "dir(twitter)",
   "id": "f956170b6e19a347",
   "outputs": [
    {
     "data": {
      "text/plain": [
       "['__class__',\n",
       " '__delattr__',\n",
       " '__dict__',\n",
       " '__dir__',\n",
       " '__doc__',\n",
       " '__eq__',\n",
       " '__format__',\n",
       " '__ge__',\n",
       " '__getattribute__',\n",
       " '__getstate__',\n",
       " '__gt__',\n",
       " '__hash__',\n",
       " '__init__',\n",
       " '__init_subclass__',\n",
       " '__le__',\n",
       " '__lt__',\n",
       " '__module__',\n",
       " '__ne__',\n",
       " '__new__',\n",
       " '__reduce__',\n",
       " '__reduce_ex__',\n",
       " '__repr__',\n",
       " '__setattr__',\n",
       " '__sizeof__',\n",
       " '__str__',\n",
       " '__subclasshook__',\n",
       " '__weakref__',\n",
       " '_get_error_message',\n",
       " '_last_call',\n",
       " '_request',\n",
       " 'access_token',\n",
       " 'access_token_url',\n",
       " 'add_list_member',\n",
       " 'api_url',\n",
       " 'api_version',\n",
       " 'app_key',\n",
       " 'app_secret',\n",
       " 'authenticate_url',\n",
       " 'client',\n",
       " 'client_args',\n",
       " 'construct_api_url',\n",
       " 'create_block',\n",
       " 'create_favorite',\n",
       " 'create_friendship',\n",
       " 'create_list',\n",
       " 'create_list_members',\n",
       " 'create_metadata',\n",
       " 'create_mute',\n",
       " 'create_place',\n",
       " 'create_saved_search',\n",
       " 'cursor',\n",
       " 'delete',\n",
       " 'delete_list',\n",
       " 'delete_list_member',\n",
       " 'delete_list_members',\n",
       " 'destroy_block',\n",
       " 'destroy_direct_message',\n",
       " 'destroy_favorite',\n",
       " 'destroy_friendship',\n",
       " 'destroy_mute',\n",
       " 'destroy_saved_search',\n",
       " 'destroy_status',\n",
       " 'encode',\n",
       " 'get',\n",
       " 'get_account_settings',\n",
       " 'get_application_rate_limit_status',\n",
       " 'get_authentication_tokens',\n",
       " 'get_authorized_tokens',\n",
       " 'get_available_trends',\n",
       " 'get_closest_trends',\n",
       " 'get_contributees',\n",
       " 'get_contributors',\n",
       " 'get_direct_message',\n",
       " 'get_direct_messages',\n",
       " 'get_favorites',\n",
       " 'get_followers_ids',\n",
       " 'get_followers_list',\n",
       " 'get_friends_ids',\n",
       " 'get_friends_list',\n",
       " 'get_geo_info',\n",
       " 'get_home_timeline',\n",
       " 'get_incoming_friendship_ids',\n",
       " 'get_lastfunction_header',\n",
       " 'get_list_members',\n",
       " 'get_list_memberships',\n",
       " 'get_list_statuses',\n",
       " 'get_list_subscribers',\n",
       " 'get_list_subscriptions',\n",
       " 'get_mentions_timeline',\n",
       " 'get_oembed_tweet',\n",
       " 'get_outgoing_friendship_ids',\n",
       " 'get_place_trends',\n",
       " 'get_privacy_policy',\n",
       " 'get_profile_banner_sizes',\n",
       " 'get_retweeters_ids',\n",
       " 'get_retweets',\n",
       " 'get_saved_searches',\n",
       " 'get_sent_messages',\n",
       " 'get_similar_places',\n",
       " 'get_specific_list',\n",
       " 'get_supported_languages',\n",
       " 'get_tos',\n",
       " 'get_twitter_configuration',\n",
       " 'get_user_ids_of_blocked_retweets',\n",
       " 'get_user_suggestions',\n",
       " 'get_user_suggestions_by_slug',\n",
       " 'get_user_suggestions_statuses_by_slug',\n",
       " 'get_user_timeline',\n",
       " 'html_for_tweet',\n",
       " 'invalidate_token',\n",
       " 'is_list_member',\n",
       " 'is_list_subscriber',\n",
       " 'list_block_ids',\n",
       " 'list_blocks',\n",
       " 'list_mute_ids',\n",
       " 'list_mutes',\n",
       " 'lookup_friendships',\n",
       " 'lookup_status',\n",
       " 'lookup_user',\n",
       " 'oauth_token',\n",
       " 'oauth_token_secret',\n",
       " 'oauth_version',\n",
       " 'obtain_access_token',\n",
       " 'post',\n",
       " 'remove_profile_banner',\n",
       " 'report_spam',\n",
       " 'request',\n",
       " 'request_token_url',\n",
       " 'retweet',\n",
       " 'retweeted_of_me',\n",
       " 'reverse_geocode',\n",
       " 'search',\n",
       " 'search_gen',\n",
       " 'search_geo',\n",
       " 'search_users',\n",
       " 'send_direct_message',\n",
       " 'show_friendship',\n",
       " 'show_lists',\n",
       " 'show_owned_lists',\n",
       " 'show_saved_search',\n",
       " 'show_status',\n",
       " 'show_user',\n",
       " 'subscribe_to_list',\n",
       " 'unicode2utf8',\n",
       " 'unsubscribe_from_list',\n",
       " 'update_account_settings',\n",
       " 'update_delivery_service',\n",
       " 'update_friendship',\n",
       " 'update_list',\n",
       " 'update_profile',\n",
       " 'update_profile_background_image',\n",
       " 'update_profile_banner_image',\n",
       " 'update_profile_colors',\n",
       " 'update_profile_image',\n",
       " 'update_status',\n",
       " 'update_status_with_media',\n",
       " 'upload_media',\n",
       " 'upload_video',\n",
       " 'verify_credentials']"
      ]
     },
     "execution_count": 15,
     "metadata": {},
     "output_type": "execute_result"
    }
   ],
   "execution_count": 15
  },
  {
   "metadata": {},
   "cell_type": "markdown",
   "source": [
    "## Search for tweets based on a query\n",
    "We will use the `search` method to search for tweets based on a query. The `search` method takes the following parameters:\n",
    "* `q`: The search query\n",
    "* `result_type`: The type of results you want to get. It can be `mixed`, `recent`, or `popular`.    \n",
    "* `count`: The number of tweets you want to get. The maximum value is 100.\n",
    "* `lang`: The language of the tweets.\n",
    "* `tweet_mode`: The mode of the tweet. It can be `extended` or `compat`.\n",
    "* and many more."
   ],
   "id": "9d1f4ceaab12d7f7"
  },
  {
   "metadata": {
    "ExecuteTime": {
     "end_time": "2024-07-20T08:50:46.889620Z",
     "start_time": "2024-07-20T08:50:45.509921Z"
    }
   },
   "cell_type": "code",
   "source": [
    "query = 'Data Science'\n",
    "# tweets = twitter.search(q=query, count=100, lang='en')\n"
   ],
   "id": "51b9656f660981f3",
   "outputs": [
    {
     "ename": "TwythonAuthError",
     "evalue": "Twitter API returned a 401 (Unauthorized), Could not authenticate you.",
     "output_type": "error",
     "traceback": [
      "\u001B[0;31m---------------------------------------------------------------------------\u001B[0m",
      "\u001B[0;31mTwythonAuthError\u001B[0m                          Traceback (most recent call last)",
      "Cell \u001B[0;32mIn[16], line 2\u001B[0m\n\u001B[1;32m      1\u001B[0m query \u001B[38;5;241m=\u001B[39m \u001B[38;5;124m'\u001B[39m\u001B[38;5;124mData Science\u001B[39m\u001B[38;5;124m'\u001B[39m\n\u001B[0;32m----> 2\u001B[0m tweets \u001B[38;5;241m=\u001B[39m twitter\u001B[38;5;241m.\u001B[39msearch(q\u001B[38;5;241m=\u001B[39mquery, count\u001B[38;5;241m=\u001B[39m\u001B[38;5;241m100\u001B[39m, lang\u001B[38;5;241m=\u001B[39m\u001B[38;5;124m'\u001B[39m\u001B[38;5;124men\u001B[39m\u001B[38;5;124m'\u001B[39m)\n",
      "File \u001B[0;32m~/anaconda3/lib/python3.11/site-packages/twython/endpoints.py:293\u001B[0m, in \u001B[0;36mEndpointsMixin.search\u001B[0;34m(self, **params)\u001B[0m\n\u001B[1;32m    286\u001B[0m \u001B[38;5;28;01mdef\u001B[39;00m \u001B[38;5;21msearch\u001B[39m(\u001B[38;5;28mself\u001B[39m, \u001B[38;5;241m*\u001B[39m\u001B[38;5;241m*\u001B[39mparams):\n\u001B[1;32m    287\u001B[0m \u001B[38;5;250m    \u001B[39m\u001B[38;5;124;03m\"\"\"Returns a collection of relevant Tweets matching a specified query.\u001B[39;00m\n\u001B[1;32m    288\u001B[0m \n\u001B[1;32m    289\u001B[0m \u001B[38;5;124;03m    Docs:\u001B[39;00m\n\u001B[1;32m    290\u001B[0m \u001B[38;5;124;03m    https://developer.twitter.com/en/docs/tweets/search/api-reference/get-search-tweets\u001B[39;00m\n\u001B[1;32m    291\u001B[0m \n\u001B[1;32m    292\u001B[0m \u001B[38;5;124;03m    \"\"\"\u001B[39;00m\n\u001B[0;32m--> 293\u001B[0m     \u001B[38;5;28;01mreturn\u001B[39;00m \u001B[38;5;28mself\u001B[39m\u001B[38;5;241m.\u001B[39mget(\u001B[38;5;124m'\u001B[39m\u001B[38;5;124msearch/tweets\u001B[39m\u001B[38;5;124m'\u001B[39m, params\u001B[38;5;241m=\u001B[39mparams)\n",
      "File \u001B[0;32m~/anaconda3/lib/python3.11/site-packages/twython/api.py:279\u001B[0m, in \u001B[0;36mTwython.get\u001B[0;34m(self, endpoint, params, version)\u001B[0m\n\u001B[1;32m    277\u001B[0m \u001B[38;5;28;01mdef\u001B[39;00m \u001B[38;5;21mget\u001B[39m(\u001B[38;5;28mself\u001B[39m, endpoint, params\u001B[38;5;241m=\u001B[39m\u001B[38;5;28;01mNone\u001B[39;00m, version\u001B[38;5;241m=\u001B[39m\u001B[38;5;124m'\u001B[39m\u001B[38;5;124m1.1\u001B[39m\u001B[38;5;124m'\u001B[39m):\n\u001B[1;32m    278\u001B[0m \u001B[38;5;250m    \u001B[39m\u001B[38;5;124;03m\"\"\"Shortcut for GET requests via :class:`request`\"\"\"\u001B[39;00m\n\u001B[0;32m--> 279\u001B[0m     \u001B[38;5;28;01mreturn\u001B[39;00m \u001B[38;5;28mself\u001B[39m\u001B[38;5;241m.\u001B[39mrequest(endpoint, params\u001B[38;5;241m=\u001B[39mparams, version\u001B[38;5;241m=\u001B[39mversion)\n",
      "File \u001B[0;32m~/anaconda3/lib/python3.11/site-packages/twython/api.py:272\u001B[0m, in \u001B[0;36mTwython.request\u001B[0;34m(self, endpoint, method, params, version, json_encoded)\u001B[0m\n\u001B[1;32m    269\u001B[0m \u001B[38;5;28;01melse\u001B[39;00m:\n\u001B[1;32m    270\u001B[0m     url \u001B[38;5;241m=\u001B[39m \u001B[38;5;124m'\u001B[39m\u001B[38;5;132;01m%s\u001B[39;00m\u001B[38;5;124m/\u001B[39m\u001B[38;5;132;01m%s\u001B[39;00m\u001B[38;5;124m.json\u001B[39m\u001B[38;5;124m'\u001B[39m \u001B[38;5;241m%\u001B[39m (\u001B[38;5;28mself\u001B[39m\u001B[38;5;241m.\u001B[39mapi_url \u001B[38;5;241m%\u001B[39m version, endpoint)\n\u001B[0;32m--> 272\u001B[0m content \u001B[38;5;241m=\u001B[39m \u001B[38;5;28mself\u001B[39m\u001B[38;5;241m.\u001B[39m_request(url, method\u001B[38;5;241m=\u001B[39mmethod, params\u001B[38;5;241m=\u001B[39mparams,\n\u001B[1;32m    273\u001B[0m                         api_call\u001B[38;5;241m=\u001B[39murl, json_encoded\u001B[38;5;241m=\u001B[39mjson_encoded)\n\u001B[1;32m    275\u001B[0m \u001B[38;5;28;01mreturn\u001B[39;00m content\n",
      "File \u001B[0;32m~/anaconda3/lib/python3.11/site-packages/twython/api.py:202\u001B[0m, in \u001B[0;36mTwython._request\u001B[0;34m(self, url, method, params, api_call, json_encoded)\u001B[0m\n\u001B[1;32m    195\u001B[0m     \u001B[38;5;28;01melif\u001B[39;00m response\u001B[38;5;241m.\u001B[39mstatus_code \u001B[38;5;241m==\u001B[39m \u001B[38;5;241m401\u001B[39m \u001B[38;5;129;01mor\u001B[39;00m \u001B[38;5;124m'\u001B[39m\u001B[38;5;124mBad Authentication data\u001B[39m\u001B[38;5;124m'\u001B[39m \\\n\u001B[1;32m    196\u001B[0m             \u001B[38;5;129;01min\u001B[39;00m error_message:\n\u001B[1;32m    197\u001B[0m         \u001B[38;5;66;03m# Twitter API 1.1, returns a 401 Unauthorized or\u001B[39;00m\n\u001B[1;32m    198\u001B[0m         \u001B[38;5;66;03m# a 400 \"Bad Authentication data\" for invalid/expired\u001B[39;00m\n\u001B[1;32m    199\u001B[0m         \u001B[38;5;66;03m# app keys/user tokens\u001B[39;00m\n\u001B[1;32m    200\u001B[0m         ExceptionType \u001B[38;5;241m=\u001B[39m TwythonAuthError\n\u001B[0;32m--> 202\u001B[0m     \u001B[38;5;28;01mraise\u001B[39;00m ExceptionType(\n\u001B[1;32m    203\u001B[0m         error_message,\n\u001B[1;32m    204\u001B[0m         error_code\u001B[38;5;241m=\u001B[39mresponse\u001B[38;5;241m.\u001B[39mstatus_code,\n\u001B[1;32m    205\u001B[0m         retry_after\u001B[38;5;241m=\u001B[39mresponse\u001B[38;5;241m.\u001B[39mheaders\u001B[38;5;241m.\u001B[39mget(\u001B[38;5;124m'\u001B[39m\u001B[38;5;124mX-Rate-Limit-Reset\u001B[39m\u001B[38;5;124m'\u001B[39m))\n\u001B[1;32m    206\u001B[0m content \u001B[38;5;241m=\u001B[39m \u001B[38;5;124m'\u001B[39m\u001B[38;5;124m'\u001B[39m\n\u001B[1;32m    207\u001B[0m \u001B[38;5;28;01mtry\u001B[39;00m:\n",
      "\u001B[0;31mTwythonAuthError\u001B[0m: Twitter API returned a 401 (Unauthorized), Could not authenticate you."
     ]
    }
   ],
   "execution_count": 16
  },
  {
   "metadata": {
    "ExecuteTime": {
     "end_time": "2024-07-20T08:57:28.939292Z",
     "start_time": "2024-07-20T08:57:28.935296Z"
    }
   },
   "cell_type": "code",
   "source": "df = pd.read_csv('youtube.csv')",
   "id": "8293d6e3e1f0e101",
   "outputs": [],
   "execution_count": 17
  },
  {
   "metadata": {
    "ExecuteTime": {
     "end_time": "2024-07-20T08:57:40.877516Z",
     "start_time": "2024-07-20T08:57:40.872078Z"
    }
   },
   "cell_type": "code",
   "source": "df.head()",
   "id": "8d5d1d013293096c",
   "outputs": [
    {
     "data": {
      "text/plain": [
       "                                    COMMENT_ID            AUTHOR  \\\n",
       "0  LZQPQhLyRh80UYxNuaDWhIGQYNQ96IuCg-AYWqNPjpU         Julius NM   \n",
       "1  LZQPQhLyRh_C2cTtd9MvFRJedxydaVW-2sNg5Diuo4A       adam riyati   \n",
       "2  LZQPQhLyRh9MSZYnf8djyk0gEF9BHDPYrrK-qCczIY8  Evgeny Murashkin   \n",
       "3          z13jhp0bxqncu512g22wvzkasxmvvzjaz04   ElNino Melendez   \n",
       "4          z13fwbwp1oujthgqj04chlngpvzmtt3r3dw            GsMega   \n",
       "\n",
       "                  DATE                                            CONTENT  \\\n",
       "0  2013-11-07T06:20:48  Huh, anyway check out this you[tube] channel: ...   \n",
       "1  2013-11-07T12:37:15  Hey guys check out my new channel and our firs...   \n",
       "2  2013-11-08T17:34:21             just for test I have to say murdev.com   \n",
       "3  2013-11-09T08:28:43   me shaking my sexy ass on my channel enjoy ^_^ ﻿   \n",
       "4  2013-11-10T16:05:38            watch?v=vtaRGgvGtWQ   Check this out .﻿   \n",
       "\n",
       "   CLASS  \n",
       "0      1  \n",
       "1      1  \n",
       "2      1  \n",
       "3      1  \n",
       "4      1  "
      ],
      "text/html": [
       "<div>\n",
       "<style scoped>\n",
       "    .dataframe tbody tr th:only-of-type {\n",
       "        vertical-align: middle;\n",
       "    }\n",
       "\n",
       "    .dataframe tbody tr th {\n",
       "        vertical-align: top;\n",
       "    }\n",
       "\n",
       "    .dataframe thead th {\n",
       "        text-align: right;\n",
       "    }\n",
       "</style>\n",
       "<table border=\"1\" class=\"dataframe\">\n",
       "  <thead>\n",
       "    <tr style=\"text-align: right;\">\n",
       "      <th></th>\n",
       "      <th>COMMENT_ID</th>\n",
       "      <th>AUTHOR</th>\n",
       "      <th>DATE</th>\n",
       "      <th>CONTENT</th>\n",
       "      <th>CLASS</th>\n",
       "    </tr>\n",
       "  </thead>\n",
       "  <tbody>\n",
       "    <tr>\n",
       "      <th>0</th>\n",
       "      <td>LZQPQhLyRh80UYxNuaDWhIGQYNQ96IuCg-AYWqNPjpU</td>\n",
       "      <td>Julius NM</td>\n",
       "      <td>2013-11-07T06:20:48</td>\n",
       "      <td>Huh, anyway check out this you[tube] channel: ...</td>\n",
       "      <td>1</td>\n",
       "    </tr>\n",
       "    <tr>\n",
       "      <th>1</th>\n",
       "      <td>LZQPQhLyRh_C2cTtd9MvFRJedxydaVW-2sNg5Diuo4A</td>\n",
       "      <td>adam riyati</td>\n",
       "      <td>2013-11-07T12:37:15</td>\n",
       "      <td>Hey guys check out my new channel and our firs...</td>\n",
       "      <td>1</td>\n",
       "    </tr>\n",
       "    <tr>\n",
       "      <th>2</th>\n",
       "      <td>LZQPQhLyRh9MSZYnf8djyk0gEF9BHDPYrrK-qCczIY8</td>\n",
       "      <td>Evgeny Murashkin</td>\n",
       "      <td>2013-11-08T17:34:21</td>\n",
       "      <td>just for test I have to say murdev.com</td>\n",
       "      <td>1</td>\n",
       "    </tr>\n",
       "    <tr>\n",
       "      <th>3</th>\n",
       "      <td>z13jhp0bxqncu512g22wvzkasxmvvzjaz04</td>\n",
       "      <td>ElNino Melendez</td>\n",
       "      <td>2013-11-09T08:28:43</td>\n",
       "      <td>me shaking my sexy ass on my channel enjoy ^_^ ﻿</td>\n",
       "      <td>1</td>\n",
       "    </tr>\n",
       "    <tr>\n",
       "      <th>4</th>\n",
       "      <td>z13fwbwp1oujthgqj04chlngpvzmtt3r3dw</td>\n",
       "      <td>GsMega</td>\n",
       "      <td>2013-11-10T16:05:38</td>\n",
       "      <td>watch?v=vtaRGgvGtWQ   Check this out .﻿</td>\n",
       "      <td>1</td>\n",
       "    </tr>\n",
       "  </tbody>\n",
       "</table>\n",
       "</div>"
      ]
     },
     "execution_count": 19,
     "metadata": {},
     "output_type": "execute_result"
    }
   ],
   "execution_count": 19
  },
  {
   "metadata": {
    "ExecuteTime": {
     "end_time": "2024-07-20T09:00:27.336757Z",
     "start_time": "2024-07-20T09:00:27.334220Z"
    }
   },
   "cell_type": "code",
   "source": [
    "from textblob import TextBlob\n",
    "def detect_sentiment(text):\n",
    "    analysis = TextBlob(text)\n",
    "    if analysis.sentiment.polarity > 0:\n",
    "        return 'Positive'\n",
    "    elif analysis.sentiment.polarity == 0:\n",
    "        return 'Neutral'\n",
    "    else:\n",
    "        return 'Negative'\n",
    "    \n",
    "def get_sentiment_score(text):\n",
    "    analysis = TextBlob(text)\n",
    "    return analysis.sentiment.polarity\n"
   ],
   "id": "661a81ead944643c",
   "outputs": [],
   "execution_count": 29
  },
  {
   "metadata": {
    "ExecuteTime": {
     "end_time": "2024-07-20T08:59:21.332304Z",
     "start_time": "2024-07-20T08:59:21.235275Z"
    }
   },
   "cell_type": "code",
   "source": [
    "df['sentiment'] = df['CONTENT'].apply(detect_sentiment)\n",
    "df['sentiment'].value_counts().plot(kind='bar')"
   ],
   "id": "b6d0f38371dc85c1",
   "outputs": [
    {
     "data": {
      "text/plain": [
       "<Axes: xlabel='sentiment'>"
      ]
     },
     "execution_count": 26,
     "metadata": {},
     "output_type": "execute_result"
    },
    {
     "data": {
      "text/plain": [
       "<Figure size 640x480 with 1 Axes>"
      ],
      "image/png": "[encoded data removed]"
     },
     "metadata": {},
     "output_type": "display_data"
    }
   ],
   "execution_count": 26
  },
  {
   "metadata": {
    "ExecuteTime": {
     "end_time": "2024-07-20T08:59:51.501313Z",
     "start_time": "2024-07-20T08:59:51.429279Z"
    }
   },
   "cell_type": "code",
   "source": "sns.countplot(x= df['sentiment'])",
   "id": "57d4ad17a67ac1f2",
   "outputs": [
    {
     "data": {
      "text/plain": [
       "<Axes: xlabel='sentiment', ylabel='count'>"
      ]
     },
     "execution_count": 28,
     "metadata": {},
     "output_type": "execute_result"
    },
    {
     "data": {
      "text/plain": [
       "<Figure size 640x480 with 1 Axes>"
      ],
      "image/png": "[encoded data removed]"
     },
     "metadata": {},
     "output_type": "display_data"
    }
   ],
   "execution_count": 28
  },
  {
   "metadata": {
    "ExecuteTime": {
     "end_time": "2024-07-20T09:00:59.440106Z",
     "start_time": "2024-07-20T09:00:59.298187Z"
    }
   },
   "cell_type": "code",
   "source": [
    "df['sentiment_score'] = df['CONTENT'].apply(get_sentiment_score)\n",
    "sns.histplot(df['sentiment_score'], bins=10, kde=True)"
   ],
   "id": "391b546929cd2d26",
   "outputs": [
    {
     "data": {
      "text/plain": [
       "<Axes: xlabel='sentiment_score', ylabel='Count'>"
      ]
     },
     "execution_count": 31,
     "metadata": {},
     "output_type": "execute_result"
    },
    {
     "data": {
      "text/plain": [
       "<Figure size 640x480 with 1 Axes>"
      ],
      "image/png": "[encoded data removed]"
     },
     "metadata": {},
     "output_type": "display_data"
    }
   ],
   "execution_count": 31
  },
  {
   "metadata": {
    "ExecuteTime": {
     "end_time": "2024-07-20T09:04:44.780765Z",
     "start_time": "2024-07-20T09:04:44.776547Z"
    }
   },
   "cell_type": "code",
   "source": "df['sentiment_score'].describe()",
   "id": "5e7764cf060aecba",
   "outputs": [
    {
     "data": {
      "text/plain": [
       "count    350.000000\n",
       "mean       0.105438\n",
       "std        0.273811\n",
       "min       -1.000000\n",
       "25%        0.000000\n",
       "50%        0.000000\n",
       "75%        0.200000\n",
       "max        1.000000\n",
       "Name: sentiment_score, dtype: float64"
      ]
     },
     "execution_count": 34,
     "metadata": {},
     "output_type": "execute_result"
    }
   ],
   "execution_count": 34
  },
  {
   "metadata": {},
   "cell_type": "code",
   "outputs": [],
   "execution_count": null,
   "source": [
    "from sklearn.feature_extraction.text import CountVectorizer\n",
    "vect = CountVectorizer()\n",
    "def sentiment_analysis(score):\n",
    "    if score > 0.2:\n",
    "        return 1\n",
    "    elif score < -0.2:\n",
    "        return 2\n",
    "    else:\n",
    "        return 0"
   ],
   "id": "ec712cf16acbe2ae"
  }
 ],
 "metadata": {
  "kernelspec": {
   "display_name": "Python 3",
   "language": "python",
   "name": "python3"
  },
  "language_info": {
   "codemirror_mode": {
    "name": "ipython",
    "version": 2
   },
   "file_extension": ".py",
   "mimetype": "text/x-python",
   "name": "python",
   "nbconvert_exporter": "python",
   "pygments_lexer": "ipython2",
   "version": "2.7.6"
  }
 },
 "nbformat": 4,
 "nbformat_minor": 5
}
