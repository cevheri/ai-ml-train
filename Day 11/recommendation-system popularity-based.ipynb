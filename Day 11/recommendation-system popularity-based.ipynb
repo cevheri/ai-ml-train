{
 "cells": [
  {
   "metadata": {},
   "cell_type": "markdown",
   "source": "# Recommendation system - Popularity Based",
   "id": "12e83900c6e94311"
  },
  {
   "metadata": {},
   "cell_type": "markdown",
   "source": [
    "## Overview\n",
    "Recommendation systems are a collection of algorithms used to recommend items to users based on information taken from the user. These systems have become ubiquitous, and can be commonly seen in online stores, movies databases and job finders. In this notebook, we will explore recommendation systems based on Collaborative Filtering and implement simple versions of them using Python and the Pandas library."
   ],
   "id": "e623064fe67a95bd"
  },
  {
   "metadata": {},
   "cell_type": "markdown",
   "source": [
    "## Problem Statement\n",
    "The dataset we will use is the MovieLens Dataset. It contains 100k movie ratings from 943 users and a selection of 1682 movies. We will use Python and the Pandas library to implement two simple recommendation systems: one based on the mean of the user's ratings, and the other based on user-user collaborative filtering.\n"
   ],
   "id": "9436cbccde610363"
  },
  {
   "metadata": {},
   "cell_type": "markdown",
   "source": [
    "## Obvious Applications\n",
    "1. Amazon - Product Recommendations\n",
    "2. Netflix - Movie Recommendations\n",
    "3. Pandora - Music Recommendations\n",
    "4. Yelp - Recommendations for restaurants, businesses, etc.\n",
    "5. Goodreads - Book Recommendations\n",
    "6. Facebook - Friend Recommendations\n",
    "7. LinkedIn - Job Recommendations\n",
    "8. YouTube - Video Recommendations\n",
    "9. Twitter - Who to Follow Recommendations\n",
    "10. Instagram - Who to Follow Recommendations\n",
    "11. Spotify - Music Recommendations\n",
    "12. Google - Search Recommendations\n",
    "13. Airbnb - Travel Recommendations\n",
    "14. Uber - Ride Recommendations\n",
    "15. eBay - Product Recommendations\n",
    "16. Pinterest - Image Recommendations\n",
    "17. Reddit - Post Recommendations"
   ],
   "id": "290008e7dd1f0051"
  },
  {
   "metadata": {},
   "cell_type": "markdown",
   "source": [
    "## Collaborative Filtering\n",
    "Collaborative filtering is a technique used by recommendation systems to make predictions about an interest of a user by collecting preferences from many users. The underlying assumption is that if a user A has the same opinion as a user B on an issue, A is more likely to have B's opinion on a different issue than that of a randomly chosen user. There are two main types of collaborative filtering: user-based and item-based. In either scenario, the system has the preferences of a group of users on a set of items. It uses this information to recommend items to users. In general, collaborative filtering is the workhorse of recommender engines. The algorithm has a very interesting property of being able to do feature learning on its own, which means that it can start to learn for itself what features to use. It can be divided into Memory-Based Collaborative Filtering and Model-Based Collaborative filtering. In this notebook, we will implement Model-Based CF by using singular value decomposition (SVD) and Memory-Based CF by computing cosine similarity."
   ],
   "id": "c7d8bb21e249af60"
  },
  {
   "metadata": {},
   "cell_type": "markdown",
   "source": [
    "## Starting Pont: Matrix Factorization\n",
    "Matrix factorization is a class of collaborative filtering algorithms used in recommender systems. Matrix factorization algorithms work by decomposing the user-item interaction matrix into the product of two lower dimensionality rectangular matrices. The user-item interaction matrix is a matrix of size m x n, where m is the number of users and n is the number of items. Each cell in the matrix represents the rating given by a user to an item. The goal of matrix factorization is to learn the latent preferences of users and the latent attributes of items from known ratings (learn features that describe the characteristics of ratings) to then predict the unknown ratings through the dot product of the latent features of users and items. Matrix factorization can be done through Singular Value Decomposition (SVD) or Alternating Least Squares (ALS). In this notebook, we will use Singular Value Decomposition.\n"
   ],
   "id": "80c61c1d41d17042"
  },
  {
   "metadata": {},
   "cell_type": "markdown",
   "source": [
    "## Defining our error\n",
    "In Ml, defining the error (or loss, or cost) is often the core of defining the objetive solution. Once we define the error, we can ussually plug it into a canned solver which can minize it. Definin the error can be obvious, or very subtle, or have multiple acceptable methods.\n",
    "\n",
    "### Clustering\n",
    "for k-means we simply used the distance from the centroid as the error. This is a very common approach.\n",
    "\n",
    "### Image Recognition:\n",
    "if our algorithm tags a picture of a cat as a dog, is that a larger error than if it tags it as a horse? or a car? How would you quantify that? This is a very hard problem, and the error function is not at all obvious. \n",
    "\n",
    "### Regression\n",
    "Do you want to penalize a lot of medium errors more than an occasional large error? Then you might use the sum of the squares of the errors. This is called the L2 norm.\n",
    "\n",
    "### Recommender\n",
    "we will take the mean square error distance between our given matrix and our approximation as a starting point."
   ],
   "id": "5beb235c732b229c"
  },
  {
   "metadata": {},
   "cell_type": "markdown",
   "source": [
    "## Roadmap\n",
    "1. Load the dataset and explore it.\n",
    "2. create ALS model\n",
    "3. Train it with varying ranks(k) to find reasonable hyperparameters.\n",
    "4. Add a new user\n",
    "5. Get top recommendations for a user"
   ],
   "id": "aa64988844ccc48a"
  },
  {
   "metadata": {},
   "cell_type": "markdown",
   "source": [
    "## Dataset \n",
    "We will use the MovieLens dataset, which is one of the most common datasets used when implementing and testing recommendation engines. It contains 100k movie ratings from 943 users and a selection of 1682 movies. You can download the dataset [here](http://files.grouplens.org/datasets/movielens/ml-100k.zip). We will use u.data and u.item files from the dataset.\n",
    "References: https://grouplens.org/datasets/movielens/\n",
    "\n",
    "ACKNOWLEDGEMENTS\n",
    "==============================================\n",
    "\n",
    "Thanks to Al Borchers for cleaning up this data and writing the\n",
    "accompanying scripts.\n",
    "\n",
    "PUBLISHED WORK THAT HAS USED THIS DATASET\n",
    "==============================================\n",
    "\n",
    "Herlocker, J., Konstan, J., Borchers, A., Riedl, J.. An Algorithmic\n",
    "Framework for Performing Collaborative Filtering. Proceedings of the\n",
    "1999 Conference on Research and Development in Information\n",
    "Retrieval. Aug. 1999.\n",
    "\n",
    "FURTHER INFORMATION ABOUT THE GROUPLENS RESEARCH PROJECT\n",
    "==============================================\n",
    "\n",
    "The GroupLens Research Project is a research group in the Department\n",
    "of Computer Science and Engineering at the University of Minnesota.\n",
    "Members of the GroupLens Research Project are involved in many\n",
    "research projects related to the fields of information filtering,\n",
    "collaborative filtering, and recommender systems. The project is lead\n",
    "by professors John Riedl and Joseph Konstan. The project began to\n",
    "explore automated collaborative filtering in 1992, but is most well\n",
    "known for its world wide trial of an automated collaborative filtering\n",
    "system for Usenet news in 1996.  The technology developed in the\n",
    "Usenet trial formed the base for the formation of Net Perceptions,\n",
    "Inc., which was founded by members of GroupLens Research. Since then\n",
    "the project has expanded its scope to research overall information\n",
    "filtering solutions, integrating in content-based methods as well as\n",
    "improving current collaborative filtering technology.\n",
    "\n",
    "Further information on the GroupLens Research project, including\n",
    "research publications, can be found at the following web site:\n",
    "        \n",
    "        http://www.grouplens.org/\n",
    "\n",
    "GroupLens Research currently operates a movie recommender based on\n",
    "collaborative filtering:\n",
    "\n",
    "        http://www.movielens.org/\n",
    "\n",
    "DETAILED DESCRIPTIONS OF DATA FILES\n",
    "==============================================\n",
    "\n",
    "Here are brief descriptions of the data.\n",
    "\n",
    "ml-data.tar.gz   -- Compressed tar file.  To rebuild the u data files do this:\n",
    "                gunzip ml-data.tar.gz\n",
    "                tar xvf ml-data.tar\n",
    "                mku.sh\n",
    "\n",
    "u.data     -- The full u data set, 100000 ratings by 943 users on 1682 items.\n",
    "              Each user has rated at least 20 movies.  Users and items are\n",
    "              numbered consecutively from 1.  The data is randomly\n",
    "              ordered. This is a tab separated list of \n",
    "\t         user id | item id | rating | timestamp. \n",
    "              The time stamps are unix seconds since 1/1/1970 UTC   \n",
    "\n",
    "u.info     -- The number of users, items, and ratings in the u data set.\n",
    "\n",
    "u.item     -- Information about the items (movies); this is a tab separated\n",
    "              list of\n",
    "              movie id | movie title | release date | video release date |\n",
    "              IMDb URL | unknown | Action | Adventure | Animation |\n",
    "              Children's | Comedy | Crime | Documentary | Drama | Fantasy |\n",
    "              Film-Noir | Horror | Musical | Mystery | Romance | Sci-Fi |\n",
    "              Thriller | War | Western |\n",
    "              The last 19 fields are the genres, a 1 indicates the movie\n",
    "              is of that genre, a 0 indicates it is not; movies can be in\n",
    "              several genres at once.\n",
    "              The movie ids are the ones used in the u.data data set.\n",
    "\n",
    "u.genre    -- A list of the genres.\n",
    "\n",
    "u.user     -- Demographic information about the users; this is a tab\n",
    "              separated list of\n",
    "              user id | age | gender | occupation | zip code\n",
    "              The user ids are the ones used in the u.data data set.\n",
    "\n",
    "u.occupation -- A list of the occupations.\n",
    "\n",
    "u1.base    -- The data sets u1.base and u1.test through u5.base and u5.test\n",
    "u1.test       are 80%/20% splits of the u data into training and test data.\n",
    "u2.base       Each of u1, ..., u5 have disjoint test sets; this if for\n",
    "u2.test       5 fold cross validation (where you repeat your experiment\n",
    "u3.base       with each training and test set and average the results).\n",
    "u3.test       These data sets can be generated from u.data by mku.sh.\n",
    "u4.base\n",
    "u4.test\n",
    "u5.base\n",
    "u5.test\n",
    "\n",
    "ua.base    -- The data sets ua.base, ua.test, ub.base, and ub.test\n",
    "ua.test       split the u data into a training set and a test set with\n",
    "ub.base       exactly 10 ratings per user in the test set.  The sets\n",
    "ub.test       ua.test and ub.test are disjoint.  These data sets can\n",
    "              be generated from u.data by mku.sh.\n",
    "\n",
    "allbut.pl  -- The script that generates training and test sets where\n",
    "              all but n of a users ratings are in the training data.\n",
    "\n",
    "mku.sh     -- A shell script to generate all the u data sets from u.data."
   ],
   "id": "a43346377426a9db"
  },
  {
   "metadata": {},
   "cell_type": "markdown",
   "source": "",
   "id": "aa2144e8d7b62441"
  },
  {
   "metadata": {},
   "cell_type": "markdown",
   "source": "## Import Libraries",
   "id": "b4f03bf3f0c5bbcf"
  },
  {
   "metadata": {
    "ExecuteTime": {
     "end_time": "2024-08-03T07:12:51.379078Z",
     "start_time": "2024-08-03T07:12:50.862779Z"
    }
   },
   "cell_type": "code",
   "source": [
    "import pandas as pd\n",
    "import numpy as np\n",
    "\n",
    "import warnings\n",
    "warnings.filterwarnings('ignore')\n",
    "\n",
    "import matplotlib.pyplot as plt\n",
    "import seaborn as sns\n",
    "\n"
   ],
   "id": "b2416855e119dc6a",
   "outputs": [],
   "execution_count": 14
  },
  {
   "metadata": {},
   "cell_type": "markdown",
   "source": "## Load Raitings",
   "id": "c5799e82fbc0d630"
  },
  {
   "metadata": {
    "ExecuteTime": {
     "end_time": "2024-08-03T07:04:38.108092Z",
     "start_time": "2024-08-03T07:04:38.086844Z"
    }
   },
   "cell_type": "code",
   "source": [
    "r_columns = ['user_id', 'movie_id', 'rating']\n",
    "ratings = pd.read_csv('ml-100k/u.data', sep='\\t', header=None, usecols=range(3), names=r_columns)\n",
    "ratings"
   ],
   "id": "54faf910fa3ddc17",
   "outputs": [
    {
     "data": {
      "text/plain": [
       "       user_id  movie_id  rating\n",
       "0          196       242       3\n",
       "1          186       302       3\n",
       "2           22       377       1\n",
       "3          244        51       2\n",
       "4          166       346       1\n",
       "...        ...       ...     ...\n",
       "99995      880       476       3\n",
       "99996      716       204       5\n",
       "99997      276      1090       1\n",
       "99998       13       225       2\n",
       "99999       12       203       3\n",
       "\n",
       "[100000 rows x 3 columns]"
      ],
      "text/html": [
       "<div>\n",
       "<style scoped>\n",
       "    .dataframe tbody tr th:only-of-type {\n",
       "        vertical-align: middle;\n",
       "    }\n",
       "\n",
       "    .dataframe tbody tr th {\n",
       "        vertical-align: top;\n",
       "    }\n",
       "\n",
       "    .dataframe thead th {\n",
       "        text-align: right;\n",
       "    }\n",
       "</style>\n",
       "<table border=\"1\" class=\"dataframe\">\n",
       "  <thead>\n",
       "    <tr style=\"text-align: right;\">\n",
       "      <th></th>\n",
       "      <th>user_id</th>\n",
       "      <th>movie_id</th>\n",
       "      <th>rating</th>\n",
       "    </tr>\n",
       "  </thead>\n",
       "  <tbody>\n",
       "    <tr>\n",
       "      <th>0</th>\n",
       "      <td>196</td>\n",
       "      <td>242</td>\n",
       "      <td>3</td>\n",
       "    </tr>\n",
       "    <tr>\n",
       "      <th>1</th>\n",
       "      <td>186</td>\n",
       "      <td>302</td>\n",
       "      <td>3</td>\n",
       "    </tr>\n",
       "    <tr>\n",
       "      <th>2</th>\n",
       "      <td>22</td>\n",
       "      <td>377</td>\n",
       "      <td>1</td>\n",
       "    </tr>\n",
       "    <tr>\n",
       "      <th>3</th>\n",
       "      <td>244</td>\n",
       "      <td>51</td>\n",
       "      <td>2</td>\n",
       "    </tr>\n",
       "    <tr>\n",
       "      <th>4</th>\n",
       "      <td>166</td>\n",
       "      <td>346</td>\n",
       "      <td>1</td>\n",
       "    </tr>\n",
       "    <tr>\n",
       "      <th>...</th>\n",
       "      <td>...</td>\n",
       "      <td>...</td>\n",
       "      <td>...</td>\n",
       "    </tr>\n",
       "    <tr>\n",
       "      <th>99995</th>\n",
       "      <td>880</td>\n",
       "      <td>476</td>\n",
       "      <td>3</td>\n",
       "    </tr>\n",
       "    <tr>\n",
       "      <th>99996</th>\n",
       "      <td>716</td>\n",
       "      <td>204</td>\n",
       "      <td>5</td>\n",
       "    </tr>\n",
       "    <tr>\n",
       "      <th>99997</th>\n",
       "      <td>276</td>\n",
       "      <td>1090</td>\n",
       "      <td>1</td>\n",
       "    </tr>\n",
       "    <tr>\n",
       "      <th>99998</th>\n",
       "      <td>13</td>\n",
       "      <td>225</td>\n",
       "      <td>2</td>\n",
       "    </tr>\n",
       "    <tr>\n",
       "      <th>99999</th>\n",
       "      <td>12</td>\n",
       "      <td>203</td>\n",
       "      <td>3</td>\n",
       "    </tr>\n",
       "  </tbody>\n",
       "</table>\n",
       "<p>100000 rows × 3 columns</p>\n",
       "</div>"
      ]
     },
     "execution_count": 2,
     "metadata": {},
     "output_type": "execute_result"
    }
   ],
   "execution_count": 2
  },
  {
   "metadata": {},
   "cell_type": "markdown",
   "source": [
    "\n",
    "## Load Movies"
   ],
   "id": "3f0f3a04c95cedd2"
  },
  {
   "metadata": {
    "ExecuteTime": {
     "end_time": "2024-08-03T07:04:38.118945Z",
     "start_time": "2024-08-03T07:04:38.108940Z"
    }
   },
   "cell_type": "code",
   "source": [
    "r_columns=['movie_id', 'title']\n",
    "movies = pd.read_csv('ml-100k/u.item', encoding='iso-8859-1', sep='|', header=None, names=r_columns, usecols=range(2))\n",
    "movies"
   ],
   "id": "d644a23a5b35a8d0",
   "outputs": [
    {
     "data": {
      "text/plain": [
       "      movie_id                                      title\n",
       "0            1                           Toy Story (1995)\n",
       "1            2                           GoldenEye (1995)\n",
       "2            3                          Four Rooms (1995)\n",
       "3            4                          Get Shorty (1995)\n",
       "4            5                             Copycat (1995)\n",
       "...        ...                                        ...\n",
       "1677      1678                          Mat' i syn (1997)\n",
       "1678      1679                           B. Monkey (1998)\n",
       "1679      1680                       Sliding Doors (1998)\n",
       "1680      1681                        You So Crazy (1994)\n",
       "1681      1682  Scream of Stone (Schrei aus Stein) (1991)\n",
       "\n",
       "[1682 rows x 2 columns]"
      ],
      "text/html": [
       "<div>\n",
       "<style scoped>\n",
       "    .dataframe tbody tr th:only-of-type {\n",
       "        vertical-align: middle;\n",
       "    }\n",
       "\n",
       "    .dataframe tbody tr th {\n",
       "        vertical-align: top;\n",
       "    }\n",
       "\n",
       "    .dataframe thead th {\n",
       "        text-align: right;\n",
       "    }\n",
       "</style>\n",
       "<table border=\"1\" class=\"dataframe\">\n",
       "  <thead>\n",
       "    <tr style=\"text-align: right;\">\n",
       "      <th></th>\n",
       "      <th>movie_id</th>\n",
       "      <th>title</th>\n",
       "    </tr>\n",
       "  </thead>\n",
       "  <tbody>\n",
       "    <tr>\n",
       "      <th>0</th>\n",
       "      <td>1</td>\n",
       "      <td>Toy Story (1995)</td>\n",
       "    </tr>\n",
       "    <tr>\n",
       "      <th>1</th>\n",
       "      <td>2</td>\n",
       "      <td>GoldenEye (1995)</td>\n",
       "    </tr>\n",
       "    <tr>\n",
       "      <th>2</th>\n",
       "      <td>3</td>\n",
       "      <td>Four Rooms (1995)</td>\n",
       "    </tr>\n",
       "    <tr>\n",
       "      <th>3</th>\n",
       "      <td>4</td>\n",
       "      <td>Get Shorty (1995)</td>\n",
       "    </tr>\n",
       "    <tr>\n",
       "      <th>4</th>\n",
       "      <td>5</td>\n",
       "      <td>Copycat (1995)</td>\n",
       "    </tr>\n",
       "    <tr>\n",
       "      <th>...</th>\n",
       "      <td>...</td>\n",
       "      <td>...</td>\n",
       "    </tr>\n",
       "    <tr>\n",
       "      <th>1677</th>\n",
       "      <td>1678</td>\n",
       "      <td>Mat' i syn (1997)</td>\n",
       "    </tr>\n",
       "    <tr>\n",
       "      <th>1678</th>\n",
       "      <td>1679</td>\n",
       "      <td>B. Monkey (1998)</td>\n",
       "    </tr>\n",
       "    <tr>\n",
       "      <th>1679</th>\n",
       "      <td>1680</td>\n",
       "      <td>Sliding Doors (1998)</td>\n",
       "    </tr>\n",
       "    <tr>\n",
       "      <th>1680</th>\n",
       "      <td>1681</td>\n",
       "      <td>You So Crazy (1994)</td>\n",
       "    </tr>\n",
       "    <tr>\n",
       "      <th>1681</th>\n",
       "      <td>1682</td>\n",
       "      <td>Scream of Stone (Schrei aus Stein) (1991)</td>\n",
       "    </tr>\n",
       "  </tbody>\n",
       "</table>\n",
       "<p>1682 rows × 2 columns</p>\n",
       "</div>"
      ]
     },
     "execution_count": 3,
     "metadata": {},
     "output_type": "execute_result"
    }
   ],
   "execution_count": 3
  },
  {
   "metadata": {},
   "cell_type": "markdown",
   "source": "## Load Users",
   "id": "394daa5b6731195c"
  },
  {
   "metadata": {
    "ExecuteTime": {
     "end_time": "2024-08-03T07:04:38.131632Z",
     "start_time": "2024-08-03T07:04:38.120147Z"
    }
   },
   "cell_type": "code",
   "source": [
    "r_columns = ['user_id', 'age', 'gender', 'profession', 'zipcode']\n",
    "users = pd.read_table('ml-100k/u.user', sep='|', header=None, names=r_columns)\n",
    "users"
   ],
   "id": "9915881380f70e0",
   "outputs": [
    {
     "data": {
      "text/plain": [
       "     user_id  age gender     profession zipcode\n",
       "0          1   24      M     technician   85711\n",
       "1          2   53      F          other   94043\n",
       "2          3   23      M         writer   32067\n",
       "3          4   24      M     technician   43537\n",
       "4          5   33      F          other   15213\n",
       "..       ...  ...    ...            ...     ...\n",
       "938      939   26      F        student   33319\n",
       "939      940   32      M  administrator   02215\n",
       "940      941   20      M        student   97229\n",
       "941      942   48      F      librarian   78209\n",
       "942      943   22      M        student   77841\n",
       "\n",
       "[943 rows x 5 columns]"
      ],
      "text/html": [
       "<div>\n",
       "<style scoped>\n",
       "    .dataframe tbody tr th:only-of-type {\n",
       "        vertical-align: middle;\n",
       "    }\n",
       "\n",
       "    .dataframe tbody tr th {\n",
       "        vertical-align: top;\n",
       "    }\n",
       "\n",
       "    .dataframe thead th {\n",
       "        text-align: right;\n",
       "    }\n",
       "</style>\n",
       "<table border=\"1\" class=\"dataframe\">\n",
       "  <thead>\n",
       "    <tr style=\"text-align: right;\">\n",
       "      <th></th>\n",
       "      <th>user_id</th>\n",
       "      <th>age</th>\n",
       "      <th>gender</th>\n",
       "      <th>profession</th>\n",
       "      <th>zipcode</th>\n",
       "    </tr>\n",
       "  </thead>\n",
       "  <tbody>\n",
       "    <tr>\n",
       "      <th>0</th>\n",
       "      <td>1</td>\n",
       "      <td>24</td>\n",
       "      <td>M</td>\n",
       "      <td>technician</td>\n",
       "      <td>85711</td>\n",
       "    </tr>\n",
       "    <tr>\n",
       "      <th>1</th>\n",
       "      <td>2</td>\n",
       "      <td>53</td>\n",
       "      <td>F</td>\n",
       "      <td>other</td>\n",
       "      <td>94043</td>\n",
       "    </tr>\n",
       "    <tr>\n",
       "      <th>2</th>\n",
       "      <td>3</td>\n",
       "      <td>23</td>\n",
       "      <td>M</td>\n",
       "      <td>writer</td>\n",
       "      <td>32067</td>\n",
       "    </tr>\n",
       "    <tr>\n",
       "      <th>3</th>\n",
       "      <td>4</td>\n",
       "      <td>24</td>\n",
       "      <td>M</td>\n",
       "      <td>technician</td>\n",
       "      <td>43537</td>\n",
       "    </tr>\n",
       "    <tr>\n",
       "      <th>4</th>\n",
       "      <td>5</td>\n",
       "      <td>33</td>\n",
       "      <td>F</td>\n",
       "      <td>other</td>\n",
       "      <td>15213</td>\n",
       "    </tr>\n",
       "    <tr>\n",
       "      <th>...</th>\n",
       "      <td>...</td>\n",
       "      <td>...</td>\n",
       "      <td>...</td>\n",
       "      <td>...</td>\n",
       "      <td>...</td>\n",
       "    </tr>\n",
       "    <tr>\n",
       "      <th>938</th>\n",
       "      <td>939</td>\n",
       "      <td>26</td>\n",
       "      <td>F</td>\n",
       "      <td>student</td>\n",
       "      <td>33319</td>\n",
       "    </tr>\n",
       "    <tr>\n",
       "      <th>939</th>\n",
       "      <td>940</td>\n",
       "      <td>32</td>\n",
       "      <td>M</td>\n",
       "      <td>administrator</td>\n",
       "      <td>02215</td>\n",
       "    </tr>\n",
       "    <tr>\n",
       "      <th>940</th>\n",
       "      <td>941</td>\n",
       "      <td>20</td>\n",
       "      <td>M</td>\n",
       "      <td>student</td>\n",
       "      <td>97229</td>\n",
       "    </tr>\n",
       "    <tr>\n",
       "      <th>941</th>\n",
       "      <td>942</td>\n",
       "      <td>48</td>\n",
       "      <td>F</td>\n",
       "      <td>librarian</td>\n",
       "      <td>78209</td>\n",
       "    </tr>\n",
       "    <tr>\n",
       "      <th>942</th>\n",
       "      <td>943</td>\n",
       "      <td>22</td>\n",
       "      <td>M</td>\n",
       "      <td>student</td>\n",
       "      <td>77841</td>\n",
       "    </tr>\n",
       "  </tbody>\n",
       "</table>\n",
       "<p>943 rows × 5 columns</p>\n",
       "</div>"
      ]
     },
     "execution_count": 4,
     "metadata": {},
     "output_type": "execute_result"
    }
   ],
   "execution_count": 4
  },
  {
   "metadata": {
    "ExecuteTime": {
     "end_time": "2024-08-03T07:04:38.136913Z",
     "start_time": "2024-08-03T07:04:38.132709Z"
    }
   },
   "cell_type": "code",
   "source": "users.iloc[196]",
   "id": "7c390e1bdc2fa115",
   "outputs": [
    {
     "data": {
      "text/plain": [
       "user_id              197\n",
       "age                   55\n",
       "gender                 M\n",
       "profession    technician\n",
       "zipcode            75094\n",
       "Name: 196, dtype: object"
      ]
     },
     "execution_count": 5,
     "metadata": {},
     "output_type": "execute_result"
    }
   ],
   "execution_count": 5
  },
  {
   "metadata": {
    "ExecuteTime": {
     "end_time": "2024-08-03T07:04:38.148205Z",
     "start_time": "2024-08-03T07:04:38.137936Z"
    }
   },
   "cell_type": "code",
   "source": "movies.iloc[241]",
   "id": "f0f4924cda4062ca",
   "outputs": [
    {
     "data": {
      "text/plain": [
       "movie_id             242\n",
       "title       Kolya (1996)\n",
       "Name: 241, dtype: object"
      ]
     },
     "execution_count": 6,
     "metadata": {},
     "output_type": "execute_result"
    }
   ],
   "execution_count": 6
  },
  {
   "metadata": {},
   "cell_type": "markdown",
   "source": "## Join Data",
   "id": "7d09f40141d673a7"
  },
  {
   "metadata": {
    "ExecuteTime": {
     "end_time": "2024-08-03T07:04:38.170705Z",
     "start_time": "2024-08-03T07:04:38.149226Z"
    }
   },
   "cell_type": "code",
   "source": [
    "ratings = pd.merge(movies, ratings)\n",
    "ratings"
   ],
   "id": "49baf28134e13481",
   "outputs": [
    {
     "data": {
      "text/plain": [
       "       movie_id                                      title  user_id  rating\n",
       "0             1                           Toy Story (1995)      308       4\n",
       "1             1                           Toy Story (1995)      287       5\n",
       "2             1                           Toy Story (1995)      148       4\n",
       "3             1                           Toy Story (1995)      280       4\n",
       "4             1                           Toy Story (1995)       66       3\n",
       "...         ...                                        ...      ...     ...\n",
       "99995      1678                          Mat' i syn (1997)      863       1\n",
       "99996      1679                           B. Monkey (1998)      863       3\n",
       "99997      1680                       Sliding Doors (1998)      863       2\n",
       "99998      1681                        You So Crazy (1994)      896       3\n",
       "99999      1682  Scream of Stone (Schrei aus Stein) (1991)      916       3\n",
       "\n",
       "[100000 rows x 4 columns]"
      ],
      "text/html": [
       "<div>\n",
       "<style scoped>\n",
       "    .dataframe tbody tr th:only-of-type {\n",
       "        vertical-align: middle;\n",
       "    }\n",
       "\n",
       "    .dataframe tbody tr th {\n",
       "        vertical-align: top;\n",
       "    }\n",
       "\n",
       "    .dataframe thead th {\n",
       "        text-align: right;\n",
       "    }\n",
       "</style>\n",
       "<table border=\"1\" class=\"dataframe\">\n",
       "  <thead>\n",
       "    <tr style=\"text-align: right;\">\n",
       "      <th></th>\n",
       "      <th>movie_id</th>\n",
       "      <th>title</th>\n",
       "      <th>user_id</th>\n",
       "      <th>rating</th>\n",
       "    </tr>\n",
       "  </thead>\n",
       "  <tbody>\n",
       "    <tr>\n",
       "      <th>0</th>\n",
       "      <td>1</td>\n",
       "      <td>Toy Story (1995)</td>\n",
       "      <td>308</td>\n",
       "      <td>4</td>\n",
       "    </tr>\n",
       "    <tr>\n",
       "      <th>1</th>\n",
       "      <td>1</td>\n",
       "      <td>Toy Story (1995)</td>\n",
       "      <td>287</td>\n",
       "      <td>5</td>\n",
       "    </tr>\n",
       "    <tr>\n",
       "      <th>2</th>\n",
       "      <td>1</td>\n",
       "      <td>Toy Story (1995)</td>\n",
       "      <td>148</td>\n",
       "      <td>4</td>\n",
       "    </tr>\n",
       "    <tr>\n",
       "      <th>3</th>\n",
       "      <td>1</td>\n",
       "      <td>Toy Story (1995)</td>\n",
       "      <td>280</td>\n",
       "      <td>4</td>\n",
       "    </tr>\n",
       "    <tr>\n",
       "      <th>4</th>\n",
       "      <td>1</td>\n",
       "      <td>Toy Story (1995)</td>\n",
       "      <td>66</td>\n",
       "      <td>3</td>\n",
       "    </tr>\n",
       "    <tr>\n",
       "      <th>...</th>\n",
       "      <td>...</td>\n",
       "      <td>...</td>\n",
       "      <td>...</td>\n",
       "      <td>...</td>\n",
       "    </tr>\n",
       "    <tr>\n",
       "      <th>99995</th>\n",
       "      <td>1678</td>\n",
       "      <td>Mat' i syn (1997)</td>\n",
       "      <td>863</td>\n",
       "      <td>1</td>\n",
       "    </tr>\n",
       "    <tr>\n",
       "      <th>99996</th>\n",
       "      <td>1679</td>\n",
       "      <td>B. Monkey (1998)</td>\n",
       "      <td>863</td>\n",
       "      <td>3</td>\n",
       "    </tr>\n",
       "    <tr>\n",
       "      <th>99997</th>\n",
       "      <td>1680</td>\n",
       "      <td>Sliding Doors (1998)</td>\n",
       "      <td>863</td>\n",
       "      <td>2</td>\n",
       "    </tr>\n",
       "    <tr>\n",
       "      <th>99998</th>\n",
       "      <td>1681</td>\n",
       "      <td>You So Crazy (1994)</td>\n",
       "      <td>896</td>\n",
       "      <td>3</td>\n",
       "    </tr>\n",
       "    <tr>\n",
       "      <th>99999</th>\n",
       "      <td>1682</td>\n",
       "      <td>Scream of Stone (Schrei aus Stein) (1991)</td>\n",
       "      <td>916</td>\n",
       "      <td>3</td>\n",
       "    </tr>\n",
       "  </tbody>\n",
       "</table>\n",
       "<p>100000 rows × 4 columns</p>\n",
       "</div>"
      ]
     },
     "execution_count": 7,
     "metadata": {},
     "output_type": "execute_result"
    }
   ],
   "execution_count": 7
  },
  {
   "metadata": {
    "ExecuteTime": {
     "end_time": "2024-08-03T07:04:38.173790Z",
     "start_time": "2024-08-03T07:04:38.171669Z"
    }
   },
   "cell_type": "code",
   "source": "## Data Visualisation",
   "id": "f44872fbb2166fea",
   "outputs": [],
   "execution_count": 8
  },
  {
   "metadata": {
    "ExecuteTime": {
     "end_time": "2024-08-03T07:04:38.190463Z",
     "start_time": "2024-08-03T07:04:38.174818Z"
    }
   },
   "cell_type": "code",
   "source": "ratings.title.value_counts()",
   "id": "a78d318008e4a6f2",
   "outputs": [
    {
     "data": {
      "text/plain": [
       "title\n",
       "Star Wars (1977)                                583\n",
       "Contact (1997)                                  509\n",
       "Fargo (1996)                                    508\n",
       "Return of the Jedi (1983)                       507\n",
       "Liar Liar (1997)                                485\n",
       "                                               ... \n",
       "Tigrero: A Film That Was Never Made (1994)        1\n",
       "Eye of Vichy, The (Oeil de Vichy, L') (1993)      1\n",
       "Promise, The (Versprechen, Das) (1994)            1\n",
       "To Cross the Rubicon (1991)                       1\n",
       "Scream of Stone (Schrei aus Stein) (1991)         1\n",
       "Name: count, Length: 1664, dtype: int64"
      ]
     },
     "execution_count": 9,
     "metadata": {},
     "output_type": "execute_result"
    }
   ],
   "execution_count": 9
  },
  {
   "metadata": {
    "ExecuteTime": {
     "end_time": "2024-08-03T07:05:15.409872Z",
     "start_time": "2024-08-03T07:05:15.406373Z"
    }
   },
   "cell_type": "code",
   "source": "ratings.movie_id.nunique()",
   "id": "d180b1cf2372c00c",
   "outputs": [
    {
     "data": {
      "text/plain": [
       "1682"
      ]
     },
     "execution_count": 10,
     "metadata": {},
     "output_type": "execute_result"
    }
   ],
   "execution_count": 10
  },
  {
   "metadata": {
    "ExecuteTime": {
     "end_time": "2024-08-03T07:07:06.931385Z",
     "start_time": "2024-08-03T07:07:06.906345Z"
    }
   },
   "cell_type": "code",
   "source": [
    "movies_group = ratings.groupby('title').agg({'rating': [np.size, np.sum, np.mean]})\n",
    "movies_group"
   ],
   "id": "82971ce873ba145d",
   "outputs": [
    {
     "name": "stderr",
     "output_type": "stream",
     "text": [
      "/tmp/ipykernel_34141/720912889.py:1: FutureWarning: The provided callable <function sum at 0x7f87c0269580> is currently using SeriesGroupBy.sum. In a future version of pandas, the provided callable will be used directly. To keep current behavior pass the string \"sum\" instead.\n",
      "  movies_group = ratings.groupby('title').agg({'rating': [np.size, np.sum, np.mean]})\n",
      "/tmp/ipykernel_34141/720912889.py:1: FutureWarning: The provided callable <function mean at 0x7f87c026a660> is currently using SeriesGroupBy.mean. In a future version of pandas, the provided callable will be used directly. To keep current behavior pass the string \"mean\" instead.\n",
      "  movies_group = ratings.groupby('title').agg({'rating': [np.size, np.sum, np.mean]})\n"
     ]
    },
    {
     "data": {
      "text/plain": [
       "                                      rating               \n",
       "                                        size  sum      mean\n",
       "title                                                      \n",
       "'Til There Was You (1997)                  9   21  2.333333\n",
       "1-900 (1994)                               5   13  2.600000\n",
       "101 Dalmatians (1996)                    109  317  2.908257\n",
       "12 Angry Men (1957)                      125  543  4.344000\n",
       "187 (1997)                                41  124  3.024390\n",
       "...                                      ...  ...       ...\n",
       "Young Guns II (1990)                      44  122  2.772727\n",
       "Young Poisoner's Handbook, The (1995)     41  137  3.341463\n",
       "Zeus and Roxanne (1997)                    6   13  2.166667\n",
       "unknown                                    9   31  3.444444\n",
       "Á köldum klaka (Cold Fever) (1994)         1    3  3.000000\n",
       "\n",
       "[1664 rows x 3 columns]"
      ],
      "text/html": [
       "<div>\n",
       "<style scoped>\n",
       "    .dataframe tbody tr th:only-of-type {\n",
       "        vertical-align: middle;\n",
       "    }\n",
       "\n",
       "    .dataframe tbody tr th {\n",
       "        vertical-align: top;\n",
       "    }\n",
       "\n",
       "    .dataframe thead tr th {\n",
       "        text-align: left;\n",
       "    }\n",
       "\n",
       "    .dataframe thead tr:last-of-type th {\n",
       "        text-align: right;\n",
       "    }\n",
       "</style>\n",
       "<table border=\"1\" class=\"dataframe\">\n",
       "  <thead>\n",
       "    <tr>\n",
       "      <th></th>\n",
       "      <th colspan=\"3\" halign=\"left\">rating</th>\n",
       "    </tr>\n",
       "    <tr>\n",
       "      <th></th>\n",
       "      <th>size</th>\n",
       "      <th>sum</th>\n",
       "      <th>mean</th>\n",
       "    </tr>\n",
       "    <tr>\n",
       "      <th>title</th>\n",
       "      <th></th>\n",
       "      <th></th>\n",
       "      <th></th>\n",
       "    </tr>\n",
       "  </thead>\n",
       "  <tbody>\n",
       "    <tr>\n",
       "      <th>'Til There Was You (1997)</th>\n",
       "      <td>9</td>\n",
       "      <td>21</td>\n",
       "      <td>2.333333</td>\n",
       "    </tr>\n",
       "    <tr>\n",
       "      <th>1-900 (1994)</th>\n",
       "      <td>5</td>\n",
       "      <td>13</td>\n",
       "      <td>2.600000</td>\n",
       "    </tr>\n",
       "    <tr>\n",
       "      <th>101 Dalmatians (1996)</th>\n",
       "      <td>109</td>\n",
       "      <td>317</td>\n",
       "      <td>2.908257</td>\n",
       "    </tr>\n",
       "    <tr>\n",
       "      <th>12 Angry Men (1957)</th>\n",
       "      <td>125</td>\n",
       "      <td>543</td>\n",
       "      <td>4.344000</td>\n",
       "    </tr>\n",
       "    <tr>\n",
       "      <th>187 (1997)</th>\n",
       "      <td>41</td>\n",
       "      <td>124</td>\n",
       "      <td>3.024390</td>\n",
       "    </tr>\n",
       "    <tr>\n",
       "      <th>...</th>\n",
       "      <td>...</td>\n",
       "      <td>...</td>\n",
       "      <td>...</td>\n",
       "    </tr>\n",
       "    <tr>\n",
       "      <th>Young Guns II (1990)</th>\n",
       "      <td>44</td>\n",
       "      <td>122</td>\n",
       "      <td>2.772727</td>\n",
       "    </tr>\n",
       "    <tr>\n",
       "      <th>Young Poisoner's Handbook, The (1995)</th>\n",
       "      <td>41</td>\n",
       "      <td>137</td>\n",
       "      <td>3.341463</td>\n",
       "    </tr>\n",
       "    <tr>\n",
       "      <th>Zeus and Roxanne (1997)</th>\n",
       "      <td>6</td>\n",
       "      <td>13</td>\n",
       "      <td>2.166667</td>\n",
       "    </tr>\n",
       "    <tr>\n",
       "      <th>unknown</th>\n",
       "      <td>9</td>\n",
       "      <td>31</td>\n",
       "      <td>3.444444</td>\n",
       "    </tr>\n",
       "    <tr>\n",
       "      <th>Á köldum klaka (Cold Fever) (1994)</th>\n",
       "      <td>1</td>\n",
       "      <td>3</td>\n",
       "      <td>3.000000</td>\n",
       "    </tr>\n",
       "  </tbody>\n",
       "</table>\n",
       "<p>1664 rows × 3 columns</p>\n",
       "</div>"
      ]
     },
     "execution_count": 11,
     "metadata": {},
     "output_type": "execute_result"
    }
   ],
   "execution_count": 11
  },
  {
   "metadata": {
    "ExecuteTime": {
     "end_time": "2024-08-03T07:10:59.671686Z",
     "start_time": "2024-08-03T07:10:59.668699Z"
    }
   },
   "cell_type": "code",
   "source": "np.size, np.sum, np.mean",
   "id": "baedaeae809f21fe",
   "outputs": [
    {
     "data": {
      "text/plain": [
       "(<function size at 0x7f87c026d370>,\n",
       " <function sum at 0x7f87c0263a30>,\n",
       " <function mean at 0x7f87c026d970>)"
      ]
     },
     "execution_count": 12,
     "metadata": {},
     "output_type": "execute_result"
    }
   ],
   "execution_count": 12
  },
  {
   "metadata": {
    "ExecuteTime": {
     "end_time": "2024-08-03T07:11:17.324586Z",
     "start_time": "2024-08-03T07:11:17.322026Z"
    }
   },
   "cell_type": "code",
   "source": "np.size.__doc__",
   "id": "f395acb9b31f6639",
   "outputs": [
    {
     "data": {
      "text/plain": [
       "'\\n    Return the number of elements along a given axis.\\n\\n    Parameters\\n    ----------\\n    a : array_like\\n        Input data.\\n    axis : int, optional\\n        Axis along which the elements are counted.  By default, give\\n        the total number of elements.\\n\\n    Returns\\n    -------\\n    element_count : int\\n        Number of elements along the specified axis.\\n\\n    See Also\\n    --------\\n    shape : dimensions of array\\n    ndarray.shape : dimensions of array\\n    ndarray.size : number of elements in array\\n\\n    Examples\\n    --------\\n    >>> a = np.array([[1,2,3],[4,5,6]])\\n    >>> np.size(a)\\n    6\\n    >>> np.size(a,1)\\n    3\\n    >>> np.size(a,0)\\n    2\\n\\n    '"
      ]
     },
     "execution_count": 13,
     "metadata": {},
     "output_type": "execute_result"
    }
   ],
   "execution_count": 13
  },
  {
   "metadata": {},
   "cell_type": "markdown",
   "source": "## Popular Movies",
   "id": "c5310369242df491"
  },
  {
   "metadata": {
    "ExecuteTime": {
     "end_time": "2024-08-03T07:15:30.126730Z",
     "start_time": "2024-08-03T07:15:30.121783Z"
    }
   },
   "cell_type": "code",
   "source": [
    "popular_1 = movies_group['rating']['size'] >= 100\n",
    "popular_1"
   ],
   "id": "d2456446da6b43ad",
   "outputs": [
    {
     "data": {
      "text/plain": [
       "title\n",
       "'Til There Was You (1997)                False\n",
       "1-900 (1994)                             False\n",
       "101 Dalmatians (1996)                     True\n",
       "12 Angry Men (1957)                       True\n",
       "187 (1997)                               False\n",
       "                                         ...  \n",
       "Young Guns II (1990)                     False\n",
       "Young Poisoner's Handbook, The (1995)    False\n",
       "Zeus and Roxanne (1997)                  False\n",
       "unknown                                  False\n",
       "Á köldum klaka (Cold Fever) (1994)       False\n",
       "Name: size, Length: 1664, dtype: bool"
      ]
     },
     "execution_count": 17,
     "metadata": {},
     "output_type": "execute_result"
    }
   ],
   "execution_count": 17
  },
  {
   "metadata": {
    "ExecuteTime": {
     "end_time": "2024-08-03T07:20:09.744871Z",
     "start_time": "2024-08-03T07:20:09.739942Z"
    }
   },
   "cell_type": "code",
   "source": [
    "popular_movies = movies_group.sort_values(('rating','mean'), ascending=False)\n",
    "popular_movies.head()"
   ],
   "id": "9062dbcae1744a23",
   "outputs": [
    {
     "data": {
      "text/plain": [
       "                                           rating         \n",
       "                                             size sum mean\n",
       "title                                                     \n",
       "They Made Me a Criminal (1939)                  1   5  5.0\n",
       "Marlene Dietrich: Shadow and Light (1996)       1   5  5.0\n",
       "Saint of Fort Washington, The (1993)            2  10  5.0\n",
       "Someone Else's America (1995)                   1   5  5.0\n",
       "Star Kid (1997)                                 3  15  5.0"
      ],
      "text/html": [
       "<div>\n",
       "<style scoped>\n",
       "    .dataframe tbody tr th:only-of-type {\n",
       "        vertical-align: middle;\n",
       "    }\n",
       "\n",
       "    .dataframe tbody tr th {\n",
       "        vertical-align: top;\n",
       "    }\n",
       "\n",
       "    .dataframe thead tr th {\n",
       "        text-align: left;\n",
       "    }\n",
       "\n",
       "    .dataframe thead tr:last-of-type th {\n",
       "        text-align: right;\n",
       "    }\n",
       "</style>\n",
       "<table border=\"1\" class=\"dataframe\">\n",
       "  <thead>\n",
       "    <tr>\n",
       "      <th></th>\n",
       "      <th colspan=\"3\" halign=\"left\">rating</th>\n",
       "    </tr>\n",
       "    <tr>\n",
       "      <th></th>\n",
       "      <th>size</th>\n",
       "      <th>sum</th>\n",
       "      <th>mean</th>\n",
       "    </tr>\n",
       "    <tr>\n",
       "      <th>title</th>\n",
       "      <th></th>\n",
       "      <th></th>\n",
       "      <th></th>\n",
       "    </tr>\n",
       "  </thead>\n",
       "  <tbody>\n",
       "    <tr>\n",
       "      <th>They Made Me a Criminal (1939)</th>\n",
       "      <td>1</td>\n",
       "      <td>5</td>\n",
       "      <td>5.0</td>\n",
       "    </tr>\n",
       "    <tr>\n",
       "      <th>Marlene Dietrich: Shadow and Light (1996)</th>\n",
       "      <td>1</td>\n",
       "      <td>5</td>\n",
       "      <td>5.0</td>\n",
       "    </tr>\n",
       "    <tr>\n",
       "      <th>Saint of Fort Washington, The (1993)</th>\n",
       "      <td>2</td>\n",
       "      <td>10</td>\n",
       "      <td>5.0</td>\n",
       "    </tr>\n",
       "    <tr>\n",
       "      <th>Someone Else's America (1995)</th>\n",
       "      <td>1</td>\n",
       "      <td>5</td>\n",
       "      <td>5.0</td>\n",
       "    </tr>\n",
       "    <tr>\n",
       "      <th>Star Kid (1997)</th>\n",
       "      <td>3</td>\n",
       "      <td>15</td>\n",
       "      <td>5.0</td>\n",
       "    </tr>\n",
       "  </tbody>\n",
       "</table>\n",
       "</div>"
      ]
     },
     "execution_count": 21,
     "metadata": {},
     "output_type": "execute_result"
    }
   ],
   "execution_count": 21
  },
  {
   "metadata": {
    "ExecuteTime": {
     "end_time": "2024-08-03T07:20:11.097416Z",
     "start_time": "2024-08-03T07:20:11.093934Z"
    }
   },
   "cell_type": "code",
   "source": [
    "grouped_sum = movies_group['rating']['sum'].sum()\n",
    "grouped_sum"
   ],
   "id": "4b5416cbf9ef0207",
   "outputs": [
    {
     "data": {
      "text/plain": [
       "352986"
      ]
     },
     "execution_count": 22,
     "metadata": {},
     "output_type": "execute_result"
    }
   ],
   "execution_count": 22
  },
  {
   "metadata": {
    "ExecuteTime": {
     "end_time": "2024-08-03T07:20:12.606066Z",
     "start_time": "2024-08-03T07:20:12.599079Z"
    }
   },
   "cell_type": "code",
   "source": [
    "popular_movies['percentage'] = movies_group['rating']['sum'].div(grouped_sum)*100\n",
    "popular_movies"
   ],
   "id": "3f107e6b76e999af",
   "outputs": [
    {
     "data": {
      "text/plain": [
       "                                             rating          percentage\n",
       "                                               size sum mean           \n",
       "title                                                                  \n",
       "They Made Me a Criminal (1939)                    1   5  5.0   0.001416\n",
       "Marlene Dietrich: Shadow and Light (1996)         1   5  5.0   0.001416\n",
       "Saint of Fort Washington, The (1993)              2  10  5.0   0.002833\n",
       "Someone Else's America (1995)                     1   5  5.0   0.001416\n",
       "Star Kid (1997)                                   3  15  5.0   0.004249\n",
       "...                                             ...  ..  ...        ...\n",
       "Eye of Vichy, The (Oeil de Vichy, L') (1993)      1   1  1.0   0.000283\n",
       "King of New York (1990)                           1   1  1.0   0.000283\n",
       "Touki Bouki (Journey of the Hyena) (1973)         1   1  1.0   0.000283\n",
       "Bloody Child, The (1996)                          1   1  1.0   0.000283\n",
       "Crude Oasis, The (1995)                           1   1  1.0   0.000283\n",
       "\n",
       "[1664 rows x 4 columns]"
      ],
      "text/html": [
       "<div>\n",
       "<style scoped>\n",
       "    .dataframe tbody tr th:only-of-type {\n",
       "        vertical-align: middle;\n",
       "    }\n",
       "\n",
       "    .dataframe tbody tr th {\n",
       "        vertical-align: top;\n",
       "    }\n",
       "\n",
       "    .dataframe thead tr th {\n",
       "        text-align: left;\n",
       "    }\n",
       "\n",
       "    .dataframe thead tr:last-of-type th {\n",
       "        text-align: right;\n",
       "    }\n",
       "</style>\n",
       "<table border=\"1\" class=\"dataframe\">\n",
       "  <thead>\n",
       "    <tr>\n",
       "      <th></th>\n",
       "      <th colspan=\"3\" halign=\"left\">rating</th>\n",
       "      <th>percentage</th>\n",
       "    </tr>\n",
       "    <tr>\n",
       "      <th></th>\n",
       "      <th>size</th>\n",
       "      <th>sum</th>\n",
       "      <th>mean</th>\n",
       "      <th></th>\n",
       "    </tr>\n",
       "    <tr>\n",
       "      <th>title</th>\n",
       "      <th></th>\n",
       "      <th></th>\n",
       "      <th></th>\n",
       "      <th></th>\n",
       "    </tr>\n",
       "  </thead>\n",
       "  <tbody>\n",
       "    <tr>\n",
       "      <th>They Made Me a Criminal (1939)</th>\n",
       "      <td>1</td>\n",
       "      <td>5</td>\n",
       "      <td>5.0</td>\n",
       "      <td>0.001416</td>\n",
       "    </tr>\n",
       "    <tr>\n",
       "      <th>Marlene Dietrich: Shadow and Light (1996)</th>\n",
       "      <td>1</td>\n",
       "      <td>5</td>\n",
       "      <td>5.0</td>\n",
       "      <td>0.001416</td>\n",
       "    </tr>\n",
       "    <tr>\n",
       "      <th>Saint of Fort Washington, The (1993)</th>\n",
       "      <td>2</td>\n",
       "      <td>10</td>\n",
       "      <td>5.0</td>\n",
       "      <td>0.002833</td>\n",
       "    </tr>\n",
       "    <tr>\n",
       "      <th>Someone Else's America (1995)</th>\n",
       "      <td>1</td>\n",
       "      <td>5</td>\n",
       "      <td>5.0</td>\n",
       "      <td>0.001416</td>\n",
       "    </tr>\n",
       "    <tr>\n",
       "      <th>Star Kid (1997)</th>\n",
       "      <td>3</td>\n",
       "      <td>15</td>\n",
       "      <td>5.0</td>\n",
       "      <td>0.004249</td>\n",
       "    </tr>\n",
       "    <tr>\n",
       "      <th>...</th>\n",
       "      <td>...</td>\n",
       "      <td>...</td>\n",
       "      <td>...</td>\n",
       "      <td>...</td>\n",
       "    </tr>\n",
       "    <tr>\n",
       "      <th>Eye of Vichy, The (Oeil de Vichy, L') (1993)</th>\n",
       "      <td>1</td>\n",
       "      <td>1</td>\n",
       "      <td>1.0</td>\n",
       "      <td>0.000283</td>\n",
       "    </tr>\n",
       "    <tr>\n",
       "      <th>King of New York (1990)</th>\n",
       "      <td>1</td>\n",
       "      <td>1</td>\n",
       "      <td>1.0</td>\n",
       "      <td>0.000283</td>\n",
       "    </tr>\n",
       "    <tr>\n",
       "      <th>Touki Bouki (Journey of the Hyena) (1973)</th>\n",
       "      <td>1</td>\n",
       "      <td>1</td>\n",
       "      <td>1.0</td>\n",
       "      <td>0.000283</td>\n",
       "    </tr>\n",
       "    <tr>\n",
       "      <th>Bloody Child, The (1996)</th>\n",
       "      <td>1</td>\n",
       "      <td>1</td>\n",
       "      <td>1.0</td>\n",
       "      <td>0.000283</td>\n",
       "    </tr>\n",
       "    <tr>\n",
       "      <th>Crude Oasis, The (1995)</th>\n",
       "      <td>1</td>\n",
       "      <td>1</td>\n",
       "      <td>1.0</td>\n",
       "      <td>0.000283</td>\n",
       "    </tr>\n",
       "  </tbody>\n",
       "</table>\n",
       "<p>1664 rows × 4 columns</p>\n",
       "</div>"
      ]
     },
     "execution_count": 23,
     "metadata": {},
     "output_type": "execute_result"
    }
   ],
   "execution_count": 23
  },
  {
   "metadata": {
    "ExecuteTime": {
     "end_time": "2024-08-03T07:21:28.034120Z",
     "start_time": "2024-08-03T07:21:28.028603Z"
    }
   },
   "cell_type": "code",
   "source": [
    "popular_movies = popular_movies.sort_values('percentage', ascending=False)\n",
    "popular_movies.head()"
   ],
   "id": "69466b8b5128299f",
   "outputs": [
    {
     "data": {
      "text/plain": [
       "                               rating                 percentage\n",
       "                                 size   sum      mean           \n",
       "title                                                           \n",
       "Star Wars (1977)                  583  2541  4.358491   0.719859\n",
       "Fargo (1996)                      508  2111  4.155512   0.598041\n",
       "Return of the Jedi (1983)         507  2032  4.007890   0.575660\n",
       "Contact (1997)                    509  1936  3.803536   0.548464\n",
       "Raiders of the Lost Ark (1981)    420  1786  4.252381   0.505969"
      ],
      "text/html": [
       "<div>\n",
       "<style scoped>\n",
       "    .dataframe tbody tr th:only-of-type {\n",
       "        vertical-align: middle;\n",
       "    }\n",
       "\n",
       "    .dataframe tbody tr th {\n",
       "        vertical-align: top;\n",
       "    }\n",
       "\n",
       "    .dataframe thead tr th {\n",
       "        text-align: left;\n",
       "    }\n",
       "\n",
       "    .dataframe thead tr:last-of-type th {\n",
       "        text-align: right;\n",
       "    }\n",
       "</style>\n",
       "<table border=\"1\" class=\"dataframe\">\n",
       "  <thead>\n",
       "    <tr>\n",
       "      <th></th>\n",
       "      <th colspan=\"3\" halign=\"left\">rating</th>\n",
       "      <th>percentage</th>\n",
       "    </tr>\n",
       "    <tr>\n",
       "      <th></th>\n",
       "      <th>size</th>\n",
       "      <th>sum</th>\n",
       "      <th>mean</th>\n",
       "      <th></th>\n",
       "    </tr>\n",
       "    <tr>\n",
       "      <th>title</th>\n",
       "      <th></th>\n",
       "      <th></th>\n",
       "      <th></th>\n",
       "      <th></th>\n",
       "    </tr>\n",
       "  </thead>\n",
       "  <tbody>\n",
       "    <tr>\n",
       "      <th>Star Wars (1977)</th>\n",
       "      <td>583</td>\n",
       "      <td>2541</td>\n",
       "      <td>4.358491</td>\n",
       "      <td>0.719859</td>\n",
       "    </tr>\n",
       "    <tr>\n",
       "      <th>Fargo (1996)</th>\n",
       "      <td>508</td>\n",
       "      <td>2111</td>\n",
       "      <td>4.155512</td>\n",
       "      <td>0.598041</td>\n",
       "    </tr>\n",
       "    <tr>\n",
       "      <th>Return of the Jedi (1983)</th>\n",
       "      <td>507</td>\n",
       "      <td>2032</td>\n",
       "      <td>4.007890</td>\n",
       "      <td>0.575660</td>\n",
       "    </tr>\n",
       "    <tr>\n",
       "      <th>Contact (1997)</th>\n",
       "      <td>509</td>\n",
       "      <td>1936</td>\n",
       "      <td>3.803536</td>\n",
       "      <td>0.548464</td>\n",
       "    </tr>\n",
       "    <tr>\n",
       "      <th>Raiders of the Lost Ark (1981)</th>\n",
       "      <td>420</td>\n",
       "      <td>1786</td>\n",
       "      <td>4.252381</td>\n",
       "      <td>0.505969</td>\n",
       "    </tr>\n",
       "  </tbody>\n",
       "</table>\n",
       "</div>"
      ]
     },
     "execution_count": 24,
     "metadata": {},
     "output_type": "execute_result"
    }
   ],
   "execution_count": 24
  },
  {
   "metadata": {
    "ExecuteTime": {
     "end_time": "2024-08-03T07:26:11.723628Z",
     "start_time": "2024-08-03T07:26:11.720583Z"
    }
   },
   "cell_type": "code",
   "source": "popular_movies['rank'] = popular_movies['percentage'].rank(ascending=False)",
   "id": "a01c46617b96550b",
   "outputs": [],
   "execution_count": 27
  },
  {
   "metadata": {},
   "cell_type": "markdown",
   "source": "### Top 10 Movies\n",
   "id": "8a23e752fe0e9247"
  },
  {
   "metadata": {
    "ExecuteTime": {
     "end_time": "2024-08-03T07:26:02.497462Z",
     "start_time": "2024-08-03T07:26:02.491494Z"
    }
   },
   "cell_type": "code",
   "source": [
    "popular_movies = popular_movies.sort_values('rank')\n",
    "popular_movies.head(10)"
   ],
   "id": "a808608eaaf219ad",
   "outputs": [
    {
     "data": {
      "text/plain": [
       "                                 rating                 percentage  rank\n",
       "                                   size   sum      mean                 \n",
       "title                                                                   \n",
       "Star Wars (1977)                    583  2541  4.358491   0.719859   1.0\n",
       "Fargo (1996)                        508  2111  4.155512   0.598041   2.0\n",
       "Return of the Jedi (1983)           507  2032  4.007890   0.575660   3.0\n",
       "Contact (1997)                      509  1936  3.803536   0.548464   4.0\n",
       "Raiders of the Lost Ark (1981)      420  1786  4.252381   0.505969   5.0\n",
       "Godfather, The (1972)               413  1769  4.283293   0.501153   6.0\n",
       "English Patient, The (1996)         481  1759  3.656965   0.498320   7.0\n",
       "Toy Story (1995)                    452  1753  3.878319   0.496620   8.0\n",
       "Silence of the Lambs, The (1991)    390  1673  4.289744   0.473956   9.0\n",
       "Scream (1996)                       478  1645  3.441423   0.466024  10.0"
      ],
      "text/html": [
       "<div>\n",
       "<style scoped>\n",
       "    .dataframe tbody tr th:only-of-type {\n",
       "        vertical-align: middle;\n",
       "    }\n",
       "\n",
       "    .dataframe tbody tr th {\n",
       "        vertical-align: top;\n",
       "    }\n",
       "\n",
       "    .dataframe thead tr th {\n",
       "        text-align: left;\n",
       "    }\n",
       "\n",
       "    .dataframe thead tr:last-of-type th {\n",
       "        text-align: right;\n",
       "    }\n",
       "</style>\n",
       "<table border=\"1\" class=\"dataframe\">\n",
       "  <thead>\n",
       "    <tr>\n",
       "      <th></th>\n",
       "      <th colspan=\"3\" halign=\"left\">rating</th>\n",
       "      <th>percentage</th>\n",
       "      <th>rank</th>\n",
       "    </tr>\n",
       "    <tr>\n",
       "      <th></th>\n",
       "      <th>size</th>\n",
       "      <th>sum</th>\n",
       "      <th>mean</th>\n",
       "      <th></th>\n",
       "      <th></th>\n",
       "    </tr>\n",
       "    <tr>\n",
       "      <th>title</th>\n",
       "      <th></th>\n",
       "      <th></th>\n",
       "      <th></th>\n",
       "      <th></th>\n",
       "      <th></th>\n",
       "    </tr>\n",
       "  </thead>\n",
       "  <tbody>\n",
       "    <tr>\n",
       "      <th>Star Wars (1977)</th>\n",
       "      <td>583</td>\n",
       "      <td>2541</td>\n",
       "      <td>4.358491</td>\n",
       "      <td>0.719859</td>\n",
       "      <td>1.0</td>\n",
       "    </tr>\n",
       "    <tr>\n",
       "      <th>Fargo (1996)</th>\n",
       "      <td>508</td>\n",
       "      <td>2111</td>\n",
       "      <td>4.155512</td>\n",
       "      <td>0.598041</td>\n",
       "      <td>2.0</td>\n",
       "    </tr>\n",
       "    <tr>\n",
       "      <th>Return of the Jedi (1983)</th>\n",
       "      <td>507</td>\n",
       "      <td>2032</td>\n",
       "      <td>4.007890</td>\n",
       "      <td>0.575660</td>\n",
       "      <td>3.0</td>\n",
       "    </tr>\n",
       "    <tr>\n",
       "      <th>Contact (1997)</th>\n",
       "      <td>509</td>\n",
       "      <td>1936</td>\n",
       "      <td>3.803536</td>\n",
       "      <td>0.548464</td>\n",
       "      <td>4.0</td>\n",
       "    </tr>\n",
       "    <tr>\n",
       "      <th>Raiders of the Lost Ark (1981)</th>\n",
       "      <td>420</td>\n",
       "      <td>1786</td>\n",
       "      <td>4.252381</td>\n",
       "      <td>0.505969</td>\n",
       "      <td>5.0</td>\n",
       "    </tr>\n",
       "    <tr>\n",
       "      <th>Godfather, The (1972)</th>\n",
       "      <td>413</td>\n",
       "      <td>1769</td>\n",
       "      <td>4.283293</td>\n",
       "      <td>0.501153</td>\n",
       "      <td>6.0</td>\n",
       "    </tr>\n",
       "    <tr>\n",
       "      <th>English Patient, The (1996)</th>\n",
       "      <td>481</td>\n",
       "      <td>1759</td>\n",
       "      <td>3.656965</td>\n",
       "      <td>0.498320</td>\n",
       "      <td>7.0</td>\n",
       "    </tr>\n",
       "    <tr>\n",
       "      <th>Toy Story (1995)</th>\n",
       "      <td>452</td>\n",
       "      <td>1753</td>\n",
       "      <td>3.878319</td>\n",
       "      <td>0.496620</td>\n",
       "      <td>8.0</td>\n",
       "    </tr>\n",
       "    <tr>\n",
       "      <th>Silence of the Lambs, The (1991)</th>\n",
       "      <td>390</td>\n",
       "      <td>1673</td>\n",
       "      <td>4.289744</td>\n",
       "      <td>0.473956</td>\n",
       "      <td>9.0</td>\n",
       "    </tr>\n",
       "    <tr>\n",
       "      <th>Scream (1996)</th>\n",
       "      <td>478</td>\n",
       "      <td>1645</td>\n",
       "      <td>3.441423</td>\n",
       "      <td>0.466024</td>\n",
       "      <td>10.0</td>\n",
       "    </tr>\n",
       "  </tbody>\n",
       "</table>\n",
       "</div>"
      ]
     },
     "execution_count": 26,
     "metadata": {},
     "output_type": "execute_result"
    }
   ],
   "execution_count": 26
  },
  {
   "metadata": {},
   "cell_type": "markdown",
   "source": "## Plotting",
   "id": "801f4df5229768c6"
  },
  {
   "metadata": {
    "ExecuteTime": {
     "end_time": "2024-08-03T07:27:29.974496Z",
     "start_time": "2024-08-03T07:27:29.946857Z"
    }
   },
   "cell_type": "code",
   "source": [
    "plt.figure(figsize=(10, 6))\n",
    "sns.barplot(x='percentage', y='title', data=popular_movies.head(10))\n",
    "plt.title('Top 10 Movies')\n",
    "plt.show()"
   ],
   "id": "49c170ed68a39fe6",
   "outputs": [
    {
     "ename": "ValueError",
     "evalue": "Could not interpret input 'title'",
     "output_type": "error",
     "traceback": [
      "\u001B[0;31m---------------------------------------------------------------------------\u001B[0m",
      "\u001B[0;31mValueError\u001B[0m                                Traceback (most recent call last)",
      "Cell \u001B[0;32mIn[29], line 2\u001B[0m\n\u001B[1;32m      1\u001B[0m plt\u001B[38;5;241m.\u001B[39mfigure(figsize\u001B[38;5;241m=\u001B[39m(\u001B[38;5;241m10\u001B[39m, \u001B[38;5;241m6\u001B[39m))\n\u001B[0;32m----> 2\u001B[0m sns\u001B[38;5;241m.\u001B[39mbarplot(x\u001B[38;5;241m=\u001B[39m\u001B[38;5;124m'\u001B[39m\u001B[38;5;124mpercentage\u001B[39m\u001B[38;5;124m'\u001B[39m, y\u001B[38;5;241m=\u001B[39m\u001B[38;5;124m'\u001B[39m\u001B[38;5;124mtitle\u001B[39m\u001B[38;5;124m'\u001B[39m, data\u001B[38;5;241m=\u001B[39mpopular_movies\u001B[38;5;241m.\u001B[39mhead(\u001B[38;5;241m10\u001B[39m))\n\u001B[1;32m      3\u001B[0m plt\u001B[38;5;241m.\u001B[39mtitle(\u001B[38;5;124m'\u001B[39m\u001B[38;5;124mTop 10 Movies\u001B[39m\u001B[38;5;124m'\u001B[39m)\n",
      "File \u001B[0;32m~/anaconda3/lib/python3.11/site-packages/seaborn/categorical.py:2755\u001B[0m, in \u001B[0;36mbarplot\u001B[0;34m(data, x, y, hue, order, hue_order, estimator, errorbar, n_boot, units, seed, orient, color, palette, saturation, width, errcolor, errwidth, capsize, dodge, ci, ax, **kwargs)\u001B[0m\n\u001B[1;32m   2752\u001B[0m \u001B[38;5;28;01mif\u001B[39;00m estimator \u001B[38;5;129;01mis\u001B[39;00m \u001B[38;5;28mlen\u001B[39m:\n\u001B[1;32m   2753\u001B[0m     estimator \u001B[38;5;241m=\u001B[39m \u001B[38;5;124m\"\u001B[39m\u001B[38;5;124msize\u001B[39m\u001B[38;5;124m\"\u001B[39m\n\u001B[0;32m-> 2755\u001B[0m plotter \u001B[38;5;241m=\u001B[39m _BarPlotter(x, y, hue, data, order, hue_order,\n\u001B[1;32m   2756\u001B[0m                       estimator, errorbar, n_boot, units, seed,\n\u001B[1;32m   2757\u001B[0m                       orient, color, palette, saturation,\n\u001B[1;32m   2758\u001B[0m                       width, errcolor, errwidth, capsize, dodge)\n\u001B[1;32m   2760\u001B[0m \u001B[38;5;28;01mif\u001B[39;00m ax \u001B[38;5;129;01mis\u001B[39;00m \u001B[38;5;28;01mNone\u001B[39;00m:\n\u001B[1;32m   2761\u001B[0m     ax \u001B[38;5;241m=\u001B[39m plt\u001B[38;5;241m.\u001B[39mgca()\n",
      "File \u001B[0;32m~/anaconda3/lib/python3.11/site-packages/seaborn/categorical.py:1530\u001B[0m, in \u001B[0;36m_BarPlotter.__init__\u001B[0;34m(self, x, y, hue, data, order, hue_order, estimator, errorbar, n_boot, units, seed, orient, color, palette, saturation, width, errcolor, errwidth, capsize, dodge)\u001B[0m\n\u001B[1;32m   1525\u001B[0m \u001B[38;5;28;01mdef\u001B[39;00m \u001B[38;5;21m__init__\u001B[39m(\u001B[38;5;28mself\u001B[39m, x, y, hue, data, order, hue_order,\n\u001B[1;32m   1526\u001B[0m              estimator, errorbar, n_boot, units, seed,\n\u001B[1;32m   1527\u001B[0m              orient, color, palette, saturation, width,\n\u001B[1;32m   1528\u001B[0m              errcolor, errwidth, capsize, dodge):\n\u001B[1;32m   1529\u001B[0m \u001B[38;5;250m    \u001B[39m\u001B[38;5;124;03m\"\"\"Initialize the plotter.\"\"\"\u001B[39;00m\n\u001B[0;32m-> 1530\u001B[0m     \u001B[38;5;28mself\u001B[39m\u001B[38;5;241m.\u001B[39mestablish_variables(x, y, hue, data, orient,\n\u001B[1;32m   1531\u001B[0m                              order, hue_order, units)\n\u001B[1;32m   1532\u001B[0m     \u001B[38;5;28mself\u001B[39m\u001B[38;5;241m.\u001B[39mestablish_colors(color, palette, saturation)\n\u001B[1;32m   1533\u001B[0m     \u001B[38;5;28mself\u001B[39m\u001B[38;5;241m.\u001B[39mestimate_statistic(estimator, errorbar, n_boot, seed)\n",
      "File \u001B[0;32m~/anaconda3/lib/python3.11/site-packages/seaborn/categorical.py:541\u001B[0m, in \u001B[0;36m_CategoricalPlotter.establish_variables\u001B[0;34m(self, x, y, hue, data, orient, order, hue_order, units)\u001B[0m\n\u001B[1;32m    539\u001B[0m     \u001B[38;5;28;01mif\u001B[39;00m \u001B[38;5;28misinstance\u001B[39m(var, \u001B[38;5;28mstr\u001B[39m):\n\u001B[1;32m    540\u001B[0m         err \u001B[38;5;241m=\u001B[39m \u001B[38;5;124mf\u001B[39m\u001B[38;5;124m\"\u001B[39m\u001B[38;5;124mCould not interpret input \u001B[39m\u001B[38;5;124m'\u001B[39m\u001B[38;5;132;01m{\u001B[39;00mvar\u001B[38;5;132;01m}\u001B[39;00m\u001B[38;5;124m'\u001B[39m\u001B[38;5;124m\"\u001B[39m\n\u001B[0;32m--> 541\u001B[0m         \u001B[38;5;28;01mraise\u001B[39;00m \u001B[38;5;167;01mValueError\u001B[39;00m(err)\n\u001B[1;32m    543\u001B[0m \u001B[38;5;66;03m# Figure out the plotting orientation\u001B[39;00m\n\u001B[1;32m    544\u001B[0m orient \u001B[38;5;241m=\u001B[39m infer_orient(\n\u001B[1;32m    545\u001B[0m     x, y, orient, require_numeric\u001B[38;5;241m=\u001B[39m\u001B[38;5;28mself\u001B[39m\u001B[38;5;241m.\u001B[39mrequire_numeric\n\u001B[1;32m    546\u001B[0m )\n",
      "\u001B[0;31mValueError\u001B[0m: Could not interpret input 'title'"
     ]
    },
    {
     "data": {
      "text/plain": [
       "<Figure size 1000x600 with 0 Axes>"
      ]
     },
     "metadata": {},
     "output_type": "display_data"
    }
   ],
   "execution_count": 29
  },
  {
   "metadata": {},
   "cell_type": "markdown",
   "source": "\n",
   "id": "14c1b06f29a3634c"
  },
  {
   "metadata": {},
   "cell_type": "code",
   "outputs": [],
   "execution_count": null,
   "source": "",
   "id": "a1701818e16e4e81"
  }
 ],
 "metadata": {
  "kernelspec": {
   "display_name": "Python 3",
   "language": "python",
   "name": "python3"
  },
  "language_info": {
   "codemirror_mode": {
    "name": "ipython",
    "version": 2
   },
   "file_extension": ".py",
   "mimetype": "text/x-python",
   "name": "python",
   "nbconvert_exporter": "python",
   "pygments_lexer": "ipython2",
   "version": "2.7.6"
  }
 },
 "nbformat": 4,
 "nbformat_minor": 5
}
