{
 "cells": [
  {
   "cell_type": "markdown",
   "metadata": {
    "id": "oAFgrFMsPtEC"
   },
   "source": [
    "# Convolutional Neural Networks\n",
    "\n",
    "Choose 4 dataset that you're interested in from among these options (or choose your own data set as long as it's large enough):\n",
    "\n",
    "- [Grape Disease Detection Data](https://www.kaggle.com/datasets/rm1000/augmented-grape-disease-detection-dataset)\n",
    "- [Indian Bird Data](https://www.kaggle.com/datasets/arjunbasandrai/25-indian-bird-species-with-226k-images)\n",
    "- [Skin Cancer Classification](https://www.kaggle.com/datasets/kylegraupe/skin-cancer-binary-classification-dataset) Done in class.\n",
    "- [Fruit and Veg Detection Data](https://www.kaggle.com/datasets/kritikseth/fruit-and-vegetable-image-recognition)\n",
    "- [Large Scale Fish Data](https://www.kaggle.com/datasets/crowww/a-large-scale-fish-dataset)\n",
    "- [Berkeley Segmentation Data](https://www.kaggle.com/datasets/balraj98/berkeley-segmentation-dataset-500-bsds500)\n",
    "- [Rice Classification](https://www.kaggle.com/datasets/muratkokludataset/rice-image-dataset)\n",
    "- [Date Fruit (Hurma) Classification](https://www.kaggle.com/datasets/wadhasnalhamdan/date-fruit-image-dataset-in-controlled-environment?select=Sokari)\n",
    "\n",
    "- [More Data Sets ](https://www.muratkoklu.com/datasets/)\n",
    "\n",
    "Then Build a Deep CONVOLUTIONAL Neural Network (No Recurrent Layers, no Transfer Learning , no Generative Models) using keras/tensorflow (at least 5 Convolutional Layers, and at least 3 Pooling Layers) to do one of the following tasks:\n",
    "\n",
    "- Classify Images (e.g. Hot Dog vs. Not a Hot Dog)\n",
    "- Compress Images (e.g. with a Denoising Convolutional AutoEncoder)\n",
    "- Detect/Segment Objects (e.g. what pixels in the image contain a cat?)\n",
    "\n",
    "Make sure that:\n",
    "\n",
    "- your NN has some sort of regularization (or multiple types if needed)\n",
    "- you've properly formatted and inputted your data into the network\n",
    "- your model architechture and loss function are appropriate for the problem\n",
    "- you print out at least 2 metrics for both train and test data to examine\n",
    "- Save the model and create a **Streamlit** app and upload to HuggingFace.co (https://HuggingFace.co) and share the link here.\n",
    "\n",
    "Then Build a Deep CONVOLUTIONAL Neural Network (with Recurrent Layers, Transfer Learning like **VGG16, ResNet50, Xception** etc and Generative Models) repeat the above process. (https://keras.io/api/applications/)\n",
    "\n",
    "Then create a **technical report** discussing your model building process, the results, and your reflection on it. The report should follow the format in the example including an Introduction, Analysis, Methods, Results, and Reflection section."
   ]
  },
  {
   "cell_type": "markdown",
   "metadata": {
    "id": "EKcGvsp6PtEH"
   },
   "source": [
    "# Introduction\n",
    "An introduction should introduce the problem you're working on, give some background and relevant detail for the reader, and explain why it is important.\n",
    "\n",
    "# Analysis\n",
    "Any exploratory analysis of your data, and general summarization of the data (e.g. summary statistics, correlation heatmaps, graphs, information about the data...). This can also include any cleaning and joining you did.\n",
    "\n",
    "# Methods\n",
    "Explain the structure of your model and your approach to building it. This can also include changes you made to your model in the process of building it. Someone should be able to read your methods section and *generally* be able to tell exactly what architechture you used.\n",
    "\n",
    "# Results\n",
    "Detailed discussion of how your model performed, and your discussion of how your model performed.\n",
    "\n",
    "# Reflection\n",
    "Reflections on what you learned/discovered in the process of doing the assignment. Things you would do differently in the future, ways you'll approach similar problems in the future, etc.\n"
   ]
  },
  {
   "cell_type": "markdown",
   "metadata": {
    "id": "y5-sV_WMPtEK"
   },
   "source": [
    "# What to Turn In\n",
    "\n",
    "- PDF of your technical report\n",
    "- your code as a .py, .ipynb, or link to github (you must turn it in either as a file, or a link to something that has timestamps of when the file was last edited)\n",
    "- a README file as a .txt or .md"
   ]
  }
 ],
 "metadata": {
  "colab": {
   "provenance": []
  },
  "kernelspec": {
   "display_name": "Python 3 (ipykernel)",
   "language": "python",
   "name": "python3"
  },
  "language_info": {
   "codemirror_mode": {
    "name": "ipython",
    "version": 3
   },
   "file_extension": ".py",
   "mimetype": "text/x-python",
   "name": "python",
   "nbconvert_exporter": "python",
   "pygments_lexer": "ipython3",
   "version": "3.11.5"
  }
 },
 "nbformat": 4,
 "nbformat_minor": 1
}
